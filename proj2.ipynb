{
 "cells": [
  {
   "cell_type": "code",
   "execution_count": 234,
   "id": "d09c3afb-3de2-40dd-babd-f11d278e3bff",
   "metadata": {},
   "outputs": [],
   "source": [
    "import numpy as np\n",
    "import pandas as pd\n",
    "import hvplot.pandas\n",
    "from pathlib import Path\n",
    "from sklearn.ensemble import RandomForestRegressor\n",
    "from sklearn.model_selection import train_test_split\n",
    "from sklearn.metrics import confusion_matrix, accuracy_score, classification_report\n",
    "import yfinance as yf\n",
    "import plotly.graph_objs as go\n",
    "from finta import TA"
   ]
  },
  {
   "cell_type": "code",
   "execution_count": 62,
   "id": "66f2345c-f7a8-4e3e-8c80-a99a58df7895",
   "metadata": {},
   "outputs": [],
   "source": [
    "# Create a function to pull in data using Yahoo finance API\n",
    "def asset_df(*x):\n",
    "    \n",
    "    data = yf.download(tickers=[*x], period = '90d', interval = '1d')\n",
    "    df = data['Close'].dropna()\n",
    "    return df"
   ]
  },
  {
   "cell_type": "code",
   "execution_count": 220,
   "id": "9a595c91-3cb3-4546-95fb-f73e5e9b0ac8",
   "metadata": {},
   "outputs": [
    {
     "name": "stdout",
     "output_type": "stream",
     "text": [
      "[*********************100%***********************]  4 of 4 completed\n"
     ]
    },
    {
     "data": {
      "text/html": [
       "<div>\n",
       "<style scoped>\n",
       "    .dataframe tbody tr th:only-of-type {\n",
       "        vertical-align: middle;\n",
       "    }\n",
       "\n",
       "    .dataframe tbody tr th {\n",
       "        vertical-align: top;\n",
       "    }\n",
       "\n",
       "    .dataframe thead th {\n",
       "        text-align: right;\n",
       "    }\n",
       "</style>\n",
       "<table border=\"1\" class=\"dataframe\">\n",
       "  <thead>\n",
       "    <tr style=\"text-align: right;\">\n",
       "      <th></th>\n",
       "      <th>BTC-USD</th>\n",
       "      <th>^DJI</th>\n",
       "      <th>^GSPC</th>\n",
       "      <th>^TYX</th>\n",
       "    </tr>\n",
       "    <tr>\n",
       "      <th>Date</th>\n",
       "      <th></th>\n",
       "      <th></th>\n",
       "      <th></th>\n",
       "      <th></th>\n",
       "    </tr>\n",
       "  </thead>\n",
       "  <tbody>\n",
       "    <tr>\n",
       "      <th>2021-09-13</th>\n",
       "      <td>44963.074219</td>\n",
       "      <td>34869.628906</td>\n",
       "      <td>4468.729980</td>\n",
       "      <td>1.905</td>\n",
       "    </tr>\n",
       "    <tr>\n",
       "      <th>2021-09-14</th>\n",
       "      <td>47092.492188</td>\n",
       "      <td>34577.570312</td>\n",
       "      <td>4443.049805</td>\n",
       "      <td>1.850</td>\n",
       "    </tr>\n",
       "    <tr>\n",
       "      <th>2021-09-15</th>\n",
       "      <td>48176.347656</td>\n",
       "      <td>34814.390625</td>\n",
       "      <td>4480.700195</td>\n",
       "      <td>1.869</td>\n",
       "    </tr>\n",
       "    <tr>\n",
       "      <th>2021-09-16</th>\n",
       "      <td>47783.359375</td>\n",
       "      <td>34751.320312</td>\n",
       "      <td>4473.750000</td>\n",
       "      <td>1.881</td>\n",
       "    </tr>\n",
       "    <tr>\n",
       "      <th>2021-09-17</th>\n",
       "      <td>47267.519531</td>\n",
       "      <td>34584.878906</td>\n",
       "      <td>4432.990234</td>\n",
       "      <td>1.909</td>\n",
       "    </tr>\n",
       "    <tr>\n",
       "      <th>...</th>\n",
       "      <td>...</td>\n",
       "      <td>...</td>\n",
       "      <td>...</td>\n",
       "      <td>...</td>\n",
       "    </tr>\n",
       "    <tr>\n",
       "      <th>2021-12-03</th>\n",
       "      <td>53598.246094</td>\n",
       "      <td>34580.078125</td>\n",
       "      <td>4538.430176</td>\n",
       "      <td>1.678</td>\n",
       "    </tr>\n",
       "    <tr>\n",
       "      <th>2021-12-06</th>\n",
       "      <td>50582.625000</td>\n",
       "      <td>35227.031250</td>\n",
       "      <td>4591.669922</td>\n",
       "      <td>1.757</td>\n",
       "    </tr>\n",
       "    <tr>\n",
       "      <th>2021-12-07</th>\n",
       "      <td>50700.085938</td>\n",
       "      <td>35719.429688</td>\n",
       "      <td>4686.750000</td>\n",
       "      <td>1.796</td>\n",
       "    </tr>\n",
       "    <tr>\n",
       "      <th>2021-12-08</th>\n",
       "      <td>50504.796875</td>\n",
       "      <td>35754.750000</td>\n",
       "      <td>4701.209961</td>\n",
       "      <td>1.875</td>\n",
       "    </tr>\n",
       "    <tr>\n",
       "      <th>2021-12-10</th>\n",
       "      <td>47243.304688</td>\n",
       "      <td>35970.988281</td>\n",
       "      <td>4712.020020</td>\n",
       "      <td>1.884</td>\n",
       "    </tr>\n",
       "  </tbody>\n",
       "</table>\n",
       "<p>63 rows × 4 columns</p>\n",
       "</div>"
      ],
      "text/plain": [
       "                 BTC-USD          ^DJI        ^GSPC   ^TYX\n",
       "Date                                                      \n",
       "2021-09-13  44963.074219  34869.628906  4468.729980  1.905\n",
       "2021-09-14  47092.492188  34577.570312  4443.049805  1.850\n",
       "2021-09-15  48176.347656  34814.390625  4480.700195  1.869\n",
       "2021-09-16  47783.359375  34751.320312  4473.750000  1.881\n",
       "2021-09-17  47267.519531  34584.878906  4432.990234  1.909\n",
       "...                  ...           ...          ...    ...\n",
       "2021-12-03  53598.246094  34580.078125  4538.430176  1.678\n",
       "2021-12-06  50582.625000  35227.031250  4591.669922  1.757\n",
       "2021-12-07  50700.085938  35719.429688  4686.750000  1.796\n",
       "2021-12-08  50504.796875  35754.750000  4701.209961  1.875\n",
       "2021-12-10  47243.304688  35970.988281  4712.020020  1.884\n",
       "\n",
       "[63 rows x 4 columns]"
      ]
     },
     "execution_count": 220,
     "metadata": {},
     "output_type": "execute_result"
    }
   ],
   "source": [
    "# Create df with variables using function\n",
    "# Dow = ^DJI\n",
    "# SP500 = ^GSPC\n",
    "# 30-Year TSY = ^TYX\n",
    "# Crypto pairs 'CRYPTOTICKER-USD'\n",
    "\n",
    "df = asset_df('^TYX','BTC-USD','^DJI','^GSPC')\n",
    "df"
   ]
  },
  {
   "cell_type": "code",
   "execution_count": 221,
   "id": "d0f15eee-2415-4c37-bc20-0009912f3d31",
   "metadata": {},
   "outputs": [],
   "source": [
    "# data = yf.download(tickers=['BTC-USD','ETH-USD'], period = '90d', interval = '1d')\n",
    "# data"
   ]
  },
  {
   "cell_type": "code",
   "execution_count": 222,
   "id": "e68596a0-2fa6-47d1-9747-112e9664769a",
   "metadata": {},
   "outputs": [],
   "source": [
    "# Create df with yahoo finance close prices and a df to convert to % change\n",
    "# crypto_price_df = data['Close']\n",
    "\n",
    "# crypto_price_chg_df = crypto_price_df.pct_change()\n",
    "# crypto_price_chg_df.dropna()"
   ]
  },
  {
   "cell_type": "code",
   "execution_count": 223,
   "id": "f3763793-ed73-45ae-8f5f-af3a4386e704",
   "metadata": {},
   "outputs": [],
   "source": [
    "\n",
    "# # Graph Correlation between BTC & ETH\n",
    "# crypto_corr = crypto_price_df.corr()\n",
    "# crypto_corr_plot = crypto_corr.hvplot.heatmap()\n",
    "# crypto_corr_plot\n",
    "\n",
    "# Create function to run correlation matrix on any asset\n",
    "def asset_corr(df):\n",
    "    pct_chg_df = df.pct_change()\n",
    "    df_corr = pct_chg_df.corr()\n",
    "    df_corr_plot = df_corr.hvplot.heatmap()\n",
    "    return df_corr_plot\n",
    "    "
   ]
  },
  {
   "cell_type": "code",
   "execution_count": 224,
   "id": "964dc4e6-2c70-497c-85cb-ffda866e0a3c",
   "metadata": {},
   "outputs": [
    {
     "data": {},
     "metadata": {},
     "output_type": "display_data"
    },
    {
     "data": {
      "application/vnd.holoviews_exec.v0+json": "",
      "text/html": [
       "<div id='5894'>\n",
       "\n",
       "\n",
       "\n",
       "\n",
       "\n",
       "  <div class=\"bk-root\" id=\"06c16fc9-2ee6-42fb-bd17-65b8ecefdd5d\" data-root-id=\"5894\"></div>\n",
       "</div>\n",
       "<script type=\"application/javascript\">(function(root) {\n",
       "  function embed_document(root) {\n",
       "    var docs_json = {\"e9084a36-8464-4f42-80c5-8387726cf477\":{\"defs\":[{\"extends\":null,\"module\":null,\"name\":\"ReactiveHTML1\",\"overrides\":[],\"properties\":[]},{\"extends\":null,\"module\":null,\"name\":\"FlexBox1\",\"overrides\":[],\"properties\":[{\"default\":\"flex-start\",\"kind\":null,\"name\":\"align_content\"},{\"default\":\"flex-start\",\"kind\":null,\"name\":\"align_items\"},{\"default\":\"row\",\"kind\":null,\"name\":\"flex_direction\"},{\"default\":\"wrap\",\"kind\":null,\"name\":\"flex_wrap\"},{\"default\":\"flex-start\",\"kind\":null,\"name\":\"justify_content\"}]},{\"extends\":null,\"module\":null,\"name\":\"TemplateActions1\",\"overrides\":[],\"properties\":[{\"default\":0,\"kind\":null,\"name\":\"open_modal\"},{\"default\":0,\"kind\":null,\"name\":\"close_modal\"}]},{\"extends\":null,\"module\":null,\"name\":\"MaterialTemplateActions1\",\"overrides\":[],\"properties\":[{\"default\":0,\"kind\":null,\"name\":\"open_modal\"},{\"default\":0,\"kind\":null,\"name\":\"close_modal\"}]}],\"roots\":{\"references\":[{\"attributes\":{\"axis\":{\"id\":\"5908\"},\"coordinates\":null,\"grid_line_color\":null,\"group\":null,\"ticker\":null},\"id\":\"5910\",\"type\":\"Grid\"},{\"attributes\":{\"high\":1.0,\"low\":0.09720285480108454,\"nan_color\":\"white\",\"palette\":[\"#b3fef5\",\"#b0fef5\",\"#adfdf5\",\"#a9fcf5\",\"#a6fbf6\",\"#a3faf6\",\"#a0faf6\",\"#9df9f6\",\"#9af8f6\",\"#97f7f6\",\"#93f7f6\",\"#90f6f6\",\"#8df5f6\",\"#8af4f7\",\"#87f3f7\",\"#83f2f7\",\"#80f2f7\",\"#7df1f7\",\"#79f0f7\",\"#76eff7\",\"#73eef7\",\"#6fedf8\",\"#6cecf8\",\"#68ecf8\",\"#65ebf8\",\"#61eaf8\",\"#5ee9f8\",\"#5ae8f8\",\"#57e7f8\",\"#53e6f8\",\"#50e5f9\",\"#4ce4f9\",\"#49e3f9\",\"#45e2f9\",\"#42e1f9\",\"#3ee0f9\",\"#3bdff9\",\"#38def9\",\"#35ddf9\",\"#32dcf9\",\"#30dbfa\",\"#2ed9fa\",\"#2dd8fa\",\"#2cd7fa\",\"#2bd6fa\",\"#2bd5fa\",\"#2ad3fa\",\"#2ad2fa\",\"#29d1fa\",\"#29d0fb\",\"#29cffb\",\"#28cdfb\",\"#28ccfb\",\"#28cbfb\",\"#28cafb\",\"#28c8fb\",\"#28c7fb\",\"#29c6fb\",\"#29c5fb\",\"#29c4fb\",\"#29c2fb\",\"#2ac1fb\",\"#2ac0fb\",\"#2bbffb\",\"#2bbdfc\",\"#2cbcfc\",\"#2dbbfc\",\"#2db9fc\",\"#2eb8fc\",\"#2fb7fc\",\"#2fb6fc\",\"#30b4fc\",\"#31b3fc\",\"#32b2fc\",\"#32b0fc\",\"#33affc\",\"#33aefc\",\"#34adfc\",\"#34abfc\",\"#34aafc\",\"#35a9fc\",\"#35a8fc\",\"#35a6fc\",\"#35a5fc\",\"#35a4fc\",\"#35a3fc\",\"#35a1fc\",\"#35a0fc\",\"#359ffc\",\"#359dfc\",\"#359cfc\",\"#359bfc\",\"#349afd\",\"#3498fd\",\"#3497fd\",\"#3396fd\",\"#3395fd\",\"#3293fd\",\"#3292fd\",\"#3191fd\",\"#3090fd\",\"#308ffd\",\"#2f8dfd\",\"#2f8cfd\",\"#2e8bfd\",\"#2e8afd\",\"#2d88fd\",\"#2d87fd\",\"#2c86fd\",\"#2c84fd\",\"#2c83fd\",\"#2c82fd\",\"#2b81fd\",\"#2b7ffd\",\"#2b7efd\",\"#2b7dfd\",\"#2b7bfd\",\"#2b7afd\",\"#2b79fd\",\"#2b77fd\",\"#2b76fd\",\"#2b75fd\",\"#2b73fd\",\"#2c72fd\",\"#2c71fd\",\"#2c6ffd\",\"#2c6efd\",\"#2d6cfd\",\"#2d6bfd\",\"#2d6afc\",\"#2e68fc\",\"#2e67fc\",\"#2e65fc\",\"#2e64fc\",\"#2f62fc\",\"#2f61fc\",\"#2f5ffc\",\"#2f5efc\",\"#2f5dfc\",\"#2f5bfc\",\"#2f5afc\",\"#2f58fb\",\"#2f57fb\",\"#2f55fb\",\"#2f53fb\",\"#2f52fb\",\"#2f50fb\",\"#2f4ffb\",\"#2f4dfb\",\"#2e4cfb\",\"#2e4afb\",\"#2e48fb\",\"#2e47fa\",\"#2d45fa\",\"#2d43fa\",\"#2d42fa\",\"#2d40fa\",\"#2c3efa\",\"#2c3dfa\",\"#2b3bf9\",\"#2b39f9\",\"#2a37f9\",\"#2a36f8\",\"#2934f8\",\"#2832f7\",\"#2831f7\",\"#272ff6\",\"#262ef5\",\"#252cf5\",\"#252af4\",\"#2429f3\",\"#2327f2\",\"#2226f1\",\"#2124f0\",\"#2023ef\",\"#1f22ee\",\"#1e20ed\",\"#1d1feb\",\"#1c1eea\",\"#1b1ce9\",\"#1a1be7\",\"#181ae6\",\"#1719e5\",\"#1618e3\",\"#1417e1\",\"#1316e0\",\"#1215de\",\"#1014dc\",\"#0f13db\",\"#0e12d9\",\"#0d11d7\",\"#0c10d5\",\"#0b0fd3\",\"#0a0ed1\",\"#090dd0\",\"#080dce\",\"#080ccc\",\"#070bca\",\"#070ac8\",\"#0709c6\",\"#0708c4\",\"#0707c2\",\"#0707bf\",\"#0806bd\",\"#0806bb\",\"#0905b9\",\"#0904b7\",\"#0a04b5\",\"#0a04b2\",\"#0b03b0\",\"#0c03ae\",\"#0d02ab\",\"#0e02a9\",\"#0e02a7\",\"#0f02a4\",\"#0f01a2\",\"#1001a0\",\"#10019d\",\"#10019b\",\"#100199\",\"#100197\",\"#100194\",\"#0f0192\",\"#0f0190\",\"#0f018e\",\"#0e018b\",\"#0e0189\",\"#0d0187\",\"#0d0185\",\"#0c0183\",\"#0b0181\",\"#0b017e\",\"#0a017c\",\"#09017a\",\"#090178\",\"#080276\",\"#070274\",\"#060272\",\"#060270\",\"#05026e\",\"#04026c\",\"#030269\",\"#030267\",\"#020265\",\"#010263\",\"#010261\",\"#00025f\",\"#00025d\",\"#00025b\",\"#000259\",\"#000257\",\"#000255\",\"#000154\",\"#000152\",\"#000150\",\"#00004e\"]},\"id\":\"5927\",\"type\":\"LinearColorMapper\"},{\"attributes\":{\"factors\":[\"BTC-USD\",\"^DJI\",\"^GSPC\",\"^TYX\"],\"tags\":[[[\"index\",\"index\",null]]]},\"id\":\"5897\",\"type\":\"FactorRange\"},{\"attributes\":{},\"id\":\"5940\",\"type\":\"CategoricalTickFormatter\"},{\"attributes\":{\"margin\":[5,5,5,5],\"name\":\"HSpacer07407\",\"sizing_mode\":\"stretch_width\"},\"id\":\"5895\",\"type\":\"Spacer\"},{\"attributes\":{\"overlay\":{\"id\":\"5919\"}},\"id\":\"5917\",\"type\":\"BoxZoomTool\"},{\"attributes\":{\"axis_label\":\"\",\"coordinates\":null,\"formatter\":{\"id\":\"5940\"},\"group\":null,\"major_label_policy\":{\"id\":\"5941\"},\"ticker\":{\"id\":\"5909\"}},\"id\":\"5908\",\"type\":\"CategoricalAxis\"},{\"attributes\":{},\"id\":\"5916\",\"type\":\"WheelZoomTool\"},{\"attributes\":{},\"id\":\"5929\",\"type\":\"Selection\"},{\"attributes\":{},\"id\":\"5949\",\"type\":\"NoOverlap\"},{\"attributes\":{},\"id\":\"5918\",\"type\":\"ResetTool\"},{\"attributes\":{},\"id\":\"5912\",\"type\":\"CategoricalTicker\"},{\"attributes\":{},\"id\":\"5906\",\"type\":\"CategoricalScale\"},{\"attributes\":{\"source\":{\"id\":\"5928\"}},\"id\":\"5936\",\"type\":\"CDSView\"},{\"attributes\":{},\"id\":\"5944\",\"type\":\"AllLabels\"},{\"attributes\":{},\"id\":\"5937\",\"type\":\"BasicTicker\"},{\"attributes\":{},\"id\":\"5909\",\"type\":\"CategoricalTicker\"},{\"attributes\":{\"bottom_units\":\"screen\",\"coordinates\":null,\"fill_alpha\":0.5,\"fill_color\":\"lightgrey\",\"group\":null,\"left_units\":\"screen\",\"level\":\"overlay\",\"line_alpha\":1.0,\"line_color\":\"black\",\"line_dash\":[4,4],\"line_width\":2,\"right_units\":\"screen\",\"syncable\":false,\"top_units\":\"screen\"},\"id\":\"5919\",\"type\":\"BoxAnnotation\"},{\"attributes\":{\"children\":[{\"id\":\"5895\"},{\"id\":\"5899\"},{\"id\":\"5967\"}],\"margin\":[0,0,0,0],\"name\":\"Row07403\",\"tags\":[\"embedded\"]},\"id\":\"5894\",\"type\":\"Row\"},{\"attributes\":{\"axis_label\":\"\",\"coordinates\":null,\"formatter\":{\"id\":\"5943\"},\"group\":null,\"major_label_policy\":{\"id\":\"5944\"},\"ticker\":{\"id\":\"5912\"}},\"id\":\"5911\",\"type\":\"CategoricalAxis\"},{\"attributes\":{},\"id\":\"5914\",\"type\":\"SaveTool\"},{\"attributes\":{},\"id\":\"5943\",\"type\":\"CategoricalTickFormatter\"},{\"attributes\":{},\"id\":\"5941\",\"type\":\"AllLabels\"},{\"attributes\":{},\"id\":\"5904\",\"type\":\"CategoricalScale\"},{\"attributes\":{\"coordinates\":null,\"data_source\":{\"id\":\"5928\"},\"glyph\":{\"id\":\"5931\"},\"group\":null,\"hover_glyph\":null,\"muted_glyph\":{\"id\":\"5934\"},\"nonselection_glyph\":{\"id\":\"5932\"},\"selection_glyph\":{\"id\":\"5933\"},\"view\":{\"id\":\"5936\"}},\"id\":\"5935\",\"type\":\"GlyphRenderer\"},{\"attributes\":{\"fill_color\":{\"field\":\"zvalues\",\"transform\":{\"id\":\"5927\"}},\"height\":{\"value\":1},\"line_alpha\":{\"value\":0},\"line_color\":{\"value\":\"#1f77b4\"},\"width\":{\"value\":1},\"x\":{\"field\":\"columns\"},\"y\":{\"field\":\"index\"}},\"id\":\"5931\",\"type\":\"Rect\"},{\"attributes\":{},\"id\":\"5915\",\"type\":\"PanTool\"},{\"attributes\":{\"below\":[{\"id\":\"5908\"}],\"center\":[{\"id\":\"5910\"},{\"id\":\"5913\"}],\"height\":300,\"left\":[{\"id\":\"5911\"}],\"margin\":[5,5,5,5],\"min_border_bottom\":10,\"min_border_left\":10,\"min_border_right\":10,\"min_border_top\":10,\"renderers\":[{\"id\":\"5935\"}],\"right\":[{\"id\":\"5938\"}],\"sizing_mode\":\"fixed\",\"title\":{\"id\":\"5900\"},\"toolbar\":{\"id\":\"5920\"},\"width\":700,\"x_range\":{\"id\":\"5896\"},\"x_scale\":{\"id\":\"5904\"},\"y_range\":{\"id\":\"5897\"},\"y_scale\":{\"id\":\"5906\"}},\"id\":\"5899\",\"subtype\":\"Figure\",\"type\":\"Plot\"},{\"attributes\":{\"data\":{\"columns\":[\"BTC-USD\",\"BTC-USD\",\"BTC-USD\",\"BTC-USD\",\"^DJI\",\"^DJI\",\"^DJI\",\"^DJI\",\"^GSPC\",\"^GSPC\",\"^GSPC\",\"^GSPC\",\"^TYX\",\"^TYX\",\"^TYX\",\"^TYX\"],\"index\":[\"BTC-USD\",\"^DJI\",\"^GSPC\",\"^TYX\",\"BTC-USD\",\"^DJI\",\"^GSPC\",\"^TYX\",\"BTC-USD\",\"^DJI\",\"^GSPC\",\"^TYX\",\"BTC-USD\",\"^DJI\",\"^GSPC\",\"^TYX\"],\"value\":[\"1\",\"0.2614\",\"0.29996\",\"0.097203\",\"0.2614\",\"1\",\"0.93425\",\"0.43854\",\"0.29996\",\"0.93425\",\"1\",\"0.37942\",\"0.097203\",\"0.43854\",\"0.37942\",\"1\"],\"zvalues\":{\"__ndarray__\":\"AAAAAAAA8D8CiiuQt7rQP/cXJ16GMtM/jNBySkniuD8CiiuQt7rQPwAAAAAAAPA/pqHoYF/l7T/14SyWAxHcP/cXJ16GMtM/pqHoYF/l7T8AAAAAAADwP3Pw0nx8SNg/jNBySkniuD/14SyWAxHcP3Pw0nx8SNg/AAAAAAAA8D8=\",\"dtype\":\"float64\",\"order\":\"little\",\"shape\":[16]}},\"selected\":{\"id\":\"5929\"},\"selection_policy\":{\"id\":\"5953\"}},\"id\":\"5928\",\"type\":\"ColumnDataSource\"},{\"attributes\":{\"fill_alpha\":{\"value\":0.1},\"fill_color\":{\"field\":\"zvalues\",\"transform\":{\"id\":\"5927\"}},\"hatch_alpha\":{\"value\":0.1},\"height\":{\"value\":1},\"line_alpha\":{\"value\":0},\"line_color\":{\"value\":\"#1f77b4\"},\"width\":{\"value\":1},\"x\":{\"field\":\"columns\"},\"y\":{\"field\":\"index\"}},\"id\":\"5932\",\"type\":\"Rect\"},{\"attributes\":{\"margin\":[5,5,5,5],\"name\":\"HSpacer07408\",\"sizing_mode\":\"stretch_width\"},\"id\":\"5967\",\"type\":\"Spacer\"},{\"attributes\":{\"factors\":[\"BTC-USD\",\"^DJI\",\"^GSPC\",\"^TYX\"],\"tags\":[[[\"columns\",\"columns\",null]]]},\"id\":\"5896\",\"type\":\"FactorRange\"},{\"attributes\":{\"bar_line_color\":\"black\",\"color_mapper\":{\"id\":\"5927\"},\"coordinates\":null,\"group\":null,\"label_standoff\":8,\"location\":[0,0],\"major_label_policy\":{\"id\":\"5949\"},\"major_tick_line_color\":\"black\",\"ticker\":{\"id\":\"5937\"}},\"id\":\"5938\",\"type\":\"ColorBar\"},{\"attributes\":{\"fill_alpha\":{\"value\":0.2},\"fill_color\":{\"field\":\"zvalues\",\"transform\":{\"id\":\"5927\"}},\"hatch_alpha\":{\"value\":0.2},\"height\":{\"value\":1},\"line_alpha\":{\"value\":0},\"line_color\":{\"value\":\"#1f77b4\"},\"width\":{\"value\":1},\"x\":{\"field\":\"columns\"},\"y\":{\"field\":\"index\"}},\"id\":\"5934\",\"type\":\"Rect\"},{\"attributes\":{\"callback\":null,\"renderers\":[{\"id\":\"5935\"}],\"tags\":[\"hv_created\"],\"tooltips\":[[\"columns\",\"@{columns}\"],[\"index\",\"@{index}\"],[\"value\",\"@{value}\"]]},\"id\":\"5898\",\"type\":\"HoverTool\"},{\"attributes\":{},\"id\":\"5953\",\"type\":\"UnionRenderers\"},{\"attributes\":{\"axis\":{\"id\":\"5911\"},\"coordinates\":null,\"dimension\":1,\"grid_line_color\":null,\"group\":null,\"ticker\":null},\"id\":\"5913\",\"type\":\"Grid\"},{\"attributes\":{\"fill_color\":{\"field\":\"zvalues\",\"transform\":{\"id\":\"5927\"}},\"height\":{\"value\":1},\"line_alpha\":{\"value\":0},\"line_color\":{\"value\":\"#1f77b4\"},\"width\":{\"value\":1},\"x\":{\"field\":\"columns\"},\"y\":{\"field\":\"index\"}},\"id\":\"5933\",\"type\":\"Rect\"},{\"attributes\":{\"coordinates\":null,\"group\":null,\"text_color\":\"black\",\"text_font_size\":\"12pt\"},\"id\":\"5900\",\"type\":\"Title\"},{\"attributes\":{\"tools\":[{\"id\":\"5898\"},{\"id\":\"5914\"},{\"id\":\"5915\"},{\"id\":\"5916\"},{\"id\":\"5917\"},{\"id\":\"5918\"}]},\"id\":\"5920\",\"type\":\"Toolbar\"}],\"root_ids\":[\"5894\"]},\"title\":\"Bokeh Application\",\"version\":\"2.4.2\"}};\n",
       "    var render_items = [{\"docid\":\"e9084a36-8464-4f42-80c5-8387726cf477\",\"root_ids\":[\"5894\"],\"roots\":{\"5894\":\"06c16fc9-2ee6-42fb-bd17-65b8ecefdd5d\"}}];\n",
       "    root.Bokeh.embed.embed_items_notebook(docs_json, render_items);\n",
       "  }\n",
       "  if (root.Bokeh !== undefined && root.Bokeh.Panel !== undefined) {\n",
       "    embed_document(root);\n",
       "  } else {\n",
       "    var attempts = 0;\n",
       "    var timer = setInterval(function(root) {\n",
       "      if (root.Bokeh !== undefined && root.Bokeh.Panel !== undefined) {\n",
       "        clearInterval(timer);\n",
       "        embed_document(root);\n",
       "      } else if (document.readyState == \"complete\") {\n",
       "        attempts++;\n",
       "        if (attempts > 200) {\n",
       "          clearInterval(timer);\n",
       "          console.log(\"Bokeh: ERROR: Unable to run BokehJS code because BokehJS library is missing\");\n",
       "        }\n",
       "      }\n",
       "    }, 25, root)\n",
       "  }\n",
       "})(window);</script>"
      ],
      "text/plain": [
       ":HeatMap   [columns,index]   (value)"
      ]
     },
     "execution_count": 224,
     "metadata": {
      "application/vnd.holoviews_exec.v0+json": {
       "id": "5894"
      }
     },
     "output_type": "execute_result"
    }
   ],
   "source": [
    "asset_corr(df)"
   ]
  },
  {
   "cell_type": "code",
   "execution_count": 225,
   "id": "c7997325-4653-4356-8473-4154b11672f1",
   "metadata": {},
   "outputs": [
    {
     "data": {},
     "metadata": {},
     "output_type": "display_data"
    },
    {
     "data": {
      "application/vnd.holoviews_exec.v0+json": "",
      "text/html": [
       "<div id='6024'>\n",
       "\n",
       "\n",
       "\n",
       "\n",
       "\n",
       "  <div class=\"bk-root\" id=\"ea836d12-2f5e-4d07-ae25-a7928d7f95a9\" data-root-id=\"6024\"></div>\n",
       "</div>\n",
       "<script type=\"application/javascript\">(function(root) {\n",
       "  function embed_document(root) {\n",
       "    var docs_json = {\"67ea027e-2c6f-400d-b8c7-f33e4f09f33a\":{\"defs\":[{\"extends\":null,\"module\":null,\"name\":\"ReactiveHTML1\",\"overrides\":[],\"properties\":[]},{\"extends\":null,\"module\":null,\"name\":\"FlexBox1\",\"overrides\":[],\"properties\":[{\"default\":\"flex-start\",\"kind\":null,\"name\":\"align_content\"},{\"default\":\"flex-start\",\"kind\":null,\"name\":\"align_items\"},{\"default\":\"row\",\"kind\":null,\"name\":\"flex_direction\"},{\"default\":\"wrap\",\"kind\":null,\"name\":\"flex_wrap\"},{\"default\":\"flex-start\",\"kind\":null,\"name\":\"justify_content\"}]},{\"extends\":null,\"module\":null,\"name\":\"TemplateActions1\",\"overrides\":[],\"properties\":[{\"default\":0,\"kind\":null,\"name\":\"open_modal\"},{\"default\":0,\"kind\":null,\"name\":\"close_modal\"}]},{\"extends\":null,\"module\":null,\"name\":\"MaterialTemplateActions1\",\"overrides\":[],\"properties\":[{\"default\":0,\"kind\":null,\"name\":\"open_modal\"},{\"default\":0,\"kind\":null,\"name\":\"close_modal\"}]}],\"roots\":{\"references\":[{\"attributes\":{\"months\":[0,2,4,6,8,10]},\"id\":\"6092\",\"type\":\"MonthsTicker\"},{\"attributes\":{\"coordinates\":null,\"group\":null,\"text_color\":\"black\",\"text_font_size\":\"12pt\"},\"id\":\"6031\",\"type\":\"Title\"},{\"attributes\":{\"overlay\":{\"id\":\"6052\"}},\"id\":\"6050\",\"type\":\"BoxZoomTool\"},{\"attributes\":{},\"id\":\"6062\",\"type\":\"AllLabels\"},{\"attributes\":{\"axis\":{\"id\":\"6039\"},\"coordinates\":null,\"grid_line_color\":null,\"group\":null,\"ticker\":null},\"id\":\"6042\",\"type\":\"Grid\"},{\"attributes\":{\"axis_label\":\"Date\",\"coordinates\":null,\"formatter\":{\"id\":\"6061\"},\"group\":null,\"major_label_policy\":{\"id\":\"6062\"},\"ticker\":{\"id\":\"6040\"}},\"id\":\"6039\",\"type\":\"DatetimeAxis\"},{\"attributes\":{\"line_color\":\"#fc4f30\",\"line_width\":2,\"x\":{\"field\":\"Date\"},\"y\":{\"field\":\"value\"}},\"id\":\"6102\",\"type\":\"Line\"},{\"attributes\":{},\"id\":\"6047\",\"type\":\"SaveTool\"},{\"attributes\":{},\"id\":\"6044\",\"type\":\"BasicTicker\"},{\"attributes\":{},\"id\":\"6064\",\"type\":\"BasicTickFormatter\"},{\"attributes\":{\"months\":[0,1,2,3,4,5,6,7,8,9,10,11]},\"id\":\"6091\",\"type\":\"MonthsTicker\"},{\"attributes\":{},\"id\":\"6095\",\"type\":\"YearsTicker\"},{\"attributes\":{\"margin\":[5,5,5,5],\"name\":\"HSpacer07608\",\"sizing_mode\":\"stretch_width\"},\"id\":\"6349\",\"type\":\"Spacer\"},{\"attributes\":{\"margin\":[5,5,5,5],\"name\":\"HSpacer07607\",\"sizing_mode\":\"stretch_width\"},\"id\":\"6025\",\"type\":\"Spacer\"},{\"attributes\":{\"axis\":{\"id\":\"6043\"},\"coordinates\":null,\"dimension\":1,\"grid_line_color\":null,\"group\":null,\"ticker\":null},\"id\":\"6046\",\"type\":\"Grid\"},{\"attributes\":{\"line_color\":\"#30a2da\",\"line_width\":2,\"x\":{\"field\":\"Date\"},\"y\":{\"field\":\"value\"}},\"id\":\"6069\",\"type\":\"Line\"},{\"attributes\":{\"axis_label\":\"\",\"coordinates\":null,\"formatter\":{\"id\":\"6064\"},\"group\":null,\"major_label_policy\":{\"id\":\"6065\"},\"ticker\":{\"id\":\"6044\"}},\"id\":\"6043\",\"type\":\"LinearAxis\"},{\"attributes\":{\"tools\":[{\"id\":\"6028\"},{\"id\":\"6047\"},{\"id\":\"6048\"},{\"id\":\"6049\"},{\"id\":\"6050\"},{\"id\":\"6051\"}]},\"id\":\"6053\",\"type\":\"Toolbar\"},{\"attributes\":{\"days\":[1,4,7,10,13,16,19,22,25,28]},\"id\":\"6088\",\"type\":\"DaysTicker\"},{\"attributes\":{},\"id\":\"6035\",\"type\":\"LinearScale\"},{\"attributes\":{\"days\":[1,15]},\"id\":\"6090\",\"type\":\"DaysTicker\"},{\"attributes\":{\"coordinates\":null,\"data_source\":{\"id\":\"6099\"},\"glyph\":{\"id\":\"6102\"},\"group\":null,\"hover_glyph\":null,\"muted_glyph\":{\"id\":\"6104\"},\"nonselection_glyph\":{\"id\":\"6103\"},\"selection_glyph\":{\"id\":\"6132\"},\"view\":{\"id\":\"6106\"}},\"id\":\"6105\",\"type\":\"GlyphRenderer\"},{\"attributes\":{\"line_alpha\":0.2,\"line_color\":\"#30a2da\",\"line_width\":2,\"x\":{\"field\":\"Date\"},\"y\":{\"field\":\"value\"}},\"id\":\"6071\",\"type\":\"Line\"},{\"attributes\":{\"label\":{\"value\":\"BTC-USD\"},\"renderers\":[{\"id\":\"6072\"}]},\"id\":\"6097\",\"type\":\"LegendItem\"},{\"attributes\":{\"callback\":null,\"formatters\":{\"@{Date}\":\"datetime\"},\"renderers\":[{\"id\":\"6072\"},{\"id\":\"6105\"}],\"tags\":[\"hv_created\"],\"tooltips\":[[\"Variable\",\"@{Variable}\"],[\"Date\",\"@{Date}{%F %T}\"],[\"value\",\"@{value}\"]]},\"id\":\"6028\",\"type\":\"HoverTool\"},{\"attributes\":{\"months\":[0,6]},\"id\":\"6094\",\"type\":\"MonthsTicker\"},{\"attributes\":{\"end\":1639180800000.0,\"reset_end\":1639180800000.0,\"reset_start\":1631491200000.0,\"start\":1631491200000.0,\"tags\":[[[\"Date\",\"Date\",null]]]},\"id\":\"6026\",\"type\":\"Range1d\"},{\"attributes\":{},\"id\":\"6051\",\"type\":\"ResetTool\"},{\"attributes\":{\"line_color\":\"#fc4f30\",\"line_width\":2,\"x\":{\"field\":\"Date\"},\"y\":{\"field\":\"value\"}},\"id\":\"6132\",\"type\":\"Line\"},{\"attributes\":{},\"id\":\"6061\",\"type\":\"DatetimeTickFormatter\"},{\"attributes\":{\"bottom_units\":\"screen\",\"coordinates\":null,\"fill_alpha\":0.5,\"fill_color\":\"lightgrey\",\"group\":null,\"left_units\":\"screen\",\"level\":\"overlay\",\"line_alpha\":1.0,\"line_color\":\"black\",\"line_dash\":[4,4],\"line_width\":2,\"right_units\":\"screen\",\"syncable\":false,\"top_units\":\"screen\"},\"id\":\"6052\",\"type\":\"BoxAnnotation\"},{\"attributes\":{\"days\":[1,2,3,4,5,6,7,8,9,10,11,12,13,14,15,16,17,18,19,20,21,22,23,24,25,26,27,28,29,30,31]},\"id\":\"6087\",\"type\":\"DaysTicker\"},{\"attributes\":{\"data\":{\"Date\":{\"__ndarray__\":\"AABAQce9d0IAAACnGb53QgAAwAxsvndCAACAcr6+d0IAAEDYEL93QgAAAD5jv3dCAADAo7W/d0IAAIAJCMB3QgAAQG9awHdCAAAA1azAd0IAAMA6/8B3QgAAgKBRwXdCAABABqTBd0IAAABs9sF3QgAAwNFIwndCAACAN5vCd0IAAECd7cJ3QgAAAANAw3dCAADAaJLDd0IAAIDO5MN3QgAAQDQ3xHdCAAAAmonEd0IAAMD/28R3QgAAgGUuxXdCAABAy4DFd0IAAAAx08V3QgAAwJYlxndCAACA/HfGd0IAAEBiysZ3QgAAAMgcx3dCAADALW/Hd0IAAICTwcd3QgAAQPkTyHdCAAAAX2bId0IAAMDEuMh3QgAAgCoLyXdCAABAkF3Jd0IAAAD2r8l3QgAAwFsCyndCAACAwVTKd0IAAEAnp8p3QgAAAI35yndCAADA8kvLd0IAAIBYnst3QgAAQL7wy3dCAAAAJEPMd0IAAMCJlcx3QgAAgO/nzHdCAABAVTrNd0IAAAC7jM13QgAAwCDfzXdCAACAhjHOd0IAAEDsg853QgAAAFLWzndCAADAtyjPd0IAAIAde893QgAAQIPNz3dCAAAA6R/Qd0IAAMBOctB3QgAAgLTE0HdCAABAGhfRd0IAAACAadF3QgAAwOW70XdCAACASw7Sd0IAAECxYNJ3QgAAABez0ndCAADAfAXTd0IAAIDiV9N3QgAAQEiq03dCAAAArvzTd0IAAMATT9R3QgAAgHmh1HdCAABA3/PUd0IAAABFRtV3QgAAwKqY1XdCAACAEOvVd0IAAEB2PdZ3QgAAANyP1ndCAADAQeLWd0IAAICnNNd3QgAAQA2H13dCAAAAc9nXd0IAAMDYK9h3QgAAgD5+2HdCAABApNDYd0IAAAAKI9l3QgAAwG912XdCAACA1cfZd0IAAEA7Gtp3QgAAAKFs2ndC\",\"dtype\":\"float64\",\"order\":\"little\",\"shape\":[90]},\"Variable\":[\"BTC-USD\",\"BTC-USD\",\"BTC-USD\",\"BTC-USD\",\"BTC-USD\",\"BTC-USD\",\"BTC-USD\",\"BTC-USD\",\"BTC-USD\",\"BTC-USD\",\"BTC-USD\",\"BTC-USD\",\"BTC-USD\",\"BTC-USD\",\"BTC-USD\",\"BTC-USD\",\"BTC-USD\",\"BTC-USD\",\"BTC-USD\",\"BTC-USD\",\"BTC-USD\",\"BTC-USD\",\"BTC-USD\",\"BTC-USD\",\"BTC-USD\",\"BTC-USD\",\"BTC-USD\",\"BTC-USD\",\"BTC-USD\",\"BTC-USD\",\"BTC-USD\",\"BTC-USD\",\"BTC-USD\",\"BTC-USD\",\"BTC-USD\",\"BTC-USD\",\"BTC-USD\",\"BTC-USD\",\"BTC-USD\",\"BTC-USD\",\"BTC-USD\",\"BTC-USD\",\"BTC-USD\",\"BTC-USD\",\"BTC-USD\",\"BTC-USD\",\"BTC-USD\",\"BTC-USD\",\"BTC-USD\",\"BTC-USD\",\"BTC-USD\",\"BTC-USD\",\"BTC-USD\",\"BTC-USD\",\"BTC-USD\",\"BTC-USD\",\"BTC-USD\",\"BTC-USD\",\"BTC-USD\",\"BTC-USD\",\"BTC-USD\",\"BTC-USD\",\"BTC-USD\",\"BTC-USD\",\"BTC-USD\",\"BTC-USD\",\"BTC-USD\",\"BTC-USD\",\"BTC-USD\",\"BTC-USD\",\"BTC-USD\",\"BTC-USD\",\"BTC-USD\",\"BTC-USD\",\"BTC-USD\",\"BTC-USD\",\"BTC-USD\",\"BTC-USD\",\"BTC-USD\",\"BTC-USD\",\"BTC-USD\",\"BTC-USD\",\"BTC-USD\",\"BTC-USD\",\"BTC-USD\",\"BTC-USD\",\"BTC-USD\",\"BTC-USD\",\"BTC-USD\",\"BTC-USD\"],\"value\":{\"__ndarray__\":\"AAAAYGL05UAAAADAj/7mQAAAACALhudAAAAAgOtU50AAAACgcBTnQAAAAKDLkudAAAAAAIcT50AAAACgeevkQAAAAKC13uNAAAAAQNBG5UAAAAAg4+vlQAAAAAD46uRAAAAAAJPb5EAAAABAERnlQAAAAGB3n+RAAAAAYFEJ5EAAAACgi0vkQAAAAKDcYeVAAAAAIJ5+50AAAACg70vnQAAAAID+iOdAAAAA4Bz750AAAAAAWifpQAAAAGAuCOtAAAAAgL9F6kAAAAAg+1nqQAAAACAH1+pAAAAAgHK+6kAAAABAmRHsQAAAAOAhXetAAAAAICMH7EAAAADAMP3rQAAAAGA+E+5AAAAAwIW77UAAAADAMw7uQAAAAIBCSe5AAAAAwL9g70AAAABgjRzwQAAAAIBFYO5AAAAAgIii7UAAAADAM/rtQAAAAMBawO1AAAAAYPrH7kAAAABgeXntQAAAAGBMjuxAAAAAYMSZ7UAAAADgfmLuQAAAAKAaOO5AAAAAoN7w7UAAAAAAjcntQAAAAOBM3+5AAAAAgEG/7kAAAABghwHuQAAAAKC12O1AAAAAYO8K7kAAAACg3+vuQAAAAEDtfvBAAAAAQL1Z8EAAAABgZ7zvQAAAAMC+tu9AAAAAIH5T70AAAADgsHrvQAAAAOBa9+9AAAAA4LsI70AAAADgJ2DtQAAAAGAAeu1AAAAAYMTN60AAAACA8mDsQAAAAEAmJu1AAAAAQE+t7EAAAABAKXzrQAAAAGAiHOxAAAAAoA1760AAAADAVffrQAAAAIA4KOpAAAAAgOLD6kAAAACgDvTrQAAAACDSOexAAAAAoK3V60AAAACAuvHrQAAAACC6k+tAAAAA4Mcr6kAAAACAFgboQAAAACAbG+hAAAAAANSy6EAAAADAgsHoQAAAAIAZqehAAAAA4ANH50AAAADAaRHnQAAAACCi6OdA\",\"dtype\":\"float64\",\"order\":\"little\",\"shape\":[90]}},\"selected\":{\"id\":\"6067\"},\"selection_policy\":{\"id\":\"6081\"}},\"id\":\"6066\",\"type\":\"ColumnDataSource\"},{\"attributes\":{\"line_alpha\":0.1,\"line_color\":\"#fc4f30\",\"line_width\":2,\"x\":{\"field\":\"Date\"},\"y\":{\"field\":\"value\"}},\"id\":\"6103\",\"type\":\"Line\"},{\"attributes\":{\"label\":{\"value\":\"ETH-USD\"},\"renderers\":[{\"id\":\"6105\"}]},\"id\":\"6131\",\"type\":\"LegendItem\"},{\"attributes\":{\"source\":{\"id\":\"6099\"}},\"id\":\"6106\",\"type\":\"CDSView\"},{\"attributes\":{\"data\":{\"Date\":{\"__ndarray__\":\"AABAQce9d0IAAACnGb53QgAAwAxsvndCAACAcr6+d0IAAEDYEL93QgAAAD5jv3dCAADAo7W/d0IAAIAJCMB3QgAAQG9awHdCAAAA1azAd0IAAMA6/8B3QgAAgKBRwXdCAABABqTBd0IAAABs9sF3QgAAwNFIwndCAACAN5vCd0IAAECd7cJ3QgAAAANAw3dCAADAaJLDd0IAAIDO5MN3QgAAQDQ3xHdCAAAAmonEd0IAAMD/28R3QgAAgGUuxXdCAABAy4DFd0IAAAAx08V3QgAAwJYlxndCAACA/HfGd0IAAEBiysZ3QgAAAMgcx3dCAADALW/Hd0IAAICTwcd3QgAAQPkTyHdCAAAAX2bId0IAAMDEuMh3QgAAgCoLyXdCAABAkF3Jd0IAAAD2r8l3QgAAwFsCyndCAACAwVTKd0IAAEAnp8p3QgAAAI35yndCAADA8kvLd0IAAIBYnst3QgAAQL7wy3dCAAAAJEPMd0IAAMCJlcx3QgAAgO/nzHdCAABAVTrNd0IAAAC7jM13QgAAwCDfzXdCAACAhjHOd0IAAEDsg853QgAAAFLWzndCAADAtyjPd0IAAIAde893QgAAQIPNz3dCAAAA6R/Qd0IAAMBOctB3QgAAgLTE0HdCAABAGhfRd0IAAACAadF3QgAAwOW70XdCAACASw7Sd0IAAECxYNJ3QgAAABez0ndCAADAfAXTd0IAAIDiV9N3QgAAQEiq03dCAAAArvzTd0IAAMATT9R3QgAAgHmh1HdCAABA3/PUd0IAAABFRtV3QgAAwKqY1XdCAACAEOvVd0IAAEB2PdZ3QgAAANyP1ndCAADAQeLWd0IAAICnNNd3QgAAQA2H13dCAAAAc9nXd0IAAMDYK9h3QgAAgD5+2HdCAABApNDYd0IAAAAKI9l3QgAAwG912XdCAACA1cfZd0IAAEA7Gtp3QgAAAKFs2ndC\",\"dtype\":\"float64\",\"order\":\"little\",\"shape\":[90]},\"Variable\":[\"ETH-USD\",\"ETH-USD\",\"ETH-USD\",\"ETH-USD\",\"ETH-USD\",\"ETH-USD\",\"ETH-USD\",\"ETH-USD\",\"ETH-USD\",\"ETH-USD\",\"ETH-USD\",\"ETH-USD\",\"ETH-USD\",\"ETH-USD\",\"ETH-USD\",\"ETH-USD\",\"ETH-USD\",\"ETH-USD\",\"ETH-USD\",\"ETH-USD\",\"ETH-USD\",\"ETH-USD\",\"ETH-USD\",\"ETH-USD\",\"ETH-USD\",\"ETH-USD\",\"ETH-USD\",\"ETH-USD\",\"ETH-USD\",\"ETH-USD\",\"ETH-USD\",\"ETH-USD\",\"ETH-USD\",\"ETH-USD\",\"ETH-USD\",\"ETH-USD\",\"ETH-USD\",\"ETH-USD\",\"ETH-USD\",\"ETH-USD\",\"ETH-USD\",\"ETH-USD\",\"ETH-USD\",\"ETH-USD\",\"ETH-USD\",\"ETH-USD\",\"ETH-USD\",\"ETH-USD\",\"ETH-USD\",\"ETH-USD\",\"ETH-USD\",\"ETH-USD\",\"ETH-USD\",\"ETH-USD\",\"ETH-USD\",\"ETH-USD\",\"ETH-USD\",\"ETH-USD\",\"ETH-USD\",\"ETH-USD\",\"ETH-USD\",\"ETH-USD\",\"ETH-USD\",\"ETH-USD\",\"ETH-USD\",\"ETH-USD\",\"ETH-USD\",\"ETH-USD\",\"ETH-USD\",\"ETH-USD\",\"ETH-USD\",\"ETH-USD\",\"ETH-USD\",\"ETH-USD\",\"ETH-USD\",\"ETH-USD\",\"ETH-USD\",\"ETH-USD\",\"ETH-USD\",\"ETH-USD\",\"ETH-USD\",\"ETH-USD\",\"ETH-USD\",\"ETH-USD\",\"ETH-USD\",\"ETH-USD\",\"ETH-USD\",\"ETH-USD\",\"ETH-USD\",\"ETH-USD\"],\"value\":{\"__ndarray__\":\"AAAAAAarqUAAAADgVsqqQAAAAMCQPqxAAAAAAJfmq0AAAADgE42qQAAAAGAJ0KpAAAAAYOUCqkAAAACg/B2nQAAAAMDcmKVAAAAAYLwLqEAAAAAgDKeoQAAAAKBW56ZAAAAAoCHbpkAAAADgh+ynQAAAACBH7KZAAAAA4JfupUAAAABgSUqmQAAAAKBbc6dAAAAAQAjXqUAAAACAY3+qQAAAAKC3tKpAAAAAoC1oqkAAAACACX2rQAAAAMAf+atAAAAAIPMHrEAAAADAhNerQAAAAABv76tAAAAAoLTDqkAAAABAtbKrQAAAAIAlSatAAAAAQGcsrEAAAABAB5StQAAAAABFLa5AAAAAoMPsrUAAAACANQ6uQAAAAECFSa1AAAAAQE1LrkAAAAAA/juwQAAAAEClrK9AAAAAIF0Er0AAAADgqUuwQAAAAGDO769AAAAAgOB5sEAAAAAgGiOwQAAAAMCDtK5AAAAAoFG/sEAAAAAgvz6xQAAAAICm5bBAAAAAABPAsEAAAACAoOSwQAAAAIDM6LFAAAAAoDH/sUAAAAAAU7mxQAAAAEA+hrFAAAAAwJSpsUAAAAAAjgyyQAAAAGAWzLJAAAAAoBF/skAAAACgLByyQAAAAGBierJAAAAAgB07skAAAADgdSuyQAAAAOBbErJAAAAAAIHNsUAAAACAXXiwQAAAAACYv7BAAAAAQE1Br0AAAACATsqwQAAAAGDuObFAAAAAoLutsEAAAABg6vCvQAAAAIDD9LBAAAAAQPuPsEAAAABAvrKwQAAAAGDRfa9AAAAAgOkAsEAAAAAgdMawQAAAAOAaXbFAAAAAoHoXskAAAACA/eqxQAAAAGBNn7FAAAAAwLR8sEAAAABglhewQAAAAKBSZrBAAAAAwLwGsUAAAADAD9uwQAAAAKBbV7FAAAAA4NAXsEAAAAAA/oiuQAAAAIC00a9A\",\"dtype\":\"float64\",\"order\":\"little\",\"shape\":[90]}},\"selected\":{\"id\":\"6100\"},\"selection_policy\":{\"id\":\"6116\"}},\"id\":\"6099\",\"type\":\"ColumnDataSource\"},{\"attributes\":{\"coordinates\":null,\"data_source\":{\"id\":\"6066\"},\"glyph\":{\"id\":\"6069\"},\"group\":null,\"hover_glyph\":null,\"muted_glyph\":{\"id\":\"6071\"},\"nonselection_glyph\":{\"id\":\"6070\"},\"selection_glyph\":{\"id\":\"6098\"},\"view\":{\"id\":\"6073\"}},\"id\":\"6072\",\"type\":\"GlyphRenderer\"},{\"attributes\":{\"line_alpha\":0.2,\"line_color\":\"#fc4f30\",\"line_width\":2,\"x\":{\"field\":\"Date\"},\"y\":{\"field\":\"value\"}},\"id\":\"6104\",\"type\":\"Line\"},{\"attributes\":{\"mantissas\":[1,2,5],\"max_interval\":500.0,\"num_minor_ticks\":0},\"id\":\"6084\",\"type\":\"AdaptiveTicker\"},{\"attributes\":{},\"id\":\"6037\",\"type\":\"LinearScale\"},{\"attributes\":{\"months\":[0,4,8]},\"id\":\"6093\",\"type\":\"MonthsTicker\"},{\"attributes\":{\"end\":74047.06782226563,\"reset_end\":74047.06782226563,\"reset_start\":-3715.808544921875,\"start\":-3715.808544921875,\"tags\":[[[\"value\",\"value\",null]]]},\"id\":\"6027\",\"type\":\"Range1d\"},{\"attributes\":{},\"id\":\"6065\",\"type\":\"AllLabels\"},{\"attributes\":{\"days\":[1,8,15,22]},\"id\":\"6089\",\"type\":\"DaysTicker\"},{\"attributes\":{\"click_policy\":\"mute\",\"coordinates\":null,\"group\":null,\"items\":[{\"id\":\"6097\"},{\"id\":\"6131\"}],\"location\":[0,0],\"title\":\"Variable\"},\"id\":\"6096\",\"type\":\"Legend\"},{\"attributes\":{},\"id\":\"6116\",\"type\":\"UnionRenderers\"},{\"attributes\":{\"base\":24,\"mantissas\":[1,2,4,6,8,12],\"max_interval\":43200000.0,\"min_interval\":3600000.0,\"num_minor_ticks\":0},\"id\":\"6086\",\"type\":\"AdaptiveTicker\"},{\"attributes\":{\"children\":[{\"id\":\"6025\"},{\"id\":\"6030\"},{\"id\":\"6349\"}],\"margin\":[0,0,0,0],\"name\":\"Row07603\",\"tags\":[\"embedded\"]},\"id\":\"6024\",\"type\":\"Row\"},{\"attributes\":{},\"id\":\"6081\",\"type\":\"UnionRenderers\"},{\"attributes\":{\"line_alpha\":0.1,\"line_color\":\"#30a2da\",\"line_width\":2,\"x\":{\"field\":\"Date\"},\"y\":{\"field\":\"value\"}},\"id\":\"6070\",\"type\":\"Line\"},{\"attributes\":{},\"id\":\"6049\",\"type\":\"WheelZoomTool\"},{\"attributes\":{\"num_minor_ticks\":5,\"tickers\":[{\"id\":\"6084\"},{\"id\":\"6085\"},{\"id\":\"6086\"},{\"id\":\"6087\"},{\"id\":\"6088\"},{\"id\":\"6089\"},{\"id\":\"6090\"},{\"id\":\"6091\"},{\"id\":\"6092\"},{\"id\":\"6093\"},{\"id\":\"6094\"},{\"id\":\"6095\"}]},\"id\":\"6040\",\"type\":\"DatetimeTicker\"},{\"attributes\":{},\"id\":\"6100\",\"type\":\"Selection\"},{\"attributes\":{\"below\":[{\"id\":\"6039\"}],\"center\":[{\"id\":\"6042\"},{\"id\":\"6046\"}],\"height\":300,\"left\":[{\"id\":\"6043\"}],\"margin\":[5,5,5,5],\"min_border_bottom\":10,\"min_border_left\":10,\"min_border_right\":10,\"min_border_top\":10,\"renderers\":[{\"id\":\"6072\"},{\"id\":\"6105\"}],\"right\":[{\"id\":\"6096\"}],\"sizing_mode\":\"fixed\",\"title\":{\"id\":\"6031\"},\"toolbar\":{\"id\":\"6053\"},\"width\":700,\"x_range\":{\"id\":\"6026\"},\"x_scale\":{\"id\":\"6035\"},\"y_range\":{\"id\":\"6027\"},\"y_scale\":{\"id\":\"6037\"}},\"id\":\"6030\",\"subtype\":\"Figure\",\"type\":\"Plot\"},{\"attributes\":{\"base\":60,\"mantissas\":[1,2,5,10,15,20,30],\"max_interval\":1800000.0,\"min_interval\":1000.0,\"num_minor_ticks\":0},\"id\":\"6085\",\"type\":\"AdaptiveTicker\"},{\"attributes\":{},\"id\":\"6048\",\"type\":\"PanTool\"},{\"attributes\":{},\"id\":\"6067\",\"type\":\"Selection\"},{\"attributes\":{\"source\":{\"id\":\"6066\"}},\"id\":\"6073\",\"type\":\"CDSView\"},{\"attributes\":{\"line_color\":\"#30a2da\",\"line_width\":2,\"x\":{\"field\":\"Date\"},\"y\":{\"field\":\"value\"}},\"id\":\"6098\",\"type\":\"Line\"}],\"root_ids\":[\"6024\"]},\"title\":\"Bokeh Application\",\"version\":\"2.4.2\"}};\n",
       "    var render_items = [{\"docid\":\"67ea027e-2c6f-400d-b8c7-f33e4f09f33a\",\"root_ids\":[\"6024\"],\"roots\":{\"6024\":\"ea836d12-2f5e-4d07-ae25-a7928d7f95a9\"}}];\n",
       "    root.Bokeh.embed.embed_items_notebook(docs_json, render_items);\n",
       "  }\n",
       "  if (root.Bokeh !== undefined && root.Bokeh.Panel !== undefined) {\n",
       "    embed_document(root);\n",
       "  } else {\n",
       "    var attempts = 0;\n",
       "    var timer = setInterval(function(root) {\n",
       "      if (root.Bokeh !== undefined && root.Bokeh.Panel !== undefined) {\n",
       "        clearInterval(timer);\n",
       "        embed_document(root);\n",
       "      } else if (document.readyState == \"complete\") {\n",
       "        attempts++;\n",
       "        if (attempts > 200) {\n",
       "          clearInterval(timer);\n",
       "          console.log(\"Bokeh: ERROR: Unable to run BokehJS code because BokehJS library is missing\");\n",
       "        }\n",
       "      }\n",
       "    }, 25, root)\n",
       "  }\n",
       "})(window);</script>"
      ],
      "text/plain": [
       ":NdOverlay   [Variable]\n",
       "   :Curve   [Date]   (value)"
      ]
     },
     "execution_count": 225,
     "metadata": {
      "application/vnd.holoviews_exec.v0+json": {
       "id": "6024"
      }
     },
     "output_type": "execute_result"
    }
   ],
   "source": [
    "# Create chart with dropdown by crypto \n",
    "hist_crypto_prices = crypto_price_df.hvplot.line(x = 'Date', shared_axes = False)\n",
    "hist_crypto_prices"
   ]
  },
  {
   "cell_type": "code",
   "execution_count": 210,
   "id": "25635491-c12a-458a-bbef-80564409744b",
   "metadata": {},
   "outputs": [],
   "source": [
    "# # plotly figure setup\n",
    "# fig = go.Figure()\n",
    "\n",
    "# # one trace for each df column\n",
    "# for col in crypto_price_df.columns:\n",
    "#     fig.add_trace(go.Scatter(x=crypto_price_df.index, y=crypto_price_df[col].values,\n",
    "#                              name = col,\n",
    "#                              mode = 'lines')\n",
    "#                  )\n",
    "\n",
    "# # one button for each df column\n",
    "# updatemenu= []\n",
    "# buttons=[]\n",
    "# for col in crypto_price_df.columns:\n",
    "#     buttons.append(dict(method='restyle',\n",
    "#                         label=col,\n",
    "#                         args=[{'y':[crypto_price_df[col].values]}])\n",
    "#                   )"
   ]
  },
  {
   "cell_type": "code",
   "execution_count": 211,
   "id": "20afc2fa-2509-4ed4-ba7a-3ca0d161fd03",
   "metadata": {},
   "outputs": [],
   "source": [
    "# # some adjustments to the updatemenu\n",
    "# updatemenu=[]\n",
    "# your_menu=dict()\n",
    "# updatemenu.append(your_menu)\n",
    "# updatemenu[0]['buttons']=buttons\n",
    "# updatemenu[0]['direction']='down'\n",
    "# updatemenu[0]['showactive']=True\n",
    "\n",
    "# # update layout and show figure\n",
    "# fig.update_layout(updatemenus=updatemenu)\n",
    "# fig.show()"
   ]
  },
  {
   "cell_type": "code",
   "execution_count": 212,
   "id": "1ebfe345-7579-470a-96dd-9a0c97e2469f",
   "metadata": {},
   "outputs": [],
   "source": [
    "# # Read in .csv file using bloomberg static data\n",
    "# df = pd.read_csv('data.csv', index_col = 'Date')\n",
    "\n",
    "# #DROP S&P500 AND TSY COLUMNS FOR CUPCAKE. FEED DATA IN WHEN WE GET\n",
    "# df.drop(columns = ['ETH','SPY','TSY'],inplace=True)\n",
    "\n",
    "# #DROP NULLS\n",
    "# df.dropna()"
   ]
  },
  {
   "cell_type": "code",
   "execution_count": 226,
   "id": "ac585dd2-d601-4674-aa06-0365d9a54fa1",
   "metadata": {},
   "outputs": [
    {
     "data": {
      "text/html": [
       "<div>\n",
       "<style scoped>\n",
       "    .dataframe tbody tr th:only-of-type {\n",
       "        vertical-align: middle;\n",
       "    }\n",
       "\n",
       "    .dataframe tbody tr th {\n",
       "        vertical-align: top;\n",
       "    }\n",
       "\n",
       "    .dataframe thead th {\n",
       "        text-align: right;\n",
       "    }\n",
       "</style>\n",
       "<table border=\"1\" class=\"dataframe\">\n",
       "  <thead>\n",
       "    <tr style=\"text-align: right;\">\n",
       "      <th></th>\n",
       "      <th>BTC-USD</th>\n",
       "      <th>^DJI</th>\n",
       "      <th>^GSPC</th>\n",
       "      <th>^TYX</th>\n",
       "    </tr>\n",
       "    <tr>\n",
       "      <th>Date</th>\n",
       "      <th></th>\n",
       "      <th></th>\n",
       "      <th></th>\n",
       "      <th></th>\n",
       "    </tr>\n",
       "  </thead>\n",
       "  <tbody>\n",
       "    <tr>\n",
       "      <th>2021-09-13</th>\n",
       "      <td>44963.074219</td>\n",
       "      <td>34869.628906</td>\n",
       "      <td>4468.729980</td>\n",
       "      <td>1.905</td>\n",
       "    </tr>\n",
       "    <tr>\n",
       "      <th>2021-09-14</th>\n",
       "      <td>47092.492188</td>\n",
       "      <td>34577.570312</td>\n",
       "      <td>4443.049805</td>\n",
       "      <td>1.850</td>\n",
       "    </tr>\n",
       "    <tr>\n",
       "      <th>2021-09-15</th>\n",
       "      <td>48176.347656</td>\n",
       "      <td>34814.390625</td>\n",
       "      <td>4480.700195</td>\n",
       "      <td>1.869</td>\n",
       "    </tr>\n",
       "    <tr>\n",
       "      <th>2021-09-16</th>\n",
       "      <td>47783.359375</td>\n",
       "      <td>34751.320312</td>\n",
       "      <td>4473.750000</td>\n",
       "      <td>1.881</td>\n",
       "    </tr>\n",
       "    <tr>\n",
       "      <th>2021-09-17</th>\n",
       "      <td>47267.519531</td>\n",
       "      <td>34584.878906</td>\n",
       "      <td>4432.990234</td>\n",
       "      <td>1.909</td>\n",
       "    </tr>\n",
       "  </tbody>\n",
       "</table>\n",
       "</div>"
      ],
      "text/plain": [
       "                 BTC-USD          ^DJI        ^GSPC   ^TYX\n",
       "Date                                                      \n",
       "2021-09-13  44963.074219  34869.628906  4468.729980  1.905\n",
       "2021-09-14  47092.492188  34577.570312  4443.049805  1.850\n",
       "2021-09-15  48176.347656  34814.390625  4480.700195  1.869\n",
       "2021-09-16  47783.359375  34751.320312  4473.750000  1.881\n",
       "2021-09-17  47267.519531  34584.878906  4432.990234  1.909"
      ]
     },
     "execution_count": 226,
     "metadata": {},
     "output_type": "execute_result"
    }
   ],
   "source": [
    "df.head()"
   ]
  },
  {
   "cell_type": "code",
   "execution_count": 227,
   "id": "893fcb0d-bc3c-40a6-a1ad-60fffb54de88",
   "metadata": {},
   "outputs": [],
   "source": [
    "# Convert df to % change for analysis\n",
    "pct_chg_df = df.pct_change()\n",
    "pct_chg_df = pct_chg_df.dropna()"
   ]
  },
  {
   "cell_type": "markdown",
   "id": "df62be95-6e35-428d-ba73-ccc71353878f",
   "metadata": {},
   "source": [
    "# RF Model\n",
    "- model r2 score was negative using Gold, Oil, SP500, DJI\n",
    "- maybe we should try and predict the prices of a crypto asset given price movements in other cryptos"
   ]
  },
  {
   "cell_type": "code",
   "execution_count": 228,
   "id": "5647b872-15a2-4947-976b-ca654b6c74bc",
   "metadata": {},
   "outputs": [
    {
     "data": {
      "text/html": [
       "<div>\n",
       "<style scoped>\n",
       "    .dataframe tbody tr th:only-of-type {\n",
       "        vertical-align: middle;\n",
       "    }\n",
       "\n",
       "    .dataframe tbody tr th {\n",
       "        vertical-align: top;\n",
       "    }\n",
       "\n",
       "    .dataframe thead th {\n",
       "        text-align: right;\n",
       "    }\n",
       "</style>\n",
       "<table border=\"1\" class=\"dataframe\">\n",
       "  <thead>\n",
       "    <tr style=\"text-align: right;\">\n",
       "      <th></th>\n",
       "      <th>^DJI</th>\n",
       "      <th>^GSPC</th>\n",
       "      <th>^TYX</th>\n",
       "    </tr>\n",
       "    <tr>\n",
       "      <th>Date</th>\n",
       "      <th></th>\n",
       "      <th></th>\n",
       "      <th></th>\n",
       "    </tr>\n",
       "  </thead>\n",
       "  <tbody>\n",
       "    <tr>\n",
       "      <th>2021-09-14</th>\n",
       "      <td>-0.008376</td>\n",
       "      <td>-0.005747</td>\n",
       "      <td>-0.028871</td>\n",
       "    </tr>\n",
       "    <tr>\n",
       "      <th>2021-09-15</th>\n",
       "      <td>0.006849</td>\n",
       "      <td>0.008474</td>\n",
       "      <td>0.010270</td>\n",
       "    </tr>\n",
       "    <tr>\n",
       "      <th>2021-09-16</th>\n",
       "      <td>-0.001812</td>\n",
       "      <td>-0.001551</td>\n",
       "      <td>0.006421</td>\n",
       "    </tr>\n",
       "    <tr>\n",
       "      <th>2021-09-17</th>\n",
       "      <td>-0.004789</td>\n",
       "      <td>-0.009111</td>\n",
       "      <td>0.014886</td>\n",
       "    </tr>\n",
       "    <tr>\n",
       "      <th>2021-09-20</th>\n",
       "      <td>-0.017765</td>\n",
       "      <td>-0.016977</td>\n",
       "      <td>-0.033002</td>\n",
       "    </tr>\n",
       "  </tbody>\n",
       "</table>\n",
       "</div>"
      ],
      "text/plain": [
       "                ^DJI     ^GSPC      ^TYX\n",
       "Date                                    \n",
       "2021-09-14 -0.008376 -0.005747 -0.028871\n",
       "2021-09-15  0.006849  0.008474  0.010270\n",
       "2021-09-16 -0.001812 -0.001551  0.006421\n",
       "2021-09-17 -0.004789 -0.009111  0.014886\n",
       "2021-09-20 -0.017765 -0.016977 -0.033002"
      ]
     },
     "execution_count": 228,
     "metadata": {},
     "output_type": "execute_result"
    }
   ],
   "source": [
    "# Define features set\n",
    "X = pct_chg_df.copy()\n",
    "X.drop(\"BTC-USD\", axis=1, inplace=True)\n",
    "X.head()"
   ]
  },
  {
   "cell_type": "code",
   "execution_count": 230,
   "id": "728061e1-ad45-4e5d-94d2-f84aed1729be",
   "metadata": {},
   "outputs": [
    {
     "data": {
      "text/plain": [
       "array([[ 0.04735926],\n",
       "       [ 0.02301546],\n",
       "       [-0.00815729],\n",
       "       [-0.01079539],\n",
       "       [-0.09358898]])"
      ]
     },
     "execution_count": 230,
     "metadata": {},
     "output_type": "execute_result"
    }
   ],
   "source": [
    "# Define target vector\n",
    "y = pct_chg_df[\"BTC-USD\"].values.reshape(-1, 1)\n",
    "y[:5]"
   ]
  },
  {
   "cell_type": "code",
   "execution_count": 231,
   "id": "e19ac1e0-b577-4463-8173-69291c641450",
   "metadata": {},
   "outputs": [],
   "source": [
    "# Create function for RF Model\n",
    "\n",
    "def RF(X,y):\n",
    "    \n",
    "    #split data into training and testing data\n",
    "    X_train, X_test, y_train, y_test = train_test_split(X, y, random_state=78)\n",
    "    \n",
    "    #initiate, fit, and train rf_model\n",
    "    rf_model = RandomForestRegressor(n_estimators=500, random_state=42)\n",
    "    rf_model = rf_model.fit(X_train, y_train)\n",
    "    \n",
    "    #make predictions for target using X_test\n",
    "    predictions = rf_model.predict(X_test)\n",
    "    \n",
    "    return rf_model.score(X_test, y_test)"
   ]
  },
  {
   "cell_type": "code",
   "execution_count": 232,
   "id": "9d869a41-6dea-4a59-b008-4fcba22c584d",
   "metadata": {},
   "outputs": [
    {
     "name": "stderr",
     "output_type": "stream",
     "text": [
      "/Users/jonyamaoka/opt/anaconda3/envs/mlenv/lib/python3.7/site-packages/ipykernel_launcher.py:10: DataConversionWarning: A column-vector y was passed when a 1d array was expected. Please change the shape of y to (n_samples,), for example using ravel().\n",
      "  # Remove the CWD from sys.path while we load stuff.\n"
     ]
    },
    {
     "data": {
      "text/plain": [
       "-0.4301925165602596"
      ]
     },
     "execution_count": 232,
     "metadata": {},
     "output_type": "execute_result"
    }
   ],
   "source": [
    "RF(X,y)"
   ]
  },
  {
   "cell_type": "code",
   "execution_count": 186,
   "id": "76cb38a9-b5e2-4299-8f95-e35fc852acad",
   "metadata": {},
   "outputs": [],
   "source": [
    "# Splitting into Train and Test sets\n",
    "\n",
    "# X_train, X_test, y_train, y_test = train_test_split(X, y, random_state=78)\n"
   ]
  },
  {
   "cell_type": "code",
   "execution_count": 187,
   "id": "66245344-c6b5-4647-aecf-4dfd7ac32916",
   "metadata": {},
   "outputs": [],
   "source": [
    "# rf_model = RandomForestRegressor(n_estimators=500, random_state=42)"
   ]
  },
  {
   "cell_type": "code",
   "execution_count": 188,
   "id": "89042b33-25d2-408f-8d96-7c4acc79f718",
   "metadata": {},
   "outputs": [
    {
     "name": "stderr",
     "output_type": "stream",
     "text": [
      "/Users/jonyamaoka/opt/anaconda3/envs/mlenv/lib/python3.7/site-packages/ipykernel_launcher.py:2: DataConversionWarning: A column-vector y was passed when a 1d array was expected. Please change the shape of y to (n_samples,), for example using ravel().\n",
      "  \n"
     ]
    }
   ],
   "source": [
    "# Fit the model\n",
    "# rf_model = rf_model.fit(X_train, y_train)"
   ]
  },
  {
   "cell_type": "code",
   "execution_count": 189,
   "id": "2fae82b2-71ae-42a3-9271-0047424b0501",
   "metadata": {},
   "outputs": [],
   "source": [
    "# Making predictions using the testing data\n",
    "# predictions = rf_model.predict(X_test)"
   ]
  },
  {
   "cell_type": "code",
   "execution_count": 190,
   "id": "de9abeaa-5e02-433f-ae46-20560860b087",
   "metadata": {},
   "outputs": [],
   "source": [
    "# #Compare predictions vs actual\n",
    "# y_test_df = pd.DataFrame(y_test)\n",
    "# y_test_df['predict']=predictions\n",
    "# y_test_df.hvplot()"
   ]
  },
  {
   "cell_type": "code",
   "execution_count": 202,
   "id": "5c6b6d79-54ac-4981-83fa-fabfe41deb55",
   "metadata": {},
   "outputs": [],
   "source": [
    "# Get the feature importance array\n",
    "importances = rf_model.feature_importances_"
   ]
  },
  {
   "cell_type": "code",
   "execution_count": 203,
   "id": "a09dea34-1713-4b29-8b90-5549b979bf19",
   "metadata": {},
   "outputs": [
    {
     "data": {
      "text/plain": [
       "[(0.6182338050234543, 'COIN'),\n",
       " (0.09825107540422884, 'GC=F'),\n",
       " (0.08985778639768094, 'GME'),\n",
       " (0.08120592520826976, '^DJI'),\n",
       " (0.05631319421260322, 'CL=F'),\n",
       " (0.05613821375376278, '^GSPC')]"
      ]
     },
     "execution_count": 203,
     "metadata": {},
     "output_type": "execute_result"
    }
   ],
   "source": [
    "# List the top 10 most important features\n",
    "importances_sorted = sorted(zip(rf_model.feature_importances_, X.columns), reverse=True)\n",
    "importances_sorted[:10]"
   ]
  },
  {
   "cell_type": "code",
   "execution_count": 193,
   "id": "2a5f120f-934b-40f8-8c64-b50000e4f76e",
   "metadata": {},
   "outputs": [
    {
     "data": {
      "text/plain": [
       "0.04271679713311516"
      ]
     },
     "execution_count": 193,
     "metadata": {},
     "output_type": "execute_result"
    }
   ],
   "source": [
    "# rf_model.score(X_test, y_test)"
   ]
  },
  {
   "cell_type": "markdown",
   "id": "c60383dc-5a40-44ee-97fb-c4e273a1082b",
   "metadata": {},
   "source": [
    "# ALGO TRADING FOR INDIVIDUAL SECURITY"
   ]
  },
  {
   "cell_type": "code",
   "execution_count": 238,
   "id": "90cdbccd-8efd-4f18-8489-c76bc4f5c039",
   "metadata": {},
   "outputs": [
    {
     "name": "stdout",
     "output_type": "stream",
     "text": [
      "[*********************100%***********************]  1 of 1 completed\n"
     ]
    },
    {
     "data": {
      "text/html": [
       "<div>\n",
       "<style scoped>\n",
       "    .dataframe tbody tr th:only-of-type {\n",
       "        vertical-align: middle;\n",
       "    }\n",
       "\n",
       "    .dataframe tbody tr th {\n",
       "        vertical-align: top;\n",
       "    }\n",
       "\n",
       "    .dataframe thead th {\n",
       "        text-align: right;\n",
       "    }\n",
       "</style>\n",
       "<table border=\"1\" class=\"dataframe\">\n",
       "  <thead>\n",
       "    <tr style=\"text-align: right;\">\n",
       "      <th></th>\n",
       "      <th>Open</th>\n",
       "      <th>High</th>\n",
       "      <th>Low</th>\n",
       "      <th>Close</th>\n",
       "      <th>Adj Close</th>\n",
       "      <th>Volume</th>\n",
       "    </tr>\n",
       "    <tr>\n",
       "      <th>Date</th>\n",
       "      <th></th>\n",
       "      <th></th>\n",
       "      <th></th>\n",
       "      <th></th>\n",
       "      <th></th>\n",
       "      <th></th>\n",
       "    </tr>\n",
       "  </thead>\n",
       "  <tbody>\n",
       "    <tr>\n",
       "      <th>2021-09-13</th>\n",
       "      <td>46057.214844</td>\n",
       "      <td>46598.679688</td>\n",
       "      <td>43591.320312</td>\n",
       "      <td>44963.074219</td>\n",
       "      <td>44963.074219</td>\n",
       "      <td>40969943253</td>\n",
       "    </tr>\n",
       "    <tr>\n",
       "      <th>2021-09-14</th>\n",
       "      <td>44960.050781</td>\n",
       "      <td>47218.125000</td>\n",
       "      <td>44752.332031</td>\n",
       "      <td>47092.492188</td>\n",
       "      <td>47092.492188</td>\n",
       "      <td>38652152880</td>\n",
       "    </tr>\n",
       "    <tr>\n",
       "      <th>2021-09-15</th>\n",
       "      <td>47098.000000</td>\n",
       "      <td>48450.468750</td>\n",
       "      <td>46773.328125</td>\n",
       "      <td>48176.347656</td>\n",
       "      <td>48176.347656</td>\n",
       "      <td>30484496466</td>\n",
       "    </tr>\n",
       "    <tr>\n",
       "      <th>2021-09-16</th>\n",
       "      <td>48158.906250</td>\n",
       "      <td>48486.828125</td>\n",
       "      <td>47079.558594</td>\n",
       "      <td>47783.359375</td>\n",
       "      <td>47783.359375</td>\n",
       "      <td>31764293754</td>\n",
       "    </tr>\n",
       "    <tr>\n",
       "      <th>2021-09-17</th>\n",
       "      <td>47771.003906</td>\n",
       "      <td>48160.921875</td>\n",
       "      <td>46832.523438</td>\n",
       "      <td>47267.519531</td>\n",
       "      <td>47267.519531</td>\n",
       "      <td>28727713711</td>\n",
       "    </tr>\n",
       "  </tbody>\n",
       "</table>\n",
       "</div>"
      ],
      "text/plain": [
       "                    Open          High           Low         Close  \\\n",
       "Date                                                                 \n",
       "2021-09-13  46057.214844  46598.679688  43591.320312  44963.074219   \n",
       "2021-09-14  44960.050781  47218.125000  44752.332031  47092.492188   \n",
       "2021-09-15  47098.000000  48450.468750  46773.328125  48176.347656   \n",
       "2021-09-16  48158.906250  48486.828125  47079.558594  47783.359375   \n",
       "2021-09-17  47771.003906  48160.921875  46832.523438  47267.519531   \n",
       "\n",
       "               Adj Close       Volume  \n",
       "Date                                   \n",
       "2021-09-13  44963.074219  40969943253  \n",
       "2021-09-14  47092.492188  38652152880  \n",
       "2021-09-15  48176.347656  30484496466  \n",
       "2021-09-16  47783.359375  31764293754  \n",
       "2021-09-17  47267.519531  28727713711  "
      ]
     },
     "execution_count": 238,
     "metadata": {},
     "output_type": "execute_result"
    }
   ],
   "source": [
    "# Create a new clean copy of the signals_df DataFrame\n",
    "bb_signals_df = yf.download(tickers='BTC-USD', period = '90d', interval = '1d')\n",
    "\n",
    "# Review the DataFrame\n",
    "bb_signals_df.head()"
   ]
  },
  {
   "cell_type": "code",
   "execution_count": 243,
   "id": "157429e3-c03a-433d-b170-372819e6a645",
   "metadata": {},
   "outputs": [],
   "source": [
    "def bollBands(ticker):\n",
    "    # Create a new clean copy of the signals_df DataFrame\n",
    "    bb_signals_df = yf.download(tickers = ticker, period = '90d', interval = '1d')\n",
    "    \n",
    "    # Determine the Bollinger Bands for the Dataset\n",
    "    bbands_df = TA.BBANDS(bb_signals_df)\n",
    "    \n",
    "    # Concatenate the Bollinger Bands to the DataFrame\n",
    "    bb_signals_df = pd.concat([bb_signals_df, bbands_df], axis=1)\n",
    "    \n",
    "    # Visualize close price for the investment\n",
    "    security_close = bb_signals_df[[\"Close\"]].hvplot(\n",
    "        line_color='lightgray',\n",
    "        ylabel='Price in $',\n",
    "        width=1000,\n",
    "        height=400\n",
    "    )\n",
    "\n",
    "    bb_upper = bb_signals_df[[\"BB_UPPER\"]].hvplot(\n",
    "        line_color='purple',\n",
    "        ylabel='Price in $',\n",
    "        width=1000,\n",
    "        height=400\n",
    "    )\n",
    "\n",
    "\n",
    "    bb_middle = bb_signals_df[[\"BB_MIDDLE\"]].hvplot(\n",
    "        line_color='orange',\n",
    "        ylabel='Price in $',\n",
    "        width=1000,\n",
    "        height=400\n",
    "    )\n",
    "\n",
    "    bb_lower = bb_signals_df[[\"BB_LOWER\"]].hvplot(\n",
    "        line_color='blue',\n",
    "        ylabel='Price in $',\n",
    "        width=1000,\n",
    "        height=400\n",
    "    )\n",
    "\n",
    "    # Overlay plots\n",
    "    bbands_plot = security_close * bb_upper * bb_middle * bb_lower\n",
    "    return bbands_plot"
   ]
  },
  {
   "cell_type": "code",
   "execution_count": 245,
   "id": "0c431524-554d-4627-a8ef-fa38d1f26466",
   "metadata": {},
   "outputs": [
    {
     "name": "stdout",
     "output_type": "stream",
     "text": [
      "[*********************100%***********************]  1 of 1 completed\n"
     ]
    },
    {
     "data": {},
     "metadata": {},
     "output_type": "display_data"
    },
    {
     "data": {
      "application/vnd.holoviews_exec.v0+json": "",
      "text/html": [
       "<div id='6948'>\n",
       "\n",
       "\n",
       "\n",
       "\n",
       "\n",
       "  <div class=\"bk-root\" id=\"c9d1d12e-d95d-41f1-bfa5-33c58d259df2\" data-root-id=\"6948\"></div>\n",
       "</div>\n",
       "<script type=\"application/javascript\">(function(root) {\n",
       "  function embed_document(root) {\n",
       "    var docs_json = {\"96683293-a61d-4a8b-8dee-d257e14f5d8b\":{\"defs\":[{\"extends\":null,\"module\":null,\"name\":\"ReactiveHTML1\",\"overrides\":[],\"properties\":[]},{\"extends\":null,\"module\":null,\"name\":\"FlexBox1\",\"overrides\":[],\"properties\":[{\"default\":\"flex-start\",\"kind\":null,\"name\":\"align_content\"},{\"default\":\"flex-start\",\"kind\":null,\"name\":\"align_items\"},{\"default\":\"row\",\"kind\":null,\"name\":\"flex_direction\"},{\"default\":\"wrap\",\"kind\":null,\"name\":\"flex_wrap\"},{\"default\":\"flex-start\",\"kind\":null,\"name\":\"justify_content\"}]},{\"extends\":null,\"module\":null,\"name\":\"TemplateActions1\",\"overrides\":[],\"properties\":[{\"default\":0,\"kind\":null,\"name\":\"open_modal\"},{\"default\":0,\"kind\":null,\"name\":\"close_modal\"}]},{\"extends\":null,\"module\":null,\"name\":\"MaterialTemplateActions1\",\"overrides\":[],\"properties\":[{\"default\":0,\"kind\":null,\"name\":\"open_modal\"},{\"default\":0,\"kind\":null,\"name\":\"close_modal\"}]}],\"roots\":{\"references\":[{\"attributes\":{\"below\":[{\"id\":\"6965\"}],\"center\":[{\"id\":\"6968\"},{\"id\":\"6972\"}],\"height\":400,\"left\":[{\"id\":\"6969\"}],\"margin\":[5,5,5,5],\"min_border_bottom\":10,\"min_border_left\":10,\"min_border_right\":10,\"min_border_top\":10,\"renderers\":[{\"id\":\"7001\"},{\"id\":\"7010\"},{\"id\":\"7019\"},{\"id\":\"7028\"}],\"sizing_mode\":\"fixed\",\"title\":{\"id\":\"6957\"},\"toolbar\":{\"id\":\"6979\"},\"width\":1000,\"x_range\":{\"id\":\"6950\"},\"x_scale\":{\"id\":\"6961\"},\"y_range\":{\"id\":\"6951\"},\"y_scale\":{\"id\":\"6963\"}},\"id\":\"6956\",\"subtype\":\"Figure\",\"type\":\"Plot\"},{\"attributes\":{\"axis\":{\"id\":\"6969\"},\"coordinates\":null,\"dimension\":1,\"grid_line_color\":null,\"group\":null,\"ticker\":null},\"id\":\"6972\",\"type\":\"Grid\"},{\"attributes\":{},\"id\":\"6991\",\"type\":\"AllLabels\"},{\"attributes\":{\"line_color\":\"purple\",\"line_width\":2,\"x\":{\"field\":\"Date\"},\"y\":{\"field\":\"BB_UPPER\"}},\"id\":\"7012\",\"type\":\"Line\"},{\"attributes\":{\"bottom_units\":\"screen\",\"coordinates\":null,\"fill_alpha\":0.5,\"fill_color\":\"lightgrey\",\"group\":null,\"left_units\":\"screen\",\"level\":\"overlay\",\"line_alpha\":1.0,\"line_color\":\"black\",\"line_dash\":[4,4],\"line_width\":2,\"right_units\":\"screen\",\"syncable\":false,\"top_units\":\"screen\"},\"id\":\"6978\",\"type\":\"BoxAnnotation\"},{\"attributes\":{},\"id\":\"6975\",\"type\":\"WheelZoomTool\"},{\"attributes\":{\"source\":{\"id\":\"6995\"}},\"id\":\"7002\",\"type\":\"CDSView\"},{\"attributes\":{},\"id\":\"6990\",\"type\":\"DatetimeTickFormatter\"},{\"attributes\":{\"line_alpha\":0.1,\"line_color\":\"lightgray\",\"line_width\":2,\"x\":{\"field\":\"Date\"},\"y\":{\"field\":\"Close\"}},\"id\":\"6999\",\"type\":\"Line\"},{\"attributes\":{\"coordinates\":null,\"data_source\":{\"id\":\"6995\"},\"glyph\":{\"id\":\"6998\"},\"group\":null,\"hover_glyph\":null,\"muted_glyph\":{\"id\":\"7000\"},\"nonselection_glyph\":{\"id\":\"6999\"},\"selection_glyph\":{\"id\":\"7003\"},\"view\":{\"id\":\"7002\"}},\"id\":\"7001\",\"type\":\"GlyphRenderer\"},{\"attributes\":{\"line_alpha\":0.2,\"line_color\":\"orange\",\"line_width\":2,\"x\":{\"field\":\"Date\"},\"y\":{\"field\":\"BB_MIDDLE\"}},\"id\":\"7018\",\"type\":\"Line\"},{\"attributes\":{\"days\":[1,8,15,22]},\"id\":\"7052\",\"type\":\"DaysTicker\"},{\"attributes\":{\"mantissas\":[1,2,5],\"max_interval\":500.0,\"num_minor_ticks\":0},\"id\":\"7047\",\"type\":\"AdaptiveTicker\"},{\"attributes\":{\"overlay\":{\"id\":\"6978\"}},\"id\":\"6976\",\"type\":\"BoxZoomTool\"},{\"attributes\":{\"coordinates\":null,\"data_source\":{\"id\":\"7013\"},\"glyph\":{\"id\":\"7016\"},\"group\":null,\"hover_glyph\":null,\"muted_glyph\":{\"id\":\"7018\"},\"nonselection_glyph\":{\"id\":\"7017\"},\"selection_glyph\":{\"id\":\"7021\"},\"view\":{\"id\":\"7020\"}},\"id\":\"7019\",\"type\":\"GlyphRenderer\"},{\"attributes\":{\"axis_label\":\"Date\",\"coordinates\":null,\"formatter\":{\"id\":\"6990\"},\"group\":null,\"major_label_policy\":{\"id\":\"6991\"},\"ticker\":{\"id\":\"6966\"}},\"id\":\"6965\",\"type\":\"DatetimeAxis\"},{\"attributes\":{\"margin\":[5,5,5,5],\"name\":\"HSpacer09135\",\"sizing_mode\":\"stretch_width\"},\"id\":\"6949\",\"type\":\"Spacer\"},{\"attributes\":{},\"id\":\"7058\",\"type\":\"YearsTicker\"},{\"attributes\":{\"line_color\":\"lightgray\",\"line_width\":2,\"x\":{\"field\":\"Date\"},\"y\":{\"field\":\"Close\"}},\"id\":\"7003\",\"type\":\"Line\"},{\"attributes\":{\"axis_label\":\"Price in $\",\"coordinates\":null,\"formatter\":{\"id\":\"6993\"},\"group\":null,\"major_label_policy\":{\"id\":\"6994\"},\"ticker\":{\"id\":\"6970\"}},\"id\":\"6969\",\"type\":\"LinearAxis\"},{\"attributes\":{\"children\":[{\"id\":\"6949\"},{\"id\":\"6956\"},{\"id\":\"7283\"}],\"margin\":[0,0,0,0],\"name\":\"Row09131\",\"tags\":[\"embedded\"]},\"id\":\"6948\",\"type\":\"Row\"},{\"attributes\":{},\"id\":\"6961\",\"type\":\"LinearScale\"},{\"attributes\":{\"line_alpha\":0.2,\"line_color\":\"blue\",\"line_width\":2,\"x\":{\"field\":\"Date\"},\"y\":{\"field\":\"BB_LOWER\"}},\"id\":\"7027\",\"type\":\"Line\"},{\"attributes\":{\"months\":[0,2,4,6,8,10]},\"id\":\"7055\",\"type\":\"MonthsTicker\"},{\"attributes\":{},\"id\":\"7005\",\"type\":\"Selection\"},{\"attributes\":{\"coordinates\":null,\"data_source\":{\"id\":\"7022\"},\"glyph\":{\"id\":\"7025\"},\"group\":null,\"hover_glyph\":null,\"muted_glyph\":{\"id\":\"7027\"},\"nonselection_glyph\":{\"id\":\"7026\"},\"selection_glyph\":{\"id\":\"7030\"},\"view\":{\"id\":\"7029\"}},\"id\":\"7028\",\"type\":\"GlyphRenderer\"},{\"attributes\":{\"months\":[0,4,8]},\"id\":\"7056\",\"type\":\"MonthsTicker\"},{\"attributes\":{\"days\":[1,2,3,4,5,6,7,8,9,10,11,12,13,14,15,16,17,18,19,20,21,22,23,24,25,26,27,28,29,30,31]},\"id\":\"7050\",\"type\":\"DaysTicker\"},{\"attributes\":{\"margin\":[5,5,5,5],\"name\":\"HSpacer09136\",\"sizing_mode\":\"stretch_width\"},\"id\":\"7283\",\"type\":\"Spacer\"},{\"attributes\":{\"source\":{\"id\":\"7013\"}},\"id\":\"7020\",\"type\":\"CDSView\"},{\"attributes\":{},\"id\":\"7044\",\"type\":\"UnionRenderers\"},{\"attributes\":{\"line_color\":\"blue\",\"line_width\":2,\"x\":{\"field\":\"Date\"},\"y\":{\"field\":\"BB_LOWER\"}},\"id\":\"7030\",\"type\":\"Line\"},{\"attributes\":{\"source\":{\"id\":\"7022\"}},\"id\":\"7029\",\"type\":\"CDSView\"},{\"attributes\":{},\"id\":\"6996\",\"type\":\"Selection\"},{\"attributes\":{\"data\":{\"BB_LOWER\":{\"__ndarray__\":\"AAAAAAAA+H8AAAAAAAD4fwAAAAAAAPh/AAAAAAAA+H8AAAAAAAD4fwAAAAAAAPh/AAAAAAAA+H8AAAAAAAD4fwAAAAAAAPh/AAAAAAAA+H8AAAAAAAD4fwAAAAAAAPh/AAAAAAAA+H8AAAAAAAD4fwAAAAAAAPh/AAAAAAAA+H8AAAAAAAD4fwAAAAAAAPh/AAAAAAAA+H83IDc2gNyEQA2WujGN1oRA5o2uzQ7YhECZl65t5MOEQCTedCkstoRACuce9zauhEC9RegevK2EQL3KkTg0rYRAO55hyDnKhEA0CpLFUw+FQNdT+oDUMYVA6rTfSvt9hUBORcyqE8yFQC8KxgLy7IVAJV588vQNhkDr9gosBi+GQNmrWqbjX4ZAyQUxd5lnhkDt6Fwne26GQHxso5BLcYZAY3eG4BmAhkBLl7pN1pWGQG+WBsXBqoZATj77Cv2shkD+Tvoyaq+GQKrEmLDjq4ZAdSYoqpPJhkB3dXvWLN6GQEYdj1u56oZAWscZNxLqhkD4ba4lFOiGQHQR4DilzIZAdHq6imPIhkA8dyU8RtqGQAzfpPQw6YZAuckdhmjihkAQOEirB8OGQNcX73uC3oVAVuY0XsR/hUBBxuNLxTmFQBTSJeyv+IRARS8eHtXAhEAMoJopVTuEQJj/zBOoP4RAhy20/StMhEBnCUuMYnaEQMrn1fjK6oRAlbTIlWqphUB5Kv7MlXaGQChyB+iVXIdAUkMbi2NQiEDuRLpyZiaJQHGjWiwP04lAsq0+joS2ikDOqvxqN8WLQEF7fssrwYxAdKfZLaXMjUChijd0rRiOQMMj4SkwcI5Abv/hTN20jkAu7svjKrmOQFz94ZF4wI5AJoSJCLDWjkDN8r78Q8uOQN+GrD+x3o5AZwWNV0bOjkBq4fuMutGOQHBrYqKP145AVNAr5oAGj0Co/C+qPbmOQPdP3QQEiY5A\",\"dtype\":\"float64\",\"order\":\"little\",\"shape\":[90]},\"Date\":{\"__ndarray__\":\"AAAAwTmxd0IAAMAmjLF3QgAAAFiDsndCAADAvdWyd0IAAIAjKLN3QgAAQIl6s3dCAAAA78yzd0IAAEAgxLR3QgAAAIYWtXdCAADA62i1d0IAAIBRu7V3QgAAQLcNtndCAACA6AS3d0IAAEBOV7d3QgAAALSpt3dCAADAGfy3d0IAAIB/Trh3QgAAwLBFuXdCAACAFpi5d0IAAEB86rl3QgAAAOI8undCAADAR4+6d0IAAMDe2Lt3QgAAgEQrvHdCAABAqn28d0IAAAAQ0Lx3QgAAQEHHvXdCAAAApxm+d0IAAMAMbL53QgAAgHK+vndCAABA2BC/d0IAAIAJCMB3QgAAQG9awHdCAAAA1azAd0IAAMA6/8B3QgAAgKBRwXdCAADA0UjCd0IAAIA3m8J3QgAAQJ3twndCAAAAA0DDd0IAAMBoksN3QgAAAJqJxHdCAADA/9vEd0IAAIBlLsV3QgAAQMuAxXdCAAAAMdPFd0IAAEBiysZ3QgAAAMgcx3dCAADALW/Hd0IAAICTwcd3QgAAQPkTyHdCAACAKgvJd0IAAECQXcl3QgAAAPavyXdCAADAWwLKd0IAAIDBVMp3QgAAwPJLy3dCAACAWJ7Ld0IAAEC+8Mt3QgAAACRDzHdCAADAiZXMd0IAAAC7jM13QgAAwCDfzXdCAACAhjHOd0IAAEDsg853QgAAAFLWzndCAABAg83Pd0IAAADpH9B3QgAAwE5y0HdCAACAtMTQd0IAAEAaF9F3QgAAgEsO0ndCAABAsWDSd0IAAAAXs9J3QgAAwHwF03dCAACA4lfTd0IAAMATT9R3QgAAgHmh1HdCAABA3/PUd0IAAMCqmNV3QgAAANyP1ndCAADAQeLWd0IAAICnNNd3QgAAQA2H13dCAAAAc9nXd0IAAECk0Nh3QgAAAAoj2XdCAADAb3XZd0IAAIDVx9l3QgAAQDsa2ndC\",\"dtype\":\"float64\",\"order\":\"little\",\"shape\":[90]}},\"selected\":{\"id\":\"7023\"},\"selection_policy\":{\"id\":\"7044\"}},\"id\":\"7022\",\"type\":\"ColumnDataSource\"},{\"attributes\":{\"line_color\":\"orange\",\"line_width\":2,\"x\":{\"field\":\"Date\"},\"y\":{\"field\":\"BB_MIDDLE\"}},\"id\":\"7016\",\"type\":\"Line\"},{\"attributes\":{\"callback\":null,\"formatters\":{\"@{Date}\":\"datetime\"},\"renderers\":[{\"id\":\"7028\"}],\"tags\":[\"hv_created\"],\"tooltips\":[[\"Date\",\"@{Date}{%F %T}\"],[\"BB_LOWER\",\"@{BB_LOWER}\"]]},\"id\":\"6955\",\"type\":\"HoverTool\"},{\"attributes\":{\"line_alpha\":0.1,\"line_color\":\"orange\",\"line_width\":2,\"x\":{\"field\":\"Date\"},\"y\":{\"field\":\"BB_MIDDLE\"}},\"id\":\"7017\",\"type\":\"Line\"},{\"attributes\":{\"data\":{\"BB_MIDDLE\":{\"__ndarray__\":\"AAAAAAAA+H8AAAAAAAD4fwAAAAAAAPh/AAAAAAAA+H8AAAAAAAD4fwAAAAAAAPh/AAAAAAAA+H8AAAAAAAD4fwAAAAAAAPh/AAAAAAAA+H8AAAAAAAD4fwAAAAAAAPh/AAAAAAAA+H8AAAAAAAD4fwAAAAAAAPh/AAAAAAAA+H8AAAAAAAD4fwAAAAAAAPh/AAAAAAAA+H+amZnZpA+GQJqZmXm/FoZAzczMNIkkhkAAAAAwMzSGQAAAAIDARYZAzczMZJFYhkAzMzMLLV6GQJqZmQmCaIZAmpmZAdZ/hkAzMzNL4qOGQGZmZn4Vv4ZAmpmZ8X3hhkCamZm5dPWGQGZmZh6wAodAZmZmZhEUh0CamZlBCyWHQDMzMwNWQodAMzMzqxxih0CamZmhxXSHQM3MzAwCh4dAmpmZYZCXh0AzMzMrsqiHQGZmZkbhu4dAAAAAsPLGh0AAAAAAgNKHQAAAAAAA4odAAAAAILD1h0DNzMyUQwmIQAAAAIjBIYhAmpmZIds3iEAzMzNTY1CIQDMzM9PNcYhAZmZmrsepiEAzMzNrvNuIQGZmZq5HCYlAMzMzi2xBiUDNzMw8ineJQDMzM6Pw1IlAmpmZuUk1ikCamZlx6JuKQJqZmTGIFItAzczMRAuci0DNzMw03kaMQGZmZpZu44xAAAAAQOCPjUAAAABgZT6OQGZmZjYJ7Y5AMzMzm2+Bj0AAAABIjNiPQJqZmeGlH5BAAAAAnK9QkEAAAACUw3aQQAAAAIRrk5BAzczMEIO5kEAzMzNrJ+aQQGZmZkahDpFAZmZmIhs8kUAAAAAMglaRQM3MzMSgaJFAmpmZiUF4kUDNzMxkO3mRQDMzM3vUfZFAMzMzYxBxkUDNzMz8qWGRQAAAAODPR5FAmpmZ8dIckUAAAABANfKQQDMzM1P425BAAAAA4A/lkECamZllO9iQQDMzM5/vzpBA\",\"dtype\":\"float64\",\"order\":\"little\",\"shape\":[90]},\"Date\":{\"__ndarray__\":\"AAAAwTmxd0IAAMAmjLF3QgAAAFiDsndCAADAvdWyd0IAAIAjKLN3QgAAQIl6s3dCAAAA78yzd0IAAEAgxLR3QgAAAIYWtXdCAADA62i1d0IAAIBRu7V3QgAAQLcNtndCAACA6AS3d0IAAEBOV7d3QgAAALSpt3dCAADAGfy3d0IAAIB/Trh3QgAAwLBFuXdCAACAFpi5d0IAAEB86rl3QgAAAOI8undCAADAR4+6d0IAAMDe2Lt3QgAAgEQrvHdCAABAqn28d0IAAAAQ0Lx3QgAAQEHHvXdCAAAApxm+d0IAAMAMbL53QgAAgHK+vndCAABA2BC/d0IAAIAJCMB3QgAAQG9awHdCAAAA1azAd0IAAMA6/8B3QgAAgKBRwXdCAADA0UjCd0IAAIA3m8J3QgAAQJ3twndCAAAAA0DDd0IAAMBoksN3QgAAAJqJxHdCAADA/9vEd0IAAIBlLsV3QgAAQMuAxXdCAAAAMdPFd0IAAEBiysZ3QgAAAMgcx3dCAADALW/Hd0IAAICTwcd3QgAAQPkTyHdCAACAKgvJd0IAAECQXcl3QgAAAPavyXdCAADAWwLKd0IAAIDBVMp3QgAAwPJLy3dCAACAWJ7Ld0IAAEC+8Mt3QgAAACRDzHdCAADAiZXMd0IAAAC7jM13QgAAwCDfzXdCAACAhjHOd0IAAEDsg853QgAAAFLWzndCAABAg83Pd0IAAADpH9B3QgAAwE5y0HdCAACAtMTQd0IAAEAaF9F3QgAAgEsO0ndCAABAsWDSd0IAAAAXs9J3QgAAwHwF03dCAACA4lfTd0IAAMATT9R3QgAAgHmh1HdCAABA3/PUd0IAAMCqmNV3QgAAANyP1ndCAADAQeLWd0IAAICnNNd3QgAAQA2H13dCAAAAc9nXd0IAAECk0Nh3QgAAAAoj2XdCAADAb3XZd0IAAIDVx9l3QgAAQDsa2ndC\",\"dtype\":\"float64\",\"order\":\"little\",\"shape\":[90]}},\"selected\":{\"id\":\"7014\"},\"selection_policy\":{\"id\":\"7042\"}},\"id\":\"7013\",\"type\":\"ColumnDataSource\"},{\"attributes\":{\"line_color\":\"orange\",\"line_width\":2,\"x\":{\"field\":\"Date\"},\"y\":{\"field\":\"BB_MIDDLE\"}},\"id\":\"7021\",\"type\":\"Line\"},{\"attributes\":{\"callback\":null,\"formatters\":{\"@{Date}\":\"datetime\"},\"renderers\":[{\"id\":\"7001\"}],\"tags\":[\"hv_created\"],\"tooltips\":[[\"Date\",\"@{Date}{%F %T}\"],[\"Close\",\"@{Close}\"]]},\"id\":\"6952\",\"type\":\"HoverTool\"},{\"attributes\":{\"coordinates\":null,\"group\":null,\"text_color\":\"black\",\"text_font_size\":\"12pt\"},\"id\":\"6957\",\"type\":\"Title\"},{\"attributes\":{},\"id\":\"7040\",\"type\":\"UnionRenderers\"},{\"attributes\":{\"base\":60,\"mantissas\":[1,2,5,10,15,20,30],\"max_interval\":1800000.0,\"min_interval\":1000.0,\"num_minor_ticks\":0},\"id\":\"7048\",\"type\":\"AdaptiveTicker\"},{\"attributes\":{},\"id\":\"6993\",\"type\":\"BasicTickFormatter\"},{\"attributes\":{},\"id\":\"6994\",\"type\":\"AllLabels\"},{\"attributes\":{\"end\":1390.7584833473081,\"reset_end\":1390.7584833473081,\"reset_start\":579.8400468879807,\"start\":579.8400468879807,\"tags\":[[[\"Close\",\"Close\",null]]]},\"id\":\"6951\",\"type\":\"Range1d\"},{\"attributes\":{\"line_color\":\"purple\",\"line_width\":2,\"x\":{\"field\":\"Date\"},\"y\":{\"field\":\"BB_UPPER\"}},\"id\":\"7007\",\"type\":\"Line\"},{\"attributes\":{},\"id\":\"6973\",\"type\":\"SaveTool\"},{\"attributes\":{},\"id\":\"6974\",\"type\":\"PanTool\"},{\"attributes\":{\"line_color\":\"lightgray\",\"line_width\":2,\"x\":{\"field\":\"Date\"},\"y\":{\"field\":\"Close\"}},\"id\":\"6998\",\"type\":\"Line\"},{\"attributes\":{\"base\":24,\"mantissas\":[1,2,4,6,8,12],\"max_interval\":43200000.0,\"min_interval\":3600000.0,\"num_minor_ticks\":0},\"id\":\"7049\",\"type\":\"AdaptiveTicker\"},{\"attributes\":{},\"id\":\"6963\",\"type\":\"LinearScale\"},{\"attributes\":{\"data\":{\"BB_UPPER\":{\"__ndarray__\":\"AAAAAAAA+H8AAAAAAAD4fwAAAAAAAPh/AAAAAAAA+H8AAAAAAAD4fwAAAAAAAPh/AAAAAAAA+H8AAAAAAAD4fwAAAAAAAPh/AAAAAAAA+H8AAAAAAAD4fwAAAAAAAPh/AAAAAAAA+H8AAAAAAAD4fwAAAAAAAPh/AAAAAAAA+H8AAAAAAAD4fwAAAAAAAPh/AAAAAAAA+H/9Evx8yUKHQCedeMHxVodAtAvrmwNxh0BnaFHygaSHQNwhi9ZU1YdAkLJ60usCiECpIH73nQ6IQHdoodrPI4hA+ZTROnI1iEAyXNTQcDiIQPV40ntWTIhASn5TmABFiEDm7WbI1R6IQJ3CBjpuGIhAp25Q2i0aiEBJPChXEBuIQI26C2DIJIhAnWA1359ciEBHStYbEHuIQB4t9oi4nIhA0bus4gaviEAbz6sIjruIQF02xscAzYhAssEEVejgiEACsQXNlfWIQFY7Z08cGIlAi9nXlcwhiUAjJB5TWjSJQLricLTJWIlA2msZDKSFiUBu+LeAsriJQPJUhm32FopAWFIS0iuLikAq70CaMt2KQMDtJ2heKYtArZxIkHCgi0CKYVHODCyMQI9Od8pey41A3kz+FM/qjkDzbE+XC/6PQJCwhjswmJBAK7W9taA7kUDHfP+fMymSQJrmf4yaw5JAPOklQcppk0BMe9oZNAOUQIFy+7mjd5RA6NhOULqslEDE6oBhQZ2UQCB6L88AkZRAV15yci15lECJ3aLuU1qUQEeu0nFPPZRAwUJ62sMXlED/EOggs+mTQCuPDaesvJNAEvnfreORk0CwOuRdraCTQLgHqXQpmZNAfTPCbBSWk0CDorNX4ZWTQLhnda1sm5NAU6Qhwsh2k0AzIDr7sV2TQJG8KSBHIJNAgbBst4LSkkBLD4I5jXuSQK4wNdUoTJJA1hfqTN9GkkDgNBv211OSQGu+9ztdWZJA\",\"dtype\":\"float64\",\"order\":\"little\",\"shape\":[90]},\"Date\":{\"__ndarray__\":\"AAAAwTmxd0IAAMAmjLF3QgAAAFiDsndCAADAvdWyd0IAAIAjKLN3QgAAQIl6s3dCAAAA78yzd0IAAEAgxLR3QgAAAIYWtXdCAADA62i1d0IAAIBRu7V3QgAAQLcNtndCAACA6AS3d0IAAEBOV7d3QgAAALSpt3dCAADAGfy3d0IAAIB/Trh3QgAAwLBFuXdCAACAFpi5d0IAAEB86rl3QgAAAOI8undCAADAR4+6d0IAAMDe2Lt3QgAAgEQrvHdCAABAqn28d0IAAAAQ0Lx3QgAAQEHHvXdCAAAApxm+d0IAAMAMbL53QgAAgHK+vndCAABA2BC/d0IAAIAJCMB3QgAAQG9awHdCAAAA1azAd0IAAMA6/8B3QgAAgKBRwXdCAADA0UjCd0IAAIA3m8J3QgAAQJ3twndCAAAAA0DDd0IAAMBoksN3QgAAAJqJxHdCAADA/9vEd0IAAIBlLsV3QgAAQMuAxXdCAAAAMdPFd0IAAEBiysZ3QgAAAMgcx3dCAADALW/Hd0IAAICTwcd3QgAAQPkTyHdCAACAKgvJd0IAAECQXcl3QgAAAPavyXdCAADAWwLKd0IAAIDBVMp3QgAAwPJLy3dCAACAWJ7Ld0IAAEC+8Mt3QgAAACRDzHdCAADAiZXMd0IAAAC7jM13QgAAwCDfzXdCAACAhjHOd0IAAEDsg853QgAAAFLWzndCAABAg83Pd0IAAADpH9B3QgAAwE5y0HdCAACAtMTQd0IAAEAaF9F3QgAAgEsO0ndCAABAsWDSd0IAAAAXs9J3QgAAwHwF03dCAACA4lfTd0IAAMATT9R3QgAAgHmh1HdCAABA3/PUd0IAAMCqmNV3QgAAANyP1ndCAADAQeLWd0IAAICnNNd3QgAAQA2H13dCAAAAc9nXd0IAAECk0Nh3QgAAAAoj2XdCAADAb3XZd0IAAIDVx9l3QgAAQDsa2ndC\",\"dtype\":\"float64\",\"order\":\"little\",\"shape\":[90]}},\"selected\":{\"id\":\"7005\"},\"selection_policy\":{\"id\":\"7040\"}},\"id\":\"7004\",\"type\":\"ColumnDataSource\"},{\"attributes\":{\"months\":[0,1,2,3,4,5,6,7,8,9,10,11]},\"id\":\"7054\",\"type\":\"MonthsTicker\"},{\"attributes\":{\"axis\":{\"id\":\"6965\"},\"coordinates\":null,\"grid_line_color\":null,\"group\":null,\"ticker\":null},\"id\":\"6968\",\"type\":\"Grid\"},{\"attributes\":{\"days\":[1,15]},\"id\":\"7053\",\"type\":\"DaysTicker\"},{\"attributes\":{\"source\":{\"id\":\"7004\"}},\"id\":\"7011\",\"type\":\"CDSView\"},{\"attributes\":{\"callback\":null,\"formatters\":{\"@{Date}\":\"datetime\"},\"renderers\":[{\"id\":\"7010\"}],\"tags\":[\"hv_created\"],\"tooltips\":[[\"Date\",\"@{Date}{%F %T}\"],[\"BB_UPPER\",\"@{BB_UPPER}\"]]},\"id\":\"6953\",\"type\":\"HoverTool\"},{\"attributes\":{\"line_alpha\":0.2,\"line_color\":\"purple\",\"line_width\":2,\"x\":{\"field\":\"Date\"},\"y\":{\"field\":\"BB_UPPER\"}},\"id\":\"7009\",\"type\":\"Line\"},{\"attributes\":{\"callback\":null,\"formatters\":{\"@{Date}\":\"datetime\"},\"renderers\":[{\"id\":\"7019\"}],\"tags\":[\"hv_created\"],\"tooltips\":[[\"Date\",\"@{Date}{%F %T}\"],[\"BB_MIDDLE\",\"@{BB_MIDDLE}\"]]},\"id\":\"6954\",\"type\":\"HoverTool\"},{\"attributes\":{\"months\":[0,6]},\"id\":\"7057\",\"type\":\"MonthsTicker\"},{\"attributes\":{},\"id\":\"6970\",\"type\":\"BasicTicker\"},{\"attributes\":{\"coordinates\":null,\"data_source\":{\"id\":\"7004\"},\"glyph\":{\"id\":\"7007\"},\"group\":null,\"hover_glyph\":null,\"muted_glyph\":{\"id\":\"7009\"},\"nonselection_glyph\":{\"id\":\"7008\"},\"selection_glyph\":{\"id\":\"7012\"},\"view\":{\"id\":\"7011\"}},\"id\":\"7010\",\"type\":\"GlyphRenderer\"},{\"attributes\":{\"num_minor_ticks\":5,\"tickers\":[{\"id\":\"7047\"},{\"id\":\"7048\"},{\"id\":\"7049\"},{\"id\":\"7050\"},{\"id\":\"7051\"},{\"id\":\"7052\"},{\"id\":\"7053\"},{\"id\":\"7054\"},{\"id\":\"7055\"},{\"id\":\"7056\"},{\"id\":\"7057\"},{\"id\":\"7058\"}]},\"id\":\"6966\",\"type\":\"DatetimeTicker\"},{\"attributes\":{\"days\":[1,4,7,10,13,16,19,22,25,28]},\"id\":\"7051\",\"type\":\"DaysTicker\"},{\"attributes\":{\"line_alpha\":0.2,\"line_color\":\"lightgray\",\"line_width\":2,\"x\":{\"field\":\"Date\"},\"y\":{\"field\":\"Close\"}},\"id\":\"7000\",\"type\":\"Line\"},{\"attributes\":{},\"id\":\"7042\",\"type\":\"UnionRenderers\"},{\"attributes\":{\"line_alpha\":0.1,\"line_color\":\"purple\",\"line_width\":2,\"x\":{\"field\":\"Date\"},\"y\":{\"field\":\"BB_UPPER\"}},\"id\":\"7008\",\"type\":\"Line\"},{\"attributes\":{\"line_color\":\"blue\",\"line_width\":2,\"x\":{\"field\":\"Date\"},\"y\":{\"field\":\"BB_LOWER\"}},\"id\":\"7025\",\"type\":\"Line\"},{\"attributes\":{\"end\":1639094400000.0,\"reset_end\":1639094400000.0,\"reset_start\":1628121600000.0,\"start\":1628121600000.0,\"tags\":[[[\"Date\",\"Date\",null]]]},\"id\":\"6950\",\"type\":\"Range1d\"},{\"attributes\":{},\"id\":\"7014\",\"type\":\"Selection\"},{\"attributes\":{},\"id\":\"6977\",\"type\":\"ResetTool\"},{\"attributes\":{\"tools\":[{\"id\":\"6952\"},{\"id\":\"6953\"},{\"id\":\"6954\"},{\"id\":\"6955\"},{\"id\":\"6973\"},{\"id\":\"6974\"},{\"id\":\"6975\"},{\"id\":\"6976\"},{\"id\":\"6977\"}]},\"id\":\"6979\",\"type\":\"Toolbar\"},{\"attributes\":{},\"id\":\"7023\",\"type\":\"Selection\"},{\"attributes\":{\"data\":{\"Close\":{\"__ndarray__\":\"AAAAQApVhkAAAADAzNiFQAAAAIAUToZAAAAAgOsvhkAAAABgjx6GQAAAAAAAkoZAAAAAIFxphkAAAAAgXHGFQAAAACCuzYRAAAAAgOuHhUAAAACAwguFQAAAAIAUQoVAAAAAYGYShkAAAACA6yOGQAAAAKCZOYZAAAAAoEfphUAAAAAgXD+GQAAAAKBH14ZAAAAAgML9hkAAAABguPCGQAAAAMAe44ZAAAAAYI/shkAAAAAgXIeHQAAAAMD1jodAAAAAQOGWh0AAAAAAKQKHQAAAAAAAOIdAAAAAgOtDh0AAAADgo56HQAAAAIDrp4dAAAAAgOu7h0AAAAAgXNGGQAAAAEAKG4dAAAAAIIV/h0AAAADAHo2HQAAAAMAeM4hAAAAAQOG6iEAAAADgekyIQAAAAOB6aohAAAAAANc7iEAAAACAwjmIQAAAAIA9bIhAAAAAYLhkiEAAAAAAAHaIQAAAAEDhzIhAAAAAgOuLiEAAAAAghb+IQAAAAIDCLYlAAAAA4KNYiUAAAABgj5KJQAAAAIA9WIpAAAAAQOEwi0AAAAAAKQKLQAAAAGBmDotAAAAAAADwi0AAAACgcG2MQAAAAKBwA5BAAAAAoHDTj0AAAACgcDeQQAAAAAAp1JBAAAAAAABokUAAAAAgXOKSQAAAAAAAUJJAAAAAoHD3kkAAAADgozeTQAAAACBcGJNAAAAAgMIrkkAAAAAAAPyPQAAAAMDMr5BAAAAAQAqekEAAAAAgriWQQAAAAMAeq49AAAAAgOt6kEAAAABACgSRQAAAACCFIZFAAAAAgD3EkUAAAADgehOSQAAAAMAeVJFAAAAAAABwkUAAAAAgrueQQAAAAMD1w5FAAAAAQArjkUAAAAAAAByRQAAAAGBm8pBAAAAAgMK3j0AAAACAFIiPQAAAAAAAb5BAAAAAANezkEAAAABgZl6PQAAAAIA9yI9A\",\"dtype\":\"float64\",\"order\":\"little\",\"shape\":[90]},\"Date\":{\"__ndarray__\":\"AAAAwTmxd0IAAMAmjLF3QgAAAFiDsndCAADAvdWyd0IAAIAjKLN3QgAAQIl6s3dCAAAA78yzd0IAAEAgxLR3QgAAAIYWtXdCAADA62i1d0IAAIBRu7V3QgAAQLcNtndCAACA6AS3d0IAAEBOV7d3QgAAALSpt3dCAADAGfy3d0IAAIB/Trh3QgAAwLBFuXdCAACAFpi5d0IAAEB86rl3QgAAAOI8undCAADAR4+6d0IAAMDe2Lt3QgAAgEQrvHdCAABAqn28d0IAAAAQ0Lx3QgAAQEHHvXdCAAAApxm+d0IAAMAMbL53QgAAgHK+vndCAABA2BC/d0IAAIAJCMB3QgAAQG9awHdCAAAA1azAd0IAAMA6/8B3QgAAgKBRwXdCAADA0UjCd0IAAIA3m8J3QgAAQJ3twndCAAAAA0DDd0IAAMBoksN3QgAAAJqJxHdCAADA/9vEd0IAAIBlLsV3QgAAQMuAxXdCAAAAMdPFd0IAAEBiysZ3QgAAAMgcx3dCAADALW/Hd0IAAICTwcd3QgAAQPkTyHdCAACAKgvJd0IAAECQXcl3QgAAAPavyXdCAADAWwLKd0IAAIDBVMp3QgAAwPJLy3dCAACAWJ7Ld0IAAEC+8Mt3QgAAACRDzHdCAADAiZXMd0IAAAC7jM13QgAAwCDfzXdCAACAhjHOd0IAAEDsg853QgAAAFLWzndCAABAg83Pd0IAAADpH9B3QgAAwE5y0HdCAACAtMTQd0IAAEAaF9F3QgAAgEsO0ndCAABAsWDSd0IAAAAXs9J3QgAAwHwF03dCAACA4lfTd0IAAMATT9R3QgAAgHmh1HdCAABA3/PUd0IAAMCqmNV3QgAAANyP1ndCAADAQeLWd0IAAICnNNd3QgAAQA2H13dCAAAAc9nXd0IAAECk0Nh3QgAAAAoj2XdCAADAb3XZd0IAAIDVx9l3QgAAQDsa2ndC\",\"dtype\":\"float64\",\"order\":\"little\",\"shape\":[90]}},\"selected\":{\"id\":\"6996\"},\"selection_policy\":{\"id\":\"7038\"}},\"id\":\"6995\",\"type\":\"ColumnDataSource\"},{\"attributes\":{\"line_alpha\":0.1,\"line_color\":\"blue\",\"line_width\":2,\"x\":{\"field\":\"Date\"},\"y\":{\"field\":\"BB_LOWER\"}},\"id\":\"7026\",\"type\":\"Line\"},{\"attributes\":{},\"id\":\"7038\",\"type\":\"UnionRenderers\"}],\"root_ids\":[\"6948\"]},\"title\":\"Bokeh Application\",\"version\":\"2.4.2\"}};\n",
       "    var render_items = [{\"docid\":\"96683293-a61d-4a8b-8dee-d257e14f5d8b\",\"root_ids\":[\"6948\"],\"roots\":{\"6948\":\"c9d1d12e-d95d-41f1-bfa5-33c58d259df2\"}}];\n",
       "    root.Bokeh.embed.embed_items_notebook(docs_json, render_items);\n",
       "  }\n",
       "  if (root.Bokeh !== undefined && root.Bokeh.Panel !== undefined) {\n",
       "    embed_document(root);\n",
       "  } else {\n",
       "    var attempts = 0;\n",
       "    var timer = setInterval(function(root) {\n",
       "      if (root.Bokeh !== undefined && root.Bokeh.Panel !== undefined) {\n",
       "        clearInterval(timer);\n",
       "        embed_document(root);\n",
       "      } else if (document.readyState == \"complete\") {\n",
       "        attempts++;\n",
       "        if (attempts > 200) {\n",
       "          clearInterval(timer);\n",
       "          console.log(\"Bokeh: ERROR: Unable to run BokehJS code because BokehJS library is missing\");\n",
       "        }\n",
       "      }\n",
       "    }, 25, root)\n",
       "  }\n",
       "})(window);</script>"
      ],
      "text/plain": [
       ":Overlay\n",
       "   .Curve.I   :Curve   [Date]   (Close)\n",
       "   .Curve.II  :Curve   [Date]   (BB_UPPER)\n",
       "   .Curve.III :Curve   [Date]   (BB_MIDDLE)\n",
       "   .Curve.IV  :Curve   [Date]   (BB_LOWER)"
      ]
     },
     "execution_count": 245,
     "metadata": {
      "application/vnd.holoviews_exec.v0+json": {
       "id": "6948"
      }
     },
     "output_type": "execute_result"
    }
   ],
   "source": [
    "bollBands('TSLA')"
   ]
  },
  {
   "cell_type": "code",
   "execution_count": 239,
   "id": "ea490c50-1e2a-429c-9926-a700a90ff73b",
   "metadata": {},
   "outputs": [
    {
     "data": {
      "text/html": [
       "<div>\n",
       "<style scoped>\n",
       "    .dataframe tbody tr th:only-of-type {\n",
       "        vertical-align: middle;\n",
       "    }\n",
       "\n",
       "    .dataframe tbody tr th {\n",
       "        vertical-align: top;\n",
       "    }\n",
       "\n",
       "    .dataframe thead th {\n",
       "        text-align: right;\n",
       "    }\n",
       "</style>\n",
       "<table border=\"1\" class=\"dataframe\">\n",
       "  <thead>\n",
       "    <tr style=\"text-align: right;\">\n",
       "      <th></th>\n",
       "      <th>BB_UPPER</th>\n",
       "      <th>BB_MIDDLE</th>\n",
       "      <th>BB_LOWER</th>\n",
       "    </tr>\n",
       "    <tr>\n",
       "      <th>Date</th>\n",
       "      <th></th>\n",
       "      <th></th>\n",
       "      <th></th>\n",
       "    </tr>\n",
       "  </thead>\n",
       "  <tbody>\n",
       "    <tr>\n",
       "      <th>2021-12-07</th>\n",
       "      <td>61790.367921</td>\n",
       "      <td>55425.315039</td>\n",
       "      <td>49060.262157</td>\n",
       "    </tr>\n",
       "    <tr>\n",
       "      <th>2021-12-08</th>\n",
       "      <td>61788.542231</td>\n",
       "      <td>55103.448047</td>\n",
       "      <td>48418.353863</td>\n",
       "    </tr>\n",
       "    <tr>\n",
       "      <th>2021-12-09</th>\n",
       "      <td>61878.513995</td>\n",
       "      <td>54581.075195</td>\n",
       "      <td>47283.636396</td>\n",
       "    </tr>\n",
       "    <tr>\n",
       "      <th>2021-12-10</th>\n",
       "      <td>61537.620083</td>\n",
       "      <td>53958.380664</td>\n",
       "      <td>46379.141245</td>\n",
       "    </tr>\n",
       "    <tr>\n",
       "      <th>2021-12-11</th>\n",
       "      <td>61016.934283</td>\n",
       "      <td>53467.562500</td>\n",
       "      <td>45918.190717</td>\n",
       "    </tr>\n",
       "  </tbody>\n",
       "</table>\n",
       "</div>"
      ],
      "text/plain": [
       "                BB_UPPER     BB_MIDDLE      BB_LOWER\n",
       "Date                                                \n",
       "2021-12-07  61790.367921  55425.315039  49060.262157\n",
       "2021-12-08  61788.542231  55103.448047  48418.353863\n",
       "2021-12-09  61878.513995  54581.075195  47283.636396\n",
       "2021-12-10  61537.620083  53958.380664  46379.141245\n",
       "2021-12-11  61016.934283  53467.562500  45918.190717"
      ]
     },
     "execution_count": 239,
     "metadata": {},
     "output_type": "execute_result"
    }
   ],
   "source": [
    "# Determine the Bollinger Bands for the Dataset\n",
    "bbands_df = TA.BBANDS(bb_signals_df)\n",
    "\n",
    "# Review the DataFrame\n",
    "bbands_df.tail()"
   ]
  },
  {
   "cell_type": "code",
   "execution_count": 240,
   "id": "3e8110e7-4e9e-4113-aaf8-6b9433ac69b5",
   "metadata": {},
   "outputs": [
    {
     "data": {
      "text/html": [
       "<div>\n",
       "<style scoped>\n",
       "    .dataframe tbody tr th:only-of-type {\n",
       "        vertical-align: middle;\n",
       "    }\n",
       "\n",
       "    .dataframe tbody tr th {\n",
       "        vertical-align: top;\n",
       "    }\n",
       "\n",
       "    .dataframe thead th {\n",
       "        text-align: right;\n",
       "    }\n",
       "</style>\n",
       "<table border=\"1\" class=\"dataframe\">\n",
       "  <thead>\n",
       "    <tr style=\"text-align: right;\">\n",
       "      <th></th>\n",
       "      <th>Open</th>\n",
       "      <th>High</th>\n",
       "      <th>Low</th>\n",
       "      <th>Close</th>\n",
       "      <th>Adj Close</th>\n",
       "      <th>Volume</th>\n",
       "      <th>BB_UPPER</th>\n",
       "      <th>BB_MIDDLE</th>\n",
       "      <th>BB_LOWER</th>\n",
       "    </tr>\n",
       "    <tr>\n",
       "      <th>Date</th>\n",
       "      <th></th>\n",
       "      <th></th>\n",
       "      <th></th>\n",
       "      <th></th>\n",
       "      <th></th>\n",
       "      <th></th>\n",
       "      <th></th>\n",
       "      <th></th>\n",
       "      <th></th>\n",
       "    </tr>\n",
       "  </thead>\n",
       "  <tbody>\n",
       "    <tr>\n",
       "      <th>2021-12-07</th>\n",
       "      <td>50581.828125</td>\n",
       "      <td>51934.781250</td>\n",
       "      <td>50175.808594</td>\n",
       "      <td>50700.085938</td>\n",
       "      <td>50700.085938</td>\n",
       "      <td>33676814852</td>\n",
       "      <td>61790.367921</td>\n",
       "      <td>55425.315039</td>\n",
       "      <td>49060.262157</td>\n",
       "    </tr>\n",
       "    <tr>\n",
       "      <th>2021-12-08</th>\n",
       "      <td>50667.648438</td>\n",
       "      <td>51171.375000</td>\n",
       "      <td>48765.988281</td>\n",
       "      <td>50504.796875</td>\n",
       "      <td>50504.796875</td>\n",
       "      <td>28479699446</td>\n",
       "      <td>61788.542231</td>\n",
       "      <td>55103.448047</td>\n",
       "      <td>48418.353863</td>\n",
       "    </tr>\n",
       "    <tr>\n",
       "      <th>2021-12-09</th>\n",
       "      <td>50450.082031</td>\n",
       "      <td>50797.164062</td>\n",
       "      <td>47358.351562</td>\n",
       "      <td>47672.121094</td>\n",
       "      <td>47672.121094</td>\n",
       "      <td>29603577251</td>\n",
       "      <td>61878.513995</td>\n",
       "      <td>54581.075195</td>\n",
       "      <td>47283.636396</td>\n",
       "    </tr>\n",
       "    <tr>\n",
       "      <th>2021-12-10</th>\n",
       "      <td>47642.144531</td>\n",
       "      <td>50015.253906</td>\n",
       "      <td>47023.699219</td>\n",
       "      <td>47243.304688</td>\n",
       "      <td>47243.304688</td>\n",
       "      <td>30966005122</td>\n",
       "      <td>61537.620083</td>\n",
       "      <td>53958.380664</td>\n",
       "      <td>46379.141245</td>\n",
       "    </tr>\n",
       "    <tr>\n",
       "      <th>2021-12-11</th>\n",
       "      <td>47339.375000</td>\n",
       "      <td>49226.472656</td>\n",
       "      <td>46942.347656</td>\n",
       "      <td>48914.113281</td>\n",
       "      <td>48914.113281</td>\n",
       "      <td>25972500480</td>\n",
       "      <td>61016.934283</td>\n",
       "      <td>53467.562500</td>\n",
       "      <td>45918.190717</td>\n",
       "    </tr>\n",
       "  </tbody>\n",
       "</table>\n",
       "</div>"
      ],
      "text/plain": [
       "                    Open          High           Low         Close  \\\n",
       "Date                                                                 \n",
       "2021-12-07  50581.828125  51934.781250  50175.808594  50700.085938   \n",
       "2021-12-08  50667.648438  51171.375000  48765.988281  50504.796875   \n",
       "2021-12-09  50450.082031  50797.164062  47358.351562  47672.121094   \n",
       "2021-12-10  47642.144531  50015.253906  47023.699219  47243.304688   \n",
       "2021-12-11  47339.375000  49226.472656  46942.347656  48914.113281   \n",
       "\n",
       "               Adj Close       Volume      BB_UPPER     BB_MIDDLE  \\\n",
       "Date                                                                \n",
       "2021-12-07  50700.085938  33676814852  61790.367921  55425.315039   \n",
       "2021-12-08  50504.796875  28479699446  61788.542231  55103.448047   \n",
       "2021-12-09  47672.121094  29603577251  61878.513995  54581.075195   \n",
       "2021-12-10  47243.304688  30966005122  61537.620083  53958.380664   \n",
       "2021-12-11  48914.113281  25972500480  61016.934283  53467.562500   \n",
       "\n",
       "                BB_LOWER  \n",
       "Date                      \n",
       "2021-12-07  49060.262157  \n",
       "2021-12-08  48418.353863  \n",
       "2021-12-09  47283.636396  \n",
       "2021-12-10  46379.141245  \n",
       "2021-12-11  45918.190717  "
      ]
     },
     "execution_count": 240,
     "metadata": {},
     "output_type": "execute_result"
    }
   ],
   "source": [
    "# Concatenate the Bollinger Bands to the DataFrame\n",
    "bb_signals_df = pd.concat([bb_signals_df, bbands_df], axis=1)\n",
    "\n",
    "# Review the DataFrame\n",
    "bb_signals_df.tail()"
   ]
  },
  {
   "cell_type": "code",
   "execution_count": 242,
   "id": "75650ae8-ff4a-42e1-b930-fa0bc376bab1",
   "metadata": {},
   "outputs": [
    {
     "data": {},
     "metadata": {},
     "output_type": "display_data"
    },
    {
     "data": {
      "application/vnd.holoviews_exec.v0+json": "",
      "text/html": [
       "<div id='6471'>\n",
       "\n",
       "\n",
       "\n",
       "\n",
       "\n",
       "  <div class=\"bk-root\" id=\"f1caa9a9-9a64-4238-b733-bcc0e9e132b6\" data-root-id=\"6471\"></div>\n",
       "</div>\n",
       "<script type=\"application/javascript\">(function(root) {\n",
       "  function embed_document(root) {\n",
       "    var docs_json = {\"c1bead44-4658-479e-b4f5-4e31b71368eb\":{\"defs\":[{\"extends\":null,\"module\":null,\"name\":\"ReactiveHTML1\",\"overrides\":[],\"properties\":[]},{\"extends\":null,\"module\":null,\"name\":\"FlexBox1\",\"overrides\":[],\"properties\":[{\"default\":\"flex-start\",\"kind\":null,\"name\":\"align_content\"},{\"default\":\"flex-start\",\"kind\":null,\"name\":\"align_items\"},{\"default\":\"row\",\"kind\":null,\"name\":\"flex_direction\"},{\"default\":\"wrap\",\"kind\":null,\"name\":\"flex_wrap\"},{\"default\":\"flex-start\",\"kind\":null,\"name\":\"justify_content\"}]},{\"extends\":null,\"module\":null,\"name\":\"TemplateActions1\",\"overrides\":[],\"properties\":[{\"default\":0,\"kind\":null,\"name\":\"open_modal\"},{\"default\":0,\"kind\":null,\"name\":\"close_modal\"}]},{\"extends\":null,\"module\":null,\"name\":\"MaterialTemplateActions1\",\"overrides\":[],\"properties\":[{\"default\":0,\"kind\":null,\"name\":\"open_modal\"},{\"default\":0,\"kind\":null,\"name\":\"close_modal\"}]}],\"roots\":{\"references\":[{\"attributes\":{\"data\":{\"BB_UPPER\":{\"__ndarray__\":\"AAAAAAAA+H8AAAAAAAD4fwAAAAAAAPh/AAAAAAAA+H8AAAAAAAD4fwAAAAAAAPh/AAAAAAAA+H8AAAAAAAD4fwAAAAAAAPh/AAAAAAAA+H8AAAAAAAD4fwAAAAAAAPh/AAAAAAAA+H8AAAAAAAD4fwAAAAAAAPh/AAAAAAAA+H8AAAAAAAD4fwAAAAAAAPh/AAAAAAAA+H+GjKyzWXnoQO7AAVE8qOhAuH4sNezR6ECTHV/PHCvpQBpJj0JlCepA2UfFXzmX6kDATiTo/g/rQETOEvJ4o+tAMTfLil8o7EDmq7yYzM3sQBfhu92RRu1AleA2NpbS7UCPrq7m0DruQGxzk/Pb9O5Abqz2YW9770AnosNnp+LvQGMgIgDwCfBAA7i86Jwp8EDYb6Kzn13wQGaQZyZZc/BAu5kN0bRq8EBI3mbJU1zwQKZwizVoQvBAL44SZitE8EAdcfzLtEXwQJEKapzeNPBAA1jtohMl8EDMt6DuBiDwQPKeHcUJDfBAtE+3XBUJ8EAwbhcRyeLvQN1en3bi2+9AzLE1Ewy870DEuDRmhrvvQOzmPthgu+9AquGcsUe770DDDOusFMzvQP7slDrbH/BAiDqXSL8w8EBKeCS8h0XwQBgGr76eWPBAP0lBhSlj8EAJgTPlQ27wQFtQbJGjf/BAwLuU60CA8EBUYdTGXHLwQEL8kuioc/BAZn+xtzGW8EBOZPpHfqTwQP3Vbamip/BAXKzRoYWu8EA2uNn42L7wQHsE2w6wwPBAfMhfv5rM8EBsUE+0mdDwQNVlf2DD6PBAMtr4D0vl8EDuq6KAX6PwQKrN9rdFX/BAsvYpTXQv8ECfPFK6YPHvQHzETiBhjO9AVfhjTckf70Bjihx8fsbuQMV8fNosf+5ASae2TeNi7kBdDALGyyvuQDRl9FmRK+5An+WkctA27kDWirfXMwzuQFxepuUdy+1A\",\"dtype\":\"float64\",\"order\":\"little\",\"shape\":[90]},\"Date\":{\"__ndarray__\":\"AABAQce9d0IAAACnGb53QgAAwAxsvndCAACAcr6+d0IAAEDYEL93QgAAAD5jv3dCAADAo7W/d0IAAIAJCMB3QgAAQG9awHdCAAAA1azAd0IAAMA6/8B3QgAAgKBRwXdCAABABqTBd0IAAABs9sF3QgAAwNFIwndCAACAN5vCd0IAAECd7cJ3QgAAAANAw3dCAADAaJLDd0IAAIDO5MN3QgAAQDQ3xHdCAAAAmonEd0IAAMD/28R3QgAAgGUuxXdCAABAy4DFd0IAAAAx08V3QgAAwJYlxndCAACA/HfGd0IAAEBiysZ3QgAAAMgcx3dCAADALW/Hd0IAAICTwcd3QgAAQPkTyHdCAAAAX2bId0IAAMDEuMh3QgAAgCoLyXdCAABAkF3Jd0IAAAD2r8l3QgAAwFsCyndCAACAwVTKd0IAAEAnp8p3QgAAAI35yndCAADA8kvLd0IAAIBYnst3QgAAQL7wy3dCAAAAJEPMd0IAAMCJlcx3QgAAgO/nzHdCAABAVTrNd0IAAAC7jM13QgAAwCDfzXdCAACAhjHOd0IAAEDsg853QgAAAFLWzndCAADAtyjPd0IAAIAde893QgAAQIPNz3dCAAAA6R/Qd0IAAMBOctB3QgAAgLTE0HdCAABAGhfRd0IAAACAadF3QgAAwOW70XdCAACASw7Sd0IAAECxYNJ3QgAAABez0ndCAADAfAXTd0IAAIDiV9N3QgAAQEiq03dCAAAArvzTd0IAAMATT9R3QgAAgHmh1HdCAABA3/PUd0IAAABFRtV3QgAAwKqY1XdCAACAEOvVd0IAAEB2PdZ3QgAAANyP1ndCAADAQeLWd0IAAICnNNd3QgAAQA2H13dCAAAAc9nXd0IAAMDYK9h3QgAAgD5+2HdCAABApNDYd0IAAAAKI9l3QgAAwG912XdCAACA1cfZd0IAAEA7Gtp3QgAAAKFs2ndC\",\"dtype\":\"float64\",\"order\":\"little\",\"shape\":[90]}},\"selected\":{\"id\":\"6528\"},\"selection_policy\":{\"id\":\"6563\"}},\"id\":\"6527\",\"type\":\"ColumnDataSource\"},{\"attributes\":{\"callback\":null,\"formatters\":{\"@{Date}\":\"datetime\"},\"renderers\":[{\"id\":\"6542\"}],\"tags\":[\"hv_created\"],\"tooltips\":[[\"Date\",\"@{Date}{%F %T}\"],[\"BB_MIDDLE\",\"@{BB_MIDDLE}\"]]},\"id\":\"6477\",\"type\":\"HoverTool\"},{\"attributes\":{},\"id\":\"6496\",\"type\":\"SaveTool\"},{\"attributes\":{},\"id\":\"6567\",\"type\":\"UnionRenderers\"},{\"attributes\":{\"end\":1639180800000.0,\"reset_end\":1639180800000.0,\"reset_start\":1631491200000.0,\"start\":1631491200000.0,\"tags\":[[[\"Date\",\"Date\",null]]]},\"id\":\"6473\",\"type\":\"Range1d\"},{\"attributes\":{\"mantissas\":[1,2,5],\"max_interval\":500.0,\"num_minor_ticks\":0},\"id\":\"6570\",\"type\":\"AdaptiveTicker\"},{\"attributes\":{},\"id\":\"6514\",\"type\":\"AllLabels\"},{\"attributes\":{},\"id\":\"6517\",\"type\":\"AllLabels\"},{\"attributes\":{\"days\":[1,15]},\"id\":\"6576\",\"type\":\"DaysTicker\"},{\"attributes\":{\"overlay\":{\"id\":\"6501\"}},\"id\":\"6499\",\"type\":\"BoxZoomTool\"},{\"attributes\":{\"tools\":[{\"id\":\"6475\"},{\"id\":\"6476\"},{\"id\":\"6477\"},{\"id\":\"6478\"},{\"id\":\"6496\"},{\"id\":\"6497\"},{\"id\":\"6498\"},{\"id\":\"6499\"},{\"id\":\"6500\"}]},\"id\":\"6502\",\"type\":\"Toolbar\"},{\"attributes\":{},\"id\":\"6498\",\"type\":\"WheelZoomTool\"},{\"attributes\":{\"bottom_units\":\"screen\",\"coordinates\":null,\"fill_alpha\":0.5,\"fill_color\":\"lightgrey\",\"group\":null,\"left_units\":\"screen\",\"level\":\"overlay\",\"line_alpha\":1.0,\"line_color\":\"black\",\"line_dash\":[4,4],\"line_width\":2,\"right_units\":\"screen\",\"syncable\":false,\"top_units\":\"screen\"},\"id\":\"6501\",\"type\":\"BoxAnnotation\"},{\"attributes\":{\"line_alpha\":0.1,\"line_color\":\"lightgray\",\"line_width\":2,\"x\":{\"field\":\"Date\"},\"y\":{\"field\":\"Close\"}},\"id\":\"6522\",\"type\":\"Line\"},{\"attributes\":{\"data\":{\"BB_LOWER\":{\"__ndarray__\":\"AAAAAAAA+H8AAAAAAAD4fwAAAAAAAPh/AAAAAAAA+H8AAAAAAAD4fwAAAAAAAPh/AAAAAAAA+H8AAAAAAAD4fwAAAAAAAPh/AAAAAAAA+H8AAAAAAAD4fwAAAAAAAPh/AAAAAAAA+H8AAAAAAAD4fwAAAAAAAPh/AAAAAAAA+H8AAAAAAAD4fwAAAAAAAPh/AAAAAAAA+H9GQCCpPUfjQBI//g7RQONASIHTemIw40DTSAf37ADjQIBQCmdegeJAJ7g6YEVF4kDaSnUxnhPiQCKYU8R94OFAaWLODrDw4UC07dyQJh3iQOkeREI2QOJAn1L8HIVQ4kBxUVEZUJ3iQC4mBpY8z+JAklMJzrQl40ClKgkF9q/jQKAlIlYiheRA+o+G7oBh5UC2hiGPAQ/mQAGs/f+4k+ZAJGZ+J0RH50CldmXw8QjoQBmFT3uC0OhAouPaIwxd6UDHHQfYgJjpQKu3+LOh9OlAYLaLYGVn6kCbw/H1PczqQLZbXn8vS+tAmGCRpgWD60A2+E4FcvDrQCOhYJkpQOxAmrQwQ5um7ECirTFwW6XsQHp/Jy5sqOxAilGWsTGo7EAJwOGfp6fsQGqMPFFVXexAvFee+8lH7EA43INECUHsQJvAbt8TUOxATTpKwoVd7EC6ymXSjHPsQEpfJ+0jb+xATFWjRdaV7EC+o73omsbsQLA6DXLVwOxAAM5pLbE57EBkNwtw+u3rQNIg8Qls0+tA4UD2hTmp60D79bIU3DHrQKSQ48uq6upAPaJzpC+S6kBckpSKDlrqQItnNIJCxulAArJ0Bs1i6UDwdIdbqWXpQBHLeBZMe+lAAnkSjA936UD7XEf/FoTpQB7VSpkcielAqwecUtBt6UBpQrCAx/voQAdQUEK8kehAHb+vOEo26EA9jZdjiPTnQJhn2FJLpOdAYRpbXXQW50D2QRWFZKXmQKShWRrGa+ZA\",\"dtype\":\"float64\",\"order\":\"little\",\"shape\":[90]},\"Date\":{\"__ndarray__\":\"AABAQce9d0IAAACnGb53QgAAwAxsvndCAACAcr6+d0IAAEDYEL93QgAAAD5jv3dCAADAo7W/d0IAAIAJCMB3QgAAQG9awHdCAAAA1azAd0IAAMA6/8B3QgAAgKBRwXdCAABABqTBd0IAAABs9sF3QgAAwNFIwndCAACAN5vCd0IAAECd7cJ3QgAAAANAw3dCAADAaJLDd0IAAIDO5MN3QgAAQDQ3xHdCAAAAmonEd0IAAMD/28R3QgAAgGUuxXdCAABAy4DFd0IAAAAx08V3QgAAwJYlxndCAACA/HfGd0IAAEBiysZ3QgAAAMgcx3dCAADALW/Hd0IAAICTwcd3QgAAQPkTyHdCAAAAX2bId0IAAMDEuMh3QgAAgCoLyXdCAABAkF3Jd0IAAAD2r8l3QgAAwFsCyndCAACAwVTKd0IAAEAnp8p3QgAAAI35yndCAADA8kvLd0IAAIBYnst3QgAAQL7wy3dCAAAAJEPMd0IAAMCJlcx3QgAAgO/nzHdCAABAVTrNd0IAAAC7jM13QgAAwCDfzXdCAACAhjHOd0IAAEDsg853QgAAAFLWzndCAADAtyjPd0IAAIAde893QgAAQIPNz3dCAAAA6R/Qd0IAAMBOctB3QgAAgLTE0HdCAABAGhfRd0IAAACAadF3QgAAwOW70XdCAACASw7Sd0IAAECxYNJ3QgAAABez0ndCAADAfAXTd0IAAIDiV9N3QgAAQEiq03dCAAAArvzTd0IAAMATT9R3QgAAgHmh1HdCAABA3/PUd0IAAABFRtV3QgAAwKqY1XdCAACAEOvVd0IAAEB2PdZ3QgAAANyP1ndCAADAQeLWd0IAAICnNNd3QgAAQA2H13dCAAAAc9nXd0IAAMDYK9h3QgAAgD5+2HdCAABApNDYd0IAAAAKI9l3QgAAwG912XdCAACA1cfZd0IAAEA7Gtp3QgAAAKFs2ndC\",\"dtype\":\"float64\",\"order\":\"little\",\"shape\":[90]}},\"selected\":{\"id\":\"6546\"},\"selection_policy\":{\"id\":\"6567\"}},\"id\":\"6545\",\"type\":\"ColumnDataSource\"},{\"attributes\":{\"line_alpha\":0.1,\"line_color\":\"purple\",\"line_width\":2,\"x\":{\"field\":\"Date\"},\"y\":{\"field\":\"BB_UPPER\"}},\"id\":\"6531\",\"type\":\"Line\"},{\"attributes\":{},\"id\":\"6497\",\"type\":\"PanTool\"},{\"attributes\":{},\"id\":\"6484\",\"type\":\"LinearScale\"},{\"attributes\":{\"coordinates\":null,\"data_source\":{\"id\":\"6518\"},\"glyph\":{\"id\":\"6521\"},\"group\":null,\"hover_glyph\":null,\"muted_glyph\":{\"id\":\"6523\"},\"nonselection_glyph\":{\"id\":\"6522\"},\"selection_glyph\":{\"id\":\"6526\"},\"view\":{\"id\":\"6525\"}},\"id\":\"6524\",\"type\":\"GlyphRenderer\"},{\"attributes\":{\"line_alpha\":0.1,\"line_color\":\"blue\",\"line_width\":2,\"x\":{\"field\":\"Date\"},\"y\":{\"field\":\"BB_LOWER\"}},\"id\":\"6549\",\"type\":\"Line\"},{\"attributes\":{\"source\":{\"id\":\"6545\"}},\"id\":\"6552\",\"type\":\"CDSView\"},{\"attributes\":{\"children\":[{\"id\":\"6472\"},{\"id\":\"6479\"},{\"id\":\"6806\"}],\"margin\":[0,0,0,0],\"name\":\"Row08238\",\"tags\":[\"embedded\"]},\"id\":\"6471\",\"type\":\"Row\"},{\"attributes\":{},\"id\":\"6500\",\"type\":\"ResetTool\"},{\"attributes\":{\"source\":{\"id\":\"6536\"}},\"id\":\"6543\",\"type\":\"CDSView\"},{\"attributes\":{\"line_alpha\":0.2,\"line_color\":\"purple\",\"line_width\":2,\"x\":{\"field\":\"Date\"},\"y\":{\"field\":\"BB_UPPER\"}},\"id\":\"6532\",\"type\":\"Line\"},{\"attributes\":{\"days\":[1,4,7,10,13,16,19,22,25,28]},\"id\":\"6574\",\"type\":\"DaysTicker\"},{\"attributes\":{\"coordinates\":null,\"data_source\":{\"id\":\"6536\"},\"glyph\":{\"id\":\"6539\"},\"group\":null,\"hover_glyph\":null,\"muted_glyph\":{\"id\":\"6541\"},\"nonselection_glyph\":{\"id\":\"6540\"},\"selection_glyph\":{\"id\":\"6544\"},\"view\":{\"id\":\"6543\"}},\"id\":\"6542\",\"type\":\"GlyphRenderer\"},{\"attributes\":{\"source\":{\"id\":\"6527\"}},\"id\":\"6534\",\"type\":\"CDSView\"},{\"attributes\":{\"months\":[0,4,8]},\"id\":\"6579\",\"type\":\"MonthsTicker\"},{\"attributes\":{\"line_color\":\"orange\",\"line_width\":2,\"x\":{\"field\":\"Date\"},\"y\":{\"field\":\"BB_MIDDLE\"}},\"id\":\"6544\",\"type\":\"Line\"},{\"attributes\":{},\"id\":\"6561\",\"type\":\"UnionRenderers\"},{\"attributes\":{},\"id\":\"6546\",\"type\":\"Selection\"},{\"attributes\":{\"margin\":[5,5,5,5],\"name\":\"HSpacer08243\",\"sizing_mode\":\"stretch_width\"},\"id\":\"6806\",\"type\":\"Spacer\"},{\"attributes\":{\"base\":60,\"mantissas\":[1,2,5,10,15,20,30],\"max_interval\":1800000.0,\"min_interval\":1000.0,\"num_minor_ticks\":0},\"id\":\"6571\",\"type\":\"AdaptiveTicker\"},{\"attributes\":{\"line_color\":\"blue\",\"line_width\":2,\"x\":{\"field\":\"Date\"},\"y\":{\"field\":\"BB_LOWER\"}},\"id\":\"6553\",\"type\":\"Line\"},{\"attributes\":{\"line_color\":\"purple\",\"line_width\":2,\"x\":{\"field\":\"Date\"},\"y\":{\"field\":\"BB_UPPER\"}},\"id\":\"6530\",\"type\":\"Line\"},{\"attributes\":{},\"id\":\"6486\",\"type\":\"LinearScale\"},{\"attributes\":{\"line_color\":\"orange\",\"line_width\":2,\"x\":{\"field\":\"Date\"},\"y\":{\"field\":\"BB_MIDDLE\"}},\"id\":\"6539\",\"type\":\"Line\"},{\"attributes\":{\"months\":[0,6]},\"id\":\"6580\",\"type\":\"MonthsTicker\"},{\"attributes\":{\"line_color\":\"lightgray\",\"line_width\":2,\"x\":{\"field\":\"Date\"},\"y\":{\"field\":\"Close\"}},\"id\":\"6521\",\"type\":\"Line\"},{\"attributes\":{\"margin\":[5,5,5,5],\"name\":\"HSpacer08242\",\"sizing_mode\":\"stretch_width\"},\"id\":\"6472\",\"type\":\"Spacer\"},{\"attributes\":{\"line_color\":\"blue\",\"line_width\":2,\"x\":{\"field\":\"Date\"},\"y\":{\"field\":\"BB_LOWER\"}},\"id\":\"6548\",\"type\":\"Line\"},{\"attributes\":{\"callback\":null,\"formatters\":{\"@{Date}\":\"datetime\"},\"renderers\":[{\"id\":\"6524\"}],\"tags\":[\"hv_created\"],\"tooltips\":[[\"Date\",\"@{Date}{%F %T}\"],[\"Close\",\"@{Close}\"]]},\"id\":\"6475\",\"type\":\"HoverTool\"},{\"attributes\":{\"line_color\":\"lightgray\",\"line_width\":2,\"x\":{\"field\":\"Date\"},\"y\":{\"field\":\"Close\"}},\"id\":\"6526\",\"type\":\"Line\"},{\"attributes\":{\"base\":24,\"mantissas\":[1,2,4,6,8,12],\"max_interval\":43200000.0,\"min_interval\":3600000.0,\"num_minor_ticks\":0},\"id\":\"6572\",\"type\":\"AdaptiveTicker\"},{\"attributes\":{},\"id\":\"6493\",\"type\":\"BasicTicker\"},{\"attributes\":{\"coordinates\":null,\"data_source\":{\"id\":\"6545\"},\"glyph\":{\"id\":\"6548\"},\"group\":null,\"hover_glyph\":null,\"muted_glyph\":{\"id\":\"6550\"},\"nonselection_glyph\":{\"id\":\"6549\"},\"selection_glyph\":{\"id\":\"6553\"},\"view\":{\"id\":\"6552\"}},\"id\":\"6551\",\"type\":\"GlyphRenderer\"},{\"attributes\":{},\"id\":\"6519\",\"type\":\"Selection\"},{\"attributes\":{\"line_alpha\":0.2,\"line_color\":\"orange\",\"line_width\":2,\"x\":{\"field\":\"Date\"},\"y\":{\"field\":\"BB_MIDDLE\"}},\"id\":\"6541\",\"type\":\"Line\"},{\"attributes\":{},\"id\":\"6565\",\"type\":\"UnionRenderers\"},{\"attributes\":{\"source\":{\"id\":\"6518\"}},\"id\":\"6525\",\"type\":\"CDSView\"},{\"attributes\":{\"line_alpha\":0.1,\"line_color\":\"orange\",\"line_width\":2,\"x\":{\"field\":\"Date\"},\"y\":{\"field\":\"BB_MIDDLE\"}},\"id\":\"6540\",\"type\":\"Line\"},{\"attributes\":{\"axis_label\":\"Date\",\"coordinates\":null,\"formatter\":{\"id\":\"6513\"},\"group\":null,\"major_label_policy\":{\"id\":\"6514\"},\"ticker\":{\"id\":\"6489\"}},\"id\":\"6488\",\"type\":\"DatetimeAxis\"},{\"attributes\":{},\"id\":\"6563\",\"type\":\"UnionRenderers\"},{\"attributes\":{},\"id\":\"6537\",\"type\":\"Selection\"},{\"attributes\":{\"data\":{\"Close\":{\"__ndarray__\":\"AAAAYGL05UAAAADAj/7mQAAAACALhudAAAAAgOtU50AAAACgcBTnQAAAAKDLkudAAAAAAIcT50AAAACgeevkQAAAAKC13uNAAAAAQNBG5UAAAAAg4+vlQAAAAAD46uRAAAAAAJPb5EAAAABAERnlQAAAAGB3n+RAAAAAYFEJ5EAAAACgi0vkQAAAAKDcYeVAAAAAIJ5+50AAAACg70vnQAAAAID+iOdAAAAA4Bz750AAAAAAWifpQAAAAGAuCOtAAAAAgL9F6kAAAAAg+1nqQAAAACAH1+pAAAAAgHK+6kAAAABAmRHsQAAAAOAhXetAAAAAICMH7EAAAADAMP3rQAAAAGA+E+5AAAAAwIW77UAAAADAMw7uQAAAAIBCSe5AAAAAwL9g70AAAABgjRzwQAAAAIBFYO5AAAAAgIii7UAAAADAM/rtQAAAAMBawO1AAAAAYPrH7kAAAABgeXntQAAAAGBMjuxAAAAAYMSZ7UAAAADgfmLuQAAAAKAaOO5AAAAAoN7w7UAAAAAAjcntQAAAAOBM3+5AAAAAgEG/7kAAAABghwHuQAAAAKC12O1AAAAAYO8K7kAAAACg3+vuQAAAAEDtfvBAAAAAQL1Z8EAAAABgZ7zvQAAAAMC+tu9AAAAAIH5T70AAAADgsHrvQAAAAOBa9+9AAAAA4LsI70AAAADgJ2DtQAAAAGAAeu1AAAAAYMTN60AAAACA8mDsQAAAAEAmJu1AAAAAQE+t7EAAAABAKXzrQAAAAGAiHOxAAAAAoA1760AAAADAVffrQAAAAIA4KOpAAAAAgOLD6kAAAACgDvTrQAAAACDSOexAAAAAoK3V60AAAACAuvHrQAAAACC6k+tAAAAA4Mcr6kAAAACAFgboQAAAACAbG+hAAAAAANSy6EAAAADAgsHoQAAAAIAZqehAAAAA4ANH50AAAADAaRHnQAAAAKBD4udA\",\"dtype\":\"float64\",\"order\":\"little\",\"shape\":[90]},\"Date\":{\"__ndarray__\":\"AABAQce9d0IAAACnGb53QgAAwAxsvndCAACAcr6+d0IAAEDYEL93QgAAAD5jv3dCAADAo7W/d0IAAIAJCMB3QgAAQG9awHdCAAAA1azAd0IAAMA6/8B3QgAAgKBRwXdCAABABqTBd0IAAABs9sF3QgAAwNFIwndCAACAN5vCd0IAAECd7cJ3QgAAAANAw3dCAADAaJLDd0IAAIDO5MN3QgAAQDQ3xHdCAAAAmonEd0IAAMD/28R3QgAAgGUuxXdCAABAy4DFd0IAAAAx08V3QgAAwJYlxndCAACA/HfGd0IAAEBiysZ3QgAAAMgcx3dCAADALW/Hd0IAAICTwcd3QgAAQPkTyHdCAAAAX2bId0IAAMDEuMh3QgAAgCoLyXdCAABAkF3Jd0IAAAD2r8l3QgAAwFsCyndCAACAwVTKd0IAAEAnp8p3QgAAAI35yndCAADA8kvLd0IAAIBYnst3QgAAQL7wy3dCAAAAJEPMd0IAAMCJlcx3QgAAgO/nzHdCAABAVTrNd0IAAAC7jM13QgAAwCDfzXdCAACAhjHOd0IAAEDsg853QgAAAFLWzndCAADAtyjPd0IAAIAde893QgAAQIPNz3dCAAAA6R/Qd0IAAMBOctB3QgAAgLTE0HdCAABAGhfRd0IAAACAadF3QgAAwOW70XdCAACASw7Sd0IAAECxYNJ3QgAAABez0ndCAADAfAXTd0IAAIDiV9N3QgAAQEiq03dCAAAArvzTd0IAAMATT9R3QgAAgHmh1HdCAABA3/PUd0IAAABFRtV3QgAAwKqY1XdCAACAEOvVd0IAAEB2PdZ3QgAAANyP1ndCAADAQeLWd0IAAICnNNd3QgAAQA2H13dCAAAAc9nXd0IAAMDYK9h3QgAAgD5+2HdCAABApNDYd0IAAAAKI9l3QgAAwG912XdCAACA1cfZd0IAAEA7Gtp3QgAAAKFs2ndC\",\"dtype\":\"float64\",\"order\":\"little\",\"shape\":[90]}},\"selected\":{\"id\":\"6519\"},\"selection_policy\":{\"id\":\"6561\"}},\"id\":\"6518\",\"type\":\"ColumnDataSource\"},{\"attributes\":{\"line_color\":\"purple\",\"line_width\":2,\"x\":{\"field\":\"Date\"},\"y\":{\"field\":\"BB_UPPER\"}},\"id\":\"6535\",\"type\":\"Line\"},{\"attributes\":{\"num_minor_ticks\":5,\"tickers\":[{\"id\":\"6570\"},{\"id\":\"6571\"},{\"id\":\"6572\"},{\"id\":\"6573\"},{\"id\":\"6574\"},{\"id\":\"6575\"},{\"id\":\"6576\"},{\"id\":\"6577\"},{\"id\":\"6578\"},{\"id\":\"6579\"},{\"id\":\"6580\"},{\"id\":\"6581\"}]},\"id\":\"6489\",\"type\":\"DatetimeTicker\"},{\"attributes\":{},\"id\":\"6516\",\"type\":\"BasicTickFormatter\"},{\"attributes\":{\"months\":[0,2,4,6,8,10]},\"id\":\"6578\",\"type\":\"MonthsTicker\"},{\"attributes\":{\"coordinates\":null,\"group\":null,\"text_color\":\"black\",\"text_font_size\":\"12pt\"},\"id\":\"6480\",\"type\":\"Title\"},{\"attributes\":{},\"id\":\"6581\",\"type\":\"YearsTicker\"},{\"attributes\":{\"axis\":{\"id\":\"6488\"},\"coordinates\":null,\"grid_line_color\":null,\"group\":null,\"ticker\":null},\"id\":\"6491\",\"type\":\"Grid\"},{\"attributes\":{\"days\":[1,2,3,4,5,6,7,8,9,10,11,12,13,14,15,16,17,18,19,20,21,22,23,24,25,26,27,28,29,30,31]},\"id\":\"6573\",\"type\":\"DaysTicker\"},{\"attributes\":{\"below\":[{\"id\":\"6488\"}],\"center\":[{\"id\":\"6491\"},{\"id\":\"6495\"}],\"height\":400,\"left\":[{\"id\":\"6492\"}],\"margin\":[5,5,5,5],\"min_border_bottom\":10,\"min_border_left\":10,\"min_border_right\":10,\"min_border_top\":10,\"renderers\":[{\"id\":\"6524\"},{\"id\":\"6533\"},{\"id\":\"6542\"},{\"id\":\"6551\"}],\"sizing_mode\":\"fixed\",\"title\":{\"id\":\"6480\"},\"toolbar\":{\"id\":\"6502\"},\"width\":1000,\"x_range\":{\"id\":\"6473\"},\"x_scale\":{\"id\":\"6484\"},\"y_range\":{\"id\":\"6474\"},\"y_scale\":{\"id\":\"6486\"}},\"id\":\"6479\",\"subtype\":\"Figure\",\"type\":\"Plot\"},{\"attributes\":{\"days\":[1,8,15,22]},\"id\":\"6575\",\"type\":\"DaysTicker\"},{\"attributes\":{\"callback\":null,\"formatters\":{\"@{Date}\":\"datetime\"},\"renderers\":[{\"id\":\"6551\"}],\"tags\":[\"hv_created\"],\"tooltips\":[[\"Date\",\"@{Date}{%F %T}\"],[\"BB_LOWER\",\"@{BB_LOWER}\"]]},\"id\":\"6478\",\"type\":\"HoverTool\"},{\"attributes\":{\"data\":{\"BB_MIDDLE\":{\"__ndarray__\":\"AAAAAAAA+H8AAAAAAAD4fwAAAAAAAPh/AAAAAAAA+H8AAAAAAAD4fwAAAAAAAPh/AAAAAAAA+H8AAAAAAAD4fwAAAAAAAPh/AAAAAAAA+H8AAAAAAAD4fwAAAAAAAPh/AAAAAAAA+H8AAAAAAAD4fwAAAAAAAPh/AAAAAAAA+H8AAAAAAAD4fwAAAAAAAPh/AAAAAAAA+H9mZmauS+DlQAAAALCG9OVAAAAAWCcB5kAzMzPjBBbmQM3MzNRhReZAAAAAYD9u5kDNzMyMzpHmQDMzM1v7weZAzczMzIcM50DNzMyUeXXnQAAAABBkw+dAmpmZqY0R6EAAAACAEGzoQM3MzEQM4uhAAAAAGJJQ6UBmZma2TsnpQDMzMyuBTOpAAAAAYF3a6kAzMzN7IGXrQGZmZqY1vetAzczM5FYO7ECamZnBzGDsQDMzM3OpquxAAAAAeLHy7EAAAAA49RHtQGZmZnYvL+1AMzMzU8ZY7UCamZnpJYbtQM3MzIShsu1AAAAAMJjK7UAzMzOLnentQAAAAAgGDu5AMzMzq1Mx7kAzMzPrcDDuQDMzM4PmMe5AmpmZsbwx7kBmZmYm3jnuQDMzM+OFTu5AZmZmRqRU7kBmZmZeDGbuQGZmZq6ogO5AZmZmZuyR7kBmZmZOCqjuQAAAAIg1t+5AZmZmDizL7kAzMzM7qtXuQJqZmaET1O5AZmZmTgqz7kAAAACAe5vuQGZmZq5Yke5AzczMZCKD7kAzMzMDx1fuQM3MzHQFNu5AmpmZkbIV7kCamZn5oP3tQJqZmaHky+1AMzMzk7GW7UBmZmYuNFbtQDMzM8PrHO1AMzMzE/zq7EDNzMzcu7rsQM3MzNy+iuxAAAAA0MxG7EBmZmb+IuHrQGZmZo50iOtAMzMzw5ZM60DNzMwUKhDrQGZmZlbu5+pAAAAAaKKm6kBmZmYuzFjqQAAAAAByG+pA\",\"dtype\":\"float64\",\"order\":\"little\",\"shape\":[90]},\"Date\":{\"__ndarray__\":\"AABAQce9d0IAAACnGb53QgAAwAxsvndCAACAcr6+d0IAAEDYEL93QgAAAD5jv3dCAADAo7W/d0IAAIAJCMB3QgAAQG9awHdCAAAA1azAd0IAAMA6/8B3QgAAgKBRwXdCAABABqTBd0IAAABs9sF3QgAAwNFIwndCAACAN5vCd0IAAECd7cJ3QgAAAANAw3dCAADAaJLDd0IAAIDO5MN3QgAAQDQ3xHdCAAAAmonEd0IAAMD/28R3QgAAgGUuxXdCAABAy4DFd0IAAAAx08V3QgAAwJYlxndCAACA/HfGd0IAAEBiysZ3QgAAAMgcx3dCAADALW/Hd0IAAICTwcd3QgAAQPkTyHdCAAAAX2bId0IAAMDEuMh3QgAAgCoLyXdCAABAkF3Jd0IAAAD2r8l3QgAAwFsCyndCAACAwVTKd0IAAEAnp8p3QgAAAI35yndCAADA8kvLd0IAAIBYnst3QgAAQL7wy3dCAAAAJEPMd0IAAMCJlcx3QgAAgO/nzHdCAABAVTrNd0IAAAC7jM13QgAAwCDfzXdCAACAhjHOd0IAAEDsg853QgAAAFLWzndCAADAtyjPd0IAAIAde893QgAAQIPNz3dCAAAA6R/Qd0IAAMBOctB3QgAAgLTE0HdCAABAGhfRd0IAAACAadF3QgAAwOW70XdCAACASw7Sd0IAAECxYNJ3QgAAABez0ndCAADAfAXTd0IAAIDiV9N3QgAAQEiq03dCAAAArvzTd0IAAMATT9R3QgAAgHmh1HdCAABA3/PUd0IAAABFRtV3QgAAwKqY1XdCAACAEOvVd0IAAEB2PdZ3QgAAANyP1ndCAADAQeLWd0IAAICnNNd3QgAAQA2H13dCAAAAc9nXd0IAAMDYK9h3QgAAgD5+2HdCAABApNDYd0IAAAAKI9l3QgAAwG912XdCAACA1cfZd0IAAEA7Gtp3QgAAAKFs2ndC\",\"dtype\":\"float64\",\"order\":\"little\",\"shape\":[90]}},\"selected\":{\"id\":\"6537\"},\"selection_policy\":{\"id\":\"6565\"}},\"id\":\"6536\",\"type\":\"ColumnDataSource\"},{\"attributes\":{\"line_alpha\":0.2,\"line_color\":\"blue\",\"line_width\":2,\"x\":{\"field\":\"Date\"},\"y\":{\"field\":\"BB_LOWER\"}},\"id\":\"6550\",\"type\":\"Line\"},{\"attributes\":{\"end\":72525.03914333138,\"reset_end\":72525.03914333138,\"reset_start\":33347.10213130672,\"start\":33347.10213130672,\"tags\":[[[\"Close\",\"Close\",null]]]},\"id\":\"6474\",\"type\":\"Range1d\"},{\"attributes\":{},\"id\":\"6513\",\"type\":\"DatetimeTickFormatter\"},{\"attributes\":{\"axis_label\":\"Price in $\",\"coordinates\":null,\"formatter\":{\"id\":\"6516\"},\"group\":null,\"major_label_policy\":{\"id\":\"6517\"},\"ticker\":{\"id\":\"6493\"}},\"id\":\"6492\",\"type\":\"LinearAxis\"},{\"attributes\":{\"coordinates\":null,\"data_source\":{\"id\":\"6527\"},\"glyph\":{\"id\":\"6530\"},\"group\":null,\"hover_glyph\":null,\"muted_glyph\":{\"id\":\"6532\"},\"nonselection_glyph\":{\"id\":\"6531\"},\"selection_glyph\":{\"id\":\"6535\"},\"view\":{\"id\":\"6534\"}},\"id\":\"6533\",\"type\":\"GlyphRenderer\"},{\"attributes\":{\"months\":[0,1,2,3,4,5,6,7,8,9,10,11]},\"id\":\"6577\",\"type\":\"MonthsTicker\"},{\"attributes\":{\"callback\":null,\"formatters\":{\"@{Date}\":\"datetime\"},\"renderers\":[{\"id\":\"6533\"}],\"tags\":[\"hv_created\"],\"tooltips\":[[\"Date\",\"@{Date}{%F %T}\"],[\"BB_UPPER\",\"@{BB_UPPER}\"]]},\"id\":\"6476\",\"type\":\"HoverTool\"},{\"attributes\":{},\"id\":\"6528\",\"type\":\"Selection\"},{\"attributes\":{\"line_alpha\":0.2,\"line_color\":\"lightgray\",\"line_width\":2,\"x\":{\"field\":\"Date\"},\"y\":{\"field\":\"Close\"}},\"id\":\"6523\",\"type\":\"Line\"},{\"attributes\":{\"axis\":{\"id\":\"6492\"},\"coordinates\":null,\"dimension\":1,\"grid_line_color\":null,\"group\":null,\"ticker\":null},\"id\":\"6495\",\"type\":\"Grid\"}],\"root_ids\":[\"6471\"]},\"title\":\"Bokeh Application\",\"version\":\"2.4.2\"}};\n",
       "    var render_items = [{\"docid\":\"c1bead44-4658-479e-b4f5-4e31b71368eb\",\"root_ids\":[\"6471\"],\"roots\":{\"6471\":\"f1caa9a9-9a64-4238-b733-bcc0e9e132b6\"}}];\n",
       "    root.Bokeh.embed.embed_items_notebook(docs_json, render_items);\n",
       "  }\n",
       "  if (root.Bokeh !== undefined && root.Bokeh.Panel !== undefined) {\n",
       "    embed_document(root);\n",
       "  } else {\n",
       "    var attempts = 0;\n",
       "    var timer = setInterval(function(root) {\n",
       "      if (root.Bokeh !== undefined && root.Bokeh.Panel !== undefined) {\n",
       "        clearInterval(timer);\n",
       "        embed_document(root);\n",
       "      } else if (document.readyState == \"complete\") {\n",
       "        attempts++;\n",
       "        if (attempts > 200) {\n",
       "          clearInterval(timer);\n",
       "          console.log(\"Bokeh: ERROR: Unable to run BokehJS code because BokehJS library is missing\");\n",
       "        }\n",
       "      }\n",
       "    }, 25, root)\n",
       "  }\n",
       "})(window);</script>"
      ],
      "text/plain": [
       ":Overlay\n",
       "   .Curve.I   :Curve   [Date]   (Close)\n",
       "   .Curve.II  :Curve   [Date]   (BB_UPPER)\n",
       "   .Curve.III :Curve   [Date]   (BB_MIDDLE)\n",
       "   .Curve.IV  :Curve   [Date]   (BB_LOWER)"
      ]
     },
     "execution_count": 242,
     "metadata": {
      "application/vnd.holoviews_exec.v0+json": {
       "id": "6471"
      }
     },
     "output_type": "execute_result"
    }
   ],
   "source": [
    "# Visualize close price for the investment\n",
    "security_close = bb_signals_df[[\"Close\"]].hvplot(\n",
    "    line_color='lightgray',\n",
    "    ylabel='Price in $',\n",
    "    width=1000,\n",
    "    height=400\n",
    ")\n",
    "\n",
    "bb_upper = bb_signals_df[[\"BB_UPPER\"]].hvplot(\n",
    "    line_color='purple',\n",
    "    ylabel='Price in $',\n",
    "    width=1000,\n",
    "    height=400\n",
    ")\n",
    "\n",
    "\n",
    "bb_middle = bb_signals_df[[\"BB_MIDDLE\"]].hvplot(\n",
    "    line_color='orange',\n",
    "    ylabel='Price in $',\n",
    "    width=1000,\n",
    "    height=400\n",
    ")\n",
    "\n",
    "bb_lower = bb_signals_df[[\"BB_LOWER\"]].hvplot(\n",
    "    line_color='blue',\n",
    "    ylabel='Price in $',\n",
    "    width=1000,\n",
    "    height=400\n",
    ")\n",
    "\n",
    "# Overlay plots\n",
    "bbands_plot = security_close * bb_upper * bb_middle * bb_lower\n",
    "bbands_plot"
   ]
  },
  {
   "cell_type": "code",
   "execution_count": null,
   "id": "ce518ef3-a558-4398-bb96-8efedab31e01",
   "metadata": {},
   "outputs": [],
   "source": []
  }
 ],
 "metadata": {
  "kernelspec": {
   "display_name": "Python 3",
   "language": "python",
   "name": "python3"
  },
  "language_info": {
   "codemirror_mode": {
    "name": "ipython",
    "version": 3
   },
   "file_extension": ".py",
   "mimetype": "text/x-python",
   "name": "python",
   "nbconvert_exporter": "python",
   "pygments_lexer": "ipython3",
   "version": "3.7.10"
  }
 },
 "nbformat": 4,
 "nbformat_minor": 5
}
