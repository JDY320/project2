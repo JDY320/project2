{
 "cells": [
  {
   "cell_type": "code",
   "execution_count": 234,
   "id": "d09c3afb-3de2-40dd-babd-f11d278e3bff",
   "metadata": {},
   "outputs": [],
   "source": [
    "import numpy as np\n",
    "import pandas as pd\n",
    "import hvplot.pandas\n",
    "from pathlib import Path\n",
    "from sklearn.ensemble import RandomForestRegressor\n",
    "from sklearn.model_selection import train_test_split\n",
    "from sklearn.metrics import confusion_matrix, accuracy_score, classification_report\n",
    "import yfinance as yf\n",
    "import plotly.graph_objs as go\n",
    "from finta import TA"
   ]
  },
  {
   "cell_type": "code",
   "execution_count": 62,
   "id": "66f2345c-f7a8-4e3e-8c80-a99a58df7895",
   "metadata": {},
   "outputs": [],
   "source": [
    "# Create a function to pull in data using Yahoo finance API\n",
    "def asset_df(*x):\n",
    "    \n",
    "    data = yf.download(tickers=[*x], period = '90d', interval = '1d')\n",
    "    df = data['Close'].dropna()\n",
    "    return df"
   ]
  },
  {
   "cell_type": "code",
   "execution_count": 220,
   "id": "9a595c91-3cb3-4546-95fb-f73e5e9b0ac8",
   "metadata": {},
   "outputs": [
    {
     "name": "stdout",
     "output_type": "stream",
     "text": [
      "[*********************100%***********************]  4 of 4 completed\n"
     ]
    },
    {
     "data": {
      "text/html": [
       "<div>\n",
       "<style scoped>\n",
       "    .dataframe tbody tr th:only-of-type {\n",
       "        vertical-align: middle;\n",
       "    }\n",
       "\n",
       "    .dataframe tbody tr th {\n",
       "        vertical-align: top;\n",
       "    }\n",
       "\n",
       "    .dataframe thead th {\n",
       "        text-align: right;\n",
       "    }\n",
       "</style>\n",
       "<table border=\"1\" class=\"dataframe\">\n",
       "  <thead>\n",
       "    <tr style=\"text-align: right;\">\n",
       "      <th></th>\n",
       "      <th>BTC-USD</th>\n",
       "      <th>^DJI</th>\n",
       "      <th>^GSPC</th>\n",
       "      <th>^TYX</th>\n",
       "    </tr>\n",
       "    <tr>\n",
       "      <th>Date</th>\n",
       "      <th></th>\n",
       "      <th></th>\n",
       "      <th></th>\n",
       "      <th></th>\n",
       "    </tr>\n",
       "  </thead>\n",
       "  <tbody>\n",
       "    <tr>\n",
       "      <th>2021-09-13</th>\n",
       "      <td>44963.074219</td>\n",
       "      <td>34869.628906</td>\n",
       "      <td>4468.729980</td>\n",
       "      <td>1.905</td>\n",
       "    </tr>\n",
       "    <tr>\n",
       "      <th>2021-09-14</th>\n",
       "      <td>47092.492188</td>\n",
       "      <td>34577.570312</td>\n",
       "      <td>4443.049805</td>\n",
       "      <td>1.850</td>\n",
       "    </tr>\n",
       "    <tr>\n",
       "      <th>2021-09-15</th>\n",
       "      <td>48176.347656</td>\n",
       "      <td>34814.390625</td>\n",
       "      <td>4480.700195</td>\n",
       "      <td>1.869</td>\n",
       "    </tr>\n",
       "    <tr>\n",
       "      <th>2021-09-16</th>\n",
       "      <td>47783.359375</td>\n",
       "      <td>34751.320312</td>\n",
       "      <td>4473.750000</td>\n",
       "      <td>1.881</td>\n",
       "    </tr>\n",
       "    <tr>\n",
       "      <th>2021-09-17</th>\n",
       "      <td>47267.519531</td>\n",
       "      <td>34584.878906</td>\n",
       "      <td>4432.990234</td>\n",
       "      <td>1.909</td>\n",
       "    </tr>\n",
       "    <tr>\n",
       "      <th>...</th>\n",
       "      <td>...</td>\n",
       "      <td>...</td>\n",
       "      <td>...</td>\n",
       "      <td>...</td>\n",
       "    </tr>\n",
       "    <tr>\n",
       "      <th>2021-12-03</th>\n",
       "      <td>53598.246094</td>\n",
       "      <td>34580.078125</td>\n",
       "      <td>4538.430176</td>\n",
       "      <td>1.678</td>\n",
       "    </tr>\n",
       "    <tr>\n",
       "      <th>2021-12-06</th>\n",
       "      <td>50582.625000</td>\n",
       "      <td>35227.031250</td>\n",
       "      <td>4591.669922</td>\n",
       "      <td>1.757</td>\n",
       "    </tr>\n",
       "    <tr>\n",
       "      <th>2021-12-07</th>\n",
       "      <td>50700.085938</td>\n",
       "      <td>35719.429688</td>\n",
       "      <td>4686.750000</td>\n",
       "      <td>1.796</td>\n",
       "    </tr>\n",
       "    <tr>\n",
       "      <th>2021-12-08</th>\n",
       "      <td>50504.796875</td>\n",
       "      <td>35754.750000</td>\n",
       "      <td>4701.209961</td>\n",
       "      <td>1.875</td>\n",
       "    </tr>\n",
       "    <tr>\n",
       "      <th>2021-12-10</th>\n",
       "      <td>47243.304688</td>\n",
       "      <td>35970.988281</td>\n",
       "      <td>4712.020020</td>\n",
       "      <td>1.884</td>\n",
       "    </tr>\n",
       "  </tbody>\n",
       "</table>\n",
       "<p>63 rows × 4 columns</p>\n",
       "</div>"
      ],
      "text/plain": [
       "                 BTC-USD          ^DJI        ^GSPC   ^TYX\n",
       "Date                                                      \n",
       "2021-09-13  44963.074219  34869.628906  4468.729980  1.905\n",
       "2021-09-14  47092.492188  34577.570312  4443.049805  1.850\n",
       "2021-09-15  48176.347656  34814.390625  4480.700195  1.869\n",
       "2021-09-16  47783.359375  34751.320312  4473.750000  1.881\n",
       "2021-09-17  47267.519531  34584.878906  4432.990234  1.909\n",
       "...                  ...           ...          ...    ...\n",
       "2021-12-03  53598.246094  34580.078125  4538.430176  1.678\n",
       "2021-12-06  50582.625000  35227.031250  4591.669922  1.757\n",
       "2021-12-07  50700.085938  35719.429688  4686.750000  1.796\n",
       "2021-12-08  50504.796875  35754.750000  4701.209961  1.875\n",
       "2021-12-10  47243.304688  35970.988281  4712.020020  1.884\n",
       "\n",
       "[63 rows x 4 columns]"
      ]
     },
     "execution_count": 220,
     "metadata": {},
     "output_type": "execute_result"
    }
   ],
   "source": [
    "# Create df with variables using function\n",
    "# Dow = ^DJI\n",
    "# SP500 = ^GSPC\n",
    "# 30-Year TSY = ^TYX\n",
    "# Crypto pairs 'CRYPTOTICKER-USD'\n",
    "\n",
    "df = asset_df('^TYX','BTC-USD','^DJI','^GSPC')\n",
    "df"
   ]
  },
  {
   "cell_type": "code",
   "execution_count": 221,
   "id": "d0f15eee-2415-4c37-bc20-0009912f3d31",
   "metadata": {},
   "outputs": [],
   "source": [
    "# data = yf.download(tickers=['BTC-USD','ETH-USD'], period = '90d', interval = '1d')\n",
    "# data"
   ]
  },
  {
   "cell_type": "code",
   "execution_count": 222,
   "id": "e68596a0-2fa6-47d1-9747-112e9664769a",
   "metadata": {},
   "outputs": [],
   "source": [
    "# Create df with yahoo finance close prices and a df to convert to % change\n",
    "# crypto_price_df = data['Close']\n",
    "\n",
    "# crypto_price_chg_df = crypto_price_df.pct_change()\n",
    "# crypto_price_chg_df.dropna()"
   ]
  },
  {
   "cell_type": "code",
   "execution_count": 223,
   "id": "f3763793-ed73-45ae-8f5f-af3a4386e704",
   "metadata": {},
   "outputs": [],
   "source": [
    "\n",
    "# # Graph Correlation between BTC & ETH\n",
    "# crypto_corr = crypto_price_df.corr()\n",
    "# crypto_corr_plot = crypto_corr.hvplot.heatmap()\n",
    "# crypto_corr_plot\n",
    "\n",
    "# Create function to run correlation matrix on any asset\n",
    "def asset_corr(df):\n",
    "    pct_chg_df = df.pct_change()\n",
    "    df_corr = pct_chg_df.corr()\n",
    "    df_corr_plot = df_corr.hvplot.heatmap()\n",
    "    return df_corr_plot\n",
    "    "
   ]
  },
  {
   "cell_type": "code",
   "execution_count": 224,
   "id": "964dc4e6-2c70-497c-85cb-ffda866e0a3c",
   "metadata": {},
   "outputs": [
    {
     "data": {},
     "metadata": {},
     "output_type": "display_data"
    },
    {
     "data": {
      "application/vnd.holoviews_exec.v0+json": "",
      "text/html": [
       "<div id='5894'>\n",
       "\n",
       "\n",
       "\n",
       "\n",
       "\n",
       "  <div class=\"bk-root\" id=\"06c16fc9-2ee6-42fb-bd17-65b8ecefdd5d\" data-root-id=\"5894\"></div>\n",
       "</div>\n",
       "<script type=\"application/javascript\">(function(root) {\n",
       "  function embed_document(root) {\n",
       "    var docs_json = {\"e9084a36-8464-4f42-80c5-8387726cf477\":{\"defs\":[{\"extends\":null,\"module\":null,\"name\":\"ReactiveHTML1\",\"overrides\":[],\"properties\":[]},{\"extends\":null,\"module\":null,\"name\":\"FlexBox1\",\"overrides\":[],\"properties\":[{\"default\":\"flex-start\",\"kind\":null,\"name\":\"align_content\"},{\"default\":\"flex-start\",\"kind\":null,\"name\":\"align_items\"},{\"default\":\"row\",\"kind\":null,\"name\":\"flex_direction\"},{\"default\":\"wrap\",\"kind\":null,\"name\":\"flex_wrap\"},{\"default\":\"flex-start\",\"kind\":null,\"name\":\"justify_content\"}]},{\"extends\":null,\"module\":null,\"name\":\"TemplateActions1\",\"overrides\":[],\"properties\":[{\"default\":0,\"kind\":null,\"name\":\"open_modal\"},{\"default\":0,\"kind\":null,\"name\":\"close_modal\"}]},{\"extends\":null,\"module\":null,\"name\":\"MaterialTemplateActions1\",\"overrides\":[],\"properties\":[{\"default\":0,\"kind\":null,\"name\":\"open_modal\"},{\"default\":0,\"kind\":null,\"name\":\"close_modal\"}]}],\"roots\":{\"references\":[{\"attributes\":{\"axis\":{\"id\":\"5908\"},\"coordinates\":null,\"grid_line_color\":null,\"group\":null,\"ticker\":null},\"id\":\"5910\",\"type\":\"Grid\"},{\"attributes\":{\"high\":1.0,\"low\":0.09720285480108454,\"nan_color\":\"white\",\"palette\":[\"#b3fef5\",\"#b0fef5\",\"#adfdf5\",\"#a9fcf5\",\"#a6fbf6\",\"#a3faf6\",\"#a0faf6\",\"#9df9f6\",\"#9af8f6\",\"#97f7f6\",\"#93f7f6\",\"#90f6f6\",\"#8df5f6\",\"#8af4f7\",\"#87f3f7\",\"#83f2f7\",\"#80f2f7\",\"#7df1f7\",\"#79f0f7\",\"#76eff7\",\"#73eef7\",\"#6fedf8\",\"#6cecf8\",\"#68ecf8\",\"#65ebf8\",\"#61eaf8\",\"#5ee9f8\",\"#5ae8f8\",\"#57e7f8\",\"#53e6f8\",\"#50e5f9\",\"#4ce4f9\",\"#49e3f9\",\"#45e2f9\",\"#42e1f9\",\"#3ee0f9\",\"#3bdff9\",\"#38def9\",\"#35ddf9\",\"#32dcf9\",\"#30dbfa\",\"#2ed9fa\",\"#2dd8fa\",\"#2cd7fa\",\"#2bd6fa\",\"#2bd5fa\",\"#2ad3fa\",\"#2ad2fa\",\"#29d1fa\",\"#29d0fb\",\"#29cffb\",\"#28cdfb\",\"#28ccfb\",\"#28cbfb\",\"#28cafb\",\"#28c8fb\",\"#28c7fb\",\"#29c6fb\",\"#29c5fb\",\"#29c4fb\",\"#29c2fb\",\"#2ac1fb\",\"#2ac0fb\",\"#2bbffb\",\"#2bbdfc\",\"#2cbcfc\",\"#2dbbfc\",\"#2db9fc\",\"#2eb8fc\",\"#2fb7fc\",\"#2fb6fc\",\"#30b4fc\",\"#31b3fc\",\"#32b2fc\",\"#32b0fc\",\"#33affc\",\"#33aefc\",\"#34adfc\",\"#34abfc\",\"#34aafc\",\"#35a9fc\",\"#35a8fc\",\"#35a6fc\",\"#35a5fc\",\"#35a4fc\",\"#35a3fc\",\"#35a1fc\",\"#35a0fc\",\"#359ffc\",\"#359dfc\",\"#359cfc\",\"#359bfc\",\"#349afd\",\"#3498fd\",\"#3497fd\",\"#3396fd\",\"#3395fd\",\"#3293fd\",\"#3292fd\",\"#3191fd\",\"#3090fd\",\"#308ffd\",\"#2f8dfd\",\"#2f8cfd\",\"#2e8bfd\",\"#2e8afd\",\"#2d88fd\",\"#2d87fd\",\"#2c86fd\",\"#2c84fd\",\"#2c83fd\",\"#2c82fd\",\"#2b81fd\",\"#2b7ffd\",\"#2b7efd\",\"#2b7dfd\",\"#2b7bfd\",\"#2b7afd\",\"#2b79fd\",\"#2b77fd\",\"#2b76fd\",\"#2b75fd\",\"#2b73fd\",\"#2c72fd\",\"#2c71fd\",\"#2c6ffd\",\"#2c6efd\",\"#2d6cfd\",\"#2d6bfd\",\"#2d6afc\",\"#2e68fc\",\"#2e67fc\",\"#2e65fc\",\"#2e64fc\",\"#2f62fc\",\"#2f61fc\",\"#2f5ffc\",\"#2f5efc\",\"#2f5dfc\",\"#2f5bfc\",\"#2f5afc\",\"#2f58fb\",\"#2f57fb\",\"#2f55fb\",\"#2f53fb\",\"#2f52fb\",\"#2f50fb\",\"#2f4ffb\",\"#2f4dfb\",\"#2e4cfb\",\"#2e4afb\",\"#2e48fb\",\"#2e47fa\",\"#2d45fa\",\"#2d43fa\",\"#2d42fa\",\"#2d40fa\",\"#2c3efa\",\"#2c3dfa\",\"#2b3bf9\",\"#2b39f9\",\"#2a37f9\",\"#2a36f8\",\"#2934f8\",\"#2832f7\",\"#2831f7\",\"#272ff6\",\"#262ef5\",\"#252cf5\",\"#252af4\",\"#2429f3\",\"#2327f2\",\"#2226f1\",\"#2124f0\",\"#2023ef\",\"#1f22ee\",\"#1e20ed\",\"#1d1feb\",\"#1c1eea\",\"#1b1ce9\",\"#1a1be7\",\"#181ae6\",\"#1719e5\",\"#1618e3\",\"#1417e1\",\"#1316e0\",\"#1215de\",\"#1014dc\",\"#0f13db\",\"#0e12d9\",\"#0d11d7\",\"#0c10d5\",\"#0b0fd3\",\"#0a0ed1\",\"#090dd0\",\"#080dce\",\"#080ccc\",\"#070bca\",\"#070ac8\",\"#0709c6\",\"#0708c4\",\"#0707c2\",\"#0707bf\",\"#0806bd\",\"#0806bb\",\"#0905b9\",\"#0904b7\",\"#0a04b5\",\"#0a04b2\",\"#0b03b0\",\"#0c03ae\",\"#0d02ab\",\"#0e02a9\",\"#0e02a7\",\"#0f02a4\",\"#0f01a2\",\"#1001a0\",\"#10019d\",\"#10019b\",\"#100199\",\"#100197\",\"#100194\",\"#0f0192\",\"#0f0190\",\"#0f018e\",\"#0e018b\",\"#0e0189\",\"#0d0187\",\"#0d0185\",\"#0c0183\",\"#0b0181\",\"#0b017e\",\"#0a017c\",\"#09017a\",\"#090178\",\"#080276\",\"#070274\",\"#060272\",\"#060270\",\"#05026e\",\"#04026c\",\"#030269\",\"#030267\",\"#020265\",\"#010263\",\"#010261\",\"#00025f\",\"#00025d\",\"#00025b\",\"#000259\",\"#000257\",\"#000255\",\"#000154\",\"#000152\",\"#000150\",\"#00004e\"]},\"id\":\"5927\",\"type\":\"LinearColorMapper\"},{\"attributes\":{\"factors\":[\"BTC-USD\",\"^DJI\",\"^GSPC\",\"^TYX\"],\"tags\":[[[\"index\",\"index\",null]]]},\"id\":\"5897\",\"type\":\"FactorRange\"},{\"attributes\":{},\"id\":\"5940\",\"type\":\"CategoricalTickFormatter\"},{\"attributes\":{\"margin\":[5,5,5,5],\"name\":\"HSpacer07407\",\"sizing_mode\":\"stretch_width\"},\"id\":\"5895\",\"type\":\"Spacer\"},{\"attributes\":{\"overlay\":{\"id\":\"5919\"}},\"id\":\"5917\",\"type\":\"BoxZoomTool\"},{\"attributes\":{\"axis_label\":\"\",\"coordinates\":null,\"formatter\":{\"id\":\"5940\"},\"group\":null,\"major_label_policy\":{\"id\":\"5941\"},\"ticker\":{\"id\":\"5909\"}},\"id\":\"5908\",\"type\":\"CategoricalAxis\"},{\"attributes\":{},\"id\":\"5916\",\"type\":\"WheelZoomTool\"},{\"attributes\":{},\"id\":\"5929\",\"type\":\"Selection\"},{\"attributes\":{},\"id\":\"5949\",\"type\":\"NoOverlap\"},{\"attributes\":{},\"id\":\"5918\",\"type\":\"ResetTool\"},{\"attributes\":{},\"id\":\"5912\",\"type\":\"CategoricalTicker\"},{\"attributes\":{},\"id\":\"5906\",\"type\":\"CategoricalScale\"},{\"attributes\":{\"source\":{\"id\":\"5928\"}},\"id\":\"5936\",\"type\":\"CDSView\"},{\"attributes\":{},\"id\":\"5944\",\"type\":\"AllLabels\"},{\"attributes\":{},\"id\":\"5937\",\"type\":\"BasicTicker\"},{\"attributes\":{},\"id\":\"5909\",\"type\":\"CategoricalTicker\"},{\"attributes\":{\"bottom_units\":\"screen\",\"coordinates\":null,\"fill_alpha\":0.5,\"fill_color\":\"lightgrey\",\"group\":null,\"left_units\":\"screen\",\"level\":\"overlay\",\"line_alpha\":1.0,\"line_color\":\"black\",\"line_dash\":[4,4],\"line_width\":2,\"right_units\":\"screen\",\"syncable\":false,\"top_units\":\"screen\"},\"id\":\"5919\",\"type\":\"BoxAnnotation\"},{\"attributes\":{\"children\":[{\"id\":\"5895\"},{\"id\":\"5899\"},{\"id\":\"5967\"}],\"margin\":[0,0,0,0],\"name\":\"Row07403\",\"tags\":[\"embedded\"]},\"id\":\"5894\",\"type\":\"Row\"},{\"attributes\":{\"axis_label\":\"\",\"coordinates\":null,\"formatter\":{\"id\":\"5943\"},\"group\":null,\"major_label_policy\":{\"id\":\"5944\"},\"ticker\":{\"id\":\"5912\"}},\"id\":\"5911\",\"type\":\"CategoricalAxis\"},{\"attributes\":{},\"id\":\"5914\",\"type\":\"SaveTool\"},{\"attributes\":{},\"id\":\"5943\",\"type\":\"CategoricalTickFormatter\"},{\"attributes\":{},\"id\":\"5941\",\"type\":\"AllLabels\"},{\"attributes\":{},\"id\":\"5904\",\"type\":\"CategoricalScale\"},{\"attributes\":{\"coordinates\":null,\"data_source\":{\"id\":\"5928\"},\"glyph\":{\"id\":\"5931\"},\"group\":null,\"hover_glyph\":null,\"muted_glyph\":{\"id\":\"5934\"},\"nonselection_glyph\":{\"id\":\"5932\"},\"selection_glyph\":{\"id\":\"5933\"},\"view\":{\"id\":\"5936\"}},\"id\":\"5935\",\"type\":\"GlyphRenderer\"},{\"attributes\":{\"fill_color\":{\"field\":\"zvalues\",\"transform\":{\"id\":\"5927\"}},\"height\":{\"value\":1},\"line_alpha\":{\"value\":0},\"line_color\":{\"value\":\"#1f77b4\"},\"width\":{\"value\":1},\"x\":{\"field\":\"columns\"},\"y\":{\"field\":\"index\"}},\"id\":\"5931\",\"type\":\"Rect\"},{\"attributes\":{},\"id\":\"5915\",\"type\":\"PanTool\"},{\"attributes\":{\"below\":[{\"id\":\"5908\"}],\"center\":[{\"id\":\"5910\"},{\"id\":\"5913\"}],\"height\":300,\"left\":[{\"id\":\"5911\"}],\"margin\":[5,5,5,5],\"min_border_bottom\":10,\"min_border_left\":10,\"min_border_right\":10,\"min_border_top\":10,\"renderers\":[{\"id\":\"5935\"}],\"right\":[{\"id\":\"5938\"}],\"sizing_mode\":\"fixed\",\"title\":{\"id\":\"5900\"},\"toolbar\":{\"id\":\"5920\"},\"width\":700,\"x_range\":{\"id\":\"5896\"},\"x_scale\":{\"id\":\"5904\"},\"y_range\":{\"id\":\"5897\"},\"y_scale\":{\"id\":\"5906\"}},\"id\":\"5899\",\"subtype\":\"Figure\",\"type\":\"Plot\"},{\"attributes\":{\"data\":{\"columns\":[\"BTC-USD\",\"BTC-USD\",\"BTC-USD\",\"BTC-USD\",\"^DJI\",\"^DJI\",\"^DJI\",\"^DJI\",\"^GSPC\",\"^GSPC\",\"^GSPC\",\"^GSPC\",\"^TYX\",\"^TYX\",\"^TYX\",\"^TYX\"],\"index\":[\"BTC-USD\",\"^DJI\",\"^GSPC\",\"^TYX\",\"BTC-USD\",\"^DJI\",\"^GSPC\",\"^TYX\",\"BTC-USD\",\"^DJI\",\"^GSPC\",\"^TYX\",\"BTC-USD\",\"^DJI\",\"^GSPC\",\"^TYX\"],\"value\":[\"1\",\"0.2614\",\"0.29996\",\"0.097203\",\"0.2614\",\"1\",\"0.93425\",\"0.43854\",\"0.29996\",\"0.93425\",\"1\",\"0.37942\",\"0.097203\",\"0.43854\",\"0.37942\",\"1\"],\"zvalues\":{\"__ndarray__\":\"AAAAAAAA8D8CiiuQt7rQP/cXJ16GMtM/jNBySkniuD8CiiuQt7rQPwAAAAAAAPA/pqHoYF/l7T/14SyWAxHcP/cXJ16GMtM/pqHoYF/l7T8AAAAAAADwP3Pw0nx8SNg/jNBySkniuD/14SyWAxHcP3Pw0nx8SNg/AAAAAAAA8D8=\",\"dtype\":\"float64\",\"order\":\"little\",\"shape\":[16]}},\"selected\":{\"id\":\"5929\"},\"selection_policy\":{\"id\":\"5953\"}},\"id\":\"5928\",\"type\":\"ColumnDataSource\"},{\"attributes\":{\"fill_alpha\":{\"value\":0.1},\"fill_color\":{\"field\":\"zvalues\",\"transform\":{\"id\":\"5927\"}},\"hatch_alpha\":{\"value\":0.1},\"height\":{\"value\":1},\"line_alpha\":{\"value\":0},\"line_color\":{\"value\":\"#1f77b4\"},\"width\":{\"value\":1},\"x\":{\"field\":\"columns\"},\"y\":{\"field\":\"index\"}},\"id\":\"5932\",\"type\":\"Rect\"},{\"attributes\":{\"margin\":[5,5,5,5],\"name\":\"HSpacer07408\",\"sizing_mode\":\"stretch_width\"},\"id\":\"5967\",\"type\":\"Spacer\"},{\"attributes\":{\"factors\":[\"BTC-USD\",\"^DJI\",\"^GSPC\",\"^TYX\"],\"tags\":[[[\"columns\",\"columns\",null]]]},\"id\":\"5896\",\"type\":\"FactorRange\"},{\"attributes\":{\"bar_line_color\":\"black\",\"color_mapper\":{\"id\":\"5927\"},\"coordinates\":null,\"group\":null,\"label_standoff\":8,\"location\":[0,0],\"major_label_policy\":{\"id\":\"5949\"},\"major_tick_line_color\":\"black\",\"ticker\":{\"id\":\"5937\"}},\"id\":\"5938\",\"type\":\"ColorBar\"},{\"attributes\":{\"fill_alpha\":{\"value\":0.2},\"fill_color\":{\"field\":\"zvalues\",\"transform\":{\"id\":\"5927\"}},\"hatch_alpha\":{\"value\":0.2},\"height\":{\"value\":1},\"line_alpha\":{\"value\":0},\"line_color\":{\"value\":\"#1f77b4\"},\"width\":{\"value\":1},\"x\":{\"field\":\"columns\"},\"y\":{\"field\":\"index\"}},\"id\":\"5934\",\"type\":\"Rect\"},{\"attributes\":{\"callback\":null,\"renderers\":[{\"id\":\"5935\"}],\"tags\":[\"hv_created\"],\"tooltips\":[[\"columns\",\"@{columns}\"],[\"index\",\"@{index}\"],[\"value\",\"@{value}\"]]},\"id\":\"5898\",\"type\":\"HoverTool\"},{\"attributes\":{},\"id\":\"5953\",\"type\":\"UnionRenderers\"},{\"attributes\":{\"axis\":{\"id\":\"5911\"},\"coordinates\":null,\"dimension\":1,\"grid_line_color\":null,\"group\":null,\"ticker\":null},\"id\":\"5913\",\"type\":\"Grid\"},{\"attributes\":{\"fill_color\":{\"field\":\"zvalues\",\"transform\":{\"id\":\"5927\"}},\"height\":{\"value\":1},\"line_alpha\":{\"value\":0},\"line_color\":{\"value\":\"#1f77b4\"},\"width\":{\"value\":1},\"x\":{\"field\":\"columns\"},\"y\":{\"field\":\"index\"}},\"id\":\"5933\",\"type\":\"Rect\"},{\"attributes\":{\"coordinates\":null,\"group\":null,\"text_color\":\"black\",\"text_font_size\":\"12pt\"},\"id\":\"5900\",\"type\":\"Title\"},{\"attributes\":{\"tools\":[{\"id\":\"5898\"},{\"id\":\"5914\"},{\"id\":\"5915\"},{\"id\":\"5916\"},{\"id\":\"5917\"},{\"id\":\"5918\"}]},\"id\":\"5920\",\"type\":\"Toolbar\"}],\"root_ids\":[\"5894\"]},\"title\":\"Bokeh Application\",\"version\":\"2.4.2\"}};\n",
       "    var render_items = [{\"docid\":\"e9084a36-8464-4f42-80c5-8387726cf477\",\"root_ids\":[\"5894\"],\"roots\":{\"5894\":\"06c16fc9-2ee6-42fb-bd17-65b8ecefdd5d\"}}];\n",
       "    root.Bokeh.embed.embed_items_notebook(docs_json, render_items);\n",
       "  }\n",
       "  if (root.Bokeh !== undefined && root.Bokeh.Panel !== undefined) {\n",
       "    embed_document(root);\n",
       "  } else {\n",
       "    var attempts = 0;\n",
       "    var timer = setInterval(function(root) {\n",
       "      if (root.Bokeh !== undefined && root.Bokeh.Panel !== undefined) {\n",
       "        clearInterval(timer);\n",
       "        embed_document(root);\n",
       "      } else if (document.readyState == \"complete\") {\n",
       "        attempts++;\n",
       "        if (attempts > 200) {\n",
       "          clearInterval(timer);\n",
       "          console.log(\"Bokeh: ERROR: Unable to run BokehJS code because BokehJS library is missing\");\n",
       "        }\n",
       "      }\n",
       "    }, 25, root)\n",
       "  }\n",
       "})(window);</script>"
      ],
      "text/plain": [
       ":HeatMap   [columns,index]   (value)"
      ]
     },
     "execution_count": 224,
     "metadata": {
      "application/vnd.holoviews_exec.v0+json": {
       "id": "5894"
      }
     },
     "output_type": "execute_result"
    }
   ],
   "source": [
    "asset_corr(df)"
   ]
  },
  {
   "cell_type": "code",
   "execution_count": 225,
   "id": "c7997325-4653-4356-8473-4154b11672f1",
   "metadata": {},
   "outputs": [
    {
     "data": {},
     "metadata": {},
     "output_type": "display_data"
    },
    {
     "data": {
      "application/vnd.holoviews_exec.v0+json": "",
      "text/html": [
       "<div id='6024'>\n",
       "\n",
       "\n",
       "\n",
       "\n",
       "\n",
       "  <div class=\"bk-root\" id=\"ea836d12-2f5e-4d07-ae25-a7928d7f95a9\" data-root-id=\"6024\"></div>\n",
       "</div>\n",
       "<script type=\"application/javascript\">(function(root) {\n",
       "  function embed_document(root) {\n",
       "    var docs_json = {\"67ea027e-2c6f-400d-b8c7-f33e4f09f33a\":{\"defs\":[{\"extends\":null,\"module\":null,\"name\":\"ReactiveHTML1\",\"overrides\":[],\"properties\":[]},{\"extends\":null,\"module\":null,\"name\":\"FlexBox1\",\"overrides\":[],\"properties\":[{\"default\":\"flex-start\",\"kind\":null,\"name\":\"align_content\"},{\"default\":\"flex-start\",\"kind\":null,\"name\":\"align_items\"},{\"default\":\"row\",\"kind\":null,\"name\":\"flex_direction\"},{\"default\":\"wrap\",\"kind\":null,\"name\":\"flex_wrap\"},{\"default\":\"flex-start\",\"kind\":null,\"name\":\"justify_content\"}]},{\"extends\":null,\"module\":null,\"name\":\"TemplateActions1\",\"overrides\":[],\"properties\":[{\"default\":0,\"kind\":null,\"name\":\"open_modal\"},{\"default\":0,\"kind\":null,\"name\":\"close_modal\"}]},{\"extends\":null,\"module\":null,\"name\":\"MaterialTemplateActions1\",\"overrides\":[],\"properties\":[{\"default\":0,\"kind\":null,\"name\":\"open_modal\"},{\"default\":0,\"kind\":null,\"name\":\"close_modal\"}]}],\"roots\":{\"references\":[{\"attributes\":{\"months\":[0,2,4,6,8,10]},\"id\":\"6092\",\"type\":\"MonthsTicker\"},{\"attributes\":{\"coordinates\":null,\"group\":null,\"text_color\":\"black\",\"text_font_size\":\"12pt\"},\"id\":\"6031\",\"type\":\"Title\"},{\"attributes\":{\"overlay\":{\"id\":\"6052\"}},\"id\":\"6050\",\"type\":\"BoxZoomTool\"},{\"attributes\":{},\"id\":\"6062\",\"type\":\"AllLabels\"},{\"attributes\":{\"axis\":{\"id\":\"6039\"},\"coordinates\":null,\"grid_line_color\":null,\"group\":null,\"ticker\":null},\"id\":\"6042\",\"type\":\"Grid\"},{\"attributes\":{\"axis_label\":\"Date\",\"coordinates\":null,\"formatter\":{\"id\":\"6061\"},\"group\":null,\"major_label_policy\":{\"id\":\"6062\"},\"ticker\":{\"id\":\"6040\"}},\"id\":\"6039\",\"type\":\"DatetimeAxis\"},{\"attributes\":{\"line_color\":\"#fc4f30\",\"line_width\":2,\"x\":{\"field\":\"Date\"},\"y\":{\"field\":\"value\"}},\"id\":\"6102\",\"type\":\"Line\"},{\"attributes\":{},\"id\":\"6047\",\"type\":\"SaveTool\"},{\"attributes\":{},\"id\":\"6044\",\"type\":\"BasicTicker\"},{\"attributes\":{},\"id\":\"6064\",\"type\":\"BasicTickFormatter\"},{\"attributes\":{\"months\":[0,1,2,3,4,5,6,7,8,9,10,11]},\"id\":\"6091\",\"type\":\"MonthsTicker\"},{\"attributes\":{},\"id\":\"6095\",\"type\":\"YearsTicker\"},{\"attributes\":{\"margin\":[5,5,5,5],\"name\":\"HSpacer07608\",\"sizing_mode\":\"stretch_width\"},\"id\":\"6349\",\"type\":\"Spacer\"},{\"attributes\":{\"margin\":[5,5,5,5],\"name\":\"HSpacer07607\",\"sizing_mode\":\"stretch_width\"},\"id\":\"6025\",\"type\":\"Spacer\"},{\"attributes\":{\"axis\":{\"id\":\"6043\"},\"coordinates\":null,\"dimension\":1,\"grid_line_color\":null,\"group\":null,\"ticker\":null},\"id\":\"6046\",\"type\":\"Grid\"},{\"attributes\":{\"line_color\":\"#30a2da\",\"line_width\":2,\"x\":{\"field\":\"Date\"},\"y\":{\"field\":\"value\"}},\"id\":\"6069\",\"type\":\"Line\"},{\"attributes\":{\"axis_label\":\"\",\"coordinates\":null,\"formatter\":{\"id\":\"6064\"},\"group\":null,\"major_label_policy\":{\"id\":\"6065\"},\"ticker\":{\"id\":\"6044\"}},\"id\":\"6043\",\"type\":\"LinearAxis\"},{\"attributes\":{\"tools\":[{\"id\":\"6028\"},{\"id\":\"6047\"},{\"id\":\"6048\"},{\"id\":\"6049\"},{\"id\":\"6050\"},{\"id\":\"6051\"}]},\"id\":\"6053\",\"type\":\"Toolbar\"},{\"attributes\":{\"days\":[1,4,7,10,13,16,19,22,25,28]},\"id\":\"6088\",\"type\":\"DaysTicker\"},{\"attributes\":{},\"id\":\"6035\",\"type\":\"LinearScale\"},{\"attributes\":{\"days\":[1,15]},\"id\":\"6090\",\"type\":\"DaysTicker\"},{\"attributes\":{\"coordinates\":null,\"data_source\":{\"id\":\"6099\"},\"glyph\":{\"id\":\"6102\"},\"group\":null,\"hover_glyph\":null,\"muted_glyph\":{\"id\":\"6104\"},\"nonselection_glyph\":{\"id\":\"6103\"},\"selection_glyph\":{\"id\":\"6132\"},\"view\":{\"id\":\"6106\"}},\"id\":\"6105\",\"type\":\"GlyphRenderer\"},{\"attributes\":{\"line_alpha\":0.2,\"line_color\":\"#30a2da\",\"line_width\":2,\"x\":{\"field\":\"Date\"},\"y\":{\"field\":\"value\"}},\"id\":\"6071\",\"type\":\"Line\"},{\"attributes\":{\"label\":{\"value\":\"BTC-USD\"},\"renderers\":[{\"id\":\"6072\"}]},\"id\":\"6097\",\"type\":\"LegendItem\"},{\"attributes\":{\"callback\":null,\"formatters\":{\"@{Date}\":\"datetime\"},\"renderers\":[{\"id\":\"6072\"},{\"id\":\"6105\"}],\"tags\":[\"hv_created\"],\"tooltips\":[[\"Variable\",\"@{Variable}\"],[\"Date\",\"@{Date}{%F %T}\"],[\"value\",\"@{value}\"]]},\"id\":\"6028\",\"type\":\"HoverTool\"},{\"attributes\":{\"months\":[0,6]},\"id\":\"6094\",\"type\":\"MonthsTicker\"},{\"attributes\":{\"end\":1639180800000.0,\"reset_end\":1639180800000.0,\"reset_start\":1631491200000.0,\"start\":1631491200000.0,\"tags\":[[[\"Date\",\"Date\",null]]]},\"id\":\"6026\",\"type\":\"Range1d\"},{\"attributes\":{},\"id\":\"6051\",\"type\":\"ResetTool\"},{\"attributes\":{\"line_color\":\"#fc4f30\",\"line_width\":2,\"x\":{\"field\":\"Date\"},\"y\":{\"field\":\"value\"}},\"id\":\"6132\",\"type\":\"Line\"},{\"attributes\":{},\"id\":\"6061\",\"type\":\"DatetimeTickFormatter\"},{\"attributes\":{\"bottom_units\":\"screen\",\"coordinates\":null,\"fill_alpha\":0.5,\"fill_color\":\"lightgrey\",\"group\":null,\"left_units\":\"screen\",\"level\":\"overlay\",\"line_alpha\":1.0,\"line_color\":\"black\",\"line_dash\":[4,4],\"line_width\":2,\"right_units\":\"screen\",\"syncable\":false,\"top_units\":\"screen\"},\"id\":\"6052\",\"type\":\"BoxAnnotation\"},{\"attributes\":{\"days\":[1,2,3,4,5,6,7,8,9,10,11,12,13,14,15,16,17,18,19,20,21,22,23,24,25,26,27,28,29,30,31]},\"id\":\"6087\",\"type\":\"DaysTicker\"},{\"attributes\":{\"data\":{\"Date\":{\"__ndarray__\":\"AABAQce9d0IAAACnGb53QgAAwAxsvndCAACAcr6+d0IAAEDYEL93QgAAAD5jv3dCAADAo7W/d0IAAIAJCMB3QgAAQG9awHdCAAAA1azAd0IAAMA6/8B3QgAAgKBRwXdCAABABqTBd0IAAABs9sF3QgAAwNFIwndCAACAN5vCd0IAAECd7cJ3QgAAAANAw3dCAADAaJLDd0IAAIDO5MN3QgAAQDQ3xHdCAAAAmonEd0IAAMD/28R3QgAAgGUuxXdCAABAy4DFd0IAAAAx08V3QgAAwJYlxndCAACA/HfGd0IAAEBiysZ3QgAAAMgcx3dCAADALW/Hd0IAAICTwcd3QgAAQPkTyHdCAAAAX2bId0IAAMDEuMh3QgAAgCoLyXdCAABAkF3Jd0IAAAD2r8l3QgAAwFsCyndCAACAwVTKd0IAAEAnp8p3QgAAAI35yndCAADA8kvLd0IAAIBYnst3QgAAQL7wy3dCAAAAJEPMd0IAAMCJlcx3QgAAgO/nzHdCAABAVTrNd0IAAAC7jM13QgAAwCDfzXdCAACAhjHOd0IAAEDsg853QgAAAFLWzndCAADAtyjPd0IAAIAde893QgAAQIPNz3dCAAAA6R/Qd0IAAMBOctB3QgAAgLTE0HdCAABAGhfRd0IAAACAadF3QgAAwOW70XdCAACASw7Sd0IAAECxYNJ3QgAAABez0ndCAADAfAXTd0IAAIDiV9N3QgAAQEiq03dCAAAArvzTd0IAAMATT9R3QgAAgHmh1HdCAABA3/PUd0IAAABFRtV3QgAAwKqY1XdCAACAEOvVd0IAAEB2PdZ3QgAAANyP1ndCAADAQeLWd0IAAICnNNd3QgAAQA2H13dCAAAAc9nXd0IAAMDYK9h3QgAAgD5+2HdCAABApNDYd0IAAAAKI9l3QgAAwG912XdCAACA1cfZd0IAAEA7Gtp3QgAAAKFs2ndC\",\"dtype\":\"float64\",\"order\":\"little\",\"shape\":[90]},\"Variable\":[\"BTC-USD\",\"BTC-USD\",\"BTC-USD\",\"BTC-USD\",\"BTC-USD\",\"BTC-USD\",\"BTC-USD\",\"BTC-USD\",\"BTC-USD\",\"BTC-USD\",\"BTC-USD\",\"BTC-USD\",\"BTC-USD\",\"BTC-USD\",\"BTC-USD\",\"BTC-USD\",\"BTC-USD\",\"BTC-USD\",\"BTC-USD\",\"BTC-USD\",\"BTC-USD\",\"BTC-USD\",\"BTC-USD\",\"BTC-USD\",\"BTC-USD\",\"BTC-USD\",\"BTC-USD\",\"BTC-USD\",\"BTC-USD\",\"BTC-USD\",\"BTC-USD\",\"BTC-USD\",\"BTC-USD\",\"BTC-USD\",\"BTC-USD\",\"BTC-USD\",\"BTC-USD\",\"BTC-USD\",\"BTC-USD\",\"BTC-USD\",\"BTC-USD\",\"BTC-USD\",\"BTC-USD\",\"BTC-USD\",\"BTC-USD\",\"BTC-USD\",\"BTC-USD\",\"BTC-USD\",\"BTC-USD\",\"BTC-USD\",\"BTC-USD\",\"BTC-USD\",\"BTC-USD\",\"BTC-USD\",\"BTC-USD\",\"BTC-USD\",\"BTC-USD\",\"BTC-USD\",\"BTC-USD\",\"BTC-USD\",\"BTC-USD\",\"BTC-USD\",\"BTC-USD\",\"BTC-USD\",\"BTC-USD\",\"BTC-USD\",\"BTC-USD\",\"BTC-USD\",\"BTC-USD\",\"BTC-USD\",\"BTC-USD\",\"BTC-USD\",\"BTC-USD\",\"BTC-USD\",\"BTC-USD\",\"BTC-USD\",\"BTC-USD\",\"BTC-USD\",\"BTC-USD\",\"BTC-USD\",\"BTC-USD\",\"BTC-USD\",\"BTC-USD\",\"BTC-USD\",\"BTC-USD\",\"BTC-USD\",\"BTC-USD\",\"BTC-USD\",\"BTC-USD\",\"BTC-USD\"],\"value\":{\"__ndarray__\":\"AAAAYGL05UAAAADAj/7mQAAAACALhudAAAAAgOtU50AAAACgcBTnQAAAAKDLkudAAAAAAIcT50AAAACgeevkQAAAAKC13uNAAAAAQNBG5UAAAAAg4+vlQAAAAAD46uRAAAAAAJPb5EAAAABAERnlQAAAAGB3n+RAAAAAYFEJ5EAAAACgi0vkQAAAAKDcYeVAAAAAIJ5+50AAAACg70vnQAAAAID+iOdAAAAA4Bz750AAAAAAWifpQAAAAGAuCOtAAAAAgL9F6kAAAAAg+1nqQAAAACAH1+pAAAAAgHK+6kAAAABAmRHsQAAAAOAhXetAAAAAICMH7EAAAADAMP3rQAAAAGA+E+5AAAAAwIW77UAAAADAMw7uQAAAAIBCSe5AAAAAwL9g70AAAABgjRzwQAAAAIBFYO5AAAAAgIii7UAAAADAM/rtQAAAAMBawO1AAAAAYPrH7kAAAABgeXntQAAAAGBMjuxAAAAAYMSZ7UAAAADgfmLuQAAAAKAaOO5AAAAAoN7w7UAAAAAAjcntQAAAAOBM3+5AAAAAgEG/7kAAAABghwHuQAAAAKC12O1AAAAAYO8K7kAAAACg3+vuQAAAAEDtfvBAAAAAQL1Z8EAAAABgZ7zvQAAAAMC+tu9AAAAAIH5T70AAAADgsHrvQAAAAOBa9+9AAAAA4LsI70AAAADgJ2DtQAAAAGAAeu1AAAAAYMTN60AAAACA8mDsQAAAAEAmJu1AAAAAQE+t7EAAAABAKXzrQAAAAGAiHOxAAAAAoA1760AAAADAVffrQAAAAIA4KOpAAAAAgOLD6kAAAACgDvTrQAAAACDSOexAAAAAoK3V60AAAACAuvHrQAAAACC6k+tAAAAA4Mcr6kAAAACAFgboQAAAACAbG+hAAAAAANSy6EAAAADAgsHoQAAAAIAZqehAAAAA4ANH50AAAADAaRHnQAAAACCi6OdA\",\"dtype\":\"float64\",\"order\":\"little\",\"shape\":[90]}},\"selected\":{\"id\":\"6067\"},\"selection_policy\":{\"id\":\"6081\"}},\"id\":\"6066\",\"type\":\"ColumnDataSource\"},{\"attributes\":{\"line_alpha\":0.1,\"line_color\":\"#fc4f30\",\"line_width\":2,\"x\":{\"field\":\"Date\"},\"y\":{\"field\":\"value\"}},\"id\":\"6103\",\"type\":\"Line\"},{\"attributes\":{\"label\":{\"value\":\"ETH-USD\"},\"renderers\":[{\"id\":\"6105\"}]},\"id\":\"6131\",\"type\":\"LegendItem\"},{\"attributes\":{\"source\":{\"id\":\"6099\"}},\"id\":\"6106\",\"type\":\"CDSView\"},{\"attributes\":{\"data\":{\"Date\":{\"__ndarray__\":\"AABAQce9d0IAAACnGb53QgAAwAxsvndCAACAcr6+d0IAAEDYEL93QgAAAD5jv3dCAADAo7W/d0IAAIAJCMB3QgAAQG9awHdCAAAA1azAd0IAAMA6/8B3QgAAgKBRwXdCAABABqTBd0IAAABs9sF3QgAAwNFIwndCAACAN5vCd0IAAECd7cJ3QgAAAANAw3dCAADAaJLDd0IAAIDO5MN3QgAAQDQ3xHdCAAAAmonEd0IAAMD/28R3QgAAgGUuxXdCAABAy4DFd0IAAAAx08V3QgAAwJYlxndCAACA/HfGd0IAAEBiysZ3QgAAAMgcx3dCAADALW/Hd0IAAICTwcd3QgAAQPkTyHdCAAAAX2bId0IAAMDEuMh3QgAAgCoLyXdCAABAkF3Jd0IAAAD2r8l3QgAAwFsCyndCAACAwVTKd0IAAEAnp8p3QgAAAI35yndCAADA8kvLd0IAAIBYnst3QgAAQL7wy3dCAAAAJEPMd0IAAMCJlcx3QgAAgO/nzHdCAABAVTrNd0IAAAC7jM13QgAAwCDfzXdCAACAhjHOd0IAAEDsg853QgAAAFLWzndCAADAtyjPd0IAAIAde893QgAAQIPNz3dCAAAA6R/Qd0IAAMBOctB3QgAAgLTE0HdCAABAGhfRd0IAAACAadF3QgAAwOW70XdCAACASw7Sd0IAAECxYNJ3QgAAABez0ndCAADAfAXTd0IAAIDiV9N3QgAAQEiq03dCAAAArvzTd0IAAMATT9R3QgAAgHmh1HdCAABA3/PUd0IAAABFRtV3QgAAwKqY1XdCAACAEOvVd0IAAEB2PdZ3QgAAANyP1ndCAADAQeLWd0IAAICnNNd3QgAAQA2H13dCAAAAc9nXd0IAAMDYK9h3QgAAgD5+2HdCAABApNDYd0IAAAAKI9l3QgAAwG912XdCAACA1cfZd0IAAEA7Gtp3QgAAAKFs2ndC\",\"dtype\":\"float64\",\"order\":\"little\",\"shape\":[90]},\"Variable\":[\"ETH-USD\",\"ETH-USD\",\"ETH-USD\",\"ETH-USD\",\"ETH-USD\",\"ETH-USD\",\"ETH-USD\",\"ETH-USD\",\"ETH-USD\",\"ETH-USD\",\"ETH-USD\",\"ETH-USD\",\"ETH-USD\",\"ETH-USD\",\"ETH-USD\",\"ETH-USD\",\"ETH-USD\",\"ETH-USD\",\"ETH-USD\",\"ETH-USD\",\"ETH-USD\",\"ETH-USD\",\"ETH-USD\",\"ETH-USD\",\"ETH-USD\",\"ETH-USD\",\"ETH-USD\",\"ETH-USD\",\"ETH-USD\",\"ETH-USD\",\"ETH-USD\",\"ETH-USD\",\"ETH-USD\",\"ETH-USD\",\"ETH-USD\",\"ETH-USD\",\"ETH-USD\",\"ETH-USD\",\"ETH-USD\",\"ETH-USD\",\"ETH-USD\",\"ETH-USD\",\"ETH-USD\",\"ETH-USD\",\"ETH-USD\",\"ETH-USD\",\"ETH-USD\",\"ETH-USD\",\"ETH-USD\",\"ETH-USD\",\"ETH-USD\",\"ETH-USD\",\"ETH-USD\",\"ETH-USD\",\"ETH-USD\",\"ETH-USD\",\"ETH-USD\",\"ETH-USD\",\"ETH-USD\",\"ETH-USD\",\"ETH-USD\",\"ETH-USD\",\"ETH-USD\",\"ETH-USD\",\"ETH-USD\",\"ETH-USD\",\"ETH-USD\",\"ETH-USD\",\"ETH-USD\",\"ETH-USD\",\"ETH-USD\",\"ETH-USD\",\"ETH-USD\",\"ETH-USD\",\"ETH-USD\",\"ETH-USD\",\"ETH-USD\",\"ETH-USD\",\"ETH-USD\",\"ETH-USD\",\"ETH-USD\",\"ETH-USD\",\"ETH-USD\",\"ETH-USD\",\"ETH-USD\",\"ETH-USD\",\"ETH-USD\",\"ETH-USD\",\"ETH-USD\",\"ETH-USD\"],\"value\":{\"__ndarray__\":\"AAAAAAarqUAAAADgVsqqQAAAAMCQPqxAAAAAAJfmq0AAAADgE42qQAAAAGAJ0KpAAAAAYOUCqkAAAACg/B2nQAAAAMDcmKVAAAAAYLwLqEAAAAAgDKeoQAAAAKBW56ZAAAAAoCHbpkAAAADgh+ynQAAAACBH7KZAAAAA4JfupUAAAABgSUqmQAAAAKBbc6dAAAAAQAjXqUAAAACAY3+qQAAAAKC3tKpAAAAAoC1oqkAAAACACX2rQAAAAMAf+atAAAAAIPMHrEAAAADAhNerQAAAAABv76tAAAAAoLTDqkAAAABAtbKrQAAAAIAlSatAAAAAQGcsrEAAAABAB5StQAAAAABFLa5AAAAAoMPsrUAAAACANQ6uQAAAAECFSa1AAAAAQE1LrkAAAAAA/juwQAAAAEClrK9AAAAAIF0Er0AAAADgqUuwQAAAAGDO769AAAAAgOB5sEAAAAAgGiOwQAAAAMCDtK5AAAAAoFG/sEAAAAAgvz6xQAAAAICm5bBAAAAAABPAsEAAAACAoOSwQAAAAIDM6LFAAAAAoDH/sUAAAAAAU7mxQAAAAEA+hrFAAAAAwJSpsUAAAAAAjgyyQAAAAGAWzLJAAAAAoBF/skAAAACgLByyQAAAAGBierJAAAAAgB07skAAAADgdSuyQAAAAOBbErJAAAAAAIHNsUAAAACAXXiwQAAAAACYv7BAAAAAQE1Br0AAAACATsqwQAAAAGDuObFAAAAAoLutsEAAAABg6vCvQAAAAIDD9LBAAAAAQPuPsEAAAABAvrKwQAAAAGDRfa9AAAAAgOkAsEAAAAAgdMawQAAAAOAaXbFAAAAAoHoXskAAAACA/eqxQAAAAGBNn7FAAAAAwLR8sEAAAABglhewQAAAAKBSZrBAAAAAwLwGsUAAAADAD9uwQAAAAKBbV7FAAAAA4NAXsEAAAAAA/oiuQAAAAIC00a9A\",\"dtype\":\"float64\",\"order\":\"little\",\"shape\":[90]}},\"selected\":{\"id\":\"6100\"},\"selection_policy\":{\"id\":\"6116\"}},\"id\":\"6099\",\"type\":\"ColumnDataSource\"},{\"attributes\":{\"coordinates\":null,\"data_source\":{\"id\":\"6066\"},\"glyph\":{\"id\":\"6069\"},\"group\":null,\"hover_glyph\":null,\"muted_glyph\":{\"id\":\"6071\"},\"nonselection_glyph\":{\"id\":\"6070\"},\"selection_glyph\":{\"id\":\"6098\"},\"view\":{\"id\":\"6073\"}},\"id\":\"6072\",\"type\":\"GlyphRenderer\"},{\"attributes\":{\"line_alpha\":0.2,\"line_color\":\"#fc4f30\",\"line_width\":2,\"x\":{\"field\":\"Date\"},\"y\":{\"field\":\"value\"}},\"id\":\"6104\",\"type\":\"Line\"},{\"attributes\":{\"mantissas\":[1,2,5],\"max_interval\":500.0,\"num_minor_ticks\":0},\"id\":\"6084\",\"type\":\"AdaptiveTicker\"},{\"attributes\":{},\"id\":\"6037\",\"type\":\"LinearScale\"},{\"attributes\":{\"months\":[0,4,8]},\"id\":\"6093\",\"type\":\"MonthsTicker\"},{\"attributes\":{\"end\":74047.06782226563,\"reset_end\":74047.06782226563,\"reset_start\":-3715.808544921875,\"start\":-3715.808544921875,\"tags\":[[[\"value\",\"value\",null]]]},\"id\":\"6027\",\"type\":\"Range1d\"},{\"attributes\":{},\"id\":\"6065\",\"type\":\"AllLabels\"},{\"attributes\":{\"days\":[1,8,15,22]},\"id\":\"6089\",\"type\":\"DaysTicker\"},{\"attributes\":{\"click_policy\":\"mute\",\"coordinates\":null,\"group\":null,\"items\":[{\"id\":\"6097\"},{\"id\":\"6131\"}],\"location\":[0,0],\"title\":\"Variable\"},\"id\":\"6096\",\"type\":\"Legend\"},{\"attributes\":{},\"id\":\"6116\",\"type\":\"UnionRenderers\"},{\"attributes\":{\"base\":24,\"mantissas\":[1,2,4,6,8,12],\"max_interval\":43200000.0,\"min_interval\":3600000.0,\"num_minor_ticks\":0},\"id\":\"6086\",\"type\":\"AdaptiveTicker\"},{\"attributes\":{\"children\":[{\"id\":\"6025\"},{\"id\":\"6030\"},{\"id\":\"6349\"}],\"margin\":[0,0,0,0],\"name\":\"Row07603\",\"tags\":[\"embedded\"]},\"id\":\"6024\",\"type\":\"Row\"},{\"attributes\":{},\"id\":\"6081\",\"type\":\"UnionRenderers\"},{\"attributes\":{\"line_alpha\":0.1,\"line_color\":\"#30a2da\",\"line_width\":2,\"x\":{\"field\":\"Date\"},\"y\":{\"field\":\"value\"}},\"id\":\"6070\",\"type\":\"Line\"},{\"attributes\":{},\"id\":\"6049\",\"type\":\"WheelZoomTool\"},{\"attributes\":{\"num_minor_ticks\":5,\"tickers\":[{\"id\":\"6084\"},{\"id\":\"6085\"},{\"id\":\"6086\"},{\"id\":\"6087\"},{\"id\":\"6088\"},{\"id\":\"6089\"},{\"id\":\"6090\"},{\"id\":\"6091\"},{\"id\":\"6092\"},{\"id\":\"6093\"},{\"id\":\"6094\"},{\"id\":\"6095\"}]},\"id\":\"6040\",\"type\":\"DatetimeTicker\"},{\"attributes\":{},\"id\":\"6100\",\"type\":\"Selection\"},{\"attributes\":{\"below\":[{\"id\":\"6039\"}],\"center\":[{\"id\":\"6042\"},{\"id\":\"6046\"}],\"height\":300,\"left\":[{\"id\":\"6043\"}],\"margin\":[5,5,5,5],\"min_border_bottom\":10,\"min_border_left\":10,\"min_border_right\":10,\"min_border_top\":10,\"renderers\":[{\"id\":\"6072\"},{\"id\":\"6105\"}],\"right\":[{\"id\":\"6096\"}],\"sizing_mode\":\"fixed\",\"title\":{\"id\":\"6031\"},\"toolbar\":{\"id\":\"6053\"},\"width\":700,\"x_range\":{\"id\":\"6026\"},\"x_scale\":{\"id\":\"6035\"},\"y_range\":{\"id\":\"6027\"},\"y_scale\":{\"id\":\"6037\"}},\"id\":\"6030\",\"subtype\":\"Figure\",\"type\":\"Plot\"},{\"attributes\":{\"base\":60,\"mantissas\":[1,2,5,10,15,20,30],\"max_interval\":1800000.0,\"min_interval\":1000.0,\"num_minor_ticks\":0},\"id\":\"6085\",\"type\":\"AdaptiveTicker\"},{\"attributes\":{},\"id\":\"6048\",\"type\":\"PanTool\"},{\"attributes\":{},\"id\":\"6067\",\"type\":\"Selection\"},{\"attributes\":{\"source\":{\"id\":\"6066\"}},\"id\":\"6073\",\"type\":\"CDSView\"},{\"attributes\":{\"line_color\":\"#30a2da\",\"line_width\":2,\"x\":{\"field\":\"Date\"},\"y\":{\"field\":\"value\"}},\"id\":\"6098\",\"type\":\"Line\"}],\"root_ids\":[\"6024\"]},\"title\":\"Bokeh Application\",\"version\":\"2.4.2\"}};\n",
       "    var render_items = [{\"docid\":\"67ea027e-2c6f-400d-b8c7-f33e4f09f33a\",\"root_ids\":[\"6024\"],\"roots\":{\"6024\":\"ea836d12-2f5e-4d07-ae25-a7928d7f95a9\"}}];\n",
       "    root.Bokeh.embed.embed_items_notebook(docs_json, render_items);\n",
       "  }\n",
       "  if (root.Bokeh !== undefined && root.Bokeh.Panel !== undefined) {\n",
       "    embed_document(root);\n",
       "  } else {\n",
       "    var attempts = 0;\n",
       "    var timer = setInterval(function(root) {\n",
       "      if (root.Bokeh !== undefined && root.Bokeh.Panel !== undefined) {\n",
       "        clearInterval(timer);\n",
       "        embed_document(root);\n",
       "      } else if (document.readyState == \"complete\") {\n",
       "        attempts++;\n",
       "        if (attempts > 200) {\n",
       "          clearInterval(timer);\n",
       "          console.log(\"Bokeh: ERROR: Unable to run BokehJS code because BokehJS library is missing\");\n",
       "        }\n",
       "      }\n",
       "    }, 25, root)\n",
       "  }\n",
       "})(window);</script>"
      ],
      "text/plain": [
       ":NdOverlay   [Variable]\n",
       "   :Curve   [Date]   (value)"
      ]
     },
     "execution_count": 225,
     "metadata": {
      "application/vnd.holoviews_exec.v0+json": {
       "id": "6024"
      }
     },
     "output_type": "execute_result"
    }
   ],
   "source": [
    "# Create chart with dropdown by crypto \n",
    "hist_crypto_prices = crypto_price_df.hvplot.line(x = 'Date', shared_axes = False)\n",
    "hist_crypto_prices"
   ]
  },
  {
   "cell_type": "code",
   "execution_count": 210,
   "id": "25635491-c12a-458a-bbef-80564409744b",
   "metadata": {},
   "outputs": [],
   "source": [
    "# # plotly figure setup\n",
    "# fig = go.Figure()\n",
    "\n",
    "# # one trace for each df column\n",
    "# for col in crypto_price_df.columns:\n",
    "#     fig.add_trace(go.Scatter(x=crypto_price_df.index, y=crypto_price_df[col].values,\n",
    "#                              name = col,\n",
    "#                              mode = 'lines')\n",
    "#                  )\n",
    "\n",
    "# # one button for each df column\n",
    "# updatemenu= []\n",
    "# buttons=[]\n",
    "# for col in crypto_price_df.columns:\n",
    "#     buttons.append(dict(method='restyle',\n",
    "#                         label=col,\n",
    "#                         args=[{'y':[crypto_price_df[col].values]}])\n",
    "#                   )"
   ]
  },
  {
   "cell_type": "code",
   "execution_count": 211,
   "id": "20afc2fa-2509-4ed4-ba7a-3ca0d161fd03",
   "metadata": {},
   "outputs": [],
   "source": [
    "# # some adjustments to the updatemenu\n",
    "# updatemenu=[]\n",
    "# your_menu=dict()\n",
    "# updatemenu.append(your_menu)\n",
    "# updatemenu[0]['buttons']=buttons\n",
    "# updatemenu[0]['direction']='down'\n",
    "# updatemenu[0]['showactive']=True\n",
    "\n",
    "# # update layout and show figure\n",
    "# fig.update_layout(updatemenus=updatemenu)\n",
    "# fig.show()"
   ]
  },
  {
   "cell_type": "code",
   "execution_count": 212,
   "id": "1ebfe345-7579-470a-96dd-9a0c97e2469f",
   "metadata": {},
   "outputs": [],
   "source": [
    "# # Read in .csv file using bloomberg static data\n",
    "# df = pd.read_csv('data.csv', index_col = 'Date')\n",
    "\n",
    "# #DROP S&P500 AND TSY COLUMNS FOR CUPCAKE. FEED DATA IN WHEN WE GET\n",
    "# df.drop(columns = ['ETH','SPY','TSY'],inplace=True)\n",
    "\n",
    "# #DROP NULLS\n",
    "# df.dropna()"
   ]
  },
  {
   "cell_type": "code",
   "execution_count": 226,
   "id": "ac585dd2-d601-4674-aa06-0365d9a54fa1",
   "metadata": {},
   "outputs": [
    {
     "data": {
      "text/html": [
       "<div>\n",
       "<style scoped>\n",
       "    .dataframe tbody tr th:only-of-type {\n",
       "        vertical-align: middle;\n",
       "    }\n",
       "\n",
       "    .dataframe tbody tr th {\n",
       "        vertical-align: top;\n",
       "    }\n",
       "\n",
       "    .dataframe thead th {\n",
       "        text-align: right;\n",
       "    }\n",
       "</style>\n",
       "<table border=\"1\" class=\"dataframe\">\n",
       "  <thead>\n",
       "    <tr style=\"text-align: right;\">\n",
       "      <th></th>\n",
       "      <th>BTC-USD</th>\n",
       "      <th>^DJI</th>\n",
       "      <th>^GSPC</th>\n",
       "      <th>^TYX</th>\n",
       "    </tr>\n",
       "    <tr>\n",
       "      <th>Date</th>\n",
       "      <th></th>\n",
       "      <th></th>\n",
       "      <th></th>\n",
       "      <th></th>\n",
       "    </tr>\n",
       "  </thead>\n",
       "  <tbody>\n",
       "    <tr>\n",
       "      <th>2021-09-13</th>\n",
       "      <td>44963.074219</td>\n",
       "      <td>34869.628906</td>\n",
       "      <td>4468.729980</td>\n",
       "      <td>1.905</td>\n",
       "    </tr>\n",
       "    <tr>\n",
       "      <th>2021-09-14</th>\n",
       "      <td>47092.492188</td>\n",
       "      <td>34577.570312</td>\n",
       "      <td>4443.049805</td>\n",
       "      <td>1.850</td>\n",
       "    </tr>\n",
       "    <tr>\n",
       "      <th>2021-09-15</th>\n",
       "      <td>48176.347656</td>\n",
       "      <td>34814.390625</td>\n",
       "      <td>4480.700195</td>\n",
       "      <td>1.869</td>\n",
       "    </tr>\n",
       "    <tr>\n",
       "      <th>2021-09-16</th>\n",
       "      <td>47783.359375</td>\n",
       "      <td>34751.320312</td>\n",
       "      <td>4473.750000</td>\n",
       "      <td>1.881</td>\n",
       "    </tr>\n",
       "    <tr>\n",
       "      <th>2021-09-17</th>\n",
       "      <td>47267.519531</td>\n",
       "      <td>34584.878906</td>\n",
       "      <td>4432.990234</td>\n",
       "      <td>1.909</td>\n",
       "    </tr>\n",
       "  </tbody>\n",
       "</table>\n",
       "</div>"
      ],
      "text/plain": [
       "                 BTC-USD          ^DJI        ^GSPC   ^TYX\n",
       "Date                                                      \n",
       "2021-09-13  44963.074219  34869.628906  4468.729980  1.905\n",
       "2021-09-14  47092.492188  34577.570312  4443.049805  1.850\n",
       "2021-09-15  48176.347656  34814.390625  4480.700195  1.869\n",
       "2021-09-16  47783.359375  34751.320312  4473.750000  1.881\n",
       "2021-09-17  47267.519531  34584.878906  4432.990234  1.909"
      ]
     },
     "execution_count": 226,
     "metadata": {},
     "output_type": "execute_result"
    }
   ],
   "source": [
    "df.head()"
   ]
  },
  {
   "cell_type": "code",
   "execution_count": 227,
   "id": "893fcb0d-bc3c-40a6-a1ad-60fffb54de88",
   "metadata": {},
   "outputs": [],
   "source": [
    "# Convert df to % change for analysis\n",
    "pct_chg_df = df.pct_change()\n",
    "pct_chg_df = pct_chg_df.dropna()"
   ]
  },
  {
   "cell_type": "markdown",
   "id": "df62be95-6e35-428d-ba73-ccc71353878f",
   "metadata": {},
   "source": [
    "# RF Model\n",
    "- model r2 score was negative using Gold, Oil, SP500, DJI\n",
    "- maybe we should try and predict the prices of a crypto asset given price movements in other cryptos"
   ]
  },
  {
   "cell_type": "code",
   "execution_count": 228,
   "id": "5647b872-15a2-4947-976b-ca654b6c74bc",
   "metadata": {},
   "outputs": [
    {
     "data": {
      "text/html": [
       "<div>\n",
       "<style scoped>\n",
       "    .dataframe tbody tr th:only-of-type {\n",
       "        vertical-align: middle;\n",
       "    }\n",
       "\n",
       "    .dataframe tbody tr th {\n",
       "        vertical-align: top;\n",
       "    }\n",
       "\n",
       "    .dataframe thead th {\n",
       "        text-align: right;\n",
       "    }\n",
       "</style>\n",
       "<table border=\"1\" class=\"dataframe\">\n",
       "  <thead>\n",
       "    <tr style=\"text-align: right;\">\n",
       "      <th></th>\n",
       "      <th>^DJI</th>\n",
       "      <th>^GSPC</th>\n",
       "      <th>^TYX</th>\n",
       "    </tr>\n",
       "    <tr>\n",
       "      <th>Date</th>\n",
       "      <th></th>\n",
       "      <th></th>\n",
       "      <th></th>\n",
       "    </tr>\n",
       "  </thead>\n",
       "  <tbody>\n",
       "    <tr>\n",
       "      <th>2021-09-14</th>\n",
       "      <td>-0.008376</td>\n",
       "      <td>-0.005747</td>\n",
       "      <td>-0.028871</td>\n",
       "    </tr>\n",
       "    <tr>\n",
       "      <th>2021-09-15</th>\n",
       "      <td>0.006849</td>\n",
       "      <td>0.008474</td>\n",
       "      <td>0.010270</td>\n",
       "    </tr>\n",
       "    <tr>\n",
       "      <th>2021-09-16</th>\n",
       "      <td>-0.001812</td>\n",
       "      <td>-0.001551</td>\n",
       "      <td>0.006421</td>\n",
       "    </tr>\n",
       "    <tr>\n",
       "      <th>2021-09-17</th>\n",
       "      <td>-0.004789</td>\n",
       "      <td>-0.009111</td>\n",
       "      <td>0.014886</td>\n",
       "    </tr>\n",
       "    <tr>\n",
       "      <th>2021-09-20</th>\n",
       "      <td>-0.017765</td>\n",
       "      <td>-0.016977</td>\n",
       "      <td>-0.033002</td>\n",
       "    </tr>\n",
       "  </tbody>\n",
       "</table>\n",
       "</div>"
      ],
      "text/plain": [
       "                ^DJI     ^GSPC      ^TYX\n",
       "Date                                    \n",
       "2021-09-14 -0.008376 -0.005747 -0.028871\n",
       "2021-09-15  0.006849  0.008474  0.010270\n",
       "2021-09-16 -0.001812 -0.001551  0.006421\n",
       "2021-09-17 -0.004789 -0.009111  0.014886\n",
       "2021-09-20 -0.017765 -0.016977 -0.033002"
      ]
     },
     "execution_count": 228,
     "metadata": {},
     "output_type": "execute_result"
    }
   ],
   "source": [
    "# Define features set\n",
    "X = pct_chg_df.copy()\n",
    "X.drop(\"BTC-USD\", axis=1, inplace=True)\n",
    "X.head()"
   ]
  },
  {
   "cell_type": "code",
   "execution_count": 230,
   "id": "728061e1-ad45-4e5d-94d2-f84aed1729be",
   "metadata": {},
   "outputs": [
    {
     "data": {
      "text/plain": [
       "array([[ 0.04735926],\n",
       "       [ 0.02301546],\n",
       "       [-0.00815729],\n",
       "       [-0.01079539],\n",
       "       [-0.09358898]])"
      ]
     },
     "execution_count": 230,
     "metadata": {},
     "output_type": "execute_result"
    }
   ],
   "source": [
    "# Define target vector\n",
    "y = pct_chg_df[\"BTC-USD\"].values.reshape(-1, 1)\n",
    "y[:5]"
   ]
  },
  {
   "cell_type": "code",
   "execution_count": 231,
   "id": "e19ac1e0-b577-4463-8173-69291c641450",
   "metadata": {},
   "outputs": [],
   "source": [
    "# Create function for RF Model\n",
    "\n",
    "def RF(X,y):\n",
    "    \n",
    "    #split data into training and testing data\n",
    "    X_train, X_test, y_train, y_test = train_test_split(X, y, random_state=78)\n",
    "    \n",
    "    #initiate, fit, and train rf_model\n",
    "    rf_model = RandomForestRegressor(n_estimators=500, random_state=42)\n",
    "    rf_model = rf_model.fit(X_train, y_train)\n",
    "    \n",
    "    #make predictions for target using X_test\n",
    "    predictions = rf_model.predict(X_test)\n",
    "    \n",
    "    return rf_model.score(X_test, y_test)"
   ]
  },
  {
   "cell_type": "code",
   "execution_count": 232,
   "id": "9d869a41-6dea-4a59-b008-4fcba22c584d",
   "metadata": {},
   "outputs": [
    {
     "name": "stderr",
     "output_type": "stream",
     "text": [
      "/Users/jonyamaoka/opt/anaconda3/envs/mlenv/lib/python3.7/site-packages/ipykernel_launcher.py:10: DataConversionWarning: A column-vector y was passed when a 1d array was expected. Please change the shape of y to (n_samples,), for example using ravel().\n",
      "  # Remove the CWD from sys.path while we load stuff.\n"
     ]
    },
    {
     "data": {
      "text/plain": [
       "-0.4301925165602596"
      ]
     },
     "execution_count": 232,
     "metadata": {},
     "output_type": "execute_result"
    }
   ],
   "source": [
    "RF(X,y)"
   ]
  },
  {
   "cell_type": "code",
   "execution_count": 186,
   "id": "76cb38a9-b5e2-4299-8f95-e35fc852acad",
   "metadata": {},
   "outputs": [],
   "source": [
    "# Splitting into Train and Test sets\n",
    "\n",
    "# X_train, X_test, y_train, y_test = train_test_split(X, y, random_state=78)\n"
   ]
  },
  {
   "cell_type": "code",
   "execution_count": 187,
   "id": "66245344-c6b5-4647-aecf-4dfd7ac32916",
   "metadata": {},
   "outputs": [],
   "source": [
    "# rf_model = RandomForestRegressor(n_estimators=500, random_state=42)"
   ]
  },
  {
   "cell_type": "code",
   "execution_count": 188,
   "id": "89042b33-25d2-408f-8d96-7c4acc79f718",
   "metadata": {},
   "outputs": [
    {
     "name": "stderr",
     "output_type": "stream",
     "text": [
      "/Users/jonyamaoka/opt/anaconda3/envs/mlenv/lib/python3.7/site-packages/ipykernel_launcher.py:2: DataConversionWarning: A column-vector y was passed when a 1d array was expected. Please change the shape of y to (n_samples,), for example using ravel().\n",
      "  \n"
     ]
    }
   ],
   "source": [
    "# Fit the model\n",
    "# rf_model = rf_model.fit(X_train, y_train)"
   ]
  },
  {
   "cell_type": "code",
   "execution_count": 189,
   "id": "2fae82b2-71ae-42a3-9271-0047424b0501",
   "metadata": {},
   "outputs": [],
   "source": [
    "# Making predictions using the testing data\n",
    "# predictions = rf_model.predict(X_test)"
   ]
  },
  {
   "cell_type": "code",
   "execution_count": 252,
   "id": "de9abeaa-5e02-433f-ae46-20560860b087",
   "metadata": {},
   "outputs": [
    {
     "data": {},
     "metadata": {},
     "output_type": "display_data"
    },
    {
     "data": {
      "application/vnd.holoviews_exec.v0+json": "",
      "text/html": [
       "<div id='8379'>\n",
       "\n",
       "\n",
       "\n",
       "\n",
       "\n",
       "  <div class=\"bk-root\" id=\"8c890e92-7c13-45c9-8c19-3da84b3c99f2\" data-root-id=\"8379\"></div>\n",
       "</div>\n",
       "<script type=\"application/javascript\">(function(root) {\n",
       "  function embed_document(root) {\n",
       "    var docs_json = {\"571379e6-5d64-48b3-be67-29d3fab4b4ba\":{\"defs\":[{\"extends\":null,\"module\":null,\"name\":\"ReactiveHTML1\",\"overrides\":[],\"properties\":[]},{\"extends\":null,\"module\":null,\"name\":\"FlexBox1\",\"overrides\":[],\"properties\":[{\"default\":\"flex-start\",\"kind\":null,\"name\":\"align_content\"},{\"default\":\"flex-start\",\"kind\":null,\"name\":\"align_items\"},{\"default\":\"row\",\"kind\":null,\"name\":\"flex_direction\"},{\"default\":\"wrap\",\"kind\":null,\"name\":\"flex_wrap\"},{\"default\":\"flex-start\",\"kind\":null,\"name\":\"justify_content\"}]},{\"extends\":null,\"module\":null,\"name\":\"TemplateActions1\",\"overrides\":[],\"properties\":[{\"default\":0,\"kind\":null,\"name\":\"open_modal\"},{\"default\":0,\"kind\":null,\"name\":\"close_modal\"}]},{\"extends\":null,\"module\":null,\"name\":\"MaterialTemplateActions1\",\"overrides\":[],\"properties\":[{\"default\":0,\"kind\":null,\"name\":\"open_modal\"},{\"default\":0,\"kind\":null,\"name\":\"close_modal\"}]}],\"roots\":{\"references\":[{\"attributes\":{\"margin\":[5,5,5,5],\"name\":\"HSpacer11611\",\"sizing_mode\":\"stretch_width\"},\"id\":\"8572\",\"type\":\"Spacer\"},{\"attributes\":{},\"id\":\"8402\",\"type\":\"SaveTool\"},{\"attributes\":{\"line_color\":\"#30a2da\",\"line_width\":2,\"x\":{\"field\":\"index\"},\"y\":{\"field\":\"value\"}},\"id\":\"8441\",\"type\":\"Line\"},{\"attributes\":{\"below\":[{\"id\":\"8394\"}],\"center\":[{\"id\":\"8397\"},{\"id\":\"8401\"}],\"height\":300,\"left\":[{\"id\":\"8398\"}],\"margin\":[5,5,5,5],\"min_border_bottom\":10,\"min_border_left\":10,\"min_border_right\":10,\"min_border_top\":10,\"renderers\":[{\"id\":\"8427\"},{\"id\":\"8448\"}],\"right\":[{\"id\":\"8439\"}],\"sizing_mode\":\"fixed\",\"title\":{\"id\":\"8386\"},\"toolbar\":{\"id\":\"8408\"},\"width\":700,\"x_range\":{\"id\":\"8381\"},\"x_scale\":{\"id\":\"8390\"},\"y_range\":{\"id\":\"8382\"},\"y_scale\":{\"id\":\"8392\"}},\"id\":\"8385\",\"subtype\":\"Figure\",\"type\":\"Plot\"},{\"attributes\":{},\"id\":\"8403\",\"type\":\"PanTool\"},{\"attributes\":{\"line_alpha\":0.2,\"line_color\":\"#fc4f30\",\"line_width\":2,\"x\":{\"field\":\"index\"},\"y\":{\"field\":\"value\"}},\"id\":\"8447\",\"type\":\"Line\"},{\"attributes\":{},\"id\":\"8419\",\"type\":\"BasicTickFormatter\"},{\"attributes\":{},\"id\":\"8404\",\"type\":\"WheelZoomTool\"},{\"attributes\":{\"tools\":[{\"id\":\"8383\"},{\"id\":\"8402\"},{\"id\":\"8403\"},{\"id\":\"8404\"},{\"id\":\"8405\"},{\"id\":\"8406\"}]},\"id\":\"8408\",\"type\":\"Toolbar\"},{\"attributes\":{\"overlay\":{\"id\":\"8407\"}},\"id\":\"8405\",\"type\":\"BoxZoomTool\"},{\"attributes\":{},\"id\":\"8395\",\"type\":\"BasicTicker\"},{\"attributes\":{\"line_color\":\"#fc4f30\",\"line_width\":2,\"x\":{\"field\":\"index\"},\"y\":{\"field\":\"value\"}},\"id\":\"8445\",\"type\":\"Line\"},{\"attributes\":{\"children\":[{\"id\":\"8380\"},{\"id\":\"8385\"},{\"id\":\"8572\"}],\"margin\":[0,0,0,0],\"name\":\"Row11606\",\"tags\":[\"embedded\"]},\"id\":\"8379\",\"type\":\"Row\"},{\"attributes\":{\"margin\":[5,5,5,5],\"name\":\"HSpacer11610\",\"sizing_mode\":\"stretch_width\"},\"id\":\"8380\",\"type\":\"Spacer\"},{\"attributes\":{\"data\":{\"Variable\":[\"predict\",\"predict\",\"predict\",\"predict\",\"predict\",\"predict\",\"predict\",\"predict\",\"predict\",\"predict\",\"predict\",\"predict\",\"predict\",\"predict\",\"predict\",\"predict\"],\"index\":[0,1,2,3,4,5,6,7,8,9,10,11,12,13,14,15],\"value\":{\"__ndarray__\":\"fA6D4VrJj79iuoMMSJSbP8hsCecd63s/FnVqtyVCmT+HQErvH9+cvxuSE0pcTIa/kuQSgyA0lj9gnBlzad2QvynzXQm1GLA/LPIFP0AuWD8ky9d0YO6ev3Ysd/jeoaE/hONrUy9thr9CSHB6BUywvxAXsbdvNqk/w/Km/kCqoz8=\",\"dtype\":\"float64\",\"order\":\"little\",\"shape\":[16]}},\"selected\":{\"id\":\"8443\"},\"selection_policy\":{\"id\":\"8459\"}},\"id\":\"8442\",\"type\":\"ColumnDataSource\"},{\"attributes\":{\"callback\":null,\"renderers\":[{\"id\":\"8427\"},{\"id\":\"8448\"}],\"tags\":[\"hv_created\"],\"tooltips\":[[\"Variable\",\"@{Variable}\"],[\"index\",\"@{index}\"],[\"value\",\"@{value}\"]]},\"id\":\"8383\",\"type\":\"HoverTool\"},{\"attributes\":{},\"id\":\"8443\",\"type\":\"Selection\"},{\"attributes\":{},\"id\":\"8406\",\"type\":\"ResetTool\"},{\"attributes\":{\"axis_label\":\"\",\"coordinates\":null,\"formatter\":{\"id\":\"8416\"},\"group\":null,\"major_label_policy\":{\"id\":\"8417\"},\"ticker\":{\"id\":\"8395\"}},\"id\":\"8394\",\"type\":\"LinearAxis\"},{\"attributes\":{\"bottom_units\":\"screen\",\"coordinates\":null,\"fill_alpha\":0.5,\"fill_color\":\"lightgrey\",\"group\":null,\"left_units\":\"screen\",\"level\":\"overlay\",\"line_alpha\":1.0,\"line_color\":\"black\",\"line_dash\":[4,4],\"line_width\":2,\"right_units\":\"screen\",\"syncable\":false,\"top_units\":\"screen\"},\"id\":\"8407\",\"type\":\"BoxAnnotation\"},{\"attributes\":{\"line_color\":\"#30a2da\",\"line_width\":2,\"x\":{\"field\":\"index\"},\"y\":{\"field\":\"value\"}},\"id\":\"8424\",\"type\":\"Line\"},{\"attributes\":{\"label\":{\"value\":\"predict\"},\"renderers\":[{\"id\":\"8448\"}]},\"id\":\"8462\",\"type\":\"LegendItem\"},{\"attributes\":{},\"id\":\"8417\",\"type\":\"AllLabels\"},{\"attributes\":{\"coordinates\":null,\"data_source\":{\"id\":\"8421\"},\"glyph\":{\"id\":\"8424\"},\"group\":null,\"hover_glyph\":null,\"muted_glyph\":{\"id\":\"8426\"},\"nonselection_glyph\":{\"id\":\"8425\"},\"selection_glyph\":{\"id\":\"8441\"},\"view\":{\"id\":\"8428\"}},\"id\":\"8427\",\"type\":\"GlyphRenderer\"},{\"attributes\":{\"axis\":{\"id\":\"8398\"},\"coordinates\":null,\"dimension\":1,\"grid_line_color\":null,\"group\":null,\"ticker\":null},\"id\":\"8401\",\"type\":\"Grid\"},{\"attributes\":{\"line_alpha\":0.1,\"line_color\":\"#fc4f30\",\"line_width\":2,\"x\":{\"field\":\"index\"},\"y\":{\"field\":\"value\"}},\"id\":\"8446\",\"type\":\"Line\"},{\"attributes\":{},\"id\":\"8422\",\"type\":\"Selection\"},{\"attributes\":{},\"id\":\"8392\",\"type\":\"LinearScale\"},{\"attributes\":{},\"id\":\"8459\",\"type\":\"UnionRenderers\"},{\"attributes\":{\"coordinates\":null,\"group\":null,\"text_color\":\"black\",\"text_font_size\":\"12pt\"},\"id\":\"8386\",\"type\":\"Title\"},{\"attributes\":{\"axis\":{\"id\":\"8394\"},\"coordinates\":null,\"grid_line_color\":null,\"group\":null,\"ticker\":null},\"id\":\"8397\",\"type\":\"Grid\"},{\"attributes\":{\"source\":{\"id\":\"8421\"}},\"id\":\"8428\",\"type\":\"CDSView\"},{\"attributes\":{\"source\":{\"id\":\"8442\"}},\"id\":\"8449\",\"type\":\"CDSView\"},{\"attributes\":{},\"id\":\"8416\",\"type\":\"BasicTickFormatter\"},{\"attributes\":{\"click_policy\":\"mute\",\"coordinates\":null,\"group\":null,\"items\":[{\"id\":\"8440\"},{\"id\":\"8462\"}],\"location\":[0,0],\"title\":\"Variable\"},\"id\":\"8439\",\"type\":\"Legend\"},{\"attributes\":{},\"id\":\"8399\",\"type\":\"BasicTicker\"},{\"attributes\":{},\"id\":\"8390\",\"type\":\"LinearScale\"},{\"attributes\":{\"coordinates\":null,\"data_source\":{\"id\":\"8442\"},\"glyph\":{\"id\":\"8445\"},\"group\":null,\"hover_glyph\":null,\"muted_glyph\":{\"id\":\"8447\"},\"nonselection_glyph\":{\"id\":\"8446\"},\"selection_glyph\":{\"id\":\"8463\"},\"view\":{\"id\":\"8449\"}},\"id\":\"8448\",\"type\":\"GlyphRenderer\"},{\"attributes\":{\"axis_label\":\"\",\"coordinates\":null,\"formatter\":{\"id\":\"8419\"},\"group\":null,\"major_label_policy\":{\"id\":\"8420\"},\"ticker\":{\"id\":\"8399\"}},\"id\":\"8398\",\"type\":\"LinearAxis\"},{\"attributes\":{\"data\":{\"Variable\":[\"0\",\"0\",\"0\",\"0\",\"0\",\"0\",\"0\",\"0\",\"0\",\"0\",\"0\",\"0\",\"0\",\"0\",\"0\",\"0\"],\"index\":[0,1,2,3,4,5,6,7,8,9,10,11,12,13,14,15],\"value\":{\"__ndarray__\":\"gFsfSKkInz/Aix2MkyyVP3Dd2GOPzqy/wKr1ieT5uj+A/pk7c+qfvwCEXJytXKu/IJbKXmkilL8AYE8t0KRoP2BKrlQxCqk/AABEYGUfnb+AgKhjYXGKP0Bsr11/H7I/QDjb7/cfmz8Ahgd1uh9wPwCJxxeRvHw/EG0/pM6usD8=\",\"dtype\":\"float64\",\"order\":\"little\",\"shape\":[16]}},\"selected\":{\"id\":\"8422\"},\"selection_policy\":{\"id\":\"8436\"}},\"id\":\"8421\",\"type\":\"ColumnDataSource\"},{\"attributes\":{\"label\":{\"value\":\"0\"},\"renderers\":[{\"id\":\"8427\"}]},\"id\":\"8440\",\"type\":\"LegendItem\"},{\"attributes\":{\"line_color\":\"#fc4f30\",\"line_width\":2,\"x\":{\"field\":\"index\"},\"y\":{\"field\":\"value\"}},\"id\":\"8463\",\"type\":\"Line\"},{\"attributes\":{},\"id\":\"8420\",\"type\":\"AllLabels\"},{\"attributes\":{},\"id\":\"8436\",\"type\":\"UnionRenderers\"},{\"attributes\":{\"line_alpha\":0.1,\"line_color\":\"#30a2da\",\"line_width\":2,\"x\":{\"field\":\"index\"},\"y\":{\"field\":\"value\"}},\"id\":\"8425\",\"type\":\"Line\"},{\"attributes\":{\"line_alpha\":0.2,\"line_color\":\"#30a2da\",\"line_width\":2,\"x\":{\"field\":\"index\"},\"y\":{\"field\":\"value\"}},\"id\":\"8426\",\"type\":\"Line\"},{\"attributes\":{\"end\":0.12227911595242578,\"reset_end\":0.12227911595242578,\"reset_start\":-0.08056354999505601,\"start\":-0.08056354999505601,\"tags\":[[[\"value\",\"value\",null]]]},\"id\":\"8382\",\"type\":\"Range1d\"},{\"attributes\":{\"end\":15.0,\"reset_end\":15.0,\"reset_start\":0.0,\"tags\":[[[\"index\",\"index\",null]]]},\"id\":\"8381\",\"type\":\"Range1d\"}],\"root_ids\":[\"8379\"]},\"title\":\"Bokeh Application\",\"version\":\"2.4.2\"}};\n",
       "    var render_items = [{\"docid\":\"571379e6-5d64-48b3-be67-29d3fab4b4ba\",\"root_ids\":[\"8379\"],\"roots\":{\"8379\":\"8c890e92-7c13-45c9-8c19-3da84b3c99f2\"}}];\n",
       "    root.Bokeh.embed.embed_items_notebook(docs_json, render_items);\n",
       "  }\n",
       "  if (root.Bokeh !== undefined && root.Bokeh.Panel !== undefined) {\n",
       "    embed_document(root);\n",
       "  } else {\n",
       "    var attempts = 0;\n",
       "    var timer = setInterval(function(root) {\n",
       "      if (root.Bokeh !== undefined && root.Bokeh.Panel !== undefined) {\n",
       "        clearInterval(timer);\n",
       "        embed_document(root);\n",
       "      } else if (document.readyState == \"complete\") {\n",
       "        attempts++;\n",
       "        if (attempts > 200) {\n",
       "          clearInterval(timer);\n",
       "          console.log(\"Bokeh: ERROR: Unable to run BokehJS code because BokehJS library is missing\");\n",
       "        }\n",
       "      }\n",
       "    }, 25, root)\n",
       "  }\n",
       "})(window);</script>"
      ],
      "text/plain": [
       ":NdOverlay   [Variable]\n",
       "   :Curve   [index]   (value)"
      ]
     },
     "execution_count": 252,
     "metadata": {
      "application/vnd.holoviews_exec.v0+json": {
       "id": "8379"
      }
     },
     "output_type": "execute_result"
    }
   ],
   "source": [
    "#Compare predictions vs actual\n",
    "y_test_df = pd.DataFrame(y_test)\n",
    "y_test_df['predict']=predictions\n",
    "y_test_df.hvplot()"
   ]
  },
  {
   "cell_type": "code",
   "execution_count": 202,
   "id": "5c6b6d79-54ac-4981-83fa-fabfe41deb55",
   "metadata": {},
   "outputs": [],
   "source": [
    "# Get the feature importance array\n",
    "importances = rf_model.feature_importances_"
   ]
  },
  {
   "cell_type": "code",
   "execution_count": 203,
   "id": "a09dea34-1713-4b29-8b90-5549b979bf19",
   "metadata": {},
   "outputs": [
    {
     "data": {
      "text/plain": [
       "[(0.6182338050234543, 'COIN'),\n",
       " (0.09825107540422884, 'GC=F'),\n",
       " (0.08985778639768094, 'GME'),\n",
       " (0.08120592520826976, '^DJI'),\n",
       " (0.05631319421260322, 'CL=F'),\n",
       " (0.05613821375376278, '^GSPC')]"
      ]
     },
     "execution_count": 203,
     "metadata": {},
     "output_type": "execute_result"
    }
   ],
   "source": [
    "# List the top 10 most important features\n",
    "importances_sorted = sorted(zip(rf_model.feature_importances_, X.columns), reverse=True)\n",
    "importances_sorted[:10]"
   ]
  },
  {
   "cell_type": "code",
   "execution_count": 193,
   "id": "2a5f120f-934b-40f8-8c64-b50000e4f76e",
   "metadata": {},
   "outputs": [
    {
     "data": {
      "text/plain": [
       "0.04271679713311516"
      ]
     },
     "execution_count": 193,
     "metadata": {},
     "output_type": "execute_result"
    }
   ],
   "source": [
    "# rf_model.score(X_test, y_test)"
   ]
  },
  {
   "cell_type": "markdown",
   "id": "c60383dc-5a40-44ee-97fb-c4e273a1082b",
   "metadata": {},
   "source": [
    "# ALGO TRADING FOR INDIVIDUAL SECURITY"
   ]
  },
  {
   "cell_type": "code",
   "execution_count": 246,
   "id": "90cdbccd-8efd-4f18-8489-c76bc4f5c039",
   "metadata": {},
   "outputs": [],
   "source": [
    "# # Create a new clean copy of the signals_df DataFrame\n",
    "# bb_signals_df = yf.download(tickers='BTC-USD', period = '90d', interval = '1d')\n",
    "\n",
    "# # Review the DataFrame\n",
    "# bb_signals_df.head()"
   ]
  },
  {
   "cell_type": "code",
   "execution_count": 243,
   "id": "157429e3-c03a-433d-b170-372819e6a645",
   "metadata": {},
   "outputs": [],
   "source": [
    "def bollBands(ticker):\n",
    "    # Create a new clean copy of the signals_df DataFrame\n",
    "    bb_signals_df = yf.download(tickers = ticker, period = '90d', interval = '1d')\n",
    "    \n",
    "    # Determine the Bollinger Bands for the Dataset\n",
    "    bbands_df = TA.BBANDS(bb_signals_df)\n",
    "    \n",
    "    # Concatenate the Bollinger Bands to the DataFrame\n",
    "    bb_signals_df = pd.concat([bb_signals_df, bbands_df], axis=1)\n",
    "    \n",
    "    # Visualize close price for the investment\n",
    "    security_close = bb_signals_df[[\"Close\"]].hvplot(\n",
    "        line_color='lightgray',\n",
    "        ylabel='Price in $',\n",
    "        width=1000,\n",
    "        height=400\n",
    "    )\n",
    "\n",
    "    bb_upper = bb_signals_df[[\"BB_UPPER\"]].hvplot(\n",
    "        line_color='purple',\n",
    "        ylabel='Price in $',\n",
    "        width=1000,\n",
    "        height=400\n",
    "    )\n",
    "\n",
    "\n",
    "    bb_middle = bb_signals_df[[\"BB_MIDDLE\"]].hvplot(\n",
    "        line_color='orange',\n",
    "        ylabel='Price in $',\n",
    "        width=1000,\n",
    "        height=400\n",
    "    )\n",
    "\n",
    "    bb_lower = bb_signals_df[[\"BB_LOWER\"]].hvplot(\n",
    "        line_color='blue',\n",
    "        ylabel='Price in $',\n",
    "        width=1000,\n",
    "        height=400\n",
    "    )\n",
    "\n",
    "    # Overlay plots\n",
    "    bbands_plot = security_close * bb_upper * bb_middle * bb_lower\n",
    "    return bbands_plot"
   ]
  },
  {
   "cell_type": "code",
   "execution_count": 251,
   "id": "0c431524-554d-4627-a8ef-fa38d1f26466",
   "metadata": {},
   "outputs": [
    {
     "name": "stdout",
     "output_type": "stream",
     "text": [
      "[*********************100%***********************]  1 of 1 completed\n"
     ]
    },
    {
     "data": {},
     "metadata": {},
     "output_type": "display_data"
    },
    {
     "data": {
      "application/vnd.holoviews_exec.v0+json": "",
      "text/html": [
       "<div id='7902'>\n",
       "\n",
       "\n",
       "\n",
       "\n",
       "\n",
       "  <div class=\"bk-root\" id=\"15189113-1163-43dc-b5de-5be528eee95c\" data-root-id=\"7902\"></div>\n",
       "</div>\n",
       "<script type=\"application/javascript\">(function(root) {\n",
       "  function embed_document(root) {\n",
       "    var docs_json = {\"3a625f4e-26bb-4c40-be8f-4d329fdfad73\":{\"defs\":[{\"extends\":null,\"module\":null,\"name\":\"ReactiveHTML1\",\"overrides\":[],\"properties\":[]},{\"extends\":null,\"module\":null,\"name\":\"FlexBox1\",\"overrides\":[],\"properties\":[{\"default\":\"flex-start\",\"kind\":null,\"name\":\"align_content\"},{\"default\":\"flex-start\",\"kind\":null,\"name\":\"align_items\"},{\"default\":\"row\",\"kind\":null,\"name\":\"flex_direction\"},{\"default\":\"wrap\",\"kind\":null,\"name\":\"flex_wrap\"},{\"default\":\"flex-start\",\"kind\":null,\"name\":\"justify_content\"}]},{\"extends\":null,\"module\":null,\"name\":\"TemplateActions1\",\"overrides\":[],\"properties\":[{\"default\":0,\"kind\":null,\"name\":\"open_modal\"},{\"default\":0,\"kind\":null,\"name\":\"close_modal\"}]},{\"extends\":null,\"module\":null,\"name\":\"MaterialTemplateActions1\",\"overrides\":[],\"properties\":[{\"default\":0,\"kind\":null,\"name\":\"open_modal\"},{\"default\":0,\"kind\":null,\"name\":\"close_modal\"}]}],\"roots\":{\"references\":[{\"attributes\":{\"line_color\":\"purple\",\"line_width\":2,\"x\":{\"field\":\"Date\"},\"y\":{\"field\":\"BB_UPPER\"}},\"id\":\"7961\",\"type\":\"Line\"},{\"attributes\":{\"data\":{\"Close\":{\"__ndarray__\":\"AAAAAAarqUAAAADgVsqqQAAAAMCQPqxAAAAAAJfmq0AAAADgE42qQAAAAGAJ0KpAAAAAYOUCqkAAAACg/B2nQAAAAMDcmKVAAAAAYLwLqEAAAAAgDKeoQAAAAKBW56ZAAAAAoCHbpkAAAADgh+ynQAAAACBH7KZAAAAA4JfupUAAAABgSUqmQAAAAKBbc6dAAAAAQAjXqUAAAACAY3+qQAAAAKC3tKpAAAAAoC1oqkAAAACACX2rQAAAAMAf+atAAAAAIPMHrEAAAADAhNerQAAAAABv76tAAAAAoLTDqkAAAABAtbKrQAAAAIAlSatAAAAAQGcsrEAAAABAB5StQAAAAABFLa5AAAAAoMPsrUAAAACANQ6uQAAAAECFSa1AAAAAQE1LrkAAAAAA/juwQAAAAEClrK9AAAAAIF0Er0AAAADgqUuwQAAAAGDO769AAAAAgOB5sEAAAAAgGiOwQAAAAMCDtK5AAAAAoFG/sEAAAAAgvz6xQAAAAICm5bBAAAAAABPAsEAAAACAoOSwQAAAAIDM6LFAAAAAoDH/sUAAAAAAU7mxQAAAAEA+hrFAAAAAwJSpsUAAAAAAjgyyQAAAAGAWzLJAAAAAoBF/skAAAACgLByyQAAAAGBierJAAAAAgB07skAAAADgdSuyQAAAAOBbErJAAAAAAIHNsUAAAACAXXiwQAAAAACYv7BAAAAAQE1Br0AAAACATsqwQAAAAGDuObFAAAAAoLutsEAAAABg6vCvQAAAAIDD9LBAAAAAQPuPsEAAAABAvrKwQAAAAGDRfa9AAAAAgOkAsEAAAAAgdMawQAAAAOAaXbFAAAAAoHoXskAAAACA/eqxQAAAAGBNn7FAAAAAwLR8sEAAAABglhewQAAAAKBSZrBAAAAAwLwGsUAAAADAD9uwQAAAAKBbV7FAAAAA4NAXsEAAAAAA/oiuQAAAAKBqk69A\",\"dtype\":\"float64\",\"order\":\"little\",\"shape\":[90]},\"Date\":{\"__ndarray__\":\"AABAQce9d0IAAACnGb53QgAAwAxsvndCAACAcr6+d0IAAEDYEL93QgAAAD5jv3dCAADAo7W/d0IAAIAJCMB3QgAAQG9awHdCAAAA1azAd0IAAMA6/8B3QgAAgKBRwXdCAABABqTBd0IAAABs9sF3QgAAwNFIwndCAACAN5vCd0IAAECd7cJ3QgAAAANAw3dCAADAaJLDd0IAAIDO5MN3QgAAQDQ3xHdCAAAAmonEd0IAAMD/28R3QgAAgGUuxXdCAABAy4DFd0IAAAAx08V3QgAAwJYlxndCAACA/HfGd0IAAEBiysZ3QgAAAMgcx3dCAADALW/Hd0IAAICTwcd3QgAAQPkTyHdCAAAAX2bId0IAAMDEuMh3QgAAgCoLyXdCAABAkF3Jd0IAAAD2r8l3QgAAwFsCyndCAACAwVTKd0IAAEAnp8p3QgAAAI35yndCAADA8kvLd0IAAIBYnst3QgAAQL7wy3dCAAAAJEPMd0IAAMCJlcx3QgAAgO/nzHdCAABAVTrNd0IAAAC7jM13QgAAwCDfzXdCAACAhjHOd0IAAEDsg853QgAAAFLWzndCAADAtyjPd0IAAIAde893QgAAQIPNz3dCAAAA6R/Qd0IAAMBOctB3QgAAgLTE0HdCAABAGhfRd0IAAACAadF3QgAAwOW70XdCAACASw7Sd0IAAECxYNJ3QgAAABez0ndCAADAfAXTd0IAAIDiV9N3QgAAQEiq03dCAAAArvzTd0IAAMATT9R3QgAAgHmh1HdCAABA3/PUd0IAAABFRtV3QgAAwKqY1XdCAACAEOvVd0IAAEB2PdZ3QgAAANyP1ndCAADAQeLWd0IAAICnNNd3QgAAQA2H13dCAAAAc9nXd0IAAMDYK9h3QgAAgD5+2HdCAABApNDYd0IAAAAKI9l3QgAAwG912XdCAACA1cfZd0IAAEA7Gtp3QgAAAKFs2ndC\",\"dtype\":\"float64\",\"order\":\"little\",\"shape\":[90]}},\"selected\":{\"id\":\"7950\"},\"selection_policy\":{\"id\":\"7992\"}},\"id\":\"7949\",\"type\":\"ColumnDataSource\"},{\"attributes\":{\"end\":1639180800000.0,\"reset_end\":1639180800000.0,\"reset_start\":1631491200000.0,\"start\":1631491200000.0,\"tags\":[[[\"Date\",\"Date\",null]]]},\"id\":\"7904\",\"type\":\"Range1d\"},{\"attributes\":{\"bottom_units\":\"screen\",\"coordinates\":null,\"fill_alpha\":0.5,\"fill_color\":\"lightgrey\",\"group\":null,\"left_units\":\"screen\",\"level\":\"overlay\",\"line_alpha\":1.0,\"line_color\":\"black\",\"line_dash\":[4,4],\"line_width\":2,\"right_units\":\"screen\",\"syncable\":false,\"top_units\":\"screen\"},\"id\":\"7932\",\"type\":\"BoxAnnotation\"},{\"attributes\":{\"coordinates\":null,\"data_source\":{\"id\":\"7976\"},\"glyph\":{\"id\":\"7979\"},\"group\":null,\"hover_glyph\":null,\"muted_glyph\":{\"id\":\"7981\"},\"nonselection_glyph\":{\"id\":\"7980\"},\"selection_glyph\":{\"id\":\"7984\"},\"view\":{\"id\":\"7983\"}},\"id\":\"7982\",\"type\":\"GlyphRenderer\"},{\"attributes\":{\"source\":{\"id\":\"7976\"}},\"id\":\"7983\",\"type\":\"CDSView\"},{\"attributes\":{\"callback\":null,\"formatters\":{\"@{Date}\":\"datetime\"},\"renderers\":[{\"id\":\"7955\"}],\"tags\":[\"hv_created\"],\"tooltips\":[[\"Date\",\"@{Date}{%F %T}\"],[\"Close\",\"@{Close}\"]]},\"id\":\"7906\",\"type\":\"HoverTool\"},{\"attributes\":{},\"id\":\"7959\",\"type\":\"Selection\"},{\"attributes\":{\"line_alpha\":0.2,\"line_color\":\"lightgray\",\"line_width\":2,\"x\":{\"field\":\"Date\"},\"y\":{\"field\":\"Close\"}},\"id\":\"7954\",\"type\":\"Line\"},{\"attributes\":{\"end\":5175.487309179759,\"reset_end\":5175.487309179759,\"reset_start\":2373.7788074895234,\"start\":2373.7788074895234,\"tags\":[[[\"Close\",\"Close\",null]]]},\"id\":\"7905\",\"type\":\"Range1d\"},{\"attributes\":{\"below\":[{\"id\":\"7919\"}],\"center\":[{\"id\":\"7922\"},{\"id\":\"7926\"}],\"height\":400,\"left\":[{\"id\":\"7923\"}],\"margin\":[5,5,5,5],\"min_border_bottom\":10,\"min_border_left\":10,\"min_border_right\":10,\"min_border_top\":10,\"renderers\":[{\"id\":\"7955\"},{\"id\":\"7964\"},{\"id\":\"7973\"},{\"id\":\"7982\"}],\"sizing_mode\":\"fixed\",\"title\":{\"id\":\"7911\"},\"toolbar\":{\"id\":\"7933\"},\"width\":1000,\"x_range\":{\"id\":\"7904\"},\"x_scale\":{\"id\":\"7915\"},\"y_range\":{\"id\":\"7905\"},\"y_scale\":{\"id\":\"7917\"}},\"id\":\"7910\",\"subtype\":\"Figure\",\"type\":\"Plot\"},{\"attributes\":{\"days\":[1,4,7,10,13,16,19,22,25,28]},\"id\":\"8005\",\"type\":\"DaysTicker\"},{\"attributes\":{\"margin\":[5,5,5,5],\"name\":\"HSpacer10922\",\"sizing_mode\":\"stretch_width\"},\"id\":\"8237\",\"type\":\"Spacer\"},{\"attributes\":{\"callback\":null,\"formatters\":{\"@{Date}\":\"datetime\"},\"renderers\":[{\"id\":\"7973\"}],\"tags\":[\"hv_created\"],\"tooltips\":[[\"Date\",\"@{Date}{%F %T}\"],[\"BB_MIDDLE\",\"@{BB_MIDDLE}\"]]},\"id\":\"7908\",\"type\":\"HoverTool\"},{\"attributes\":{},\"id\":\"7992\",\"type\":\"UnionRenderers\"},{\"attributes\":{\"line_color\":\"blue\",\"line_width\":2,\"x\":{\"field\":\"Date\"},\"y\":{\"field\":\"BB_LOWER\"}},\"id\":\"7979\",\"type\":\"Line\"},{\"attributes\":{\"line_alpha\":0.1,\"line_color\":\"lightgray\",\"line_width\":2,\"x\":{\"field\":\"Date\"},\"y\":{\"field\":\"Close\"}},\"id\":\"7953\",\"type\":\"Line\"},{\"attributes\":{\"line_alpha\":0.1,\"line_color\":\"blue\",\"line_width\":2,\"x\":{\"field\":\"Date\"},\"y\":{\"field\":\"BB_LOWER\"}},\"id\":\"7980\",\"type\":\"Line\"},{\"attributes\":{\"callback\":null,\"formatters\":{\"@{Date}\":\"datetime\"},\"renderers\":[{\"id\":\"7964\"}],\"tags\":[\"hv_created\"],\"tooltips\":[[\"Date\",\"@{Date}{%F %T}\"],[\"BB_UPPER\",\"@{BB_UPPER}\"]]},\"id\":\"7907\",\"type\":\"HoverTool\"},{\"attributes\":{},\"id\":\"7944\",\"type\":\"DatetimeTickFormatter\"},{\"attributes\":{\"children\":[{\"id\":\"7903\"},{\"id\":\"7910\"},{\"id\":\"8237\"}],\"margin\":[0,0,0,0],\"name\":\"Row10917\",\"tags\":[\"embedded\"]},\"id\":\"7902\",\"type\":\"Row\"},{\"attributes\":{\"coordinates\":null,\"data_source\":{\"id\":\"7958\"},\"glyph\":{\"id\":\"7961\"},\"group\":null,\"hover_glyph\":null,\"muted_glyph\":{\"id\":\"7963\"},\"nonselection_glyph\":{\"id\":\"7962\"},\"selection_glyph\":{\"id\":\"7966\"},\"view\":{\"id\":\"7965\"}},\"id\":\"7964\",\"type\":\"GlyphRenderer\"},{\"attributes\":{\"line_alpha\":0.2,\"line_color\":\"blue\",\"line_width\":2,\"x\":{\"field\":\"Date\"},\"y\":{\"field\":\"BB_LOWER\"}},\"id\":\"7981\",\"type\":\"Line\"},{\"attributes\":{\"source\":{\"id\":\"7949\"}},\"id\":\"7956\",\"type\":\"CDSView\"},{\"attributes\":{},\"id\":\"7994\",\"type\":\"UnionRenderers\"},{\"attributes\":{\"coordinates\":null,\"data_source\":{\"id\":\"7949\"},\"glyph\":{\"id\":\"7952\"},\"group\":null,\"hover_glyph\":null,\"muted_glyph\":{\"id\":\"7954\"},\"nonselection_glyph\":{\"id\":\"7953\"},\"selection_glyph\":{\"id\":\"7957\"},\"view\":{\"id\":\"7956\"}},\"id\":\"7955\",\"type\":\"GlyphRenderer\"},{\"attributes\":{\"line_color\":\"blue\",\"line_width\":2,\"x\":{\"field\":\"Date\"},\"y\":{\"field\":\"BB_LOWER\"}},\"id\":\"7984\",\"type\":\"Line\"},{\"attributes\":{},\"id\":\"7947\",\"type\":\"BasicTickFormatter\"},{\"attributes\":{},\"id\":\"7945\",\"type\":\"AllLabels\"},{\"attributes\":{\"callback\":null,\"formatters\":{\"@{Date}\":\"datetime\"},\"renderers\":[{\"id\":\"7982\"}],\"tags\":[\"hv_created\"],\"tooltips\":[[\"Date\",\"@{Date}{%F %T}\"],[\"BB_LOWER\",\"@{BB_LOWER}\"]]},\"id\":\"7909\",\"type\":\"HoverTool\"},{\"attributes\":{\"axis_label\":\"Date\",\"coordinates\":null,\"formatter\":{\"id\":\"7944\"},\"group\":null,\"major_label_policy\":{\"id\":\"7945\"},\"ticker\":{\"id\":\"7920\"}},\"id\":\"7919\",\"type\":\"DatetimeAxis\"},{\"attributes\":{},\"id\":\"7996\",\"type\":\"UnionRenderers\"},{\"attributes\":{\"line_alpha\":0.1,\"line_color\":\"purple\",\"line_width\":2,\"x\":{\"field\":\"Date\"},\"y\":{\"field\":\"BB_UPPER\"}},\"id\":\"7962\",\"type\":\"Line\"},{\"attributes\":{\"coordinates\":null,\"group\":null,\"text_color\":\"black\",\"text_font_size\":\"12pt\"},\"id\":\"7911\",\"type\":\"Title\"},{\"attributes\":{},\"id\":\"7998\",\"type\":\"UnionRenderers\"},{\"attributes\":{},\"id\":\"7917\",\"type\":\"LinearScale\"},{\"attributes\":{\"margin\":[5,5,5,5],\"name\":\"HSpacer10921\",\"sizing_mode\":\"stretch_width\"},\"id\":\"7903\",\"type\":\"Spacer\"},{\"attributes\":{\"base\":60,\"mantissas\":[1,2,5,10,15,20,30],\"max_interval\":1800000.0,\"min_interval\":1000.0,\"num_minor_ticks\":0},\"id\":\"8002\",\"type\":\"AdaptiveTicker\"},{\"attributes\":{},\"id\":\"7924\",\"type\":\"BasicTicker\"},{\"attributes\":{\"base\":24,\"mantissas\":[1,2,4,6,8,12],\"max_interval\":43200000.0,\"min_interval\":3600000.0,\"num_minor_ticks\":0},\"id\":\"8003\",\"type\":\"AdaptiveTicker\"},{\"attributes\":{\"source\":{\"id\":\"7958\"}},\"id\":\"7965\",\"type\":\"CDSView\"},{\"attributes\":{\"num_minor_ticks\":5,\"tickers\":[{\"id\":\"8001\"},{\"id\":\"8002\"},{\"id\":\"8003\"},{\"id\":\"8004\"},{\"id\":\"8005\"},{\"id\":\"8006\"},{\"id\":\"8007\"},{\"id\":\"8008\"},{\"id\":\"8009\"},{\"id\":\"8010\"},{\"id\":\"8011\"},{\"id\":\"8012\"}]},\"id\":\"7920\",\"type\":\"DatetimeTicker\"},{\"attributes\":{\"days\":[1,2,3,4,5,6,7,8,9,10,11,12,13,14,15,16,17,18,19,20,21,22,23,24,25,26,27,28,29,30,31]},\"id\":\"8004\",\"type\":\"DaysTicker\"},{\"attributes\":{\"line_alpha\":0.2,\"line_color\":\"purple\",\"line_width\":2,\"x\":{\"field\":\"Date\"},\"y\":{\"field\":\"BB_UPPER\"}},\"id\":\"7963\",\"type\":\"Line\"},{\"attributes\":{\"line_color\":\"orange\",\"line_width\":2,\"x\":{\"field\":\"Date\"},\"y\":{\"field\":\"BB_MIDDLE\"}},\"id\":\"7970\",\"type\":\"Line\"},{\"attributes\":{\"line_color\":\"purple\",\"line_width\":2,\"x\":{\"field\":\"Date\"},\"y\":{\"field\":\"BB_UPPER\"}},\"id\":\"7966\",\"type\":\"Line\"},{\"attributes\":{\"days\":[1,8,15,22]},\"id\":\"8006\",\"type\":\"DaysTicker\"},{\"attributes\":{\"axis\":{\"id\":\"7919\"},\"coordinates\":null,\"grid_line_color\":null,\"group\":null,\"ticker\":null},\"id\":\"7922\",\"type\":\"Grid\"},{\"attributes\":{\"days\":[1,15]},\"id\":\"8007\",\"type\":\"DaysTicker\"},{\"attributes\":{\"coordinates\":null,\"data_source\":{\"id\":\"7967\"},\"glyph\":{\"id\":\"7970\"},\"group\":null,\"hover_glyph\":null,\"muted_glyph\":{\"id\":\"7972\"},\"nonselection_glyph\":{\"id\":\"7971\"},\"selection_glyph\":{\"id\":\"7975\"},\"view\":{\"id\":\"7974\"}},\"id\":\"7973\",\"type\":\"GlyphRenderer\"},{\"attributes\":{\"axis\":{\"id\":\"7923\"},\"coordinates\":null,\"dimension\":1,\"grid_line_color\":null,\"group\":null,\"ticker\":null},\"id\":\"7926\",\"type\":\"Grid\"},{\"attributes\":{},\"id\":\"7968\",\"type\":\"Selection\"},{\"attributes\":{\"axis_label\":\"Price in $\",\"coordinates\":null,\"formatter\":{\"id\":\"7947\"},\"group\":null,\"major_label_policy\":{\"id\":\"7948\"},\"ticker\":{\"id\":\"7924\"}},\"id\":\"7923\",\"type\":\"LinearAxis\"},{\"attributes\":{\"months\":[0,1,2,3,4,5,6,7,8,9,10,11]},\"id\":\"8008\",\"type\":\"MonthsTicker\"},{\"attributes\":{},\"id\":\"7950\",\"type\":\"Selection\"},{\"attributes\":{\"months\":[0,2,4,6,8,10]},\"id\":\"8009\",\"type\":\"MonthsTicker\"},{\"attributes\":{\"line_color\":\"lightgray\",\"line_width\":2,\"x\":{\"field\":\"Date\"},\"y\":{\"field\":\"Close\"}},\"id\":\"7957\",\"type\":\"Line\"},{\"attributes\":{\"months\":[0,4,8]},\"id\":\"8010\",\"type\":\"MonthsTicker\"},{\"attributes\":{\"data\":{\"BB_UPPER\":{\"__ndarray__\":\"AAAAAAAA+H8AAAAAAAD4fwAAAAAAAPh/AAAAAAAA+H8AAAAAAAD4fwAAAAAAAPh/AAAAAAAA+H8AAAAAAAD4fwAAAAAAAPh/AAAAAAAA+H8AAAAAAAD4fwAAAAAAAPh/AAAAAAAA+H8AAAAAAAD4fwAAAAAAAPh/AAAAAAAA+H8AAAAAAAD4fwAAAAAAAPh/AAAAAAAA+H9oOf6Wc8+sQAvG5Uxu8KxA+6zPoFLirEAwNuggPrmsQGQ9C4ZNvaxArSw4UoMBrUBLv4meVC+tQB1nFQDYeK1AwFmkrnWkrUCLswLYpsWtQJtYoS4s9q1AMtvqvmZDrkAFkvI5q7KuQPA4qcLYJa9ATR31YgyJr0ANi2Ix7MCvQNS2g9ldhq9ASre84QtOr0C7hbs5+q2vQBNcLSayCbBAeLbB0bcnsEAMXZFyrWqwQMi+4ewIirBAR+/vsk/HsEBF0XYVteywQLMuFUrR8rBAgD9I+iMqsUCN/KIXc3OxQO029E/wh7FAiJYaUeqXsUDJq0IE15axQFwgSKj00rFAZ/SxexsZskD6g/jkJUiyQKmsE4ZiYbJAEL/g3CN5skDWgWC4o4iyQHwfhv+0yLJAhQ/aT2n/skAaVfWGgRazQPGcjG8+K7NAH04wzqlAs0BXb+PjrUWzQAyLQ/gCTrNAteiudWNBs0CWQOQ2cQezQHal+BdqB7NAnLuHo1s7s0A/C+BBvzyzQH5SAM6cOLNAEiK4UQM8s0CixlZ65kqzQE1z6nl+PrNA344EaGM6s0D7JSe+4jazQDWMQ0B3QLNAJI8W9Lkxs0CfCtgIEPOyQOaYBcH6xrJAliSnDSPGskBMeOYT+qmyQOBgu2Unj7JA9YGYX9dhskB1ZatePjayQCZerugFEbJAIwhLLKYYskD2lbtjRxqyQBcsCTn1GrJAqQICZcscskDoJAdAoCmyQFi3NRtvLLJA\",\"dtype\":\"float64\",\"order\":\"little\",\"shape\":[90]},\"Date\":{\"__ndarray__\":\"AABAQce9d0IAAACnGb53QgAAwAxsvndCAACAcr6+d0IAAEDYEL93QgAAAD5jv3dCAADAo7W/d0IAAIAJCMB3QgAAQG9awHdCAAAA1azAd0IAAMA6/8B3QgAAgKBRwXdCAABABqTBd0IAAABs9sF3QgAAwNFIwndCAACAN5vCd0IAAECd7cJ3QgAAAANAw3dCAADAaJLDd0IAAIDO5MN3QgAAQDQ3xHdCAAAAmonEd0IAAMD/28R3QgAAgGUuxXdCAABAy4DFd0IAAAAx08V3QgAAwJYlxndCAACA/HfGd0IAAEBiysZ3QgAAAMgcx3dCAADALW/Hd0IAAICTwcd3QgAAQPkTyHdCAAAAX2bId0IAAMDEuMh3QgAAgCoLyXdCAABAkF3Jd0IAAAD2r8l3QgAAwFsCyndCAACAwVTKd0IAAEAnp8p3QgAAAI35yndCAADA8kvLd0IAAIBYnst3QgAAQL7wy3dCAAAAJEPMd0IAAMCJlcx3QgAAgO/nzHdCAABAVTrNd0IAAAC7jM13QgAAwCDfzXdCAACAhjHOd0IAAEDsg853QgAAAFLWzndCAADAtyjPd0IAAIAde893QgAAQIPNz3dCAAAA6R/Qd0IAAMBOctB3QgAAgLTE0HdCAABAGhfRd0IAAACAadF3QgAAwOW70XdCAACASw7Sd0IAAECxYNJ3QgAAABez0ndCAADAfAXTd0IAAIDiV9N3QgAAQEiq03dCAAAArvzTd0IAAMATT9R3QgAAgHmh1HdCAABA3/PUd0IAAABFRtV3QgAAwKqY1XdCAACAEOvVd0IAAEB2PdZ3QgAAANyP1ndCAADAQeLWd0IAAICnNNd3QgAAQA2H13dCAAAAc9nXd0IAAMDYK9h3QgAAgD5+2HdCAABApNDYd0IAAAAKI9l3QgAAwG912XdCAACA1cfZd0IAAEA7Gtp3QgAAAKFs2ndC\",\"dtype\":\"float64\",\"order\":\"little\",\"shape\":[90]}},\"selected\":{\"id\":\"7959\"},\"selection_policy\":{\"id\":\"7994\"}},\"id\":\"7958\",\"type\":\"ColumnDataSource\"},{\"attributes\":{\"line_color\":\"lightgray\",\"line_width\":2,\"x\":{\"field\":\"Date\"},\"y\":{\"field\":\"Close\"}},\"id\":\"7952\",\"type\":\"Line\"},{\"attributes\":{\"months\":[0,6]},\"id\":\"8011\",\"type\":\"MonthsTicker\"},{\"attributes\":{\"line_alpha\":0.1,\"line_color\":\"orange\",\"line_width\":2,\"x\":{\"field\":\"Date\"},\"y\":{\"field\":\"BB_MIDDLE\"}},\"id\":\"7971\",\"type\":\"Line\"},{\"attributes\":{\"tools\":[{\"id\":\"7906\"},{\"id\":\"7907\"},{\"id\":\"7908\"},{\"id\":\"7909\"},{\"id\":\"7927\"},{\"id\":\"7928\"},{\"id\":\"7929\"},{\"id\":\"7930\"},{\"id\":\"7931\"}]},\"id\":\"7933\",\"type\":\"Toolbar\"},{\"attributes\":{\"mantissas\":[1,2,5],\"max_interval\":500.0,\"num_minor_ticks\":0},\"id\":\"8001\",\"type\":\"AdaptiveTicker\"},{\"attributes\":{},\"id\":\"7948\",\"type\":\"AllLabels\"},{\"attributes\":{},\"id\":\"8012\",\"type\":\"YearsTicker\"},{\"attributes\":{},\"id\":\"7927\",\"type\":\"SaveTool\"},{\"attributes\":{\"source\":{\"id\":\"7967\"}},\"id\":\"7974\",\"type\":\"CDSView\"},{\"attributes\":{},\"id\":\"7915\",\"type\":\"LinearScale\"},{\"attributes\":{},\"id\":\"7928\",\"type\":\"PanTool\"},{\"attributes\":{\"data\":{\"BB_MIDDLE\":{\"__ndarray__\":\"AAAAAAAA+H8AAAAAAAD4fwAAAAAAAPh/AAAAAAAA+H8AAAAAAAD4fwAAAAAAAPh/AAAAAAAA+H8AAAAAAAD4fwAAAAAAAPh/AAAAAAAA+H8AAAAAAAD4fwAAAAAAAPh/AAAAAAAA+H8AAAAAAAD4fwAAAAAAAPh/AAAAAAAA+H8AAAAAAAD4fwAAAAAAAPh/AAAAAAAA+H/NzMwMTrOoQGZmZu6WwKhAAAAAeK67qEBmZmZOAbKoQDMzM4vusqhAMzMzG+DFqEDNzMysDNOoQAAAACit66hAmpmZwVwaqUCamZlhdGipQGZmZtbskalAmpmZMf6+qUDNzMxsbRSqQM3MzGQicqpAZmZmLvK+qkCamZkZPhqrQJqZmZFjeKtAZmZm9tbeq0CamZlhRVKsQJqZmaHznKxAmpmZ6czWrEDNzMyEISKtQGZmZo7paK1AmpmZIdmurUDNzMz05uWtQDMzM2MhCK5AMzMzg3xQrkDNzMysY6SuQGZmZn5e/q5AmpmZIaRIr0DNzMy02JuvQDMzM8u0/a9AMzMzf+knsECamZmFpUmwQDMzM4twarBAAAAA2CmMsEAAAADQwLewQJqZmZl55rBAAAAAyG0DsUAzMzN7hSCxQGZmZhKIRrFAZmZm2k1fsUAzMzNje3uxQM3MzPTnj7FAZmZm5jmlsUDNzMwUiLOxQJqZmZmLs7FAzczMLNeesUDNzMwseZ2xQJqZmfGQo7FAzczMTNKgsUBmZmYiAYixQAAAANSuerFAMzMz19BrsUAAAACkPWGxQJqZmQm1SLFAmpmZaYYusUAzMzOzpBSxQJqZmSklBrFAAAAAEOkFsUBmZmaevf6wQGZmZjbz9rBAZmZmjmnhsECamZnhEsiwQM3MzFwdtrBAmpmZuTu9sEAAAABQm76wQDMzM8OK1LBAzczMFJ7LsEBmZma2i7KwQDMzM/8kp7BA\",\"dtype\":\"float64\",\"order\":\"little\",\"shape\":[90]},\"Date\":{\"__ndarray__\":\"AABAQce9d0IAAACnGb53QgAAwAxsvndCAACAcr6+d0IAAEDYEL93QgAAAD5jv3dCAADAo7W/d0IAAIAJCMB3QgAAQG9awHdCAAAA1azAd0IAAMA6/8B3QgAAgKBRwXdCAABABqTBd0IAAABs9sF3QgAAwNFIwndCAACAN5vCd0IAAECd7cJ3QgAAAANAw3dCAADAaJLDd0IAAIDO5MN3QgAAQDQ3xHdCAAAAmonEd0IAAMD/28R3QgAAgGUuxXdCAABAy4DFd0IAAAAx08V3QgAAwJYlxndCAACA/HfGd0IAAEBiysZ3QgAAAMgcx3dCAADALW/Hd0IAAICTwcd3QgAAQPkTyHdCAAAAX2bId0IAAMDEuMh3QgAAgCoLyXdCAABAkF3Jd0IAAAD2r8l3QgAAwFsCyndCAACAwVTKd0IAAEAnp8p3QgAAAI35yndCAADA8kvLd0IAAIBYnst3QgAAQL7wy3dCAAAAJEPMd0IAAMCJlcx3QgAAgO/nzHdCAABAVTrNd0IAAAC7jM13QgAAwCDfzXdCAACAhjHOd0IAAEDsg853QgAAAFLWzndCAADAtyjPd0IAAIAde893QgAAQIPNz3dCAAAA6R/Qd0IAAMBOctB3QgAAgLTE0HdCAABAGhfRd0IAAACAadF3QgAAwOW70XdCAACASw7Sd0IAAECxYNJ3QgAAABez0ndCAADAfAXTd0IAAIDiV9N3QgAAQEiq03dCAAAArvzTd0IAAMATT9R3QgAAgHmh1HdCAABA3/PUd0IAAABFRtV3QgAAwKqY1XdCAACAEOvVd0IAAEB2PdZ3QgAAANyP1ndCAADAQeLWd0IAAICnNNd3QgAAQA2H13dCAAAAc9nXd0IAAMDYK9h3QgAAgD5+2HdCAABApNDYd0IAAAAKI9l3QgAAwG912XdCAACA1cfZd0IAAEA7Gtp3QgAAAKFs2ndC\",\"dtype\":\"float64\",\"order\":\"little\",\"shape\":[90]}},\"selected\":{\"id\":\"7968\"},\"selection_policy\":{\"id\":\"7996\"}},\"id\":\"7967\",\"type\":\"ColumnDataSource\"},{\"attributes\":{\"data\":{\"BB_LOWER\":{\"__ndarray__\":\"AAAAAAAA+H8AAAAAAAD4fwAAAAAAAPh/AAAAAAAA+H8AAAAAAAD4fwAAAAAAAPh/AAAAAAAA+H8AAAAAAAD4fwAAAAAAAPh/AAAAAAAA+H8AAAAAAAD4fwAAAAAAAPh/AAAAAAAA+H8AAAAAAAD4fwAAAAAAAPh/AAAAAAAA+H8AAAAAAAD4fwAAAAAAAPh/AAAAAAAA+H8yYJuCKJekQMEG54+/kKRABVMwTwqVpECcluR7xKqkQAIpW5CPqKRAuTku5DyKpEBP2g+7xHakQOOY6k+CXqRAdNmO1EOQpECpfzDrQQulQDF0K36tLaVAAlhIpJU6pUCVB6efL3alQKpg8AZsvqVAf6/X+df0pUAnqNABkHOmQGB8r0lpaqdAghUQC6JvqEB5rXeJkPaoQA572PaCJqlARMavLypeqUCB33Yk6G6pQDtPCUPBvalAp1RT3RLPqUAQ96u+Y/KpQAAJPDKgKqpAZufVEbFMqkCAoFMq4WGqQPFe5Fzc7KpAJAb+oHNhq0AIQhRhAwqsQK8l1kWAVaxA/uNoBW9trEBzXnVMSpasQHpzpSD95qxA34E+pl8+rUBT/D7Pu82tQHAnWmd8CK5A9eBLgOQOrkCYIuLeElWuQLZfgGqjw65AWv04zeP7rkAf7gXFkWKvQBwdrOKZo69AF+QdVxAJsEAEWbXynl+wQL6NOhutX7BA/t0RtlICsEC2HHMvZvyvQLbgMhWFDrBAiHfhR6EFsEBUDOyUN4qvQGcZK1y+ba9ADq/DjHw6r0ALtLETMRevQP1N36Xloa5AIEg5vqVWrkCPtxy7cmyuQJs0WySfiq5A07axJF6LrkABqcxRAqeuQNjXIg5+va5ArpVoevfBrkB+mw/JzrOuQOh21qFptq5AIVbQjaLDrkAU1Ih43sWuQJ50uppAHK9A4i0vieH0rkDIT4tZ7nauQB1eYca1Q65A\",\"dtype\":\"float64\",\"order\":\"little\",\"shape\":[90]},\"Date\":{\"__ndarray__\":\"AABAQce9d0IAAACnGb53QgAAwAxsvndCAACAcr6+d0IAAEDYEL93QgAAAD5jv3dCAADAo7W/d0IAAIAJCMB3QgAAQG9awHdCAAAA1azAd0IAAMA6/8B3QgAAgKBRwXdCAABABqTBd0IAAABs9sF3QgAAwNFIwndCAACAN5vCd0IAAECd7cJ3QgAAAANAw3dCAADAaJLDd0IAAIDO5MN3QgAAQDQ3xHdCAAAAmonEd0IAAMD/28R3QgAAgGUuxXdCAABAy4DFd0IAAAAx08V3QgAAwJYlxndCAACA/HfGd0IAAEBiysZ3QgAAAMgcx3dCAADALW/Hd0IAAICTwcd3QgAAQPkTyHdCAAAAX2bId0IAAMDEuMh3QgAAgCoLyXdCAABAkF3Jd0IAAAD2r8l3QgAAwFsCyndCAACAwVTKd0IAAEAnp8p3QgAAAI35yndCAADA8kvLd0IAAIBYnst3QgAAQL7wy3dCAAAAJEPMd0IAAMCJlcx3QgAAgO/nzHdCAABAVTrNd0IAAAC7jM13QgAAwCDfzXdCAACAhjHOd0IAAEDsg853QgAAAFLWzndCAADAtyjPd0IAAIAde893QgAAQIPNz3dCAAAA6R/Qd0IAAMBOctB3QgAAgLTE0HdCAABAGhfRd0IAAACAadF3QgAAwOW70XdCAACASw7Sd0IAAECxYNJ3QgAAABez0ndCAADAfAXTd0IAAIDiV9N3QgAAQEiq03dCAAAArvzTd0IAAMATT9R3QgAAgHmh1HdCAABA3/PUd0IAAABFRtV3QgAAwKqY1XdCAACAEOvVd0IAAEB2PdZ3QgAAANyP1ndCAADAQeLWd0IAAICnNNd3QgAAQA2H13dCAAAAc9nXd0IAAMDYK9h3QgAAgD5+2HdCAABApNDYd0IAAAAKI9l3QgAAwG912XdCAACA1cfZd0IAAEA7Gtp3QgAAAKFs2ndC\",\"dtype\":\"float64\",\"order\":\"little\",\"shape\":[90]}},\"selected\":{\"id\":\"7977\"},\"selection_policy\":{\"id\":\"7998\"}},\"id\":\"7976\",\"type\":\"ColumnDataSource\"},{\"attributes\":{},\"id\":\"7929\",\"type\":\"WheelZoomTool\"},{\"attributes\":{\"line_alpha\":0.2,\"line_color\":\"orange\",\"line_width\":2,\"x\":{\"field\":\"Date\"},\"y\":{\"field\":\"BB_MIDDLE\"}},\"id\":\"7972\",\"type\":\"Line\"},{\"attributes\":{},\"id\":\"7931\",\"type\":\"ResetTool\"},{\"attributes\":{},\"id\":\"7977\",\"type\":\"Selection\"},{\"attributes\":{\"overlay\":{\"id\":\"7932\"}},\"id\":\"7930\",\"type\":\"BoxZoomTool\"},{\"attributes\":{\"line_color\":\"orange\",\"line_width\":2,\"x\":{\"field\":\"Date\"},\"y\":{\"field\":\"BB_MIDDLE\"}},\"id\":\"7975\",\"type\":\"Line\"}],\"root_ids\":[\"7902\"]},\"title\":\"Bokeh Application\",\"version\":\"2.4.2\"}};\n",
       "    var render_items = [{\"docid\":\"3a625f4e-26bb-4c40-be8f-4d329fdfad73\",\"root_ids\":[\"7902\"],\"roots\":{\"7902\":\"15189113-1163-43dc-b5de-5be528eee95c\"}}];\n",
       "    root.Bokeh.embed.embed_items_notebook(docs_json, render_items);\n",
       "  }\n",
       "  if (root.Bokeh !== undefined && root.Bokeh.Panel !== undefined) {\n",
       "    embed_document(root);\n",
       "  } else {\n",
       "    var attempts = 0;\n",
       "    var timer = setInterval(function(root) {\n",
       "      if (root.Bokeh !== undefined && root.Bokeh.Panel !== undefined) {\n",
       "        clearInterval(timer);\n",
       "        embed_document(root);\n",
       "      } else if (document.readyState == \"complete\") {\n",
       "        attempts++;\n",
       "        if (attempts > 200) {\n",
       "          clearInterval(timer);\n",
       "          console.log(\"Bokeh: ERROR: Unable to run BokehJS code because BokehJS library is missing\");\n",
       "        }\n",
       "      }\n",
       "    }, 25, root)\n",
       "  }\n",
       "})(window);</script>"
      ],
      "text/plain": [
       ":Overlay\n",
       "   .Curve.I   :Curve   [Date]   (Close)\n",
       "   .Curve.II  :Curve   [Date]   (BB_UPPER)\n",
       "   .Curve.III :Curve   [Date]   (BB_MIDDLE)\n",
       "   .Curve.IV  :Curve   [Date]   (BB_LOWER)"
      ]
     },
     "execution_count": 251,
     "metadata": {
      "application/vnd.holoviews_exec.v0+json": {
       "id": "7902"
      }
     },
     "output_type": "execute_result"
    }
   ],
   "source": [
    "bollBands('ETH-USD')"
   ]
  },
  {
   "cell_type": "code",
   "execution_count": 247,
   "id": "ea490c50-1e2a-429c-9926-a700a90ff73b",
   "metadata": {},
   "outputs": [],
   "source": [
    "# # Determine the Bollinger Bands for the Dataset\n",
    "# bbands_df = TA.BBANDS(bb_signals_df)\n",
    "\n",
    "# # Review the DataFrame\n",
    "# bbands_df.tail()"
   ]
  },
  {
   "cell_type": "code",
   "execution_count": 248,
   "id": "3e8110e7-4e9e-4113-aaf8-6b9433ac69b5",
   "metadata": {},
   "outputs": [],
   "source": [
    "# # Concatenate the Bollinger Bands to the DataFrame\n",
    "# bb_signals_df = pd.concat([bb_signals_df, bbands_df], axis=1)\n",
    "\n",
    "# # Review the DataFrame\n",
    "# bb_signals_df.tail()"
   ]
  },
  {
   "cell_type": "code",
   "execution_count": 249,
   "id": "75650ae8-ff4a-42e1-b930-fa0bc376bab1",
   "metadata": {},
   "outputs": [],
   "source": [
    "# Visualize close price for the investment\n",
    "# security_close = bb_signals_df[[\"Close\"]].hvplot(\n",
    "#     line_color='lightgray',\n",
    "#     ylabel='Price in $',\n",
    "#     width=1000,\n",
    "#     height=400\n",
    "# )\n",
    "\n",
    "# bb_upper = bb_signals_df[[\"BB_UPPER\"]].hvplot(\n",
    "#     line_color='purple',\n",
    "#     ylabel='Price in $',\n",
    "#     width=1000,\n",
    "#     height=400\n",
    "# )\n",
    "\n",
    "\n",
    "# bb_middle = bb_signals_df[[\"BB_MIDDLE\"]].hvplot(\n",
    "#     line_color='orange',\n",
    "#     ylabel='Price in $',\n",
    "#     width=1000,\n",
    "#     height=400\n",
    "# )\n",
    "\n",
    "# bb_lower = bb_signals_df[[\"BB_LOWER\"]].hvplot(\n",
    "#     line_color='blue',\n",
    "#     ylabel='Price in $',\n",
    "#     width=1000,\n",
    "#     height=400\n",
    "# )\n",
    "\n",
    "# # Overlay plots\n",
    "# bbands_plot = security_close * bb_upper * bb_middle * bb_lower\n",
    "# bbands_plot"
   ]
  },
  {
   "cell_type": "code",
   "execution_count": null,
   "id": "ce518ef3-a558-4398-bb96-8efedab31e01",
   "metadata": {},
   "outputs": [],
   "source": []
  }
 ],
 "metadata": {
  "kernelspec": {
   "display_name": "Python 3 (ipykernel)",
   "language": "python",
   "name": "python3"
  },
  "language_info": {
   "codemirror_mode": {
    "name": "ipython",
    "version": 3
   },
   "file_extension": ".py",
   "mimetype": "text/x-python",
   "name": "python",
   "nbconvert_exporter": "python",
   "pygments_lexer": "ipython3",
   "version": "3.8.2"
  }
 },
 "nbformat": 4,
 "nbformat_minor": 5
}
