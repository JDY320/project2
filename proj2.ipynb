{
 "cells": [
  {
   "cell_type": "code",
   "execution_count": 16,
   "id": "d09c3afb-3de2-40dd-babd-f11d278e3bff",
   "metadata": {},
   "outputs": [],
   "source": [
    "import numpy as np\n",
    "import pandas as pd\n",
    "import hvplot.pandas\n",
    "from pathlib import Path\n",
    "from sklearn.ensemble import RandomForestRegressor\n",
    "from sklearn.model_selection import train_test_split\n",
    "from sklearn.metrics import confusion_matrix, accuracy_score, classification_report\n",
    "import yfinance as yf"
   ]
  },
  {
   "cell_type": "code",
   "execution_count": 27,
   "id": "66f2345c-f7a8-4e3e-8c80-a99a58df7895",
   "metadata": {},
   "outputs": [
    {
     "name": "stdout",
     "output_type": "stream",
     "text": [
      "[*********************100%***********************]  2 of 2 completed\n"
     ]
    },
    {
     "data": {
      "text/html": [
       "<div>\n",
       "<style scoped>\n",
       "    .dataframe tbody tr th:only-of-type {\n",
       "        vertical-align: middle;\n",
       "    }\n",
       "\n",
       "    .dataframe tbody tr th {\n",
       "        vertical-align: top;\n",
       "    }\n",
       "\n",
       "    .dataframe thead th {\n",
       "        text-align: right;\n",
       "    }\n",
       "</style>\n",
       "<table border=\"1\" class=\"dataframe\">\n",
       "  <thead>\n",
       "    <tr style=\"text-align: right;\">\n",
       "      <th></th>\n",
       "      <th>BTC-USD</th>\n",
       "      <th>ETH-USD</th>\n",
       "    </tr>\n",
       "    <tr>\n",
       "      <th>Date</th>\n",
       "      <th></th>\n",
       "      <th></th>\n",
       "    </tr>\n",
       "  </thead>\n",
       "  <tbody>\n",
       "    <tr>\n",
       "      <th>2021-09-13</th>\n",
       "      <td>44963.074219</td>\n",
       "      <td>3285.511719</td>\n",
       "    </tr>\n",
       "    <tr>\n",
       "      <th>2021-09-14</th>\n",
       "      <td>47092.492188</td>\n",
       "      <td>3429.169678</td>\n",
       "    </tr>\n",
       "    <tr>\n",
       "      <th>2021-09-15</th>\n",
       "      <td>48176.347656</td>\n",
       "      <td>3615.282715</td>\n",
       "    </tr>\n",
       "    <tr>\n",
       "      <th>2021-09-16</th>\n",
       "      <td>47783.359375</td>\n",
       "      <td>3571.294922</td>\n",
       "    </tr>\n",
       "    <tr>\n",
       "      <th>2021-09-17</th>\n",
       "      <td>47267.519531</td>\n",
       "      <td>3398.538818</td>\n",
       "    </tr>\n",
       "    <tr>\n",
       "      <th>...</th>\n",
       "      <td>...</td>\n",
       "      <td>...</td>\n",
       "    </tr>\n",
       "    <tr>\n",
       "      <th>2021-12-07</th>\n",
       "      <td>50700.085938</td>\n",
       "      <td>4315.061523</td>\n",
       "    </tr>\n",
       "    <tr>\n",
       "      <th>2021-12-08</th>\n",
       "      <td>50504.796875</td>\n",
       "      <td>4439.357910</td>\n",
       "    </tr>\n",
       "    <tr>\n",
       "      <th>2021-12-09</th>\n",
       "      <td>47672.121094</td>\n",
       "      <td>4119.815918</td>\n",
       "    </tr>\n",
       "    <tr>\n",
       "      <th>2021-12-10</th>\n",
       "      <td>47243.304688</td>\n",
       "      <td>3908.496094</td>\n",
       "    </tr>\n",
       "    <tr>\n",
       "      <th>2021-12-11</th>\n",
       "      <td>48566.058594</td>\n",
       "      <td>4040.621094</td>\n",
       "    </tr>\n",
       "  </tbody>\n",
       "</table>\n",
       "<p>90 rows × 2 columns</p>\n",
       "</div>"
      ],
      "text/plain": [
       "                 BTC-USD      ETH-USD\n",
       "Date                                 \n",
       "2021-09-13  44963.074219  3285.511719\n",
       "2021-09-14  47092.492188  3429.169678\n",
       "2021-09-15  48176.347656  3615.282715\n",
       "2021-09-16  47783.359375  3571.294922\n",
       "2021-09-17  47267.519531  3398.538818\n",
       "...                  ...          ...\n",
       "2021-12-07  50700.085938  4315.061523\n",
       "2021-12-08  50504.796875  4439.357910\n",
       "2021-12-09  47672.121094  4119.815918\n",
       "2021-12-10  47243.304688  3908.496094\n",
       "2021-12-11  48566.058594  4040.621094\n",
       "\n",
       "[90 rows x 2 columns]"
      ]
     },
     "execution_count": 27,
     "metadata": {},
     "output_type": "execute_result"
    }
   ],
   "source": [
    "# Pull in data using Yahoo finance API\n",
    "data = yf.download(tickers=['BTC-USD','ETH-USD'], period = '90d', interval = '1d')\n",
    "data['Close']"
   ]
  },
  {
   "cell_type": "code",
   "execution_count": 33,
   "id": "e68596a0-2fa6-47d1-9747-112e9664769a",
   "metadata": {},
   "outputs": [
    {
     "data": {
      "text/html": [
       "<div>\n",
       "<style scoped>\n",
       "    .dataframe tbody tr th:only-of-type {\n",
       "        vertical-align: middle;\n",
       "    }\n",
       "\n",
       "    .dataframe tbody tr th {\n",
       "        vertical-align: top;\n",
       "    }\n",
       "\n",
       "    .dataframe thead th {\n",
       "        text-align: right;\n",
       "    }\n",
       "</style>\n",
       "<table border=\"1\" class=\"dataframe\">\n",
       "  <thead>\n",
       "    <tr style=\"text-align: right;\">\n",
       "      <th></th>\n",
       "      <th>BTC-USD</th>\n",
       "      <th>ETH-USD</th>\n",
       "    </tr>\n",
       "    <tr>\n",
       "      <th>Date</th>\n",
       "      <th></th>\n",
       "      <th></th>\n",
       "    </tr>\n",
       "  </thead>\n",
       "  <tbody>\n",
       "    <tr>\n",
       "      <th>2021-09-14</th>\n",
       "      <td>0.047359</td>\n",
       "      <td>0.043725</td>\n",
       "    </tr>\n",
       "    <tr>\n",
       "      <th>2021-09-15</th>\n",
       "      <td>0.023015</td>\n",
       "      <td>0.054273</td>\n",
       "    </tr>\n",
       "    <tr>\n",
       "      <th>2021-09-16</th>\n",
       "      <td>-0.008157</td>\n",
       "      <td>-0.012167</td>\n",
       "    </tr>\n",
       "    <tr>\n",
       "      <th>2021-09-17</th>\n",
       "      <td>-0.010795</td>\n",
       "      <td>-0.048374</td>\n",
       "    </tr>\n",
       "    <tr>\n",
       "      <th>2021-09-18</th>\n",
       "      <td>0.021386</td>\n",
       "      <td>0.009851</td>\n",
       "    </tr>\n",
       "    <tr>\n",
       "      <th>...</th>\n",
       "      <td>...</td>\n",
       "      <td>...</td>\n",
       "    </tr>\n",
       "    <tr>\n",
       "      <th>2021-12-07</th>\n",
       "      <td>0.002322</td>\n",
       "      <td>-0.010020</td>\n",
       "    </tr>\n",
       "    <tr>\n",
       "      <th>2021-12-08</th>\n",
       "      <td>-0.003852</td>\n",
       "      <td>0.028805</td>\n",
       "    </tr>\n",
       "    <tr>\n",
       "      <th>2021-12-09</th>\n",
       "      <td>-0.056087</td>\n",
       "      <td>-0.071979</td>\n",
       "    </tr>\n",
       "    <tr>\n",
       "      <th>2021-12-10</th>\n",
       "      <td>-0.008995</td>\n",
       "      <td>-0.051294</td>\n",
       "    </tr>\n",
       "    <tr>\n",
       "      <th>2021-12-11</th>\n",
       "      <td>0.027999</td>\n",
       "      <td>0.033805</td>\n",
       "    </tr>\n",
       "  </tbody>\n",
       "</table>\n",
       "<p>89 rows × 2 columns</p>\n",
       "</div>"
      ],
      "text/plain": [
       "             BTC-USD   ETH-USD\n",
       "Date                          \n",
       "2021-09-14  0.047359  0.043725\n",
       "2021-09-15  0.023015  0.054273\n",
       "2021-09-16 -0.008157 -0.012167\n",
       "2021-09-17 -0.010795 -0.048374\n",
       "2021-09-18  0.021386  0.009851\n",
       "...              ...       ...\n",
       "2021-12-07  0.002322 -0.010020\n",
       "2021-12-08 -0.003852  0.028805\n",
       "2021-12-09 -0.056087 -0.071979\n",
       "2021-12-10 -0.008995 -0.051294\n",
       "2021-12-11  0.027999  0.033805\n",
       "\n",
       "[89 rows x 2 columns]"
      ]
     },
     "execution_count": 33,
     "metadata": {},
     "output_type": "execute_result"
    }
   ],
   "source": [
    "# Create df with yahoo finance close prices\n",
    "crypto_price_df = data['Close'].pct_change()\n",
    "crypto_price_df.dropna()"
   ]
  },
  {
   "cell_type": "code",
   "execution_count": 34,
   "id": "f3763793-ed73-45ae-8f5f-af3a4386e704",
   "metadata": {},
   "outputs": [
    {
     "data": {},
     "metadata": {},
     "output_type": "display_data"
    },
    {
     "data": {
      "application/vnd.holoviews_exec.v0+json": "",
      "text/html": [
       "<div id='2026'>\n",
       "\n",
       "\n",
       "\n",
       "\n",
       "\n",
       "  <div class=\"bk-root\" id=\"3ea1ff73-7b9f-442a-a784-8f112780d45e\" data-root-id=\"2026\"></div>\n",
       "</div>\n",
       "<script type=\"application/javascript\">(function(root) {\n",
       "  function embed_document(root) {\n",
       "    var docs_json = {\"bc61ec45-4775-4795-b295-34d4096a4a0d\":{\"defs\":[{\"extends\":null,\"module\":null,\"name\":\"ReactiveHTML1\",\"overrides\":[],\"properties\":[]},{\"extends\":null,\"module\":null,\"name\":\"FlexBox1\",\"overrides\":[],\"properties\":[{\"default\":\"flex-start\",\"kind\":null,\"name\":\"align_content\"},{\"default\":\"flex-start\",\"kind\":null,\"name\":\"align_items\"},{\"default\":\"row\",\"kind\":null,\"name\":\"flex_direction\"},{\"default\":\"wrap\",\"kind\":null,\"name\":\"flex_wrap\"},{\"default\":\"flex-start\",\"kind\":null,\"name\":\"justify_content\"}]},{\"extends\":null,\"module\":null,\"name\":\"TemplateActions1\",\"overrides\":[],\"properties\":[{\"default\":0,\"kind\":null,\"name\":\"open_modal\"},{\"default\":0,\"kind\":null,\"name\":\"close_modal\"}]},{\"extends\":null,\"module\":null,\"name\":\"MaterialTemplateActions1\",\"overrides\":[],\"properties\":[{\"default\":0,\"kind\":null,\"name\":\"open_modal\"},{\"default\":0,\"kind\":null,\"name\":\"close_modal\"}]}],\"roots\":{\"references\":[{\"attributes\":{},\"id\":\"2036\",\"type\":\"CategoricalScale\"},{\"attributes\":{},\"id\":\"2046\",\"type\":\"SaveTool\"},{\"attributes\":{},\"id\":\"2073\",\"type\":\"AllLabels\"},{\"attributes\":{},\"id\":\"2047\",\"type\":\"PanTool\"},{\"attributes\":{},\"id\":\"2061\",\"type\":\"Selection\"},{\"attributes\":{\"below\":[{\"id\":\"2040\"}],\"center\":[{\"id\":\"2042\"},{\"id\":\"2045\"}],\"height\":300,\"left\":[{\"id\":\"2043\"}],\"margin\":[5,5,5,5],\"min_border_bottom\":10,\"min_border_left\":10,\"min_border_right\":10,\"min_border_top\":10,\"renderers\":[{\"id\":\"2067\"}],\"right\":[{\"id\":\"2070\"}],\"sizing_mode\":\"fixed\",\"title\":{\"id\":\"2032\"},\"toolbar\":{\"id\":\"2052\"},\"width\":700,\"x_range\":{\"id\":\"2028\"},\"x_scale\":{\"id\":\"2036\"},\"y_range\":{\"id\":\"2029\"},\"y_scale\":{\"id\":\"2038\"}},\"id\":\"2031\",\"subtype\":\"Figure\",\"type\":\"Plot\"},{\"attributes\":{},\"id\":\"2048\",\"type\":\"WheelZoomTool\"},{\"attributes\":{\"tools\":[{\"id\":\"2030\"},{\"id\":\"2046\"},{\"id\":\"2047\"},{\"id\":\"2048\"},{\"id\":\"2049\"},{\"id\":\"2050\"}]},\"id\":\"2052\",\"type\":\"Toolbar\"},{\"attributes\":{\"margin\":[5,5,5,5],\"name\":\"HSpacer02664\",\"sizing_mode\":\"stretch_width\"},\"id\":\"2099\",\"type\":\"Spacer\"},{\"attributes\":{\"coordinates\":null,\"group\":null,\"text_color\":\"black\",\"text_font_size\":\"12pt\"},\"id\":\"2032\",\"type\":\"Title\"},{\"attributes\":{\"overlay\":{\"id\":\"2051\"}},\"id\":\"2049\",\"type\":\"BoxZoomTool\"},{\"attributes\":{},\"id\":\"2085\",\"type\":\"UnionRenderers\"},{\"attributes\":{},\"id\":\"2038\",\"type\":\"CategoricalScale\"},{\"attributes\":{\"factors\":[\"BTC-USD\",\"ETH-USD\"],\"tags\":[[[\"columns\",\"columns\",null]]]},\"id\":\"2028\",\"type\":\"FactorRange\"},{\"attributes\":{\"source\":{\"id\":\"2060\"}},\"id\":\"2068\",\"type\":\"CDSView\"},{\"attributes\":{\"data\":{\"columns\":[\"BTC-USD\",\"BTC-USD\",\"ETH-USD\",\"ETH-USD\"],\"index\":[\"BTC-USD\",\"ETH-USD\",\"BTC-USD\",\"ETH-USD\"],\"value\":[\"1\",\"0.81792\",\"0.81792\",\"1\"],\"zvalues\":{\"__ndarray__\":\"AAAAAAAA8D/JYO5jbyzqP8lg7mNvLOo/AAAAAAAA8D8=\",\"dtype\":\"float64\",\"order\":\"little\",\"shape\":[4]}},\"selected\":{\"id\":\"2061\"},\"selection_policy\":{\"id\":\"2085\"}},\"id\":\"2060\",\"type\":\"ColumnDataSource\"},{\"attributes\":{\"fill_color\":{\"field\":\"zvalues\",\"transform\":{\"id\":\"2059\"}},\"height\":{\"value\":1},\"line_alpha\":{\"value\":0},\"line_color\":{\"value\":\"#1f77b4\"},\"width\":{\"value\":1},\"x\":{\"field\":\"columns\"},\"y\":{\"field\":\"index\"}},\"id\":\"2063\",\"type\":\"Rect\"},{\"attributes\":{},\"id\":\"2050\",\"type\":\"ResetTool\"},{\"attributes\":{\"axis_label\":\"\",\"coordinates\":null,\"formatter\":{\"id\":\"2072\"},\"group\":null,\"major_label_policy\":{\"id\":\"2073\"},\"ticker\":{\"id\":\"2041\"}},\"id\":\"2040\",\"type\":\"CategoricalAxis\"},{\"attributes\":{\"fill_alpha\":{\"value\":0.1},\"fill_color\":{\"field\":\"zvalues\",\"transform\":{\"id\":\"2059\"}},\"hatch_alpha\":{\"value\":0.1},\"height\":{\"value\":1},\"line_alpha\":{\"value\":0},\"line_color\":{\"value\":\"#1f77b4\"},\"width\":{\"value\":1},\"x\":{\"field\":\"columns\"},\"y\":{\"field\":\"index\"}},\"id\":\"2064\",\"type\":\"Rect\"},{\"attributes\":{\"bottom_units\":\"screen\",\"coordinates\":null,\"fill_alpha\":0.5,\"fill_color\":\"lightgrey\",\"group\":null,\"left_units\":\"screen\",\"level\":\"overlay\",\"line_alpha\":1.0,\"line_color\":\"black\",\"line_dash\":[4,4],\"line_width\":2,\"right_units\":\"screen\",\"syncable\":false,\"top_units\":\"screen\"},\"id\":\"2051\",\"type\":\"BoxAnnotation\"},{\"attributes\":{\"axis_label\":\"\",\"coordinates\":null,\"formatter\":{\"id\":\"2075\"},\"group\":null,\"major_label_policy\":{\"id\":\"2076\"},\"ticker\":{\"id\":\"2044\"}},\"id\":\"2043\",\"type\":\"CategoricalAxis\"},{\"attributes\":{},\"id\":\"2069\",\"type\":\"BasicTicker\"},{\"attributes\":{},\"id\":\"2044\",\"type\":\"CategoricalTicker\"},{\"attributes\":{\"high\":1.0,\"low\":0.817924208810859,\"nan_color\":\"white\",\"palette\":[\"#b3fef5\",\"#b0fef5\",\"#adfdf5\",\"#a9fcf5\",\"#a6fbf6\",\"#a3faf6\",\"#a0faf6\",\"#9df9f6\",\"#9af8f6\",\"#97f7f6\",\"#93f7f6\",\"#90f6f6\",\"#8df5f6\",\"#8af4f7\",\"#87f3f7\",\"#83f2f7\",\"#80f2f7\",\"#7df1f7\",\"#79f0f7\",\"#76eff7\",\"#73eef7\",\"#6fedf8\",\"#6cecf8\",\"#68ecf8\",\"#65ebf8\",\"#61eaf8\",\"#5ee9f8\",\"#5ae8f8\",\"#57e7f8\",\"#53e6f8\",\"#50e5f9\",\"#4ce4f9\",\"#49e3f9\",\"#45e2f9\",\"#42e1f9\",\"#3ee0f9\",\"#3bdff9\",\"#38def9\",\"#35ddf9\",\"#32dcf9\",\"#30dbfa\",\"#2ed9fa\",\"#2dd8fa\",\"#2cd7fa\",\"#2bd6fa\",\"#2bd5fa\",\"#2ad3fa\",\"#2ad2fa\",\"#29d1fa\",\"#29d0fb\",\"#29cffb\",\"#28cdfb\",\"#28ccfb\",\"#28cbfb\",\"#28cafb\",\"#28c8fb\",\"#28c7fb\",\"#29c6fb\",\"#29c5fb\",\"#29c4fb\",\"#29c2fb\",\"#2ac1fb\",\"#2ac0fb\",\"#2bbffb\",\"#2bbdfc\",\"#2cbcfc\",\"#2dbbfc\",\"#2db9fc\",\"#2eb8fc\",\"#2fb7fc\",\"#2fb6fc\",\"#30b4fc\",\"#31b3fc\",\"#32b2fc\",\"#32b0fc\",\"#33affc\",\"#33aefc\",\"#34adfc\",\"#34abfc\",\"#34aafc\",\"#35a9fc\",\"#35a8fc\",\"#35a6fc\",\"#35a5fc\",\"#35a4fc\",\"#35a3fc\",\"#35a1fc\",\"#35a0fc\",\"#359ffc\",\"#359dfc\",\"#359cfc\",\"#359bfc\",\"#349afd\",\"#3498fd\",\"#3497fd\",\"#3396fd\",\"#3395fd\",\"#3293fd\",\"#3292fd\",\"#3191fd\",\"#3090fd\",\"#308ffd\",\"#2f8dfd\",\"#2f8cfd\",\"#2e8bfd\",\"#2e8afd\",\"#2d88fd\",\"#2d87fd\",\"#2c86fd\",\"#2c84fd\",\"#2c83fd\",\"#2c82fd\",\"#2b81fd\",\"#2b7ffd\",\"#2b7efd\",\"#2b7dfd\",\"#2b7bfd\",\"#2b7afd\",\"#2b79fd\",\"#2b77fd\",\"#2b76fd\",\"#2b75fd\",\"#2b73fd\",\"#2c72fd\",\"#2c71fd\",\"#2c6ffd\",\"#2c6efd\",\"#2d6cfd\",\"#2d6bfd\",\"#2d6afc\",\"#2e68fc\",\"#2e67fc\",\"#2e65fc\",\"#2e64fc\",\"#2f62fc\",\"#2f61fc\",\"#2f5ffc\",\"#2f5efc\",\"#2f5dfc\",\"#2f5bfc\",\"#2f5afc\",\"#2f58fb\",\"#2f57fb\",\"#2f55fb\",\"#2f53fb\",\"#2f52fb\",\"#2f50fb\",\"#2f4ffb\",\"#2f4dfb\",\"#2e4cfb\",\"#2e4afb\",\"#2e48fb\",\"#2e47fa\",\"#2d45fa\",\"#2d43fa\",\"#2d42fa\",\"#2d40fa\",\"#2c3efa\",\"#2c3dfa\",\"#2b3bf9\",\"#2b39f9\",\"#2a37f9\",\"#2a36f8\",\"#2934f8\",\"#2832f7\",\"#2831f7\",\"#272ff6\",\"#262ef5\",\"#252cf5\",\"#252af4\",\"#2429f3\",\"#2327f2\",\"#2226f1\",\"#2124f0\",\"#2023ef\",\"#1f22ee\",\"#1e20ed\",\"#1d1feb\",\"#1c1eea\",\"#1b1ce9\",\"#1a1be7\",\"#181ae6\",\"#1719e5\",\"#1618e3\",\"#1417e1\",\"#1316e0\",\"#1215de\",\"#1014dc\",\"#0f13db\",\"#0e12d9\",\"#0d11d7\",\"#0c10d5\",\"#0b0fd3\",\"#0a0ed1\",\"#090dd0\",\"#080dce\",\"#080ccc\",\"#070bca\",\"#070ac8\",\"#0709c6\",\"#0708c4\",\"#0707c2\",\"#0707bf\",\"#0806bd\",\"#0806bb\",\"#0905b9\",\"#0904b7\",\"#0a04b5\",\"#0a04b2\",\"#0b03b0\",\"#0c03ae\",\"#0d02ab\",\"#0e02a9\",\"#0e02a7\",\"#0f02a4\",\"#0f01a2\",\"#1001a0\",\"#10019d\",\"#10019b\",\"#100199\",\"#100197\",\"#100194\",\"#0f0192\",\"#0f0190\",\"#0f018e\",\"#0e018b\",\"#0e0189\",\"#0d0187\",\"#0d0185\",\"#0c0183\",\"#0b0181\",\"#0b017e\",\"#0a017c\",\"#09017a\",\"#090178\",\"#080276\",\"#070274\",\"#060272\",\"#060270\",\"#05026e\",\"#04026c\",\"#030269\",\"#030267\",\"#020265\",\"#010263\",\"#010261\",\"#00025f\",\"#00025d\",\"#00025b\",\"#000259\",\"#000257\",\"#000255\",\"#000154\",\"#000152\",\"#000150\",\"#00004e\"]},\"id\":\"2059\",\"type\":\"LinearColorMapper\"},{\"attributes\":{\"factors\":[\"BTC-USD\",\"ETH-USD\"],\"tags\":[[[\"index\",\"index\",null]]]},\"id\":\"2029\",\"type\":\"FactorRange\"},{\"attributes\":{\"axis\":{\"id\":\"2040\"},\"coordinates\":null,\"grid_line_color\":null,\"group\":null,\"ticker\":null},\"id\":\"2042\",\"type\":\"Grid\"},{\"attributes\":{\"children\":[{\"id\":\"2027\"},{\"id\":\"2031\"},{\"id\":\"2099\"}],\"margin\":[0,0,0,0],\"name\":\"Row02659\",\"tags\":[\"embedded\"]},\"id\":\"2026\",\"type\":\"Row\"},{\"attributes\":{\"callback\":null,\"renderers\":[{\"id\":\"2067\"}],\"tags\":[\"hv_created\"],\"tooltips\":[[\"columns\",\"@{columns}\"],[\"index\",\"@{index}\"],[\"value\",\"@{value}\"]]},\"id\":\"2030\",\"type\":\"HoverTool\"},{\"attributes\":{},\"id\":\"2041\",\"type\":\"CategoricalTicker\"},{\"attributes\":{\"fill_color\":{\"field\":\"zvalues\",\"transform\":{\"id\":\"2059\"}},\"height\":{\"value\":1},\"line_alpha\":{\"value\":0},\"line_color\":{\"value\":\"#1f77b4\"},\"width\":{\"value\":1},\"x\":{\"field\":\"columns\"},\"y\":{\"field\":\"index\"}},\"id\":\"2065\",\"type\":\"Rect\"},{\"attributes\":{\"fill_alpha\":{\"value\":0.2},\"fill_color\":{\"field\":\"zvalues\",\"transform\":{\"id\":\"2059\"}},\"hatch_alpha\":{\"value\":0.2},\"height\":{\"value\":1},\"line_alpha\":{\"value\":0},\"line_color\":{\"value\":\"#1f77b4\"},\"width\":{\"value\":1},\"x\":{\"field\":\"columns\"},\"y\":{\"field\":\"index\"}},\"id\":\"2066\",\"type\":\"Rect\"},{\"attributes\":{\"bar_line_color\":\"black\",\"color_mapper\":{\"id\":\"2059\"},\"coordinates\":null,\"group\":null,\"label_standoff\":8,\"location\":[0,0],\"major_label_policy\":{\"id\":\"2081\"},\"major_tick_line_color\":\"black\",\"ticker\":{\"id\":\"2069\"}},\"id\":\"2070\",\"type\":\"ColorBar\"},{\"attributes\":{\"axis\":{\"id\":\"2043\"},\"coordinates\":null,\"dimension\":1,\"grid_line_color\":null,\"group\":null,\"ticker\":null},\"id\":\"2045\",\"type\":\"Grid\"},{\"attributes\":{},\"id\":\"2072\",\"type\":\"CategoricalTickFormatter\"},{\"attributes\":{},\"id\":\"2075\",\"type\":\"CategoricalTickFormatter\"},{\"attributes\":{\"margin\":[5,5,5,5],\"name\":\"HSpacer02663\",\"sizing_mode\":\"stretch_width\"},\"id\":\"2027\",\"type\":\"Spacer\"},{\"attributes\":{},\"id\":\"2076\",\"type\":\"AllLabels\"},{\"attributes\":{\"coordinates\":null,\"data_source\":{\"id\":\"2060\"},\"glyph\":{\"id\":\"2063\"},\"group\":null,\"hover_glyph\":null,\"muted_glyph\":{\"id\":\"2066\"},\"nonselection_glyph\":{\"id\":\"2064\"},\"selection_glyph\":{\"id\":\"2065\"},\"view\":{\"id\":\"2068\"}},\"id\":\"2067\",\"type\":\"GlyphRenderer\"},{\"attributes\":{},\"id\":\"2081\",\"type\":\"NoOverlap\"}],\"root_ids\":[\"2026\"]},\"title\":\"Bokeh Application\",\"version\":\"2.4.2\"}};\n",
       "    var render_items = [{\"docid\":\"bc61ec45-4775-4795-b295-34d4096a4a0d\",\"root_ids\":[\"2026\"],\"roots\":{\"2026\":\"3ea1ff73-7b9f-442a-a784-8f112780d45e\"}}];\n",
       "    root.Bokeh.embed.embed_items_notebook(docs_json, render_items);\n",
       "  }\n",
       "  if (root.Bokeh !== undefined && root.Bokeh.Panel !== undefined) {\n",
       "    embed_document(root);\n",
       "  } else {\n",
       "    var attempts = 0;\n",
       "    var timer = setInterval(function(root) {\n",
       "      if (root.Bokeh !== undefined && root.Bokeh.Panel !== undefined) {\n",
       "        clearInterval(timer);\n",
       "        embed_document(root);\n",
       "      } else if (document.readyState == \"complete\") {\n",
       "        attempts++;\n",
       "        if (attempts > 200) {\n",
       "          clearInterval(timer);\n",
       "          console.log(\"Bokeh: ERROR: Unable to run BokehJS code because BokehJS library is missing\");\n",
       "        }\n",
       "      }\n",
       "    }, 25, root)\n",
       "  }\n",
       "})(window);</script>"
      ],
      "text/plain": [
       ":HeatMap   [columns,index]   (value)"
      ]
     },
     "execution_count": 34,
     "metadata": {
      "application/vnd.holoviews_exec.v0+json": {
       "id": "2026"
      }
     },
     "output_type": "execute_result"
    }
   ],
   "source": [
    "# Graph Correlation between BTC & ETH\n",
    "crypto_corr = crypto_price_df.corr()\n",
    "crypto_corr_plot = crypto_corr.hvplot.heatmap()\n",
    "crypto_corr_plot"
   ]
  },
  {
   "cell_type": "code",
   "execution_count": 25,
   "id": "1ebfe345-7579-470a-96dd-9a0c97e2469f",
   "metadata": {},
   "outputs": [
    {
     "data": {
      "text/html": [
       "<div>\n",
       "<style scoped>\n",
       "    .dataframe tbody tr th:only-of-type {\n",
       "        vertical-align: middle;\n",
       "    }\n",
       "\n",
       "    .dataframe tbody tr th {\n",
       "        vertical-align: top;\n",
       "    }\n",
       "\n",
       "    .dataframe thead th {\n",
       "        text-align: right;\n",
       "    }\n",
       "</style>\n",
       "<table border=\"1\" class=\"dataframe\">\n",
       "  <thead>\n",
       "    <tr style=\"text-align: right;\">\n",
       "      <th></th>\n",
       "      <th>BTC</th>\n",
       "      <th>GOLD</th>\n",
       "      <th>OIL</th>\n",
       "    </tr>\n",
       "    <tr>\n",
       "      <th>Date</th>\n",
       "      <th></th>\n",
       "      <th></th>\n",
       "      <th></th>\n",
       "    </tr>\n",
       "  </thead>\n",
       "  <tbody>\n",
       "    <tr>\n",
       "      <th>12/9/2021</th>\n",
       "      <td>49234.88</td>\n",
       "      <td>1775.76</td>\n",
       "      <td>71.61</td>\n",
       "    </tr>\n",
       "    <tr>\n",
       "      <th>12/8/2021</th>\n",
       "      <td>50634.60</td>\n",
       "      <td>1782.99</td>\n",
       "      <td>72.36</td>\n",
       "    </tr>\n",
       "    <tr>\n",
       "      <th>12/7/2021</th>\n",
       "      <td>50527.71</td>\n",
       "      <td>1784.13</td>\n",
       "      <td>72.05</td>\n",
       "    </tr>\n",
       "    <tr>\n",
       "      <th>12/6/2021</th>\n",
       "      <td>50119.66</td>\n",
       "      <td>1778.67</td>\n",
       "      <td>69.49</td>\n",
       "    </tr>\n",
       "    <tr>\n",
       "      <th>12/3/2021</th>\n",
       "      <td>53655.26</td>\n",
       "      <td>1783.29</td>\n",
       "      <td>66.26</td>\n",
       "    </tr>\n",
       "    <tr>\n",
       "      <th>...</th>\n",
       "      <td>...</td>\n",
       "      <td>...</td>\n",
       "      <td>...</td>\n",
       "    </tr>\n",
       "    <tr>\n",
       "      <th>2/14/2018</th>\n",
       "      <td>9287.96</td>\n",
       "      <td>1350.73</td>\n",
       "      <td>50.56</td>\n",
       "    </tr>\n",
       "    <tr>\n",
       "      <th>2/13/2018</th>\n",
       "      <td>8557.91</td>\n",
       "      <td>1329.55</td>\n",
       "      <td>50.55</td>\n",
       "    </tr>\n",
       "    <tr>\n",
       "      <th>2/12/2018</th>\n",
       "      <td>8831.25</td>\n",
       "      <td>1322.70</td>\n",
       "      <td>49.90</td>\n",
       "    </tr>\n",
       "    <tr>\n",
       "      <th>2/9/2018</th>\n",
       "      <td>8552.65</td>\n",
       "      <td>1316.65</td>\n",
       "      <td>49.73</td>\n",
       "    </tr>\n",
       "    <tr>\n",
       "      <th>2/8/2018</th>\n",
       "      <td>8171.19</td>\n",
       "      <td>1318.76</td>\n",
       "      <td>50.30</td>\n",
       "    </tr>\n",
       "  </tbody>\n",
       "</table>\n",
       "<p>969 rows × 3 columns</p>\n",
       "</div>"
      ],
      "text/plain": [
       "                BTC     GOLD    OIL\n",
       "Date                               \n",
       "12/9/2021  49234.88  1775.76  71.61\n",
       "12/8/2021  50634.60  1782.99  72.36\n",
       "12/7/2021  50527.71  1784.13  72.05\n",
       "12/6/2021  50119.66  1778.67  69.49\n",
       "12/3/2021  53655.26  1783.29  66.26\n",
       "...             ...      ...    ...\n",
       "2/14/2018   9287.96  1350.73  50.56\n",
       "2/13/2018   8557.91  1329.55  50.55\n",
       "2/12/2018   8831.25  1322.70  49.90\n",
       "2/9/2018    8552.65  1316.65  49.73\n",
       "2/8/2018    8171.19  1318.76  50.30\n",
       "\n",
       "[969 rows x 3 columns]"
      ]
     },
     "execution_count": 25,
     "metadata": {},
     "output_type": "execute_result"
    }
   ],
   "source": [
    "# Read in .csv file using bloomberg static data\n",
    "df = pd.read_csv('data.csv', index_col = 'Date')\n",
    "\n",
    "#DROP S&P500 AND TSY COLUMNS FOR CUPCAKE. FEED DATA IN WHEN WE GET\n",
    "df.drop(columns = ['ETH','SPY','TSY'],inplace=True)\n",
    "\n",
    "#DROP NULLS\n",
    "df.dropna()"
   ]
  },
  {
   "cell_type": "code",
   "execution_count": 3,
   "id": "ac585dd2-d601-4674-aa06-0365d9a54fa1",
   "metadata": {},
   "outputs": [
    {
     "data": {
      "text/html": [
       "<div>\n",
       "<style scoped>\n",
       "    .dataframe tbody tr th:only-of-type {\n",
       "        vertical-align: middle;\n",
       "    }\n",
       "\n",
       "    .dataframe tbody tr th {\n",
       "        vertical-align: top;\n",
       "    }\n",
       "\n",
       "    .dataframe thead th {\n",
       "        text-align: right;\n",
       "    }\n",
       "</style>\n",
       "<table border=\"1\" class=\"dataframe\">\n",
       "  <thead>\n",
       "    <tr style=\"text-align: right;\">\n",
       "      <th></th>\n",
       "      <th>BTC</th>\n",
       "      <th>GOLD</th>\n",
       "      <th>OIL</th>\n",
       "    </tr>\n",
       "    <tr>\n",
       "      <th>Date</th>\n",
       "      <th></th>\n",
       "      <th></th>\n",
       "      <th></th>\n",
       "    </tr>\n",
       "  </thead>\n",
       "  <tbody>\n",
       "    <tr>\n",
       "      <th>12/9/2021</th>\n",
       "      <td>49234.88</td>\n",
       "      <td>1775.76</td>\n",
       "      <td>71.61</td>\n",
       "    </tr>\n",
       "    <tr>\n",
       "      <th>12/8/2021</th>\n",
       "      <td>50634.60</td>\n",
       "      <td>1782.99</td>\n",
       "      <td>72.36</td>\n",
       "    </tr>\n",
       "    <tr>\n",
       "      <th>12/7/2021</th>\n",
       "      <td>50527.71</td>\n",
       "      <td>1784.13</td>\n",
       "      <td>72.05</td>\n",
       "    </tr>\n",
       "    <tr>\n",
       "      <th>12/6/2021</th>\n",
       "      <td>50119.66</td>\n",
       "      <td>1778.67</td>\n",
       "      <td>69.49</td>\n",
       "    </tr>\n",
       "    <tr>\n",
       "      <th>12/3/2021</th>\n",
       "      <td>53655.26</td>\n",
       "      <td>1783.29</td>\n",
       "      <td>66.26</td>\n",
       "    </tr>\n",
       "  </tbody>\n",
       "</table>\n",
       "</div>"
      ],
      "text/plain": [
       "                BTC     GOLD    OIL\n",
       "Date                               \n",
       "12/9/2021  49234.88  1775.76  71.61\n",
       "12/8/2021  50634.60  1782.99  72.36\n",
       "12/7/2021  50527.71  1784.13  72.05\n",
       "12/6/2021  50119.66  1778.67  69.49\n",
       "12/3/2021  53655.26  1783.29  66.26"
      ]
     },
     "execution_count": 3,
     "metadata": {},
     "output_type": "execute_result"
    }
   ],
   "source": [
    "df.head()"
   ]
  },
  {
   "cell_type": "code",
   "execution_count": 26,
   "id": "893fcb0d-bc3c-40a6-a1ad-60fffb54de88",
   "metadata": {},
   "outputs": [],
   "source": [
    "# Convert df to % change for analysis\n",
    "pct_chg_df = df.pct_change()\n",
    "pct_chg_df = pct_chg_df.dropna()"
   ]
  },
  {
   "cell_type": "code",
   "execution_count": 5,
   "id": "5647b872-15a2-4947-976b-ca654b6c74bc",
   "metadata": {},
   "outputs": [
    {
     "data": {
      "text/html": [
       "<div>\n",
       "<style scoped>\n",
       "    .dataframe tbody tr th:only-of-type {\n",
       "        vertical-align: middle;\n",
       "    }\n",
       "\n",
       "    .dataframe tbody tr th {\n",
       "        vertical-align: top;\n",
       "    }\n",
       "\n",
       "    .dataframe thead th {\n",
       "        text-align: right;\n",
       "    }\n",
       "</style>\n",
       "<table border=\"1\" class=\"dataframe\">\n",
       "  <thead>\n",
       "    <tr style=\"text-align: right;\">\n",
       "      <th></th>\n",
       "      <th>GOLD</th>\n",
       "      <th>OIL</th>\n",
       "    </tr>\n",
       "    <tr>\n",
       "      <th>Date</th>\n",
       "      <th></th>\n",
       "      <th></th>\n",
       "    </tr>\n",
       "  </thead>\n",
       "  <tbody>\n",
       "    <tr>\n",
       "      <th>12/8/2021</th>\n",
       "      <td>0.004071</td>\n",
       "      <td>0.010473</td>\n",
       "    </tr>\n",
       "    <tr>\n",
       "      <th>12/7/2021</th>\n",
       "      <td>0.000639</td>\n",
       "      <td>-0.004284</td>\n",
       "    </tr>\n",
       "    <tr>\n",
       "      <th>12/6/2021</th>\n",
       "      <td>-0.003060</td>\n",
       "      <td>-0.035531</td>\n",
       "    </tr>\n",
       "    <tr>\n",
       "      <th>12/3/2021</th>\n",
       "      <td>0.002597</td>\n",
       "      <td>-0.046482</td>\n",
       "    </tr>\n",
       "    <tr>\n",
       "      <th>12/2/2021</th>\n",
       "      <td>-0.008159</td>\n",
       "      <td>0.003622</td>\n",
       "    </tr>\n",
       "  </tbody>\n",
       "</table>\n",
       "</div>"
      ],
      "text/plain": [
       "               GOLD       OIL\n",
       "Date                         \n",
       "12/8/2021  0.004071  0.010473\n",
       "12/7/2021  0.000639 -0.004284\n",
       "12/6/2021 -0.003060 -0.035531\n",
       "12/3/2021  0.002597 -0.046482\n",
       "12/2/2021 -0.008159  0.003622"
      ]
     },
     "execution_count": 5,
     "metadata": {},
     "output_type": "execute_result"
    }
   ],
   "source": [
    "# Define features set\n",
    "X = pct_chg_df.copy()\n",
    "X.drop(\"BTC\", axis=1, inplace=True)\n",
    "X.head()"
   ]
  },
  {
   "cell_type": "code",
   "execution_count": 6,
   "id": "728061e1-ad45-4e5d-94d2-f84aed1729be",
   "metadata": {},
   "outputs": [
    {
     "data": {
      "text/plain": [
       "array([[ 0.02842944],\n",
       "       [-0.00211101],\n",
       "       [-0.00807577],\n",
       "       [ 0.07054318],\n",
       "       [ 0.06053796]])"
      ]
     },
     "execution_count": 6,
     "metadata": {},
     "output_type": "execute_result"
    }
   ],
   "source": [
    "# Define target vector\n",
    "y = pct_chg_df[\"BTC\"].values.reshape(-1, 1)\n",
    "y[:5]"
   ]
  },
  {
   "cell_type": "code",
   "execution_count": 7,
   "id": "76cb38a9-b5e2-4299-8f95-e35fc852acad",
   "metadata": {},
   "outputs": [],
   "source": [
    "# Splitting into Train and Test sets\n",
    "\n",
    "X_train, X_test, y_train, y_test = train_test_split(X, y, random_state=78)\n"
   ]
  },
  {
   "cell_type": "code",
   "execution_count": 8,
   "id": "66245344-c6b5-4647-aecf-4dfd7ac32916",
   "metadata": {},
   "outputs": [],
   "source": [
    "rf_model = RandomForestRegressor(n_estimators=500, random_state=42)"
   ]
  },
  {
   "cell_type": "code",
   "execution_count": 9,
   "id": "89042b33-25d2-408f-8d96-7c4acc79f718",
   "metadata": {},
   "outputs": [
    {
     "name": "stderr",
     "output_type": "stream",
     "text": [
      "/Users/jonyamaoka/opt/anaconda3/envs/mlenv/lib/python3.7/site-packages/ipykernel_launcher.py:2: DataConversionWarning: A column-vector y was passed when a 1d array was expected. Please change the shape of y to (n_samples,), for example using ravel().\n",
      "  \n"
     ]
    }
   ],
   "source": [
    "# Fit the model\n",
    "rf_model = rf_model.fit(X_train, y_train)"
   ]
  },
  {
   "cell_type": "code",
   "execution_count": 10,
   "id": "2fae82b2-71ae-42a3-9271-0047424b0501",
   "metadata": {},
   "outputs": [],
   "source": [
    "# Making predictions using the testing data\n",
    "predictions = rf_model.predict(X_test)"
   ]
  },
  {
   "cell_type": "code",
   "execution_count": 11,
   "id": "de9abeaa-5e02-433f-ae46-20560860b087",
   "metadata": {},
   "outputs": [],
   "source": [
    "# #Compare predictions vs actual\n",
    "# y_test_df = pd.DataFrame(y_test)\n",
    "# y_test_df['predict']=predictions\n",
    "# y_test_df.hvplot()"
   ]
  },
  {
   "cell_type": "code",
   "execution_count": 12,
   "id": "5c6b6d79-54ac-4981-83fa-fabfe41deb55",
   "metadata": {},
   "outputs": [],
   "source": [
    "# Get the feature importance array\n",
    "importances = rf_model.feature_importances_"
   ]
  },
  {
   "cell_type": "code",
   "execution_count": 13,
   "id": "a09dea34-1713-4b29-8b90-5549b979bf19",
   "metadata": {},
   "outputs": [
    {
     "data": {
      "text/plain": [
       "[(0.5299608400786076, 'GOLD'), (0.47003915992139256, 'OIL')]"
      ]
     },
     "execution_count": 13,
     "metadata": {},
     "output_type": "execute_result"
    }
   ],
   "source": [
    "# List the top 10 most important features\n",
    "importances_sorted = sorted(zip(rf_model.feature_importances_, X.columns), reverse=True)\n",
    "importances_sorted[:10]"
   ]
  },
  {
   "cell_type": "code",
   "execution_count": 14,
   "id": "2a5f120f-934b-40f8-8c64-b50000e4f76e",
   "metadata": {},
   "outputs": [
    {
     "data": {
      "text/plain": [
       "-0.11087545425032386"
      ]
     },
     "execution_count": 14,
     "metadata": {},
     "output_type": "execute_result"
    }
   ],
   "source": [
    "rf_model.score(X_test, y_test)"
   ]
  },
  {
   "cell_type": "code",
   "execution_count": null,
   "id": "ea490c50-1e2a-429c-9926-a700a90ff73b",
   "metadata": {},
   "outputs": [],
   "source": []
  }
 ],
 "metadata": {
  "kernelspec": {
   "display_name": "Python 3",
   "language": "python",
   "name": "python3"
  },
  "language_info": {
   "codemirror_mode": {
    "name": "ipython",
    "version": 3
   },
   "file_extension": ".py",
   "mimetype": "text/x-python",
   "name": "python",
   "nbconvert_exporter": "python",
   "pygments_lexer": "ipython3",
   "version": "3.7.10"
  }
 },
 "nbformat": 4,
 "nbformat_minor": 5
}
