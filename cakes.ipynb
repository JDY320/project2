{
 "cells": [
  {
   "cell_type": "markdown",
   "id": "cea1d04d-3ee3-4eb8-806a-58ad273a64e9",
   "metadata": {},
   "source": [
    "## Cupcake\n",
    "- run random forest predicting price movements of bitcoin with gold and oil\n",
    "- run correlation matrix\n",
    "- initial analysis will be run off .csv files\n",
    "\n"
   ]
  },
  {
   "cell_type": "markdown",
   "id": "16c65b69-4215-4214-a6e7-b60e7e16ec0c",
   "metadata": {},
   "source": [
    "## Cake\n",
    "- add more data points (SP500, US 30-year, Weather)\n",
    "- add data for ETH price movements with all variables\n",
    "- try to find an API with all data\n",
    "- run correlations between ETH and BTC\n",
    "    - create function that allows you to plug in a variety of cryptos"
   ]
  },
  {
   "cell_type": "markdown",
   "id": "789aa4c3-e6ab-42ca-9d69-367ce472805a",
   "metadata": {},
   "source": [
    "# Wedding Cake\n",
    "- run random forest and monte carlo simulations\n",
    "- add real estate variable\n",
    "- create python package that you can pip install\n",
    "    - pull any crypto included in API\n",
    "        - price\n",
    "        - correlations\n",
    "        - RF Model with non-crypto variables (stocks/commodities, etc)\n",
    "- create live api price tracking\n",
    "    - create live crypto trading with kraken"
   ]
  },
  {
   "cell_type": "code",
   "execution_count": null,
   "id": "e0ed3684-b0b4-40a7-b263-1f9ca9bdba40",
   "metadata": {},
   "outputs": [],
   "source": []
  }
 ],
 "metadata": {
  "kernelspec": {
   "display_name": "Python 3",
   "language": "python",
   "name": "python3"
  },
  "language_info": {
   "codemirror_mode": {
    "name": "ipython",
    "version": 3
   },
   "file_extension": ".py",
   "mimetype": "text/x-python",
   "name": "python",
   "nbconvert_exporter": "python",
   "pygments_lexer": "ipython3",
   "version": "3.7.10"
  }
 },
 "nbformat": 4,
 "nbformat_minor": 5
}
