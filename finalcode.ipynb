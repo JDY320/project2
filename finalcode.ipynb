{
 "cells": [
  {
   "cell_type": "code",
   "execution_count": 27,
   "id": "fd48e4e1-5abf-4159-946b-2ab5f6c12337",
   "metadata": {},
   "outputs": [],
   "source": [
    "import numpy as np\n",
    "import pandas as pd\n",
    "import hvplot.pandas\n",
    "from pathlib import Path\n",
    "\n",
    "from sklearn.ensemble import RandomForestRegressor\n",
    "from sklearn.model_selection import train_test_split\n",
    "from sklearn.metrics import confusion_matrix, accuracy_score, classification_report, mean_squared_error\n",
    "\n",
    "import yfinance as yf\n",
    "import plotly.graph_objs as go\n",
    "from finta import TA\n",
    "import holoviews as hv\n"
   ]
  },
  {
   "cell_type": "code",
   "execution_count": 28,
   "id": "0cbda3b3-a2be-4061-8778-3a0800c4fcec",
   "metadata": {},
   "outputs": [],
   "source": [
    "# Create a function to pull in data using Yahoo finance API\n",
    "def asset_df(*x):\n",
    "    \n",
    "    data = yf.download(tickers=[*x], period = '90d', interval = '1d')\n",
    "    df = data['Close'].dropna()\n",
    "    return df"
   ]
  },
  {
   "cell_type": "code",
   "execution_count": 29,
   "id": "41801621-73a7-4d1c-ae79-095e19bfe620",
   "metadata": {},
   "outputs": [
    {
     "name": "stdout",
     "output_type": "stream",
     "text": [
      "[*********************100%***********************]  5 of 5 completed\n"
     ]
    },
    {
     "data": {
      "text/html": [
       "<div>\n",
       "<style scoped>\n",
       "    .dataframe tbody tr th:only-of-type {\n",
       "        vertical-align: middle;\n",
       "    }\n",
       "\n",
       "    .dataframe tbody tr th {\n",
       "        vertical-align: top;\n",
       "    }\n",
       "\n",
       "    .dataframe thead th {\n",
       "        text-align: right;\n",
       "    }\n",
       "</style>\n",
       "<table border=\"1\" class=\"dataframe\">\n",
       "  <thead>\n",
       "    <tr style=\"text-align: right;\">\n",
       "      <th></th>\n",
       "      <th>BTC-USD</th>\n",
       "      <th>CL=F</th>\n",
       "      <th>ETH-USD</th>\n",
       "      <th>GC=F</th>\n",
       "      <th>^DJI</th>\n",
       "    </tr>\n",
       "    <tr>\n",
       "      <th>Date</th>\n",
       "      <th></th>\n",
       "      <th></th>\n",
       "      <th></th>\n",
       "      <th></th>\n",
       "      <th></th>\n",
       "    </tr>\n",
       "  </thead>\n",
       "  <tbody>\n",
       "    <tr>\n",
       "      <th>2021-09-20</th>\n",
       "      <td>42843.800781</td>\n",
       "      <td>70.290001</td>\n",
       "      <td>2958.993408</td>\n",
       "      <td>1761.800049</td>\n",
       "      <td>33970.468750</td>\n",
       "    </tr>\n",
       "    <tr>\n",
       "      <th>2021-09-21</th>\n",
       "      <td>40693.675781</td>\n",
       "      <td>70.559998</td>\n",
       "      <td>2764.431152</td>\n",
       "      <td>1776.000000</td>\n",
       "      <td>33919.839844</td>\n",
       "    </tr>\n",
       "    <tr>\n",
       "      <th>2021-09-22</th>\n",
       "      <td>43574.507812</td>\n",
       "      <td>72.230003</td>\n",
       "      <td>3077.867920</td>\n",
       "      <td>1776.699951</td>\n",
       "      <td>34258.320312</td>\n",
       "    </tr>\n",
       "    <tr>\n",
       "      <th>2021-09-23</th>\n",
       "      <td>44895.097656</td>\n",
       "      <td>73.300003</td>\n",
       "      <td>3155.523682</td>\n",
       "      <td>1747.699951</td>\n",
       "      <td>34764.820312</td>\n",
       "    </tr>\n",
       "    <tr>\n",
       "      <th>2021-09-24</th>\n",
       "      <td>42839.750000</td>\n",
       "      <td>73.980003</td>\n",
       "      <td>2931.669189</td>\n",
       "      <td>1749.699951</td>\n",
       "      <td>34798.000000</td>\n",
       "    </tr>\n",
       "    <tr>\n",
       "      <th>...</th>\n",
       "      <td>...</td>\n",
       "      <td>...</td>\n",
       "      <td>...</td>\n",
       "      <td>...</td>\n",
       "      <td>...</td>\n",
       "    </tr>\n",
       "    <tr>\n",
       "      <th>2021-12-13</th>\n",
       "      <td>46737.480469</td>\n",
       "      <td>71.290001</td>\n",
       "      <td>3784.226807</td>\n",
       "      <td>1786.300049</td>\n",
       "      <td>35650.949219</td>\n",
       "    </tr>\n",
       "    <tr>\n",
       "      <th>2021-12-14</th>\n",
       "      <td>46612.632812</td>\n",
       "      <td>70.730003</td>\n",
       "      <td>3745.440430</td>\n",
       "      <td>1770.400024</td>\n",
       "      <td>35544.179688</td>\n",
       "    </tr>\n",
       "    <tr>\n",
       "      <th>2021-12-15</th>\n",
       "      <td>48896.722656</td>\n",
       "      <td>70.870003</td>\n",
       "      <td>4018.388672</td>\n",
       "      <td>1762.599976</td>\n",
       "      <td>35927.429688</td>\n",
       "    </tr>\n",
       "    <tr>\n",
       "      <th>2021-12-16</th>\n",
       "      <td>47665.425781</td>\n",
       "      <td>72.379997</td>\n",
       "      <td>3962.469727</td>\n",
       "      <td>1796.599976</td>\n",
       "      <td>35897.640625</td>\n",
       "    </tr>\n",
       "    <tr>\n",
       "      <th>2021-12-17</th>\n",
       "      <td>47140.914062</td>\n",
       "      <td>70.730003</td>\n",
       "      <td>3915.743896</td>\n",
       "      <td>1802.900024</td>\n",
       "      <td>35569.500000</td>\n",
       "    </tr>\n",
       "  </tbody>\n",
       "</table>\n",
       "<p>64 rows × 5 columns</p>\n",
       "</div>"
      ],
      "text/plain": [
       "                 BTC-USD       CL=F      ETH-USD         GC=F          ^DJI\n",
       "Date                                                                       \n",
       "2021-09-20  42843.800781  70.290001  2958.993408  1761.800049  33970.468750\n",
       "2021-09-21  40693.675781  70.559998  2764.431152  1776.000000  33919.839844\n",
       "2021-09-22  43574.507812  72.230003  3077.867920  1776.699951  34258.320312\n",
       "2021-09-23  44895.097656  73.300003  3155.523682  1747.699951  34764.820312\n",
       "2021-09-24  42839.750000  73.980003  2931.669189  1749.699951  34798.000000\n",
       "...                  ...        ...          ...          ...           ...\n",
       "2021-12-13  46737.480469  71.290001  3784.226807  1786.300049  35650.949219\n",
       "2021-12-14  46612.632812  70.730003  3745.440430  1770.400024  35544.179688\n",
       "2021-12-15  48896.722656  70.870003  4018.388672  1762.599976  35927.429688\n",
       "2021-12-16  47665.425781  72.379997  3962.469727  1796.599976  35897.640625\n",
       "2021-12-17  47140.914062  70.730003  3915.743896  1802.900024  35569.500000\n",
       "\n",
       "[64 rows x 5 columns]"
      ]
     },
     "execution_count": 29,
     "metadata": {},
     "output_type": "execute_result"
    }
   ],
   "source": [
    "# Dow = ^DJI\n",
    "# SP500 = ^GSPC\n",
    "# 30-Year TSY = ^TYX\n",
    "# Crypto pairs 'CRYPTOTICKER-USD'\n",
    "# Gold 'GC=F'\n",
    "# Oil 'CL=F'\n",
    "\n",
    "df = asset_df('BTC-USD','ETH-USD','^DJI','GC=F','CL=F')\n",
    "df"
   ]
  },
  {
   "cell_type": "code",
   "execution_count": 30,
   "id": "29541d6a-ecc0-46b1-a06a-6b29dd38c4fc",
   "metadata": {},
   "outputs": [],
   "source": [
    "# Create function to run correlation matrix on any asset\n",
    "def asset_corr(df):\n",
    "    pct_chg_df = df.pct_change()\n",
    "    df_corr = pct_chg_df.corr()\n",
    "    df_corr_plot = df_corr.hvplot.bar(rot=90, ylim = [-1,1])\n",
    "    return df_corr_plot"
   ]
  },
  {
   "cell_type": "code",
   "execution_count": 31,
   "id": "58469491-41fa-4f64-8391-4d88c9f4f404",
   "metadata": {},
   "outputs": [
    {
     "data": {},
     "metadata": {},
     "output_type": "display_data"
    },
    {
     "data": {
      "application/vnd.holoviews_exec.v0+json": "",
      "text/html": [
       "<div id='1246'>\n",
       "\n",
       "\n",
       "\n",
       "\n",
       "\n",
       "  <div class=\"bk-root\" id=\"6cf9d16d-ae12-442d-983e-6c420be44b11\" data-root-id=\"1246\"></div>\n",
       "</div>\n",
       "<script type=\"application/javascript\">(function(root) {\n",
       "  function embed_document(root) {\n",
       "    var docs_json = {\"9c85a57f-49bc-4cb9-a6f0-2bb2b90fed5a\":{\"defs\":[{\"extends\":null,\"module\":null,\"name\":\"ReactiveHTML1\",\"overrides\":[],\"properties\":[]},{\"extends\":null,\"module\":null,\"name\":\"FlexBox1\",\"overrides\":[],\"properties\":[{\"default\":\"flex-start\",\"kind\":null,\"name\":\"align_content\"},{\"default\":\"flex-start\",\"kind\":null,\"name\":\"align_items\"},{\"default\":\"row\",\"kind\":null,\"name\":\"flex_direction\"},{\"default\":\"wrap\",\"kind\":null,\"name\":\"flex_wrap\"},{\"default\":\"flex-start\",\"kind\":null,\"name\":\"justify_content\"}]},{\"extends\":null,\"module\":null,\"name\":\"TemplateActions1\",\"overrides\":[],\"properties\":[{\"default\":0,\"kind\":null,\"name\":\"open_modal\"},{\"default\":0,\"kind\":null,\"name\":\"close_modal\"}]},{\"extends\":null,\"module\":null,\"name\":\"MaterialTemplateActions1\",\"overrides\":[],\"properties\":[{\"default\":0,\"kind\":null,\"name\":\"open_modal\"},{\"default\":0,\"kind\":null,\"name\":\"close_modal\"}]}],\"roots\":{\"references\":[{\"attributes\":{\"coordinates\":null,\"group\":null,\"text_color\":\"black\",\"text_font_size\":\"12pt\"},\"id\":\"1252\",\"type\":\"Title\"},{\"attributes\":{},\"id\":\"1268\",\"type\":\"PanTool\"},{\"attributes\":{\"axis\":{\"id\":\"1260\"},\"coordinates\":null,\"grid_line_color\":null,\"group\":null,\"ticker\":null},\"id\":\"1262\",\"type\":\"Grid\"},{\"attributes\":{\"fill_color\":{\"field\":\"Variable\",\"transform\":{\"id\":\"1280\"}},\"hatch_color\":{\"field\":\"Variable\",\"transform\":{\"id\":\"1280\"}},\"top\":{\"field\":\"value\"},\"width\":{\"value\":0.8},\"x\":{\"field\":\"xoffsets\"}},\"id\":\"1284\",\"type\":\"VBar\"},{\"attributes\":{\"fill_alpha\":{\"value\":0.1},\"fill_color\":{\"field\":\"Variable\",\"transform\":{\"id\":\"1280\"}},\"hatch_alpha\":{\"value\":0.1},\"hatch_color\":{\"field\":\"Variable\",\"transform\":{\"id\":\"1280\"}},\"line_alpha\":{\"value\":0.1},\"top\":{\"field\":\"value\"},\"width\":{\"value\":0.8},\"x\":{\"field\":\"xoffsets\"}},\"id\":\"1285\",\"type\":\"VBar\"},{\"attributes\":{\"factors\":[[\"BTC-USD\",\"BTC-USD\"],[\"BTC-USD\",\"CL=F\"],[\"BTC-USD\",\"ETH-USD\"],[\"BTC-USD\",\"GC=F\"],[\"BTC-USD\",\"^DJI\"],[\"CL=F\",\"BTC-USD\"],[\"CL=F\",\"CL=F\"],[\"CL=F\",\"ETH-USD\"],[\"CL=F\",\"GC=F\"],[\"CL=F\",\"^DJI\"],[\"ETH-USD\",\"BTC-USD\"],[\"ETH-USD\",\"CL=F\"],[\"ETH-USD\",\"ETH-USD\"],[\"ETH-USD\",\"GC=F\"],[\"ETH-USD\",\"^DJI\"],[\"GC=F\",\"BTC-USD\"],[\"GC=F\",\"CL=F\"],[\"GC=F\",\"ETH-USD\"],[\"GC=F\",\"GC=F\"],[\"GC=F\",\"^DJI\"],[\"^DJI\",\"BTC-USD\"],[\"^DJI\",\"CL=F\"],[\"^DJI\",\"ETH-USD\"],[\"^DJI\",\"GC=F\"],[\"^DJI\",\"^DJI\"]],\"tags\":[[[\"index\",\"index\",null],[\"Variable\",\"Variable\",null]]]},\"id\":\"1248\",\"type\":\"FactorRange\"},{\"attributes\":{\"tools\":[{\"id\":\"1250\"},{\"id\":\"1267\"},{\"id\":\"1268\"},{\"id\":\"1269\"},{\"id\":\"1270\"},{\"id\":\"1271\"}]},\"id\":\"1273\",\"type\":\"Toolbar\"},{\"attributes\":{\"reset_end\":1,\"reset_start\":-1,\"start\":-1,\"tags\":[[[\"value\",\"value\",null]]]},\"id\":\"1249\",\"type\":\"Range1d\"},{\"attributes\":{},\"id\":\"1295\",\"type\":\"AllLabels\"},{\"attributes\":{\"overlay\":{\"id\":\"1272\"}},\"id\":\"1270\",\"type\":\"BoxZoomTool\"},{\"attributes\":{\"below\":[{\"id\":\"1260\"}],\"center\":[{\"id\":\"1262\"},{\"id\":\"1266\"}],\"height\":300,\"left\":[{\"id\":\"1263\"}],\"margin\":[5,5,5,5],\"min_border_bottom\":10,\"min_border_left\":10,\"min_border_right\":10,\"min_border_top\":10,\"renderers\":[{\"id\":\"1287\"}],\"sizing_mode\":\"fixed\",\"title\":{\"id\":\"1252\"},\"toolbar\":{\"id\":\"1273\"},\"width\":700,\"x_range\":{\"id\":\"1248\"},\"x_scale\":{\"id\":\"1256\"},\"y_range\":{\"id\":\"1249\"},\"y_scale\":{\"id\":\"1258\"}},\"id\":\"1251\",\"subtype\":\"Figure\",\"type\":\"Plot\"},{\"attributes\":{},\"id\":\"1264\",\"type\":\"BasicTicker\"},{\"attributes\":{},\"id\":\"1261\",\"type\":\"CategoricalTicker\"},{\"attributes\":{\"factors\":[\"BTC-USD\",\"CL=F\",\"ETH-USD\",\"GC=F\",\"^DJI\"],\"palette\":[\"#30a2da\",\"#fc4f30\",\"#e5ae38\",\"#6d904f\",\"#8b8b8b\"]},\"id\":\"1280\",\"type\":\"CategoricalColorMapper\"},{\"attributes\":{\"callback\":null,\"renderers\":[{\"id\":\"1287\"}],\"tags\":[\"hv_created\"],\"tooltips\":[[\"index\",\"@{index}\"],[\"Variable\",\"@{Variable}\"],[\"value\",\"@{value}\"]]},\"id\":\"1250\",\"type\":\"HoverTool\"},{\"attributes\":{\"children\":[{\"id\":\"1247\"},{\"id\":\"1251\"},{\"id\":\"1316\"}],\"margin\":[0,0,0,0],\"name\":\"Row02099\",\"tags\":[\"embedded\"]},\"id\":\"1246\",\"type\":\"Row\"},{\"attributes\":{\"data\":{\"Variable\":[\"BTC-USD\",\"BTC-USD\",\"BTC-USD\",\"BTC-USD\",\"BTC-USD\",\"CL=F\",\"CL=F\",\"CL=F\",\"CL=F\",\"CL=F\",\"ETH-USD\",\"ETH-USD\",\"ETH-USD\",\"ETH-USD\",\"ETH-USD\",\"GC=F\",\"GC=F\",\"GC=F\",\"GC=F\",\"GC=F\",\"^DJI\",\"^DJI\",\"^DJI\",\"^DJI\",\"^DJI\"],\"index\":[\"BTC-USD\",\"CL=F\",\"ETH-USD\",\"GC=F\",\"^DJI\",\"BTC-USD\",\"CL=F\",\"ETH-USD\",\"GC=F\",\"^DJI\",\"BTC-USD\",\"CL=F\",\"ETH-USD\",\"GC=F\",\"^DJI\",\"BTC-USD\",\"CL=F\",\"ETH-USD\",\"GC=F\",\"^DJI\",\"BTC-USD\",\"CL=F\",\"ETH-USD\",\"GC=F\",\"^DJI\"],\"value\":{\"__ndarray__\":\"AAAAAAAA8D+NPTS0mGLMP3P+sefEduk/p052EYBOkL/dCPHHCIHQP409NLSYYsw/AAAAAAAA8D94Dgmu0q/JP45MV0fKa4e/19QOHAVk5D9z/rHnxHbpP3gOCa7Sr8k/AAAAAAAA8D8acqdBP1+LP7kzY5Jk4dQ/p052EYBOkL+OTFdHymuHvxpyp0E/X4s/AAAAAAAA8D8cnbeAA63Ov90I8ccIgdA/19QOHAVk5D+5M2OSZOHUPxydt4ADrc6/AAAAAAAA8D8=\",\"dtype\":\"float64\",\"order\":\"little\",\"shape\":[25]},\"xoffsets\":[[\"BTC-USD\",\"BTC-USD\"],[\"CL=F\",\"BTC-USD\"],[\"ETH-USD\",\"BTC-USD\"],[\"GC=F\",\"BTC-USD\"],[\"^DJI\",\"BTC-USD\"],[\"BTC-USD\",\"CL=F\"],[\"CL=F\",\"CL=F\"],[\"ETH-USD\",\"CL=F\"],[\"GC=F\",\"CL=F\"],[\"^DJI\",\"CL=F\"],[\"BTC-USD\",\"ETH-USD\"],[\"CL=F\",\"ETH-USD\"],[\"ETH-USD\",\"ETH-USD\"],[\"GC=F\",\"ETH-USD\"],[\"^DJI\",\"ETH-USD\"],[\"BTC-USD\",\"GC=F\"],[\"CL=F\",\"GC=F\"],[\"ETH-USD\",\"GC=F\"],[\"GC=F\",\"GC=F\"],[\"^DJI\",\"GC=F\"],[\"BTC-USD\",\"^DJI\"],[\"CL=F\",\"^DJI\"],[\"ETH-USD\",\"^DJI\"],[\"GC=F\",\"^DJI\"],[\"^DJI\",\"^DJI\"]]},\"selected\":{\"id\":\"1282\"},\"selection_policy\":{\"id\":\"1303\"}},\"id\":\"1281\",\"type\":\"ColumnDataSource\"},{\"attributes\":{\"source\":{\"id\":\"1281\"}},\"id\":\"1288\",\"type\":\"CDSView\"},{\"attributes\":{\"fill_alpha\":{\"value\":0.2},\"fill_color\":{\"field\":\"Variable\",\"transform\":{\"id\":\"1280\"}},\"hatch_alpha\":{\"value\":0.2},\"hatch_color\":{\"field\":\"Variable\",\"transform\":{\"id\":\"1280\"}},\"line_alpha\":{\"value\":0.2},\"top\":{\"field\":\"value\"},\"width\":{\"value\":0.8},\"x\":{\"field\":\"xoffsets\"}},\"id\":\"1286\",\"type\":\"VBar\"},{\"attributes\":{},\"id\":\"1271\",\"type\":\"ResetTool\"},{\"attributes\":{},\"id\":\"1292\",\"type\":\"AllLabels\"},{\"attributes\":{\"axis_label\":\"\",\"coordinates\":null,\"formatter\":{\"id\":\"1294\"},\"group\":null,\"major_label_policy\":{\"id\":\"1295\"},\"ticker\":{\"id\":\"1264\"}},\"id\":\"1263\",\"type\":\"LinearAxis\"},{\"attributes\":{\"bottom\":{\"value\":0},\"fill_alpha\":{\"value\":1.0},\"fill_color\":{\"field\":\"Variable\",\"transform\":{\"id\":\"1280\"}},\"hatch_alpha\":{\"value\":1.0},\"hatch_color\":{\"field\":\"Variable\",\"transform\":{\"id\":\"1280\"}},\"hatch_scale\":{\"value\":12.0},\"hatch_weight\":{\"value\":1.0},\"line_alpha\":{\"value\":1.0},\"line_cap\":{\"value\":\"butt\"},\"line_color\":{\"value\":\"black\"},\"line_dash\":{\"value\":[]},\"line_dash_offset\":{\"value\":0},\"line_join\":{\"value\":\"bevel\"},\"line_width\":{\"value\":1},\"top\":{\"field\":\"value\"},\"width\":{\"value\":0.8},\"x\":{\"field\":\"xoffsets\"}},\"id\":\"1289\",\"type\":\"VBar\"},{\"attributes\":{},\"id\":\"1269\",\"type\":\"WheelZoomTool\"},{\"attributes\":{\"axis\":{\"id\":\"1263\"},\"coordinates\":null,\"dimension\":1,\"grid_line_color\":null,\"group\":null,\"ticker\":null},\"id\":\"1266\",\"type\":\"Grid\"},{\"attributes\":{},\"id\":\"1303\",\"type\":\"UnionRenderers\"},{\"attributes\":{},\"id\":\"1294\",\"type\":\"BasicTickFormatter\"},{\"attributes\":{\"axis_label\":\"\",\"coordinates\":null,\"formatter\":{\"id\":\"1291\"},\"group\":null,\"major_label_orientation\":1.5707963267948966,\"major_label_policy\":{\"id\":\"1292\"},\"ticker\":{\"id\":\"1261\"}},\"id\":\"1260\",\"type\":\"CategoricalAxis\"},{\"attributes\":{},\"id\":\"1258\",\"type\":\"LinearScale\"},{\"attributes\":{\"margin\":[5,5,5,5],\"name\":\"HSpacer02103\",\"sizing_mode\":\"stretch_width\"},\"id\":\"1247\",\"type\":\"Spacer\"},{\"attributes\":{\"margin\":[5,5,5,5],\"name\":\"HSpacer02104\",\"sizing_mode\":\"stretch_width\"},\"id\":\"1316\",\"type\":\"Spacer\"},{\"attributes\":{},\"id\":\"1256\",\"type\":\"CategoricalScale\"},{\"attributes\":{},\"id\":\"1291\",\"type\":\"CategoricalTickFormatter\"},{\"attributes\":{},\"id\":\"1282\",\"type\":\"Selection\"},{\"attributes\":{},\"id\":\"1267\",\"type\":\"SaveTool\"},{\"attributes\":{\"bottom_units\":\"screen\",\"coordinates\":null,\"fill_alpha\":0.5,\"fill_color\":\"lightgrey\",\"group\":null,\"left_units\":\"screen\",\"level\":\"overlay\",\"line_alpha\":1.0,\"line_color\":\"black\",\"line_dash\":[4,4],\"line_width\":2,\"right_units\":\"screen\",\"syncable\":false,\"top_units\":\"screen\"},\"id\":\"1272\",\"type\":\"BoxAnnotation\"},{\"attributes\":{\"coordinates\":null,\"data_source\":{\"id\":\"1281\"},\"glyph\":{\"id\":\"1284\"},\"group\":null,\"hover_glyph\":null,\"muted_glyph\":{\"id\":\"1286\"},\"nonselection_glyph\":{\"id\":\"1285\"},\"selection_glyph\":{\"id\":\"1289\"},\"view\":{\"id\":\"1288\"}},\"id\":\"1287\",\"type\":\"GlyphRenderer\"}],\"root_ids\":[\"1246\"]},\"title\":\"Bokeh Application\",\"version\":\"2.4.2\"}};\n",
       "    var render_items = [{\"docid\":\"9c85a57f-49bc-4cb9-a6f0-2bb2b90fed5a\",\"root_ids\":[\"1246\"],\"roots\":{\"1246\":\"6cf9d16d-ae12-442d-983e-6c420be44b11\"}}];\n",
       "    root.Bokeh.embed.embed_items_notebook(docs_json, render_items);\n",
       "  }\n",
       "  if (root.Bokeh !== undefined && root.Bokeh.Panel !== undefined) {\n",
       "    embed_document(root);\n",
       "  } else {\n",
       "    var attempts = 0;\n",
       "    var timer = setInterval(function(root) {\n",
       "      if (root.Bokeh !== undefined && root.Bokeh.Panel !== undefined) {\n",
       "        clearInterval(timer);\n",
       "        embed_document(root);\n",
       "      } else if (document.readyState == \"complete\") {\n",
       "        attempts++;\n",
       "        if (attempts > 200) {\n",
       "          clearInterval(timer);\n",
       "          console.log(\"Bokeh: ERROR: Unable to run BokehJS code because BokehJS library is missing\");\n",
       "        }\n",
       "      }\n",
       "    }, 25, root)\n",
       "  }\n",
       "})(window);</script>"
      ],
      "text/plain": [
       ":Bars   [index,Variable]   (value)"
      ]
     },
     "execution_count": 31,
     "metadata": {
      "application/vnd.holoviews_exec.v0+json": {
       "id": "1246"
      }
     },
     "output_type": "execute_result"
    }
   ],
   "source": [
    "# update holding 1 constant with bar graph\n",
    "# keep only corr abso value above certain threshold \n",
    "asset_corr(df)"
   ]
  },
  {
   "cell_type": "code",
   "execution_count": 47,
   "id": "a4766392-e882-48d8-b912-00511f46a7f8",
   "metadata": {},
   "outputs": [],
   "source": [
    "# Convert df to % change for analysis\n",
    "pct_chg_df = df.pct_change()\n",
    "pct_chg_df = pct_chg_df.dropna()"
   ]
  },
  {
   "cell_type": "markdown",
   "id": "927a2bfd-094b-4a64-9a82-92c2630faa5a",
   "metadata": {},
   "source": [
    "# RF Model"
   ]
  },
  {
   "cell_type": "code",
   "execution_count": 48,
   "id": "71750e0a-564c-4e9b-a765-9958050ff924",
   "metadata": {},
   "outputs": [
    {
     "data": {
      "text/html": [
       "<div>\n",
       "<style scoped>\n",
       "    .dataframe tbody tr th:only-of-type {\n",
       "        vertical-align: middle;\n",
       "    }\n",
       "\n",
       "    .dataframe tbody tr th {\n",
       "        vertical-align: top;\n",
       "    }\n",
       "\n",
       "    .dataframe thead th {\n",
       "        text-align: right;\n",
       "    }\n",
       "</style>\n",
       "<table border=\"1\" class=\"dataframe\">\n",
       "  <thead>\n",
       "    <tr style=\"text-align: right;\">\n",
       "      <th></th>\n",
       "      <th>CL=F</th>\n",
       "      <th>ETH-USD</th>\n",
       "      <th>GC=F</th>\n",
       "      <th>^DJI</th>\n",
       "    </tr>\n",
       "    <tr>\n",
       "      <th>Date</th>\n",
       "      <th></th>\n",
       "      <th></th>\n",
       "      <th></th>\n",
       "      <th></th>\n",
       "    </tr>\n",
       "  </thead>\n",
       "  <tbody>\n",
       "    <tr>\n",
       "      <th>2021-09-21</th>\n",
       "      <td>0.003841</td>\n",
       "      <td>-0.065753</td>\n",
       "      <td>0.008060</td>\n",
       "      <td>-0.001490</td>\n",
       "    </tr>\n",
       "    <tr>\n",
       "      <th>2021-09-22</th>\n",
       "      <td>0.023668</td>\n",
       "      <td>0.113382</td>\n",
       "      <td>0.000394</td>\n",
       "      <td>0.009979</td>\n",
       "    </tr>\n",
       "    <tr>\n",
       "      <th>2021-09-23</th>\n",
       "      <td>0.014814</td>\n",
       "      <td>0.025230</td>\n",
       "      <td>-0.016322</td>\n",
       "      <td>0.014785</td>\n",
       "    </tr>\n",
       "    <tr>\n",
       "      <th>2021-09-24</th>\n",
       "      <td>0.009277</td>\n",
       "      <td>-0.070941</td>\n",
       "      <td>0.001144</td>\n",
       "      <td>0.000954</td>\n",
       "    </tr>\n",
       "    <tr>\n",
       "      <th>2021-09-27</th>\n",
       "      <td>0.019870</td>\n",
       "      <td>0.000842</td>\n",
       "      <td>0.000171</td>\n",
       "      <td>0.002051</td>\n",
       "    </tr>\n",
       "  </tbody>\n",
       "</table>\n",
       "</div>"
      ],
      "text/plain": [
       "                CL=F   ETH-USD      GC=F      ^DJI\n",
       "Date                                              \n",
       "2021-09-21  0.003841 -0.065753  0.008060 -0.001490\n",
       "2021-09-22  0.023668  0.113382  0.000394  0.009979\n",
       "2021-09-23  0.014814  0.025230 -0.016322  0.014785\n",
       "2021-09-24  0.009277 -0.070941  0.001144  0.000954\n",
       "2021-09-27  0.019870  0.000842  0.000171  0.002051"
      ]
     },
     "execution_count": 48,
     "metadata": {},
     "output_type": "execute_result"
    }
   ],
   "source": [
    "# Define features set\n",
    "# Manually Change the first arugument to whatever you want to predict\n",
    "X = pct_chg_df.copy()\n",
    "X.drop(\"BTC-USD\", axis=1, inplace=True)\n",
    "X.head()"
   ]
  },
  {
   "cell_type": "code",
   "execution_count": 49,
   "id": "8ee7767a-c89c-4d1f-a7e5-a665a3f92862",
   "metadata": {},
   "outputs": [
    {
     "data": {
      "text/plain": [
       "array([[-0.05018521],\n",
       "       [ 0.07079311],\n",
       "       [ 0.03030648],\n",
       "       [-0.04578112],\n",
       "       [-0.01409951]])"
      ]
     },
     "execution_count": 49,
     "metadata": {},
     "output_type": "execute_result"
    }
   ],
   "source": [
    "# Define target vector\n",
    "y = pct_chg_df[\"BTC-USD\"].values.reshape(-1, 1)\n",
    "y[:5]"
   ]
  },
  {
   "cell_type": "code",
   "execution_count": 50,
   "id": "6cc76cd2-4d56-4bd6-8dec-63802f192a57",
   "metadata": {},
   "outputs": [],
   "source": [
    "# # Create function for RF Model\n",
    "\n",
    "# def rf_rscore(X,y):\n",
    "    \n",
    "#     #split data into training and testing data\n",
    "#     X_train, X_test, y_train, y_test = train_test_split(X, y, random_state=42)\n",
    "    \n",
    "#     #initiate, fit, and train rf_model\n",
    "#     #estimators - check rmse...increase estimators as long as RMSE improves\n",
    "#     rf_model = RandomForestRegressor(n_estimators=500, random_state=42)\n",
    "#     rf_model = rf_model.fit(X_train, y_train)\n",
    "    \n",
    "#     #make predictions for target using X_test\n",
    "#     predictions = rf_model.predict(X_test)\n",
    "    \n",
    "#     return rf_model.score(X_test, y_test)"
   ]
  },
  {
   "cell_type": "code",
   "execution_count": 51,
   "id": "ae3b1558-f4e0-4312-9f2c-f5a82c027b4f",
   "metadata": {},
   "outputs": [
    {
     "data": {
      "text/plain": [
       "array([-0.04668141,  0.01284403,  0.07124838,  0.0753242 ,  0.01880449,\n",
       "       -0.00753491,  0.00332358, -0.01969556, -0.0065462 , -0.02487865,\n",
       "        0.0145133 , -0.00150387,  0.00472882,  0.03733705, -0.012637  ,\n",
       "       -0.00185435, -0.01898432,  0.04821685, -0.03286201,  0.03485287,\n",
       "        0.03027793,  0.04805825, -0.02212961, -0.05474144, -0.03177825,\n",
       "        0.01659553, -0.02019465, -0.04159373,  0.06963874,  0.02963077,\n",
       "        0.03634843,  0.0024922 , -0.01201296, -0.01160201, -0.02211036,\n",
       "       -0.04753853,  0.04655336, -0.03942953,  0.06001513, -0.01163682,\n",
       "        0.03039021,  0.04348245, -0.05253921,  0.03999202,  0.02669828,\n",
       "       -0.01477817, -0.01403134])"
      ]
     },
     "execution_count": 51,
     "metadata": {},
     "output_type": "execute_result"
    }
   ],
   "source": [
    "\n",
    "#split data into training and testing data\n",
    "X_train, X_test, y_train, y_test = train_test_split(X, y, random_state=42)\n",
    "    \n",
    "    #initiate, fit, and train rf_model\n",
    "    #estimators - check rmse...increase estimators as long as RMSE improves\n",
    "rf_model = RandomForestRegressor(n_estimators=500, random_state=42)\n",
    "rf_model = rf_model.fit(X_train, y_train)\n",
    "    \n",
    "    #make predictions for target using X_test\n",
    "predictions = rf_model.predict(X_train)\n",
    "predictions\n",
    "\n",
    "\n",
    "\n"
   ]
  },
  {
   "cell_type": "code",
   "execution_count": 68,
   "id": "34eb4544-eac7-4388-8bc0-d80a0f516ebd",
   "metadata": {},
   "outputs": [
    {
     "data": {
      "text/plain": [
       "0.03051527919283354"
      ]
     },
     "execution_count": 68,
     "metadata": {},
     "output_type": "execute_result"
    }
   ],
   "source": [
    "# OUT SAMPLE RMSE\n",
    "\n",
    "out_sample_results = pd.DataFrame(y_test, columns=['actual'])\n",
    "\n",
    "# Add a column of \"in-sample\" predictions to that DataFrame:  \n",
    "out_sample_results[\"out-sample Predictions\"] = rf_model.predict(X_test)\n",
    "\n",
    "# Calculate in-sample mean_squared_error (for comparison to out-of-sample)\n",
    "out_sample_mse = mean_squared_error(\n",
    "    out_sample_results[\"actual\"],\n",
    "    out_sample_results[\"out-sample Predictions\"]\n",
    ")\n",
    "\n",
    "# Calculate in-sample root mean_squared_error (for comparison to out-of-sample)\n",
    "out_sample_rmse = np.sqrt(out_sample_mse)\n",
    "out_sample_rmse"
   ]
  },
  {
   "cell_type": "code",
   "execution_count": 73,
   "id": "6f8a5308-c62f-4c28-81e3-866a5ed271b9",
   "metadata": {},
   "outputs": [
    {
     "data": {
      "text/plain": [
       "<AxesSubplot:>"
      ]
     },
     "execution_count": 73,
     "metadata": {},
     "output_type": "execute_result"
    },
    {
     "data": {
      "image/png": "[encoded data removed]",
      "text/plain": [
       "<Figure size 432x288 with 1 Axes>"
      ]
     },
     "metadata": {
      "needs_background": "light"
     },
     "output_type": "display_data"
    }
   ],
   "source": [
    "out_sample_results.plot()"
   ]
  },
  {
   "cell_type": "code",
   "execution_count": 66,
   "id": "b918a139-fe4a-4f63-8243-d6c1d87c0639",
   "metadata": {},
   "outputs": [
    {
     "data": {
      "text/plain": [
       "0.010584569972942034"
      ]
     },
     "execution_count": 66,
     "metadata": {},
     "output_type": "execute_result"
    }
   ],
   "source": [
    "# IN SAMPLE RMSE\n",
    "\n",
    "in_sample_results = pd.DataFrame(y_train, columns=['actual'])\n",
    "\n",
    "# Add a column of \"in-sample\" predictions to that DataFrame:  \n",
    "in_sample_results[\"In-sample Predictions\"] = rf_model.predict(X_train)\n",
    "\n",
    "# Calculate in-sample mean_squared_error (for comparison to out-of-sample)\n",
    "in_sample_mse = mean_squared_error(\n",
    "    in_sample_results[\"actual\"],\n",
    "    in_sample_results[\"In-sample Predictions\"]\n",
    ")\n",
    "\n",
    "# Calculate in-sample root mean_squared_error (for comparison to out-of-sample)\n",
    "in_sample_rmse = np.sqrt(in_sample_mse)\n",
    "in_sample_rmse"
   ]
  },
  {
   "cell_type": "code",
   "execution_count": 69,
   "id": "018fdca4-9683-4058-8ad8-c1a2595ec82a",
   "metadata": {},
   "outputs": [
    {
     "data": {
      "text/plain": [
       "[(0.7353226478037722, 'ETH-USD'),\n",
       " (0.11897593241387466, '^DJI'),\n",
       " (0.09108827195292091, 'CL=F'),\n",
       " (0.054613147829432315, 'GC=F')]"
      ]
     },
     "execution_count": 69,
     "metadata": {},
     "output_type": "execute_result"
    }
   ],
   "source": [
    "# # List the top 10 most important features\n",
    "importances_sorted = sorted(zip(rf_model.feature_importances_, X.columns), reverse=True)\n",
    "importances_sorted[:10]"
   ]
  },
  {
   "cell_type": "code",
   "execution_count": 94,
   "id": "db11e34c-a3fa-4e25-ada0-d710b1ab4f19",
   "metadata": {},
   "outputs": [
    {
     "name": "stdout",
     "output_type": "stream",
     "text": [
      "74.0% ETH-USD\n",
      "12.0% ^DJI\n",
      "9.0% CL=F\n",
      "5.0% GC=F\n"
     ]
    }
   ],
   "source": [
    "for x in importances_sorted:\n",
    "    importances_print = print(f'{round(x[0],2)*100}% {x[1]}')"
   ]
  },
  {
   "cell_type": "code",
   "execution_count": 91,
   "id": "64679330-7ac9-488e-a4bb-cf53f78b3f94",
   "metadata": {},
   "outputs": [],
   "source": [
    "importances_print"
   ]
  },
  {
   "cell_type": "markdown",
   "id": "283c7d0b-553b-43aa-9e1f-b3cfb0a6b60f",
   "metadata": {},
   "source": [
    "# Algo Trader"
   ]
  },
  {
   "cell_type": "code",
   "execution_count": 40,
   "id": "086e34e1-b122-4f1c-85b5-904d0e4e90da",
   "metadata": {},
   "outputs": [],
   "source": [
    "# def boll_bands(ticker):\n",
    "#     # Create a new clean copy of the signals_df DataFrame\n",
    "#     bb_signals_df = yf.download(tickers = ticker, period = '90d', interval = '1d')\n",
    "    \n",
    "#     # Determine the Bollinger Bands for the Dataset\n",
    "#     bbands_df = TA.BBANDS(bb_signals_df)\n",
    "    \n",
    "#     # Concatenate the Bollinger Bands to the DataFrame\n",
    "#     bb_signals_df = pd.concat([bb_signals_df, bbands_df], axis=1)\n",
    "    \n",
    "#     # Visualize close price for the investment\n",
    "#     security_close = bb_signals_df[[\"Close\"]].hvplot(\n",
    "#         line_color='lightgray',\n",
    "#         ylabel='Price in $',\n",
    "#         width=1000,\n",
    "#         height=400\n",
    "#     )\n",
    "\n",
    "#     bb_upper = bb_signals_df[[\"BB_UPPER\"]].hvplot(\n",
    "#         line_color='purple',\n",
    "#         ylabel='Price in $',\n",
    "#         width=1000,\n",
    "#         height=400\n",
    "#     )\n",
    "\n",
    "\n",
    "#     bb_middle = bb_signals_df[[\"BB_MIDDLE\"]].hvplot(\n",
    "#         line_color='orange',\n",
    "#         ylabel='Price in $',\n",
    "#         width=1000,\n",
    "#         height=400\n",
    "#     )\n",
    "\n",
    "#     bb_lower = bb_signals_df[[\"BB_LOWER\"]].hvplot(\n",
    "#         line_color='blue',\n",
    "#         ylabel='Price in $',\n",
    "#         width=1000,\n",
    "#         height=400\n",
    "#     )\n",
    "\n",
    "#     # Overlay plots\n",
    "#     bbands_plot = security_close * bb_upper * bb_middle * bb_lower\n",
    "#     return bbands_plot"
   ]
  },
  {
   "cell_type": "code",
   "execution_count": 41,
   "id": "243a208b-bbc5-4ac3-bcca-473c874fab97",
   "metadata": {},
   "outputs": [],
   "source": [
    "# boll_bands('ETH-USD')"
   ]
  },
  {
   "cell_type": "markdown",
   "id": "8704202c-3d9b-41d8-b04e-44c93a042542",
   "metadata": {},
   "source": [
    "# Create Moving Averages"
   ]
  },
  {
   "cell_type": "code",
   "execution_count": 313,
   "id": "34680766-004b-42af-9681-9707f1759b56",
   "metadata": {},
   "outputs": [],
   "source": [
    "# # Create a signals_df DataFrame that is a copy of the data Dataframe\n",
    "# signals_df = yf.download(tickers = 'BTC-USD', period = '250d', interval = '1d')\n",
    "\n",
    "# # Set the short window and long windows\n",
    "# short_window = 25\n",
    "# long_window = 100\n",
    "\n",
    "# # Add the SMA technical indicators for the short and long windows\n",
    "# signals_df[\"Short\"] = TA.SMA(signals_df, short_window)\n",
    "# signals_df[\"Long\"] = TA.SMA(signals_df, long_window)\n",
    "\n",
    "# # Determine the Bollinger Bands for the Dataset\n",
    "# bbands_df = TA.BBANDS(signals_df)\n",
    "    \n",
    "# # Concatenate the Bollinger Bands to the DataFrame\n",
    "# all_signals_df = pd.concat([signals_df, bbands_df], axis=1)\n",
    "\n",
    "# # Review the DataFrame\n",
    "# all_signals_df.head()"
   ]
  },
  {
   "cell_type": "code",
   "execution_count": 314,
   "id": "32b753ec-406e-45f1-bc65-0ac29119a922",
   "metadata": {},
   "outputs": [],
   "source": [
    "# # Set the Signal column\n",
    "# all_signals_df[\"Signal\"] = 0.0\n",
    "\n",
    "# # Generate the trading signal 1 or 0,\n",
    "# # where 1 is when the Short window is greater than (or crosses over) the Long Window\n",
    "# # where 0 is when the Short window is under the Long window\n",
    "# all_signals_df[\"Signal\"][short_window:] = np.where(\n",
    "#     all_signals_df[\"Short\"][short_window:] > all_signals_df[\"Long\"][short_window:], 1.0, 0.0)\n",
    "\n",
    "# # Calculate the points in time at which a position should be taken, 1 or -1\n",
    "# all_signals_df[\"Entry/Exit\"] = all_signals_df[\"Signal\"].diff()\n",
    "\n",
    "# # Review the DataFrame\n",
    "# all_signals_df.head()"
   ]
  },
  {
   "cell_type": "code",
   "execution_count": 315,
   "id": "5aacd66b-a941-45dd-a0e7-9332ea427be8",
   "metadata": {},
   "outputs": [],
   "source": [
    "# # Visualize entry position relative to close price\n",
    "# entry = all_signals_df[all_signals_df[\"Entry/Exit\"] == 1.0][\"Close\"].hvplot.scatter(\n",
    "#     color='purple',\n",
    "#     marker='^',\n",
    "#     size=200,\n",
    "#     legend=False,\n",
    "#     ylabel='Price in $',\n",
    "#     width=1000,\n",
    "#     height=400\n",
    "# )\n",
    "\n",
    "# # Visualize exit position relative to close price\n",
    "# exit = all_signals_df[all_signals_df[\"Entry/Exit\"] == -1.0][\"Close\"].hvplot.scatter(\n",
    "#     color='orange',\n",
    "#     marker='v',\n",
    "#     size=200,\n",
    "#     legend=False,\n",
    "#     ylabel='Price in $',\n",
    "#     width=1000,\n",
    "#     height=400\n",
    "# )\n",
    "\n",
    "# # Visualize close price for the investment\n",
    "# security_close = all_signals_df[[\"Close\"]].hvplot(\n",
    "#     line_color='lightgray',\n",
    "#     ylabel='Price in $',\n",
    "#     width=1000,\n",
    "#     height=400\n",
    "# )\n",
    "\n",
    "# # Visualize moving averages\n",
    "# moving_avgs = all_signals_df[[\"Short\", \"Long\"]].hvplot(\n",
    "#     ylabel='Price in $',\n",
    "#     width=1000,\n",
    "#     height=400\n",
    "# )\n",
    "\n",
    "# # Visualize close price for the investment\n",
    "# security_close = all_signals_df[[\"Close\"]].hvplot(\n",
    "#     line_color='lightgray',\n",
    "#     ylabel='Price in $',\n",
    "#     width=1000,\n",
    "#     height=400\n",
    "# )\n",
    "\n",
    "# bb_upper = all_signals_df[[\"BB_UPPER\"]].hvplot(\n",
    "#     line_color='purple',\n",
    "#     ylabel='Price in $',\n",
    "#     width=1000,\n",
    "#     height=400\n",
    "# )\n",
    "\n",
    "\n",
    "# bb_middle = all_signals_df[[\"BB_MIDDLE\"]].hvplot(\n",
    "#     line_color='orange',\n",
    "#     ylabel='Price in $',\n",
    "#     width=1000,\n",
    "#     height=400\n",
    "# )\n",
    "\n",
    "# bb_lower = all_signals_df[[\"BB_LOWER\"]].hvplot(\n",
    "#     line_color='blue',\n",
    "#     ylabel='Price in $',\n",
    "#     width=1000,\n",
    "#     height=400\n",
    "# )\n",
    "    \n",
    "# # Overlay plots\n",
    "# entry_exit_plot = security_close * moving_avgs * entry * exit * bb_upper * bb_middle * bb_lower\n",
    "# entry_exit_plot"
   ]
  },
  {
   "cell_type": "markdown",
   "id": "cee5d0bf-269e-4408-9f32-7d004ca71c4a",
   "metadata": {},
   "source": [
    "# Create function for algo trader that works on any ticker"
   ]
  },
  {
   "cell_type": "code",
   "execution_count": 316,
   "id": "91430674-7afe-4a34-8820-c629d54bafb9",
   "metadata": {},
   "outputs": [],
   "source": [
    "def algo_trader(ticker):\n",
    "    \n",
    "    # Create a signals_df DataFrame that is a copy of the data Dataframe\n",
    "    signals_df = yf.download(tickers = ticker, period = '250d', interval = '1d')\n",
    "\n",
    "    # Set the short window and long windows\n",
    "    short_window = 25\n",
    "    long_window = 100\n",
    "\n",
    "    # Add the SMA technical indicators for the short and long windows\n",
    "    signals_df[\"Short\"] = TA.SMA(signals_df, short_window)\n",
    "    signals_df[\"Long\"] = TA.SMA(signals_df, long_window)\n",
    "\n",
    "    # Determine the Bollinger Bands for the Dataset\n",
    "    bbands_df = TA.BBANDS(signals_df)\n",
    "\n",
    "    # Concatenate the Bollinger Bands to the DataFrame\n",
    "    all_signals_df = pd.concat([signals_df, bbands_df], axis=1)\n",
    "\n",
    "    # Set the Signal column\n",
    "    all_signals_df[\"Signal\"] = 0.0\n",
    "\n",
    "    # Generate the trading signal 1 or 0,\n",
    "    # where 1 is when the Short window is greater than (or crosses over) the Long Window\n",
    "    # where 0 is when the Short window is under the Long window\n",
    "    all_signals_df[\"Signal\"][short_window:] = np.where(\n",
    "        all_signals_df[\"Short\"][short_window:] > all_signals_df[\"Long\"][short_window:], 1.0, 0.0)\n",
    "\n",
    "    # Calculate the points in time at which a position should be taken, 1 or -1\n",
    "    all_signals_df[\"Entry/Exit\"] = all_signals_df[\"Signal\"].diff()\n",
    "\n",
    "    # Visualize entry position relative to close price\n",
    "    entry = all_signals_df[all_signals_df[\"Entry/Exit\"] == 1.0][\"Close\"].hvplot.scatter(\n",
    "        color='green',\n",
    "        marker='^',\n",
    "        size=200,\n",
    "        legend=False,\n",
    "        ylabel='Price in $',\n",
    "        width=1000,\n",
    "        height=400\n",
    "    )\n",
    "\n",
    "    # Visualize exit position relative to close price\n",
    "    exit = all_signals_df[all_signals_df[\"Entry/Exit\"] == -1.0][\"Close\"].hvplot.scatter(\n",
    "        color='red',\n",
    "        marker='v',\n",
    "        size=200,\n",
    "        legend=False,\n",
    "        ylabel='Price in $',\n",
    "        width=1000,\n",
    "        height=400\n",
    "    )\n",
    "\n",
    "    # Visualize close price for the investment\n",
    "    security_close = all_signals_df[[\"Close\"]].hvplot(\n",
    "        line_color='lightgray',\n",
    "        ylabel='Price in $',\n",
    "        width=1000,\n",
    "        height=400\n",
    "    )\n",
    "\n",
    "    # Visualize moving averages\n",
    "    moving_avgs = all_signals_df[[\"Short\", \"Long\"]].hvplot(\n",
    "        ylabel='Price in $',\n",
    "        width=1000,\n",
    "        height=400\n",
    "    )\n",
    "\n",
    "\n",
    "    # Visualize Bollinger Bands\n",
    "    bb_upper = all_signals_df[[\"BB_UPPER\"]].hvplot(\n",
    "        line_color='purple',\n",
    "        ylabel='Price in $',\n",
    "        width=1000,\n",
    "        height=400\n",
    "    )\n",
    "\n",
    "\n",
    "    bb_middle = all_signals_df[[\"BB_MIDDLE\"]].hvplot(\n",
    "        line_color='orange',\n",
    "        ylabel='Price in $',\n",
    "        width=1000,\n",
    "        height=400\n",
    "    )\n",
    "\n",
    "    bb_lower = all_signals_df[[\"BB_LOWER\"]].hvplot(\n",
    "        line_color='blue',\n",
    "        ylabel='Price in $',\n",
    "        width=1000,\n",
    "        height=400\n",
    "    )\n",
    "\n",
    "    # Overlay plots\n",
    "    entry_exit_plot = security_close * moving_avgs * entry * exit * bb_upper * bb_middle * bb_lower\n",
    "    return entry_exit_plot"
   ]
  },
  {
   "cell_type": "code",
   "execution_count": 317,
   "id": "98bdefdd-e26d-467f-800e-c21eaf306a03",
   "metadata": {},
   "outputs": [
    {
     "name": "stdout",
     "output_type": "stream",
     "text": [
      "[*********************100%***********************]  1 of 1 completed\n"
     ]
    },
    {
     "name": "stderr",
     "output_type": "stream",
     "text": [
      "/Users/jonyamaoka/opt/anaconda3/envs/mlenv/lib/python3.7/site-packages/ipykernel_launcher.py:27: SettingWithCopyWarning: \n",
      "A value is trying to be set on a copy of a slice from a DataFrame\n",
      "\n",
      "See the caveats in the documentation: https://pandas.pydata.org/pandas-docs/stable/user_guide/indexing.html#returning-a-view-versus-a-copy\n"
     ]
    },
    {
     "data": {},
     "metadata": {},
     "output_type": "display_data"
    },
    {
     "data": {
      "application/vnd.holoviews_exec.v0+json": "",
      "text/html": [
       "<div id='34826'>\n",
       "\n",
       "\n",
       "\n",
       "\n",
       "\n",
       "  <div class=\"bk-root\" id=\"6e048562-ded3-4f47-af02-07220a1a07f1\" data-root-id=\"34826\"></div>\n",
       "</div>\n",
       "<script type=\"application/javascript\">(function(root) {\n",
       "  function embed_document(root) {\n",
       "    var docs_json = {\"be1987ae-440e-47af-8e9a-5da7cbea1978\":{\"defs\":[{\"extends\":null,\"module\":null,\"name\":\"ReactiveHTML1\",\"overrides\":[],\"properties\":[]},{\"extends\":null,\"module\":null,\"name\":\"FlexBox1\",\"overrides\":[],\"properties\":[{\"default\":\"flex-start\",\"kind\":null,\"name\":\"align_content\"},{\"default\":\"flex-start\",\"kind\":null,\"name\":\"align_items\"},{\"default\":\"row\",\"kind\":null,\"name\":\"flex_direction\"},{\"default\":\"wrap\",\"kind\":null,\"name\":\"flex_wrap\"},{\"default\":\"flex-start\",\"kind\":null,\"name\":\"justify_content\"}]},{\"extends\":null,\"module\":null,\"name\":\"TemplateActions1\",\"overrides\":[],\"properties\":[{\"default\":0,\"kind\":null,\"name\":\"open_modal\"},{\"default\":0,\"kind\":null,\"name\":\"close_modal\"}]},{\"extends\":null,\"module\":null,\"name\":\"MaterialTemplateActions1\",\"overrides\":[],\"properties\":[{\"default\":0,\"kind\":null,\"name\":\"open_modal\"},{\"default\":0,\"kind\":null,\"name\":\"close_modal\"}]}],\"roots\":{\"references\":[{\"attributes\":{\"coordinates\":null,\"data_source\":{\"id\":\"35158\"},\"glyph\":{\"id\":\"35161\"},\"group\":null,\"hover_glyph\":null,\"muted_glyph\":{\"id\":\"35163\"},\"nonselection_glyph\":{\"id\":\"35162\"},\"selection_glyph\":{\"id\":\"35166\"},\"view\":{\"id\":\"35165\"}},\"id\":\"35164\",\"type\":\"GlyphRenderer\"},{\"attributes\":{\"source\":{\"id\":\"34878\"}},\"id\":\"34885\",\"type\":\"CDSView\"},{\"attributes\":{\"line_color\":\"blue\",\"line_width\":2,\"x\":{\"field\":\"Date\"},\"y\":{\"field\":\"BB_LOWER\"}},\"id\":\"35184\",\"type\":\"Line\"},{\"attributes\":{\"line_alpha\":0.1,\"line_color\":\"purple\",\"line_width\":2,\"x\":{\"field\":\"Date\"},\"y\":{\"field\":\"BB_UPPER\"}},\"id\":\"35162\",\"type\":\"Line\"},{\"attributes\":{},\"id\":\"35168\",\"type\":\"Selection\"},{\"attributes\":{\"line_color\":\"purple\",\"line_width\":2,\"x\":{\"field\":\"Date\"},\"y\":{\"field\":\"BB_UPPER\"}},\"id\":\"35166\",\"type\":\"Line\"},{\"attributes\":{\"months\":[0,2,4,6,8,10]},\"id\":\"34915\",\"type\":\"MonthsTicker\"},{\"attributes\":{\"data\":{\"Close\":{\"__ndarray__\":\"AAAAQFAa6EA=\",\"dtype\":\"float64\",\"order\":\"little\",\"shape\":[1]},\"Date\":{\"__ndarray__\":\"AAAAoWzad0I=\",\"dtype\":\"float64\",\"order\":\"little\",\"shape\":[1]}},\"selected\":{\"id\":\"35150\"},\"selection_policy\":{\"id\":\"35200\"}},\"id\":\"35149\",\"type\":\"ColumnDataSource\"},{\"attributes\":{\"line_alpha\":0.1,\"line_color\":\"#e5ae38\",\"line_width\":2,\"x\":{\"field\":\"Date\"},\"y\":{\"field\":\"value\"}},\"id\":\"34926\",\"type\":\"Line\"},{\"attributes\":{},\"id\":\"34874\",\"type\":\"AllLabels\"},{\"attributes\":{},\"id\":\"35200\",\"type\":\"UnionRenderers\"},{\"attributes\":{\"callback\":null,\"formatters\":{\"@{Date}\":\"datetime\"},\"renderers\":[{\"id\":\"35164\"}],\"tags\":[\"hv_created\"],\"tooltips\":[[\"Date\",\"@{Date}{%F %T}\"],[\"BB_UPPER\",\"@{BB_UPPER}\"]]},\"id\":\"34835\",\"type\":\"HoverTool\"},{\"attributes\":{\"label\":{\"value\":\"Long\"},\"renderers\":[{\"id\":\"34928\"}]},\"id\":\"34956\",\"type\":\"LegendItem\"},{\"attributes\":{\"source\":{\"id\":\"35158\"}},\"id\":\"35165\",\"type\":\"CDSView\"},{\"attributes\":{\"line_color\":\"#e5ae38\",\"line_width\":2,\"x\":{\"field\":\"Date\"},\"y\":{\"field\":\"value\"}},\"id\":\"34925\",\"type\":\"Line\"},{\"attributes\":{\"source\":{\"id\":\"34887\"}},\"id\":\"34894\",\"type\":\"CDSView\"},{\"attributes\":{\"source\":{\"id\":\"34922\"}},\"id\":\"34929\",\"type\":\"CDSView\"},{\"attributes\":{\"end\":73498.42621404622,\"reset_end\":73498.42621404622,\"reset_start\":22639.844353436023,\"start\":22639.844353436023,\"tags\":[[[\"Close\",\"Close\",null]]]},\"id\":\"34829\",\"type\":\"Range1d\"},{\"attributes\":{\"line_alpha\":0.2,\"line_color\":\"#e5ae38\",\"line_width\":2,\"x\":{\"field\":\"Date\"},\"y\":{\"field\":\"value\"}},\"id\":\"34927\",\"type\":\"Line\"},{\"attributes\":{\"coordinates\":null,\"group\":null,\"text_color\":\"black\",\"text_font_size\":\"12pt\"},\"id\":\"34839\",\"type\":\"Title\"},{\"attributes\":{},\"id\":\"34904\",\"type\":\"UnionRenderers\"},{\"attributes\":{\"line_color\":\"#fc4f30\",\"line_width\":2,\"x\":{\"field\":\"Date\"},\"y\":{\"field\":\"value\"}},\"id\":\"34921\",\"type\":\"Line\"},{\"attributes\":{\"line_alpha\":0.2,\"line_color\":\"purple\",\"line_width\":2,\"x\":{\"field\":\"Date\"},\"y\":{\"field\":\"BB_UPPER\"}},\"id\":\"35163\",\"type\":\"Line\"},{\"attributes\":{\"line_alpha\":0.1,\"line_color\":\"#fc4f30\",\"line_width\":2,\"x\":{\"field\":\"Date\"},\"y\":{\"field\":\"value\"}},\"id\":\"34891\",\"type\":\"Line\"},{\"attributes\":{},\"id\":\"34843\",\"type\":\"LinearScale\"},{\"attributes\":{\"line_alpha\":0.1,\"line_color\":\"lightgray\",\"line_width\":2,\"x\":{\"field\":\"Date\"},\"y\":{\"field\":\"Close\"}},\"id\":\"34882\",\"type\":\"Line\"},{\"attributes\":{\"data\":{\"BB_UPPER\":{\"__ndarray__\":\"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\",\"dtype\":\"float64\",\"order\":\"little\",\"shape\":[250]},\"Date\":{\"__ndarray__\":\"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\",\"dtype\":\"float64\",\"order\":\"little\",\"shape\":[250]}},\"selected\":{\"id\":\"35159\"},\"selection_policy\":{\"id\":\"35202\"}},\"id\":\"35158\",\"type\":\"ColumnDataSource\"},{\"attributes\":{},\"id\":\"35159\",\"type\":\"Selection\"},{\"attributes\":{\"coordinates\":null,\"data_source\":{\"id\":\"34922\"},\"glyph\":{\"id\":\"34925\"},\"group\":null,\"hover_glyph\":null,\"muted_glyph\":{\"id\":\"34927\"},\"nonselection_glyph\":{\"id\":\"34926\"},\"selection_glyph\":{\"id\":\"34957\"},\"view\":{\"id\":\"34929\"}},\"id\":\"34928\",\"type\":\"GlyphRenderer\"},{\"attributes\":{\"below\":[{\"id\":\"34847\"}],\"center\":[{\"id\":\"34850\"},{\"id\":\"34854\"}],\"height\":400,\"left\":[{\"id\":\"34851\"}],\"margin\":[5,5,5,5],\"min_border_bottom\":10,\"min_border_left\":10,\"min_border_right\":10,\"min_border_top\":10,\"renderers\":[{\"id\":\"34884\"},{\"id\":\"34893\"},{\"id\":\"34928\"},{\"id\":\"35146\"},{\"id\":\"35155\"},{\"id\":\"35164\"},{\"id\":\"35173\"},{\"id\":\"35182\"}],\"right\":[{\"id\":\"34919\"}],\"sizing_mode\":\"fixed\",\"title\":{\"id\":\"34839\"},\"toolbar\":{\"id\":\"34861\"},\"width\":1000,\"x_range\":{\"id\":\"34828\"},\"x_scale\":{\"id\":\"34843\"},\"y_range\":{\"id\":\"34829\"},\"y_scale\":{\"id\":\"34845\"}},\"id\":\"34838\",\"subtype\":\"Figure\",\"type\":\"Plot\"},{\"attributes\":{\"axis_label\":\"Date\",\"coordinates\":null,\"formatter\":{\"id\":\"34873\"},\"group\":null,\"major_label_policy\":{\"id\":\"34874\"},\"ticker\":{\"id\":\"34848\"}},\"id\":\"34847\",\"type\":\"DatetimeAxis\"},{\"attributes\":{},\"id\":\"34902\",\"type\":\"UnionRenderers\"},{\"attributes\":{},\"id\":\"35150\",\"type\":\"Selection\"},{\"attributes\":{},\"id\":\"34845\",\"type\":\"LinearScale\"},{\"attributes\":{\"line_alpha\":0.1,\"line_color\":\"orange\",\"line_width\":2,\"x\":{\"field\":\"Date\"},\"y\":{\"field\":\"BB_MIDDLE\"}},\"id\":\"35171\",\"type\":\"Line\"},{\"attributes\":{\"coordinates\":null,\"data_source\":{\"id\":\"34887\"},\"glyph\":{\"id\":\"34890\"},\"group\":null,\"hover_glyph\":null,\"muted_glyph\":{\"id\":\"34892\"},\"nonselection_glyph\":{\"id\":\"34891\"},\"selection_glyph\":{\"id\":\"34921\"},\"view\":{\"id\":\"34894\"}},\"id\":\"34893\",\"type\":\"GlyphRenderer\"},{\"attributes\":{\"line_color\":\"orange\",\"line_width\":2,\"x\":{\"field\":\"Date\"},\"y\":{\"field\":\"BB_MIDDLE\"}},\"id\":\"35175\",\"type\":\"Line\"},{\"attributes\":{\"line_color\":\"#e5ae38\",\"line_width\":2,\"x\":{\"field\":\"Date\"},\"y\":{\"field\":\"value\"}},\"id\":\"34957\",\"type\":\"Line\"},{\"attributes\":{\"coordinates\":null,\"data_source\":{\"id\":\"35167\"},\"glyph\":{\"id\":\"35170\"},\"group\":null,\"hover_glyph\":null,\"muted_glyph\":{\"id\":\"35172\"},\"nonselection_glyph\":{\"id\":\"35171\"},\"selection_glyph\":{\"id\":\"35175\"},\"view\":{\"id\":\"35174\"}},\"id\":\"35173\",\"type\":\"GlyphRenderer\"},{\"attributes\":{},\"id\":\"34873\",\"type\":\"DatetimeTickFormatter\"},{\"attributes\":{\"angle\":{\"value\":3.141592653589793},\"fill_alpha\":{\"value\":1.0},\"fill_color\":{\"value\":\"red\"},\"hatch_alpha\":{\"value\":1.0},\"hatch_color\":{\"value\":\"red\"},\"hatch_scale\":{\"value\":12.0},\"hatch_weight\":{\"value\":1.0},\"line_alpha\":{\"value\":1.0},\"line_cap\":{\"value\":\"butt\"},\"line_color\":{\"value\":\"red\"},\"line_dash\":{\"value\":[]},\"line_dash_offset\":{\"value\":0},\"line_join\":{\"value\":\"bevel\"},\"line_width\":{\"value\":1},\"marker\":{\"value\":\"triangle\"},\"size\":{\"value\":14.142135623730951},\"x\":{\"field\":\"Date\"},\"y\":{\"field\":\"Close\"}},\"id\":\"35157\",\"type\":\"Scatter\"},{\"attributes\":{},\"id\":\"34923\",\"type\":\"Selection\"},{\"attributes\":{\"num_minor_ticks\":5,\"tickers\":[{\"id\":\"34907\"},{\"id\":\"34908\"},{\"id\":\"34909\"},{\"id\":\"34910\"},{\"id\":\"34911\"},{\"id\":\"34912\"},{\"id\":\"34913\"},{\"id\":\"34914\"},{\"id\":\"34915\"},{\"id\":\"34916\"},{\"id\":\"34917\"},{\"id\":\"34918\"}]},\"id\":\"34848\",\"type\":\"DatetimeTicker\"},{\"attributes\":{\"line_alpha\":0.2,\"line_color\":\"orange\",\"line_width\":2,\"x\":{\"field\":\"Date\"},\"y\":{\"field\":\"BB_MIDDLE\"}},\"id\":\"35172\",\"type\":\"Line\"},{\"attributes\":{},\"id\":\"34852\",\"type\":\"BasicTicker\"},{\"attributes\":{\"source\":{\"id\":\"35140\"}},\"id\":\"35147\",\"type\":\"CDSView\"},{\"attributes\":{\"label\":{\"value\":\"Short\"},\"renderers\":[{\"id\":\"34893\"}]},\"id\":\"34920\",\"type\":\"LegendItem\"},{\"attributes\":{\"axis\":{\"id\":\"34847\"},\"coordinates\":null,\"grid_line_color\":null,\"group\":null,\"ticker\":null},\"id\":\"34850\",\"type\":\"Grid\"},{\"attributes\":{\"source\":{\"id\":\"35167\"}},\"id\":\"35174\",\"type\":\"CDSView\"},{\"attributes\":{\"line_alpha\":0.2,\"line_color\":\"#fc4f30\",\"line_width\":2,\"x\":{\"field\":\"Date\"},\"y\":{\"field\":\"value\"}},\"id\":\"34892\",\"type\":\"Line\"},{\"attributes\":{\"line_color\":\"orange\",\"line_width\":2,\"x\":{\"field\":\"Date\"},\"y\":{\"field\":\"BB_MIDDLE\"}},\"id\":\"35170\",\"type\":\"Line\"},{\"attributes\":{\"data\":{\"Date\":{\"__ndarray__\":\"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\",\"dtype\":\"float64\",\"order\":\"little\",\"shape\":[250]},\"Variable\":[\"Short\",\"Short\",\"Short\",\"Short\",\"Short\",\"Short\",\"Short\",\"Short\",\"Short\",\"Short\",\"Short\",\"Short\",\"Short\",\"Short\",\"Short\",\"Short\",\"Short\",\"Short\",\"Short\",\"Short\",\"Short\",\"Short\",\"Short\",\"Short\",\"Short\",\"Short\",\"Short\",\"Short\",\"Short\",\"Short\",\"Short\",\"Short\",\"Short\",\"Short\",\"Short\",\"Short\",\"Short\",\"Short\",\"Short\",\"Short\",\"Short\",\"Short\",\"Short\",\"Short\",\"Short\",\"Short\",\"Short\",\"Short\",\"Short\",\"Short\",\"Short\",\"Short\",\"Short\",\"Short\",\"Short\",\"Short\",\"Short\",\"Short\",\"Short\",\"Short\",\"Short\",\"Short\",\"Short\",\"Short\",\"Short\",\"Short\",\"Short\",\"Short\",\"Short\",\"Short\",\"Short\",\"Short\",\"Short\",\"Short\",\"Short\",\"Short\",\"Short\",\"Short\",\"Short\",\"Short\",\"Short\",\"Short\",\"Short\",\"Short\",\"Short\",\"Short\",\"Short\",\"Short\",\"Short\",\"Short\",\"Short\",\"Short\",\"Short\",\"Short\",\"Short\",\"Short\",\"Short\",\"Short\",\"Short\",\"Short\",\"Short\",\"Short\",\"Short\",\"Short\",\"Short\",\"Short\",\"Short\",\"Short\",\"Short\",\"Short\",\"Short\",\"Short\",\"Short\",\"Short\",\"Short\",\"Short\",\"Short\",\"Short\",\"Short\",\"Short\",\"Short\",\"Short\",\"Short\",\"Short\",\"Short\",\"Short\",\"Short\",\"Short\",\"Short\",\"Short\",\"Short\",\"Short\",\"Short\",\"Short\",\"Short\",\"Short\",\"Short\",\"Short\",\"Short\",\"Short\",\"Short\",\"Short\",\"Short\",\"Short\",\"Short\",\"Short\",\"Short\",\"Short\",\"Short\",\"Short\",\"Short\",\"Short\",\"Short\",\"Short\",\"Short\",\"Short\",\"Short\",\"Short\",\"Short\",\"Short\",\"Short\",\"Short\",\"Short\",\"Short\",\"Short\",\"Short\",\"Short\",\"Short\",\"Short\",\"Short\",\"Short\",\"Short\",\"Short\",\"Short\",\"Short\",\"Short\",\"Short\",\"Short\",\"Short\",\"Short\",\"Short\",\"Short\",\"Short\",\"Short\",\"Short\",\"Short\",\"Short\",\"Short\",\"Short\",\"Short\",\"Short\",\"Short\",\"Short\",\"Short\",\"Short\",\"Short\",\"Short\",\"Short\",\"Short\",\"Short\",\"Short\",\"Short\",\"Short\",\"Short\",\"Short\",\"Short\",\"Short\",\"Short\",\"Short\",\"Short\",\"Short\",\"Short\",\"Short\",\"Short\",\"Short\",\"Short\",\"Short\",\"Short\",\"Short\",\"Short\",\"Short\",\"Short\",\"Short\",\"Short\",\"Short\",\"Short\",\"Short\",\"Short\",\"Short\",\"Short\",\"Short\",\"Short\",\"Short\",\"Short\",\"Short\",\"Short\",\"Short\",\"Short\",\"Short\",\"Short\",\"Short\",\"Short\",\"Short\",\"Short\",\"Short\",\"Short\",\"Short\",\"Short\",\"Short\",\"Short\"],\"value\":{\"__ndarray__\":\"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\",\"dtype\":\"float64\",\"order\":\"little\",\"shape\":[250]}},\"selected\":{\"id\":\"34888\"},\"selection_policy\":{\"id\":\"34904\"}},\"id\":\"34887\",\"type\":\"ColumnDataSource\"},{\"attributes\":{\"axis\":{\"id\":\"34851\"},\"coordinates\":null,\"dimension\":1,\"grid_line_color\":null,\"group\":null,\"ticker\":null},\"id\":\"34854\",\"type\":\"Grid\"},{\"attributes\":{\"axis_label\":\"Price in $\",\"coordinates\":null,\"formatter\":{\"id\":\"34876\"},\"group\":null,\"major_label_policy\":{\"id\":\"34877\"},\"ticker\":{\"id\":\"34852\"}},\"id\":\"34851\",\"type\":\"LinearAxis\"},{\"attributes\":{\"mantissas\":[1,2,5],\"max_interval\":500.0,\"num_minor_ticks\":0},\"id\":\"34907\",\"type\":\"AdaptiveTicker\"},{\"attributes\":{},\"id\":\"35177\",\"type\":\"Selection\"},{\"attributes\":{\"angle\":{\"value\":3.141592653589793},\"fill_color\":{\"value\":\"red\"},\"hatch_color\":{\"value\":\"red\"},\"line_color\":{\"value\":\"red\"},\"marker\":{\"value\":\"triangle\"},\"size\":{\"value\":14.142135623730951},\"x\":{\"field\":\"Date\"},\"y\":{\"field\":\"Close\"}},\"id\":\"35152\",\"type\":\"Scatter\"},{\"attributes\":{\"coordinates\":null,\"data_source\":{\"id\":\"34878\"},\"glyph\":{\"id\":\"34881\"},\"group\":null,\"hover_glyph\":null,\"muted_glyph\":{\"id\":\"34883\"},\"nonselection_glyph\":{\"id\":\"34882\"},\"selection_glyph\":{\"id\":\"34886\"},\"view\":{\"id\":\"34885\"}},\"id\":\"34884\",\"type\":\"GlyphRenderer\"},{\"attributes\":{\"base\":24,\"mantissas\":[1,2,4,6,8,12],\"max_interval\":43200000.0,\"min_interval\":3600000.0,\"num_minor_ticks\":0},\"id\":\"34909\",\"type\":\"AdaptiveTicker\"},{\"attributes\":{\"children\":[{\"id\":\"34827\"},{\"id\":\"34838\"},{\"id\":\"35509\"}],\"margin\":[0,0,0,0],\"name\":\"Row65652\",\"tags\":[\"embedded\"]},\"id\":\"34826\",\"type\":\"Row\"},{\"attributes\":{\"end\":1639699200000.0,\"reset_end\":1639699200000.0,\"reset_start\":1618185600000.0,\"start\":1618185600000.0,\"tags\":[[[\"Date\",\"Date\",null]]]},\"id\":\"34828\",\"type\":\"Range1d\"},{\"attributes\":{\"line_color\":\"#fc4f30\",\"line_width\":2,\"x\":{\"field\":\"Date\"},\"y\":{\"field\":\"value\"}},\"id\":\"34890\",\"type\":\"Line\"},{\"attributes\":{},\"id\":\"34859\",\"type\":\"ResetTool\"},{\"attributes\":{\"coordinates\":null,\"data_source\":{\"id\":\"35149\"},\"glyph\":{\"id\":\"35152\"},\"group\":null,\"hover_glyph\":null,\"muted_glyph\":{\"id\":\"35154\"},\"nonselection_glyph\":{\"id\":\"35153\"},\"selection_glyph\":{\"id\":\"35157\"},\"view\":{\"id\":\"35156\"}},\"id\":\"35155\",\"type\":\"GlyphRenderer\"},{\"attributes\":{\"angle\":{\"value\":0},\"fill_alpha\":{\"value\":1.0},\"fill_color\":{\"value\":\"green\"},\"hatch_alpha\":{\"value\":1.0},\"hatch_color\":{\"value\":\"green\"},\"hatch_scale\":{\"value\":12.0},\"hatch_weight\":{\"value\":1.0},\"line_alpha\":{\"value\":1.0},\"line_cap\":{\"value\":\"butt\"},\"line_color\":{\"value\":\"green\"},\"line_dash\":{\"value\":[]},\"line_dash_offset\":{\"value\":0},\"line_join\":{\"value\":\"bevel\"},\"line_width\":{\"value\":1},\"marker\":{\"value\":\"triangle\"},\"size\":{\"value\":14.142135623730951},\"x\":{\"field\":\"Date\"},\"y\":{\"field\":\"Close\"}},\"id\":\"35148\",\"type\":\"Scatter\"},{\"attributes\":{\"months\":[0,4,8]},\"id\":\"34916\",\"type\":\"MonthsTicker\"},{\"attributes\":{\"margin\":[5,5,5,5],\"name\":\"HSpacer65656\",\"sizing_mode\":\"stretch_width\"},\"id\":\"34827\",\"type\":\"Spacer\"},{\"attributes\":{\"base\":60,\"mantissas\":[1,2,5,10,15,20,30],\"max_interval\":1800000.0,\"min_interval\":1000.0,\"num_minor_ticks\":0},\"id\":\"34908\",\"type\":\"AdaptiveTicker\"},{\"attributes\":{\"line_color\":\"lightgray\",\"line_width\":2,\"x\":{\"field\":\"Date\"},\"y\":{\"field\":\"Close\"}},\"id\":\"34881\",\"type\":\"Line\"},{\"attributes\":{},\"id\":\"35206\",\"type\":\"UnionRenderers\"},{\"attributes\":{\"margin\":[5,5,5,5],\"name\":\"HSpacer65657\",\"sizing_mode\":\"stretch_width\"},\"id\":\"35509\",\"type\":\"Spacer\"},{\"attributes\":{\"line_alpha\":0.1,\"line_color\":\"blue\",\"line_width\":2,\"x\":{\"field\":\"Date\"},\"y\":{\"field\":\"BB_LOWER\"}},\"id\":\"35180\",\"type\":\"Line\"},{\"attributes\":{},\"id\":\"34918\",\"type\":\"YearsTicker\"},{\"attributes\":{},\"id\":\"34855\",\"type\":\"SaveTool\"},{\"attributes\":{\"days\":[1,2,3,4,5,6,7,8,9,10,11,12,13,14,15,16,17,18,19,20,21,22,23,24,25,26,27,28,29,30,31]},\"id\":\"34910\",\"type\":\"DaysTicker\"},{\"attributes\":{\"coordinates\":null,\"data_source\":{\"id\":\"35176\"},\"glyph\":{\"id\":\"35179\"},\"group\":null,\"hover_glyph\":null,\"muted_glyph\":{\"id\":\"35181\"},\"nonselection_glyph\":{\"id\":\"35180\"},\"selection_glyph\":{\"id\":\"35184\"},\"view\":{\"id\":\"35183\"}},\"id\":\"35182\",\"type\":\"GlyphRenderer\"},{\"attributes\":{},\"id\":\"34856\",\"type\":\"PanTool\"},{\"attributes\":{\"fill_alpha\":{\"value\":0.2},\"fill_color\":{\"value\":\"green\"},\"hatch_alpha\":{\"value\":0.2},\"hatch_color\":{\"value\":\"green\"},\"line_alpha\":{\"value\":0.2},\"line_color\":{\"value\":\"green\"},\"marker\":{\"value\":\"triangle\"},\"size\":{\"value\":14.142135623730951},\"x\":{\"field\":\"Date\"},\"y\":{\"field\":\"Close\"}},\"id\":\"35145\",\"type\":\"Scatter\"},{\"attributes\":{\"days\":[1,4,7,10,13,16,19,22,25,28]},\"id\":\"34911\",\"type\":\"DaysTicker\"},{\"attributes\":{},\"id\":\"35204\",\"type\":\"UnionRenderers\"},{\"attributes\":{},\"id\":\"34857\",\"type\":\"WheelZoomTool\"},{\"attributes\":{\"fill_color\":{\"value\":\"green\"},\"hatch_color\":{\"value\":\"green\"},\"line_color\":{\"value\":\"green\"},\"marker\":{\"value\":\"triangle\"},\"size\":{\"value\":14.142135623730951},\"x\":{\"field\":\"Date\"},\"y\":{\"field\":\"Close\"}},\"id\":\"35143\",\"type\":\"Scatter\"},{\"attributes\":{\"days\":[1,8,15,22]},\"id\":\"34912\",\"type\":\"DaysTicker\"},{\"attributes\":{\"line_alpha\":0.2,\"line_color\":\"blue\",\"line_width\":2,\"x\":{\"field\":\"Date\"},\"y\":{\"field\":\"BB_LOWER\"}},\"id\":\"35181\",\"type\":\"Line\"},{\"attributes\":{\"callback\":null,\"formatters\":{\"@{Date}\":\"datetime\"},\"renderers\":[{\"id\":\"34884\"},{\"id\":\"35146\"},{\"id\":\"35155\"}],\"tags\":[\"hv_created\"],\"tooltips\":[[\"Date\",\"@{Date}{%F %T}\"],[\"Close\",\"@{Close}\"]]},\"id\":\"34830\",\"type\":\"HoverTool\"},{\"attributes\":{\"bottom_units\":\"screen\",\"coordinates\":null,\"fill_alpha\":0.5,\"fill_color\":\"lightgrey\",\"group\":null,\"left_units\":\"screen\",\"level\":\"overlay\",\"line_alpha\":1.0,\"line_color\":\"black\",\"line_dash\":[4,4],\"line_width\":2,\"right_units\":\"screen\",\"syncable\":false,\"top_units\":\"screen\"},\"id\":\"34860\",\"type\":\"BoxAnnotation\"},{\"attributes\":{\"overlay\":{\"id\":\"34860\"}},\"id\":\"34858\",\"type\":\"BoxZoomTool\"},{\"attributes\":{\"data\":{\"Close\":{\"__ndarray__\":\"AAAAQImx5UA=\",\"dtype\":\"float64\",\"order\":\"little\",\"shape\":[1]},\"Date\":{\"__ndarray__\":\"AABAiXqzd0I=\",\"dtype\":\"float64\",\"order\":\"little\",\"shape\":[1]}},\"selected\":{\"id\":\"35141\"},\"selection_policy\":{\"id\":\"35198\"}},\"id\":\"35140\",\"type\":\"ColumnDataSource\"},{\"attributes\":{\"days\":[1,15]},\"id\":\"34913\",\"type\":\"DaysTicker\"},{\"attributes\":{\"source\":{\"id\":\"35176\"}},\"id\":\"35183\",\"type\":\"CDSView\"},{\"attributes\":{\"months\":[0,1,2,3,4,5,6,7,8,9,10,11]},\"id\":\"34914\",\"type\":\"MonthsTicker\"},{\"attributes\":{\"line_color\":\"blue\",\"line_width\":2,\"x\":{\"field\":\"Date\"},\"y\":{\"field\":\"BB_LOWER\"}},\"id\":\"35179\",\"type\":\"Line\"},{\"attributes\":{\"angle\":{\"value\":3.141592653589793},\"fill_alpha\":{\"value\":0.1},\"fill_color\":{\"value\":\"red\"},\"hatch_alpha\":{\"value\":0.1},\"hatch_color\":{\"value\":\"red\"},\"line_alpha\":{\"value\":0.1},\"line_color\":{\"value\":\"red\"},\"marker\":{\"value\":\"triangle\"},\"size\":{\"value\":14.142135623730951},\"x\":{\"field\":\"Date\"},\"y\":{\"field\":\"Close\"}},\"id\":\"35153\",\"type\":\"Scatter\"},{\"attributes\":{},\"id\":\"35202\",\"type\":\"UnionRenderers\"},{\"attributes\":{\"angle\":{\"value\":3.141592653589793},\"fill_alpha\":{\"value\":0.2},\"fill_color\":{\"value\":\"red\"},\"hatch_alpha\":{\"value\":0.2},\"hatch_color\":{\"value\":\"red\"},\"line_alpha\":{\"value\":0.2},\"line_color\":{\"value\":\"red\"},\"marker\":{\"value\":\"triangle\"},\"size\":{\"value\":14.142135623730951},\"x\":{\"field\":\"Date\"},\"y\":{\"field\":\"Close\"}},\"id\":\"35154\",\"type\":\"Scatter\"},{\"attributes\":{},\"id\":\"34888\",\"type\":\"Selection\"},{\"attributes\":{\"tools\":[{\"id\":\"34830\"},{\"id\":\"34831\"},{\"id\":\"34835\"},{\"id\":\"34836\"},{\"id\":\"34837\"},{\"id\":\"34855\"},{\"id\":\"34856\"},{\"id\":\"34857\"},{\"id\":\"34858\"},{\"id\":\"34859\"}]},\"id\":\"34861\",\"type\":\"Toolbar\"},{\"attributes\":{\"line_color\":\"lightgray\",\"line_width\":2,\"x\":{\"field\":\"Date\"},\"y\":{\"field\":\"Close\"}},\"id\":\"34886\",\"type\":\"Line\"},{\"attributes\":{\"coordinates\":null,\"data_source\":{\"id\":\"35140\"},\"glyph\":{\"id\":\"35143\"},\"group\":null,\"hover_glyph\":null,\"muted_glyph\":{\"id\":\"35145\"},\"nonselection_glyph\":{\"id\":\"35144\"},\"selection_glyph\":{\"id\":\"35148\"},\"view\":{\"id\":\"35147\"}},\"id\":\"35146\",\"type\":\"GlyphRenderer\"},{\"attributes\":{\"line_alpha\":0.2,\"line_color\":\"lightgray\",\"line_width\":2,\"x\":{\"field\":\"Date\"},\"y\":{\"field\":\"Close\"}},\"id\":\"34883\",\"type\":\"Line\"},{\"attributes\":{},\"id\":\"34879\",\"type\":\"Selection\"},{\"attributes\":{\"callback\":null,\"formatters\":{\"@{Date}\":\"datetime\"},\"renderers\":[{\"id\":\"35173\"}],\"tags\":[\"hv_created\"],\"tooltips\":[[\"Date\",\"@{Date}{%F %T}\"],[\"BB_MIDDLE\",\"@{BB_MIDDLE}\"]]},\"id\":\"34836\",\"type\":\"HoverTool\"},{\"attributes\":{\"data\":{\"Date\":{\"__ndarray__\":\"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\",\"dtype\":\"float64\",\"order\":\"little\",\"shape\":[250]},\"Variable\":[\"Long\",\"Long\",\"Long\",\"Long\",\"Long\",\"Long\",\"Long\",\"Long\",\"Long\",\"Long\",\"Long\",\"Long\",\"Long\",\"Long\",\"Long\",\"Long\",\"Long\",\"Long\",\"Long\",\"Long\",\"Long\",\"Long\",\"Long\",\"Long\",\"Long\",\"Long\",\"Long\",\"Long\",\"Long\",\"Long\",\"Long\",\"Long\",\"Long\",\"Long\",\"Long\",\"Long\",\"Long\",\"Long\",\"Long\",\"Long\",\"Long\",\"Long\",\"Long\",\"Long\",\"Long\",\"Long\",\"Long\",\"Long\",\"Long\",\"Long\",\"Long\",\"Long\",\"Long\",\"Long\",\"Long\",\"Long\",\"Long\",\"Long\",\"Long\",\"Long\",\"Long\",\"Long\",\"Long\",\"Long\",\"Long\",\"Long\",\"Long\",\"Long\",\"Long\",\"Long\",\"Long\",\"Long\",\"Long\",\"Long\",\"Long\",\"Long\",\"Long\",\"Long\",\"Long\",\"Long\",\"Long\",\"Long\",\"Long\",\"Long\",\"Long\",\"Long\",\"Long\",\"Long\",\"Long\",\"Long\",\"Long\",\"Long\",\"Long\",\"Long\",\"Long\",\"Long\",\"Long\",\"Long\",\"Long\",\"Long\",\"Long\",\"Long\",\"Long\",\"Long\",\"Long\",\"Long\",\"Long\",\"Long\",\"Long\",\"Long\",\"Long\",\"Long\",\"Long\",\"Long\",\"Long\",\"Long\",\"Long\",\"Long\",\"Long\",\"Long\",\"Long\",\"Long\",\"Long\",\"Long\",\"Long\",\"Long\",\"Long\",\"Long\",\"Long\",\"Long\",\"Long\",\"Long\",\"Long\",\"Long\",\"Long\",\"Long\",\"Long\",\"Long\",\"Long\",\"Long\",\"Long\",\"Long\",\"Long\",\"Long\",\"Long\",\"Long\",\"Long\",\"Long\",\"Long\",\"Long\",\"Long\",\"Long\",\"Long\",\"Long\",\"Long\",\"Long\",\"Long\",\"Long\",\"Long\",\"Long\",\"Long\",\"Long\",\"Long\",\"Long\",\"Long\",\"Long\",\"Long\",\"Long\",\"Long\",\"Long\",\"Long\",\"Long\",\"Long\",\"Long\",\"Long\",\"Long\",\"Long\",\"Long\",\"Long\",\"Long\",\"Long\",\"Long\",\"Long\",\"Long\",\"Long\",\"Long\",\"Long\",\"Long\",\"Long\",\"Long\",\"Long\",\"Long\",\"Long\",\"Long\",\"Long\",\"Long\",\"Long\",\"Long\",\"Long\",\"Long\",\"Long\",\"Long\",\"Long\",\"Long\",\"Long\",\"Long\",\"Long\",\"Long\",\"Long\",\"Long\",\"Long\",\"Long\",\"Long\",\"Long\",\"Long\",\"Long\",\"Long\",\"Long\",\"Long\",\"Long\",\"Long\",\"Long\",\"Long\",\"Long\",\"Long\",\"Long\",\"Long\",\"Long\",\"Long\",\"Long\",\"Long\",\"Long\",\"Long\",\"Long\",\"Long\",\"Long\",\"Long\",\"Long\",\"Long\",\"Long\",\"Long\",\"Long\",\"Long\",\"Long\",\"Long\",\"Long\",\"Long\",\"Long\",\"Long\",\"Long\"],\"value\":{\"__ndarray__\":\"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\",\"dtype\":\"float64\",\"order\":\"little\",\"shape\":[250]}},\"selected\":{\"id\":\"34923\"},\"selection_policy\":{\"id\":\"34941\"}},\"id\":\"34922\",\"type\":\"ColumnDataSource\"},{\"attributes\":{\"data\":{\"BB_MIDDLE\":{\"__ndarray__\":\"AAAAAAAA+H8AAAAAAAD4fwAAAAAAAPh/AAAAAAAA+H8AAAAAAAD4fwAAAAAAAPh/AAAAAAAA+H8AAAAAAAD4fwAAAAAAAPh/AAAAAAAA+H8AAAAAAAD4fwAAAAAAAPh/AAAAAAAA+H8AAAAAAAD4fwAAAAAAAPh/AAAAAAAA+H8AAAAAAAD4fwAAAAAAAPh/AAAAAAAA+H/NzMw0QZLrQAAAAGjdfetAAAAAWHhW60BmZmZ+XhnrQM3MzHyO9OpAMzMzczTU6kDNzMyUaL/qQDMzM7uUz+pAzczMnEHf6kAAAABwbNvqQDMzMwPq7OpAMzMzO5fc6kAzMzNL+9PqQDMzM8Pq0upAmpmZQeTE6kDNzMwkm5XqQM3MzCzCTepAmpmZsUkD6kDNzMxs1ZvpQGZmZobJMelAZmZmJoSx6ECamZkJLTroQAAAAID9redAAAAAaJFS50DNzMyMrtvmQAAAANjKcOZAAAAAwIv65UAAAADgIWrlQAAAAOCH1uRAzczMNGVY5EDNzMx0Ut/jQDMzM3tpkeNAzczM3IdF40AAAAAI1QLjQAAAAMgrxeJAAAAAOAWB4kCamZkBDVHiQAAAABifFuJAZmZmZo8A4kBmZmY2E+vhQM3MzNxP5+FAmpmZSQzm4UCamZlh7+rhQDMzM2Ni7eFAzczMZLz44UDNzMy0r//hQDMzM9sf/+FAMzMzS9kN4kBmZmYuKxXiQJqZmZHHFOJAZmZmRpAK4kBmZmYaQ+vhQDMzM9+Ty+FAzczMsEqp4UBmZmaKV5vhQDMzM9vgguFAAAAAGOdr4UDNzMxktXLhQGZmZh64eOFAZmZmXnxv4UDNzMyMGWXhQGZmZuaVTeFAZmZmJj1D4UAAAABAjifhQDMzMyO9COFAZmZmthzf4ECamZm5acXgQM3MzKQsq+BAAAAA2PyY4EDNzMxEoI3gQDMzM9MDgOBAZmZmagmQ4EAzMzO3GZTgQM3MzBy4jeBAAAAA+DeC4EDNzMywHIPgQAAAABxVfuBAZmZmltpq4EAAAACMXlrgQGZmZqLOOuBAmpmZDRka4EBmZmbG9hDgQAAAAHgQB+BAZmZmRkUA4ECamZl5GfTfQGZmZm4TBOBAzczMLHcX4ECamZnBKTrgQJqZmWmnZuBAmpmZEXiN4EDNzMwc8MPgQJqZmbkZ8uBAMzMzM7gc4UBmZmYSWEXhQJqZmRWpZuFAAAAA7HOY4UAzMzO/gNPhQM3MzDwGGuJAMzMzn8Rp4kAAAAAU5briQDMzM/dhIuNAAAAA6Jh240CamZnBmcnjQJqZmYlkDeRAAAAA8MVh5EAAAADAMKvkQGZmZubf5+RAAAAA+BsR5UAAAAAYey7lQM3MzIRvTOVAzczMxHJo5UCamZmJp5jlQGZmZn540OVAZmZmBrgP5kAAAAAY7VbmQAAAAOCqiOZAmpmZ2Ty75kAAAAAABtXmQGZmZpYq8eZAmpmZcRER50AAAACIeCDnQM3MzHSoKedAZmZmVn0z50CamZlRG0/nQM3MzFyyWOdAmpmZ2f9q50AzMzMLHH3nQDMzM1MKoedAAAAAaKfS50AAAABQN9/nQJqZmWlN2+dAmpmZAeHI50CamZl5vq/nQJqZmSn+ledAZmZmjjmA50AAAACwFG/nQJqZmWlnY+dAzczMBB5r50BmZmaGJWPnQGZmZrbtWOdAzczMXHtV50DNzMy8w1bnQGZmZh6/O+dAmpmZwckI50DNzMyc1OTmQDMzMyvExOZAZmZmXlyY5kBmZmZ24V/mQAAAAHj5JOZAzczM1GAI5kAAAADgxejlQM3MzJSayuVAmpmZwcXD5UAAAACI/tXlQGZmZq5L4OVAAAAAsIb05UAAAABYJwHmQDMzM+MEFuZAzczM1GFF5kAAAABgP27mQM3MzIzOkeZAMzMzW/vB5kDNzMzMhwznQM3MzJR5dedAAAAAEGTD50CamZmpjRHoQAAAAIAQbOhAzczMRAzi6EAAAAAYklDpQGZmZrZOyelAMzMzK4FM6kAAAABgXdrqQDMzM3sgZetAZmZmpjW960DNzMzkVg7sQJqZmcHMYOxAMzMzc6mq7EAAAAB4sfLsQAAAADj1Ee1AZmZmdi8v7UAzMzNTxljtQJqZmeklhu1AzczMhKGy7UAAAAAwmMrtQDMzM4ud6e1AAAAACAYO7kAzMzOrUzHuQDMzM+twMO5AMzMzg+Yx7kCamZmxvDHuQGZmZibeOe5AMzMz44VO7kBmZmZGpFTuQGZmZl4MZu5AZmZmrqiA7kBmZmZm7JHuQGZmZk4KqO5AAAAAiDW37kBmZmYOLMvuQDMzMzuq1e5AmpmZoRPU7kBmZmZOCrPuQAAAAIB7m+5AZmZmrliR7kDNzMxkIoPuQDMzMwPHV+5AzczMdAU27kCamZmRshXuQJqZmfmg/e1AmpmZoeTL7UAzMzOTsZbtQGZmZi40Vu1AMzMzw+sc7UAzMzMT/OrsQM3MzNy7uuxAzczM3L6K7EAAAADQzEbsQGZmZv4i4etAZmZmjnSI60AzMzPDlkzrQM3MzBQqEOtAZmZmVu7n6kAAAABooqbqQGZmZi7MWOpAZmZmbj8e6kAAAADojffpQDMzM1vbs+lAMzMz42536UAAAAAoEkPpQGZmZjYrHulAzczM1A/t6EA=\",\"dtype\":\"float64\",\"order\":\"little\",\"shape\":[250]},\"Date\":{\"__ndarray__\":\"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\",\"dtype\":\"float64\",\"order\":\"little\",\"shape\":[250]}},\"selected\":{\"id\":\"35168\"},\"selection_policy\":{\"id\":\"35204\"}},\"id\":\"35167\",\"type\":\"ColumnDataSource\"},{\"attributes\":{\"data\":{\"Close\":{\"__ndarray__\":\"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\",\"dtype\":\"float64\",\"order\":\"little\",\"shape\":[250]},\"Date\":{\"__ndarray__\":\"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\",\"dtype\":\"float64\",\"order\":\"little\",\"shape\":[250]}},\"selected\":{\"id\":\"34879\"},\"selection_policy\":{\"id\":\"34902\"}},\"id\":\"34878\",\"type\":\"ColumnDataSource\"},{\"attributes\":{\"data\":{\"BB_LOWER\":{\"__ndarray__\":\"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\",\"dtype\":\"float64\",\"order\":\"little\",\"shape\":[250]},\"Date\":{\"__ndarray__\":\"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\",\"dtype\":\"float64\",\"order\":\"little\",\"shape\":[250]}},\"selected\":{\"id\":\"35177\"},\"selection_policy\":{\"id\":\"35206\"}},\"id\":\"35176\",\"type\":\"ColumnDataSource\"},{\"attributes\":{},\"id\":\"34941\",\"type\":\"UnionRenderers\"},{\"attributes\":{\"months\":[0,6]},\"id\":\"34917\",\"type\":\"MonthsTicker\"},{\"attributes\":{\"source\":{\"id\":\"35149\"}},\"id\":\"35156\",\"type\":\"CDSView\"},{\"attributes\":{\"click_policy\":\"mute\",\"coordinates\":null,\"group\":null,\"items\":[{\"id\":\"34920\"},{\"id\":\"34956\"}],\"location\":[0,0]},\"id\":\"34919\",\"type\":\"Legend\"},{\"attributes\":{\"callback\":null,\"formatters\":{\"@{Date}\":\"datetime\"},\"renderers\":[{\"id\":\"34893\"},{\"id\":\"34928\"}],\"tags\":[\"hv_created\"],\"tooltips\":[[\"Variable\",\"@{Variable}\"],[\"Date\",\"@{Date}{%F %T}\"],[\"value\",\"@{value}\"]]},\"id\":\"34831\",\"type\":\"HoverTool\"},{\"attributes\":{\"fill_alpha\":{\"value\":0.1},\"fill_color\":{\"value\":\"green\"},\"hatch_alpha\":{\"value\":0.1},\"hatch_color\":{\"value\":\"green\"},\"line_alpha\":{\"value\":0.1},\"line_color\":{\"value\":\"green\"},\"marker\":{\"value\":\"triangle\"},\"size\":{\"value\":14.142135623730951},\"x\":{\"field\":\"Date\"},\"y\":{\"field\":\"Close\"}},\"id\":\"35144\",\"type\":\"Scatter\"},{\"attributes\":{\"line_color\":\"purple\",\"line_width\":2,\"x\":{\"field\":\"Date\"},\"y\":{\"field\":\"BB_UPPER\"}},\"id\":\"35161\",\"type\":\"Line\"},{\"attributes\":{\"callback\":null,\"formatters\":{\"@{Date}\":\"datetime\"},\"renderers\":[{\"id\":\"35182\"}],\"tags\":[\"hv_created\"],\"tooltips\":[[\"Date\",\"@{Date}{%F %T}\"],[\"BB_LOWER\",\"@{BB_LOWER}\"]]},\"id\":\"34837\",\"type\":\"HoverTool\"},{\"attributes\":{},\"id\":\"34876\",\"type\":\"BasicTickFormatter\"},{\"attributes\":{},\"id\":\"35198\",\"type\":\"UnionRenderers\"},{\"attributes\":{},\"id\":\"35141\",\"type\":\"Selection\"},{\"attributes\":{},\"id\":\"34877\",\"type\":\"AllLabels\"}],\"root_ids\":[\"34826\"]},\"title\":\"Bokeh Application\",\"version\":\"2.4.2\"}};\n",
       "    var render_items = [{\"docid\":\"be1987ae-440e-47af-8e9a-5da7cbea1978\",\"root_ids\":[\"34826\"],\"roots\":{\"34826\":\"6e048562-ded3-4f47-af02-07220a1a07f1\"}}];\n",
       "    root.Bokeh.embed.embed_items_notebook(docs_json, render_items);\n",
       "  }\n",
       "  if (root.Bokeh !== undefined && root.Bokeh.Panel !== undefined) {\n",
       "    embed_document(root);\n",
       "  } else {\n",
       "    var attempts = 0;\n",
       "    var timer = setInterval(function(root) {\n",
       "      if (root.Bokeh !== undefined && root.Bokeh.Panel !== undefined) {\n",
       "        clearInterval(timer);\n",
       "        embed_document(root);\n",
       "      } else if (document.readyState == \"complete\") {\n",
       "        attempts++;\n",
       "        if (attempts > 200) {\n",
       "          clearInterval(timer);\n",
       "          console.log(\"Bokeh: ERROR: Unable to run BokehJS code because BokehJS library is missing\");\n",
       "        }\n",
       "      }\n",
       "    }, 25, root)\n",
       "  }\n",
       "})(window);</script>"
      ],
      "text/plain": [
       ":Overlay\n",
       "   .Curve.I          :Curve   [Date]   (Close)\n",
       "   .NdOverlay.I      :NdOverlay   [Variable]\n",
       "      :Curve   [Date]   (value)\n",
       "   .Scatter.Close.I  :Scatter   [Date]   (Close)\n",
       "   .Scatter.Close.II :Scatter   [Date]   (Close)\n",
       "   .Curve.II         :Curve   [Date]   (BB_UPPER)\n",
       "   .Curve.III        :Curve   [Date]   (BB_MIDDLE)\n",
       "   .Curve.IV         :Curve   [Date]   (BB_LOWER)"
      ]
     },
     "execution_count": 317,
     "metadata": {
      "application/vnd.holoviews_exec.v0+json": {
       "id": "34826"
      }
     },
     "output_type": "execute_result"
    }
   ],
   "source": [
    "algo_trader('BTC-USD')"
   ]
  },
  {
   "cell_type": "markdown",
   "id": "dc63f13d-4738-4ce0-953d-e4f71d753dd1",
   "metadata": {},
   "source": [
    "# Work in progress"
   ]
  },
  {
   "cell_type": "code",
   "execution_count": 242,
   "id": "f1fc4351-7ea9-4ba3-b7b8-bfff013978da",
   "metadata": {},
   "outputs": [],
   "source": [
    "# Add the SMA technical indicators for the short and long windows\n",
    "rsi = TA.RSI(signals_df,period=14)\n"
   ]
  },
  {
   "cell_type": "code",
   "execution_count": 243,
   "id": "4c9706b0-389b-4e81-961d-f155744e413a",
   "metadata": {},
   "outputs": [
    {
     "data": {
      "text/html": [
       "<div>\n",
       "<style scoped>\n",
       "    .dataframe tbody tr th:only-of-type {\n",
       "        vertical-align: middle;\n",
       "    }\n",
       "\n",
       "    .dataframe tbody tr th {\n",
       "        vertical-align: top;\n",
       "    }\n",
       "\n",
       "    .dataframe thead th {\n",
       "        text-align: right;\n",
       "    }\n",
       "</style>\n",
       "<table border=\"1\" class=\"dataframe\">\n",
       "  <thead>\n",
       "    <tr style=\"text-align: right;\">\n",
       "      <th></th>\n",
       "      <th>Open</th>\n",
       "      <th>High</th>\n",
       "      <th>Low</th>\n",
       "      <th>Close</th>\n",
       "      <th>Adj Close</th>\n",
       "      <th>Volume</th>\n",
       "      <th>Short</th>\n",
       "      <th>Long</th>\n",
       "    </tr>\n",
       "    <tr>\n",
       "      <th>Date</th>\n",
       "      <th></th>\n",
       "      <th></th>\n",
       "      <th></th>\n",
       "      <th></th>\n",
       "      <th></th>\n",
       "      <th></th>\n",
       "      <th></th>\n",
       "      <th></th>\n",
       "    </tr>\n",
       "  </thead>\n",
       "  <tbody>\n",
       "    <tr>\n",
       "      <th>2021-04-07</th>\n",
       "      <td>58186.507812</td>\n",
       "      <td>58731.144531</td>\n",
       "      <td>55604.023438</td>\n",
       "      <td>56048.937500</td>\n",
       "      <td>56048.937500</td>\n",
       "      <td>75645303584</td>\n",
       "      <td>NaN</td>\n",
       "      <td>NaN</td>\n",
       "    </tr>\n",
       "    <tr>\n",
       "      <th>2021-04-08</th>\n",
       "      <td>56099.914062</td>\n",
       "      <td>58338.738281</td>\n",
       "      <td>55879.085938</td>\n",
       "      <td>58323.953125</td>\n",
       "      <td>58323.953125</td>\n",
       "      <td>53053855641</td>\n",
       "      <td>NaN</td>\n",
       "      <td>NaN</td>\n",
       "    </tr>\n",
       "    <tr>\n",
       "      <th>2021-04-09</th>\n",
       "      <td>58326.562500</td>\n",
       "      <td>58937.046875</td>\n",
       "      <td>57807.863281</td>\n",
       "      <td>58245.003906</td>\n",
       "      <td>58245.003906</td>\n",
       "      <td>46655208546</td>\n",
       "      <td>NaN</td>\n",
       "      <td>NaN</td>\n",
       "    </tr>\n",
       "    <tr>\n",
       "      <th>2021-04-10</th>\n",
       "      <td>58253.777344</td>\n",
       "      <td>61276.664062</td>\n",
       "      <td>58038.707031</td>\n",
       "      <td>59793.234375</td>\n",
       "      <td>59793.234375</td>\n",
       "      <td>58238470525</td>\n",
       "      <td>NaN</td>\n",
       "      <td>NaN</td>\n",
       "    </tr>\n",
       "    <tr>\n",
       "      <th>2021-04-11</th>\n",
       "      <td>59846.230469</td>\n",
       "      <td>60790.554688</td>\n",
       "      <td>59289.796875</td>\n",
       "      <td>60204.964844</td>\n",
       "      <td>60204.964844</td>\n",
       "      <td>46280252580</td>\n",
       "      <td>NaN</td>\n",
       "      <td>NaN</td>\n",
       "    </tr>\n",
       "    <tr>\n",
       "      <th>...</th>\n",
       "      <td>...</td>\n",
       "      <td>...</td>\n",
       "      <td>...</td>\n",
       "      <td>...</td>\n",
       "      <td>...</td>\n",
       "      <td>...</td>\n",
       "      <td>...</td>\n",
       "      <td>...</td>\n",
       "    </tr>\n",
       "    <tr>\n",
       "      <th>2021-12-08</th>\n",
       "      <td>50667.648438</td>\n",
       "      <td>51171.375000</td>\n",
       "      <td>48765.988281</td>\n",
       "      <td>50504.796875</td>\n",
       "      <td>50504.796875</td>\n",
       "      <td>28479699446</td>\n",
       "      <td>56342.602656</td>\n",
       "      <td>54569.385313</td>\n",
       "    </tr>\n",
       "    <tr>\n",
       "      <th>2021-12-09</th>\n",
       "      <td>50450.082031</td>\n",
       "      <td>50797.164062</td>\n",
       "      <td>47358.351562</td>\n",
       "      <td>47672.121094</td>\n",
       "      <td>47672.121094</td>\n",
       "      <td>29603577251</td>\n",
       "      <td>55630.813906</td>\n",
       "      <td>54574.439648</td>\n",
       "    </tr>\n",
       "    <tr>\n",
       "      <th>2021-12-10</th>\n",
       "      <td>47642.144531</td>\n",
       "      <td>50015.253906</td>\n",
       "      <td>47023.699219</td>\n",
       "      <td>47243.304688</td>\n",
       "      <td>47243.304688</td>\n",
       "      <td>30966005122</td>\n",
       "      <td>54978.231250</td>\n",
       "      <td>54558.402422</td>\n",
       "    </tr>\n",
       "    <tr>\n",
       "      <th>2021-12-11</th>\n",
       "      <td>47264.632812</td>\n",
       "      <td>49458.210938</td>\n",
       "      <td>46942.347656</td>\n",
       "      <td>49362.507812</td>\n",
       "      <td>49362.507812</td>\n",
       "      <td>25775869261</td>\n",
       "      <td>54546.281719</td>\n",
       "      <td>54558.750273</td>\n",
       "    </tr>\n",
       "    <tr>\n",
       "      <th>2021-12-12</th>\n",
       "      <td>49402.859375</td>\n",
       "      <td>50626.867188</td>\n",
       "      <td>48729.335938</td>\n",
       "      <td>50599.222656</td>\n",
       "      <td>50599.222656</td>\n",
       "      <td>22032893952</td>\n",
       "      <td>54155.530156</td>\n",
       "      <td>54564.488750</td>\n",
       "    </tr>\n",
       "  </tbody>\n",
       "</table>\n",
       "<p>250 rows × 8 columns</p>\n",
       "</div>"
      ],
      "text/plain": [
       "                    Open          High           Low         Close  \\\n",
       "Date                                                                 \n",
       "2021-04-07  58186.507812  58731.144531  55604.023438  56048.937500   \n",
       "2021-04-08  56099.914062  58338.738281  55879.085938  58323.953125   \n",
       "2021-04-09  58326.562500  58937.046875  57807.863281  58245.003906   \n",
       "2021-04-10  58253.777344  61276.664062  58038.707031  59793.234375   \n",
       "2021-04-11  59846.230469  60790.554688  59289.796875  60204.964844   \n",
       "...                  ...           ...           ...           ...   \n",
       "2021-12-08  50667.648438  51171.375000  48765.988281  50504.796875   \n",
       "2021-12-09  50450.082031  50797.164062  47358.351562  47672.121094   \n",
       "2021-12-10  47642.144531  50015.253906  47023.699219  47243.304688   \n",
       "2021-12-11  47264.632812  49458.210938  46942.347656  49362.507812   \n",
       "2021-12-12  49402.859375  50626.867188  48729.335938  50599.222656   \n",
       "\n",
       "               Adj Close       Volume         Short          Long  \n",
       "Date                                                               \n",
       "2021-04-07  56048.937500  75645303584           NaN           NaN  \n",
       "2021-04-08  58323.953125  53053855641           NaN           NaN  \n",
       "2021-04-09  58245.003906  46655208546           NaN           NaN  \n",
       "2021-04-10  59793.234375  58238470525           NaN           NaN  \n",
       "2021-04-11  60204.964844  46280252580           NaN           NaN  \n",
       "...                  ...          ...           ...           ...  \n",
       "2021-12-08  50504.796875  28479699446  56342.602656  54569.385313  \n",
       "2021-12-09  47672.121094  29603577251  55630.813906  54574.439648  \n",
       "2021-12-10  47243.304688  30966005122  54978.231250  54558.402422  \n",
       "2021-12-11  49362.507812  25775869261  54546.281719  54558.750273  \n",
       "2021-12-12  50599.222656  22032893952  54155.530156  54564.488750  \n",
       "\n",
       "[250 rows x 8 columns]"
      ]
     },
     "execution_count": 243,
     "metadata": {},
     "output_type": "execute_result"
    }
   ],
   "source": [
    "signals_df"
   ]
  },
  {
   "cell_type": "code",
   "execution_count": 244,
   "id": "c1d1612b-47a2-4b0b-a81b-48cb28e73d12",
   "metadata": {},
   "outputs": [],
   "source": [
    "# Visualize RSI for the investment\n",
    "rsi_plot = rsi.hvplot(\n",
    "    line_color='lightgray',\n",
    "    ylabel='RSI',\n",
    "    width=1000,\n",
    "    height=400,\n",
    "    ylim=[0,100]\n",
    "\n",
    ")\n",
    "\n",
    "final_rsi_plot = rsi_plot * hv.HLine(70).opts(color='red') *hv.HLine(30).opts(color='lightgreen')\n"
   ]
  },
  {
   "cell_type": "code",
   "execution_count": 245,
   "id": "8874ba85-5c9e-40e7-81f5-c4e75c9e7703",
   "metadata": {},
   "outputs": [
    {
     "data": {},
     "metadata": {},
     "output_type": "display_data"
    },
    {
     "data": {
      "application/vnd.holoviews_exec.v0+json": "",
      "text/html": [
       "<div id='32417'>\n",
       "\n",
       "\n",
       "\n",
       "\n",
       "\n",
       "  <div class=\"bk-root\" id=\"de83507e-b386-434e-9f9b-e32eef2d42b1\" data-root-id=\"32417\"></div>\n",
       "</div>\n",
       "<script type=\"application/javascript\">(function(root) {\n",
       "  function embed_document(root) {\n",
       "    var docs_json = {\"6b05bfb2-9c7a-439b-b06c-b19ae92715ac\":{\"defs\":[{\"extends\":null,\"module\":null,\"name\":\"ReactiveHTML1\",\"overrides\":[],\"properties\":[]},{\"extends\":null,\"module\":null,\"name\":\"FlexBox1\",\"overrides\":[],\"properties\":[{\"default\":\"flex-start\",\"kind\":null,\"name\":\"align_content\"},{\"default\":\"flex-start\",\"kind\":null,\"name\":\"align_items\"},{\"default\":\"row\",\"kind\":null,\"name\":\"flex_direction\"},{\"default\":\"wrap\",\"kind\":null,\"name\":\"flex_wrap\"},{\"default\":\"flex-start\",\"kind\":null,\"name\":\"justify_content\"}]},{\"extends\":null,\"module\":null,\"name\":\"TemplateActions1\",\"overrides\":[],\"properties\":[{\"default\":0,\"kind\":null,\"name\":\"open_modal\"},{\"default\":0,\"kind\":null,\"name\":\"close_modal\"}]},{\"extends\":null,\"module\":null,\"name\":\"MaterialTemplateActions1\",\"overrides\":[],\"properties\":[{\"default\":0,\"kind\":null,\"name\":\"open_modal\"},{\"default\":0,\"kind\":null,\"name\":\"close_modal\"}]}],\"roots\":{\"references\":[{\"attributes\":{\"coordinates\":null,\"data_source\":{\"id\":\"32458\"},\"glyph\":{\"id\":\"32461\"},\"group\":null,\"hover_glyph\":null,\"muted_glyph\":{\"id\":\"32463\"},\"nonselection_glyph\":{\"id\":\"32462\"},\"selection_glyph\":{\"id\":\"32490\"},\"view\":{\"id\":\"32465\"}},\"id\":\"32464\",\"type\":\"GlyphRenderer\"},{\"attributes\":{\"coordinates\":null,\"group\":null,\"level\":\"glyph\",\"line_color\":\"red\",\"line_width\":3,\"location\":70},\"id\":\"32493\",\"type\":\"Span\"},{\"attributes\":{\"mantissas\":[1,2,5],\"max_interval\":500.0,\"num_minor_ticks\":0},\"id\":\"32476\",\"type\":\"AdaptiveTicker\"},{\"attributes\":{\"margin\":[5,5,5,5],\"name\":\"HSpacer60652\",\"sizing_mode\":\"stretch_width\"},\"id\":\"32418\",\"type\":\"Spacer\"},{\"attributes\":{\"line_color\":\"lightgray\",\"line_width\":2,\"x\":{\"field\":\"Date\"},\"y\":{\"field\":\"14 period RSI\"}},\"id\":\"32461\",\"type\":\"Line\"},{\"attributes\":{},\"id\":\"32439\",\"type\":\"SaveTool\"},{\"attributes\":{},\"id\":\"32453\",\"type\":\"DatetimeTickFormatter\"},{\"attributes\":{},\"id\":\"32436\",\"type\":\"BasicTicker\"},{\"attributes\":{},\"id\":\"32440\",\"type\":\"PanTool\"},{\"attributes\":{},\"id\":\"32454\",\"type\":\"AllLabels\"},{\"attributes\":{\"base\":24,\"mantissas\":[1,2,4,6,8,12],\"max_interval\":43200000.0,\"min_interval\":3600000.0,\"num_minor_ticks\":0},\"id\":\"32478\",\"type\":\"AdaptiveTicker\"},{\"attributes\":{\"axis_label\":\"Date\",\"coordinates\":null,\"formatter\":{\"id\":\"32453\"},\"group\":null,\"major_label_policy\":{\"id\":\"32454\"},\"ticker\":{\"id\":\"32432\"}},\"id\":\"32431\",\"type\":\"DatetimeAxis\"},{\"attributes\":{},\"id\":\"32441\",\"type\":\"WheelZoomTool\"},{\"attributes\":{\"end\":100,\"reset_end\":100,\"reset_start\":0,\"tags\":[[[\"14 period RSI\",\"14 period RSI\",null]]]},\"id\":\"32420\",\"type\":\"Range1d\"},{\"attributes\":{},\"id\":\"32429\",\"type\":\"LinearScale\"},{\"attributes\":{\"tools\":[{\"id\":\"32421\"},{\"id\":\"32439\"},{\"id\":\"32440\"},{\"id\":\"32441\"},{\"id\":\"32442\"},{\"id\":\"32443\"}]},\"id\":\"32445\",\"type\":\"Toolbar\"},{\"attributes\":{\"base\":60,\"mantissas\":[1,2,5,10,15,20,30],\"max_interval\":1800000.0,\"min_interval\":1000.0,\"num_minor_ticks\":0},\"id\":\"32477\",\"type\":\"AdaptiveTicker\"},{\"attributes\":{\"children\":[{\"id\":\"32418\"},{\"id\":\"32422\"},{\"id\":\"32695\"}],\"margin\":[0,0,0,0],\"name\":\"Row60648\",\"tags\":[\"embedded\"]},\"id\":\"32417\",\"type\":\"Row\"},{\"attributes\":{\"coordinates\":null,\"group\":null,\"level\":\"glyph\",\"line_color\":\"lightgreen\",\"line_width\":3,\"location\":30},\"id\":\"32496\",\"type\":\"Span\"},{\"attributes\":{\"overlay\":{\"id\":\"32444\"}},\"id\":\"32442\",\"type\":\"BoxZoomTool\"},{\"attributes\":{},\"id\":\"32473\",\"type\":\"UnionRenderers\"},{\"attributes\":{},\"id\":\"32459\",\"type\":\"Selection\"},{\"attributes\":{\"margin\":[5,5,5,5],\"name\":\"HSpacer60653\",\"sizing_mode\":\"stretch_width\"},\"id\":\"32695\",\"type\":\"Spacer\"},{\"attributes\":{\"below\":[{\"id\":\"32431\"}],\"center\":[{\"id\":\"32434\"},{\"id\":\"32438\"},{\"id\":\"32488\"}],\"height\":400,\"left\":[{\"id\":\"32435\"}],\"margin\":[5,5,5,5],\"min_border_bottom\":10,\"min_border_left\":10,\"min_border_right\":10,\"min_border_top\":10,\"renderers\":[{\"id\":\"32464\"},{\"id\":\"32493\"},{\"id\":\"32496\"}],\"sizing_mode\":\"fixed\",\"title\":{\"id\":\"32423\"},\"toolbar\":{\"id\":\"32445\"},\"width\":1000,\"x_range\":{\"id\":\"32419\"},\"x_scale\":{\"id\":\"32427\"},\"y_range\":{\"id\":\"32420\"},\"y_scale\":{\"id\":\"32429\"}},\"id\":\"32422\",\"subtype\":\"Figure\",\"type\":\"Plot\"},{\"attributes\":{},\"id\":\"32427\",\"type\":\"LinearScale\"},{\"attributes\":{\"days\":[1,2,3,4,5,6,7,8,9,10,11,12,13,14,15,16,17,18,19,20,21,22,23,24,25,26,27,28,29,30,31]},\"id\":\"32479\",\"type\":\"DaysTicker\"},{\"attributes\":{\"days\":[1,4,7,10,13,16,19,22,25,28]},\"id\":\"32480\",\"type\":\"DaysTicker\"},{\"attributes\":{},\"id\":\"32443\",\"type\":\"ResetTool\"},{\"attributes\":{},\"id\":\"32456\",\"type\":\"BasicTickFormatter\"},{\"attributes\":{\"days\":[1,8,15,22]},\"id\":\"32481\",\"type\":\"DaysTicker\"},{\"attributes\":{\"coordinates\":null,\"group\":null,\"text\":\"14 period RSI\",\"text_color\":\"black\",\"text_font_size\":\"12pt\"},\"id\":\"32423\",\"type\":\"Title\"},{\"attributes\":{\"bottom_units\":\"screen\",\"coordinates\":null,\"fill_alpha\":0.5,\"fill_color\":\"lightgrey\",\"group\":null,\"left_units\":\"screen\",\"level\":\"overlay\",\"line_alpha\":1.0,\"line_color\":\"black\",\"line_dash\":[4,4],\"line_width\":2,\"right_units\":\"screen\",\"syncable\":false,\"top_units\":\"screen\"},\"id\":\"32444\",\"type\":\"BoxAnnotation\"},{\"attributes\":{\"end\":1639267200000.0,\"reset_end\":1639267200000.0,\"reset_start\":1617753600000.0,\"start\":1617753600000.0,\"tags\":[[[\"Date\",\"Date\",null]]]},\"id\":\"32419\",\"type\":\"Range1d\"},{\"attributes\":{\"data\":{\"14 period RSI\":{\"__ndarray__\":\"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\",\"dtype\":\"float64\",\"order\":\"little\",\"shape\":[250]},\"A_14_period_RSI\":{\"__ndarray__\":\"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\",\"dtype\":\"float64\",\"order\":\"little\",\"shape\":[250]},\"Date\":{\"__ndarray__\":\"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\",\"dtype\":\"float64\",\"order\":\"little\",\"shape\":[250]}},\"selected\":{\"id\":\"32459\"},\"selection_policy\":{\"id\":\"32473\"}},\"id\":\"32458\",\"type\":\"ColumnDataSource\"},{\"attributes\":{\"days\":[1,15]},\"id\":\"32482\",\"type\":\"DaysTicker\"},{\"attributes\":{\"months\":[0,1,2,3,4,5,6,7,8,9,10,11]},\"id\":\"32483\",\"type\":\"MonthsTicker\"},{\"attributes\":{\"source\":{\"id\":\"32458\"}},\"id\":\"32465\",\"type\":\"CDSView\"},{\"attributes\":{\"callback\":null,\"formatters\":{\"@{Date}\":\"datetime\"},\"renderers\":[{\"id\":\"32464\"}],\"tags\":[\"hv_created\"],\"tooltips\":[[\"Date\",\"@{Date}{%F %T}\"],[\"14 period RSI\",\"@{A_14_period_RSI}\"]]},\"id\":\"32421\",\"type\":\"HoverTool\"},{\"attributes\":{\"months\":[0,2,4,6,8,10]},\"id\":\"32484\",\"type\":\"MonthsTicker\"},{\"attributes\":{\"num_minor_ticks\":5,\"tickers\":[{\"id\":\"32476\"},{\"id\":\"32477\"},{\"id\":\"32478\"},{\"id\":\"32479\"},{\"id\":\"32480\"},{\"id\":\"32481\"},{\"id\":\"32482\"},{\"id\":\"32483\"},{\"id\":\"32484\"},{\"id\":\"32485\"},{\"id\":\"32486\"},{\"id\":\"32487\"}]},\"id\":\"32432\",\"type\":\"DatetimeTicker\"},{\"attributes\":{\"axis\":{\"id\":\"32431\"},\"coordinates\":null,\"grid_line_color\":null,\"group\":null,\"ticker\":null},\"id\":\"32434\",\"type\":\"Grid\"},{\"attributes\":{\"line_alpha\":0.1,\"line_color\":\"lightgray\",\"line_width\":2,\"x\":{\"field\":\"Date\"},\"y\":{\"field\":\"14 period RSI\"}},\"id\":\"32462\",\"type\":\"Line\"},{\"attributes\":{\"months\":[0,4,8]},\"id\":\"32485\",\"type\":\"MonthsTicker\"},{\"attributes\":{\"axis\":{\"id\":\"32435\"},\"coordinates\":null,\"dimension\":1,\"grid_line_color\":null,\"group\":null,\"ticker\":null},\"id\":\"32438\",\"type\":\"Grid\"},{\"attributes\":{},\"id\":\"32487\",\"type\":\"YearsTicker\"},{\"attributes\":{\"axis_label\":\"RSI\",\"coordinates\":null,\"formatter\":{\"id\":\"32456\"},\"group\":null,\"major_label_policy\":{\"id\":\"32457\"},\"ticker\":{\"id\":\"32436\"}},\"id\":\"32435\",\"type\":\"LinearAxis\"},{\"attributes\":{\"line_color\":\"lightgray\",\"line_width\":2,\"x\":{\"field\":\"Date\"},\"y\":{\"field\":\"14 period RSI\"}},\"id\":\"32490\",\"type\":\"Line\"},{\"attributes\":{\"line_alpha\":0.2,\"line_color\":\"lightgray\",\"line_width\":2,\"x\":{\"field\":\"Date\"},\"y\":{\"field\":\"14 period RSI\"}},\"id\":\"32463\",\"type\":\"Line\"},{\"attributes\":{\"months\":[0,6]},\"id\":\"32486\",\"type\":\"MonthsTicker\"},{\"attributes\":{},\"id\":\"32457\",\"type\":\"AllLabels\"},{\"attributes\":{\"coordinates\":null,\"group\":null,\"items\":[]},\"id\":\"32488\",\"type\":\"Legend\"}],\"root_ids\":[\"32417\"]},\"title\":\"Bokeh Application\",\"version\":\"2.4.2\"}};\n",
       "    var render_items = [{\"docid\":\"6b05bfb2-9c7a-439b-b06c-b19ae92715ac\",\"root_ids\":[\"32417\"],\"roots\":{\"32417\":\"de83507e-b386-434e-9f9b-e32eef2d42b1\"}}];\n",
       "    root.Bokeh.embed.embed_items_notebook(docs_json, render_items);\n",
       "  }\n",
       "  if (root.Bokeh !== undefined && root.Bokeh.Panel !== undefined) {\n",
       "    embed_document(root);\n",
       "  } else {\n",
       "    var attempts = 0;\n",
       "    var timer = setInterval(function(root) {\n",
       "      if (root.Bokeh !== undefined && root.Bokeh.Panel !== undefined) {\n",
       "        clearInterval(timer);\n",
       "        embed_document(root);\n",
       "      } else if (document.readyState == \"complete\") {\n",
       "        attempts++;\n",
       "        if (attempts > 200) {\n",
       "          clearInterval(timer);\n",
       "          console.log(\"Bokeh: ERROR: Unable to run BokehJS code because BokehJS library is missing\");\n",
       "        }\n",
       "      }\n",
       "    }, 25, root)\n",
       "  }\n",
       "})(window);</script>"
      ],
      "text/plain": [
       ":Overlay\n",
       "   .Curve.A_14_period_RSI :Curve   [Date]   (14 period RSI)\n",
       "   .HLine.I               :HLine   [x,y]\n",
       "   .HLine.II              :HLine   [x,y]"
      ]
     },
     "execution_count": 245,
     "metadata": {
      "application/vnd.holoviews_exec.v0+json": {
       "id": "32417"
      }
     },
     "output_type": "execute_result"
    }
   ],
   "source": [
    "final_rsi_plot"
   ]
  },
  {
   "cell_type": "code",
   "execution_count": null,
   "id": "62f5e02a-0a25-4574-b1d0-cd128d85343d",
   "metadata": {},
   "outputs": [],
   "source": []
  }
 ],
 "metadata": {
  "kernelspec": {
   "display_name": "Python 3",
   "language": "python",
   "name": "python3"
  },
  "language_info": {
   "codemirror_mode": {
    "name": "ipython",
    "version": 3
   },
   "file_extension": ".py",
   "mimetype": "text/x-python",
   "name": "python",
   "nbconvert_exporter": "python",
   "pygments_lexer": "ipython3",
   "version": "3.7.10"
  }
 },
 "nbformat": 4,
 "nbformat_minor": 5
}
